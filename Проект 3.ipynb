{
 "cells": [
  {
   "cell_type": "markdown",
   "metadata": {},
   "source": [
    "<h2>Анализ данных популярного интернет-магазина «Стримчик»<a class=\"tocSkip\"><.h2>"
   ]
  },
  {
   "cell_type": "markdown",
   "metadata": {},
   "source": [
    "Интернет-магазина \"Стримчик\" продает видеоигры по всему миру, из открытых источников были получены данные о продажах до 2016 года. На основе анализа этих данных планируется сделать выводы полезные для бизнеса, а также сделать ставку на потенциально популярный продукт и спланировать рекламные кампании. В процессе выполнения проекта планируются следующие стадии: осмотрр и подготовка данных, предобработка, исследовательский анализ, составление портрета каждого региона и проверка нескольких гипотез.\n",
    "\n",
    "Описание данных:\n",
    "\n",
    "Name — название игры\n",
    "\n",
    "Platform — платформа\n",
    "\n",
    "Year_of_Release — год выпуска\n",
    "\n",
    "Genre — жанр игры\n",
    "\n",
    "NA_sales — продажи в Северной Америке (миллионы проданных копий)\n",
    "\n",
    "EU_sales — продажи в Европе (миллионы проданных копий)\n",
    "\n",
    "JP_sales — продажи в Японии (миллионы проданных копий)\n",
    "\n",
    "Other_sales — продажи в других странах (миллионы проданных копий)\n",
    "\n",
    "Critic_Score — оценка критиков (максимум 100)\n",
    "\n",
    "User_Score — оценка пользователей (максимум 10)\n",
    "\n",
    "Rating — рейтинг от организации ESRB (англ. Entertainment Software Rating Board). Эта ассоциация определяет рейтинг компьютерных игр и присваивает им подходящую возрастную категорию.\n"
   ]
  },
  {
   "cell_type": "code",
   "execution_count": 1,
   "metadata": {},
   "outputs": [],
   "source": [
    "import pandas as pd\n",
    "import numpy as np\n",
    "import matplotlib.pyplot as plt\n",
    "from scipy import stats as st\n",
    "import seaborn as sns\n",
    "from matplotlib.axes._axes import _log as matplotlib_axes_logger"
   ]
  },
  {
   "cell_type": "markdown",
   "metadata": {},
   "source": [
    "<h3>1. Ознакомление с данными<a class=\"tocSkip\"><.h3>"
   ]
  },
  {
   "cell_type": "code",
   "execution_count": 2,
   "metadata": {},
   "outputs": [
    {
     "name": "stdout",
     "output_type": "stream",
     "text": [
      "<class 'pandas.core.frame.DataFrame'>\n",
      "RangeIndex: 16715 entries, 0 to 16714\n",
      "Data columns (total 11 columns):\n",
      " #   Column           Non-Null Count  Dtype  \n",
      "---  ------           --------------  -----  \n",
      " 0   Name             16713 non-null  object \n",
      " 1   Platform         16715 non-null  object \n",
      " 2   Year_of_Release  16446 non-null  float64\n",
      " 3   Genre            16713 non-null  object \n",
      " 4   NA_sales         16715 non-null  float64\n",
      " 5   EU_sales         16715 non-null  float64\n",
      " 6   JP_sales         16715 non-null  float64\n",
      " 7   Other_sales      16715 non-null  float64\n",
      " 8   Critic_Score     8137 non-null   float64\n",
      " 9   User_Score       10014 non-null  object \n",
      " 10  Rating           9949 non-null   object \n",
      "dtypes: float64(6), object(5)\n",
      "memory usage: 1.4+ MB\n"
     ]
    }
   ],
   "source": [
    "games_data = pd.read_csv('/datasets/games.csv')\n",
    "games_data.info()"
   ]
  },
  {
   "cell_type": "code",
   "execution_count": 3,
   "metadata": {},
   "outputs": [
    {
     "data": {
      "text/html": [
       "<div>\n",
       "<style scoped>\n",
       "    .dataframe tbody tr th:only-of-type {\n",
       "        vertical-align: middle;\n",
       "    }\n",
       "\n",
       "    .dataframe tbody tr th {\n",
       "        vertical-align: top;\n",
       "    }\n",
       "\n",
       "    .dataframe thead th {\n",
       "        text-align: right;\n",
       "    }\n",
       "</style>\n",
       "<table border=\"1\" class=\"dataframe\">\n",
       "  <thead>\n",
       "    <tr style=\"text-align: right;\">\n",
       "      <th></th>\n",
       "      <th>Name</th>\n",
       "      <th>Platform</th>\n",
       "      <th>Year_of_Release</th>\n",
       "      <th>Genre</th>\n",
       "      <th>NA_sales</th>\n",
       "      <th>EU_sales</th>\n",
       "      <th>JP_sales</th>\n",
       "      <th>Other_sales</th>\n",
       "      <th>Critic_Score</th>\n",
       "      <th>User_Score</th>\n",
       "      <th>Rating</th>\n",
       "    </tr>\n",
       "  </thead>\n",
       "  <tbody>\n",
       "    <tr>\n",
       "      <th>0</th>\n",
       "      <td>Wii Sports</td>\n",
       "      <td>Wii</td>\n",
       "      <td>2006.0</td>\n",
       "      <td>Sports</td>\n",
       "      <td>41.36</td>\n",
       "      <td>28.96</td>\n",
       "      <td>3.77</td>\n",
       "      <td>8.45</td>\n",
       "      <td>76.0</td>\n",
       "      <td>8</td>\n",
       "      <td>E</td>\n",
       "    </tr>\n",
       "    <tr>\n",
       "      <th>1</th>\n",
       "      <td>Super Mario Bros.</td>\n",
       "      <td>NES</td>\n",
       "      <td>1985.0</td>\n",
       "      <td>Platform</td>\n",
       "      <td>29.08</td>\n",
       "      <td>3.58</td>\n",
       "      <td>6.81</td>\n",
       "      <td>0.77</td>\n",
       "      <td>NaN</td>\n",
       "      <td>NaN</td>\n",
       "      <td>NaN</td>\n",
       "    </tr>\n",
       "    <tr>\n",
       "      <th>2</th>\n",
       "      <td>Mario Kart Wii</td>\n",
       "      <td>Wii</td>\n",
       "      <td>2008.0</td>\n",
       "      <td>Racing</td>\n",
       "      <td>15.68</td>\n",
       "      <td>12.76</td>\n",
       "      <td>3.79</td>\n",
       "      <td>3.29</td>\n",
       "      <td>82.0</td>\n",
       "      <td>8.3</td>\n",
       "      <td>E</td>\n",
       "    </tr>\n",
       "    <tr>\n",
       "      <th>3</th>\n",
       "      <td>Wii Sports Resort</td>\n",
       "      <td>Wii</td>\n",
       "      <td>2009.0</td>\n",
       "      <td>Sports</td>\n",
       "      <td>15.61</td>\n",
       "      <td>10.93</td>\n",
       "      <td>3.28</td>\n",
       "      <td>2.95</td>\n",
       "      <td>80.0</td>\n",
       "      <td>8</td>\n",
       "      <td>E</td>\n",
       "    </tr>\n",
       "    <tr>\n",
       "      <th>4</th>\n",
       "      <td>Pokemon Red/Pokemon Blue</td>\n",
       "      <td>GB</td>\n",
       "      <td>1996.0</td>\n",
       "      <td>Role-Playing</td>\n",
       "      <td>11.27</td>\n",
       "      <td>8.89</td>\n",
       "      <td>10.22</td>\n",
       "      <td>1.00</td>\n",
       "      <td>NaN</td>\n",
       "      <td>NaN</td>\n",
       "      <td>NaN</td>\n",
       "    </tr>\n",
       "    <tr>\n",
       "      <th>5</th>\n",
       "      <td>Tetris</td>\n",
       "      <td>GB</td>\n",
       "      <td>1989.0</td>\n",
       "      <td>Puzzle</td>\n",
       "      <td>23.20</td>\n",
       "      <td>2.26</td>\n",
       "      <td>4.22</td>\n",
       "      <td>0.58</td>\n",
       "      <td>NaN</td>\n",
       "      <td>NaN</td>\n",
       "      <td>NaN</td>\n",
       "    </tr>\n",
       "    <tr>\n",
       "      <th>6</th>\n",
       "      <td>New Super Mario Bros.</td>\n",
       "      <td>DS</td>\n",
       "      <td>2006.0</td>\n",
       "      <td>Platform</td>\n",
       "      <td>11.28</td>\n",
       "      <td>9.14</td>\n",
       "      <td>6.50</td>\n",
       "      <td>2.88</td>\n",
       "      <td>89.0</td>\n",
       "      <td>8.5</td>\n",
       "      <td>E</td>\n",
       "    </tr>\n",
       "    <tr>\n",
       "      <th>7</th>\n",
       "      <td>Wii Play</td>\n",
       "      <td>Wii</td>\n",
       "      <td>2006.0</td>\n",
       "      <td>Misc</td>\n",
       "      <td>13.96</td>\n",
       "      <td>9.18</td>\n",
       "      <td>2.93</td>\n",
       "      <td>2.84</td>\n",
       "      <td>58.0</td>\n",
       "      <td>6.6</td>\n",
       "      <td>E</td>\n",
       "    </tr>\n",
       "    <tr>\n",
       "      <th>8</th>\n",
       "      <td>New Super Mario Bros. Wii</td>\n",
       "      <td>Wii</td>\n",
       "      <td>2009.0</td>\n",
       "      <td>Platform</td>\n",
       "      <td>14.44</td>\n",
       "      <td>6.94</td>\n",
       "      <td>4.70</td>\n",
       "      <td>2.24</td>\n",
       "      <td>87.0</td>\n",
       "      <td>8.4</td>\n",
       "      <td>E</td>\n",
       "    </tr>\n",
       "    <tr>\n",
       "      <th>9</th>\n",
       "      <td>Duck Hunt</td>\n",
       "      <td>NES</td>\n",
       "      <td>1984.0</td>\n",
       "      <td>Shooter</td>\n",
       "      <td>26.93</td>\n",
       "      <td>0.63</td>\n",
       "      <td>0.28</td>\n",
       "      <td>0.47</td>\n",
       "      <td>NaN</td>\n",
       "      <td>NaN</td>\n",
       "      <td>NaN</td>\n",
       "    </tr>\n",
       "  </tbody>\n",
       "</table>\n",
       "</div>"
      ],
      "text/plain": [
       "                        Name Platform  Year_of_Release         Genre  \\\n",
       "0                 Wii Sports      Wii           2006.0        Sports   \n",
       "1          Super Mario Bros.      NES           1985.0      Platform   \n",
       "2             Mario Kart Wii      Wii           2008.0        Racing   \n",
       "3          Wii Sports Resort      Wii           2009.0        Sports   \n",
       "4   Pokemon Red/Pokemon Blue       GB           1996.0  Role-Playing   \n",
       "5                     Tetris       GB           1989.0        Puzzle   \n",
       "6      New Super Mario Bros.       DS           2006.0      Platform   \n",
       "7                   Wii Play      Wii           2006.0          Misc   \n",
       "8  New Super Mario Bros. Wii      Wii           2009.0      Platform   \n",
       "9                  Duck Hunt      NES           1984.0       Shooter   \n",
       "\n",
       "   NA_sales  EU_sales  JP_sales  Other_sales  Critic_Score User_Score Rating  \n",
       "0     41.36     28.96      3.77         8.45          76.0          8      E  \n",
       "1     29.08      3.58      6.81         0.77           NaN        NaN    NaN  \n",
       "2     15.68     12.76      3.79         3.29          82.0        8.3      E  \n",
       "3     15.61     10.93      3.28         2.95          80.0          8      E  \n",
       "4     11.27      8.89     10.22         1.00           NaN        NaN    NaN  \n",
       "5     23.20      2.26      4.22         0.58           NaN        NaN    NaN  \n",
       "6     11.28      9.14      6.50         2.88          89.0        8.5      E  \n",
       "7     13.96      9.18      2.93         2.84          58.0        6.6      E  \n",
       "8     14.44      6.94      4.70         2.24          87.0        8.4      E  \n",
       "9     26.93      0.63      0.28         0.47           NaN        NaN    NaN  "
      ]
     },
     "execution_count": 3,
     "metadata": {},
     "output_type": "execute_result"
    }
   ],
   "source": [
    "games_data.head(10)"
   ]
  },
  {
   "cell_type": "code",
   "execution_count": 4,
   "metadata": {},
   "outputs": [
    {
     "data": {
      "text/plain": [
       "Name                  2\n",
       "Platform              0\n",
       "Year_of_Release     269\n",
       "Genre                 2\n",
       "NA_sales              0\n",
       "EU_sales              0\n",
       "JP_sales              0\n",
       "Other_sales           0\n",
       "Critic_Score       8578\n",
       "User_Score         6701\n",
       "Rating             6766\n",
       "dtype: int64"
      ]
     },
     "execution_count": 4,
     "metadata": {},
     "output_type": "execute_result"
    }
   ],
   "source": [
    "games_data.isna().sum()"
   ]
  },
  {
   "cell_type": "markdown",
   "metadata": {},
   "source": [
    "Огромное количество пропусков в столбцах Critic_Score, User_Score и Rating."
   ]
  },
  {
   "cell_type": "code",
   "execution_count": 5,
   "metadata": {},
   "outputs": [
    {
     "data": {
      "text/html": [
       "<div>\n",
       "<style scoped>\n",
       "    .dataframe tbody tr th:only-of-type {\n",
       "        vertical-align: middle;\n",
       "    }\n",
       "\n",
       "    .dataframe tbody tr th {\n",
       "        vertical-align: top;\n",
       "    }\n",
       "\n",
       "    .dataframe thead th {\n",
       "        text-align: right;\n",
       "    }\n",
       "</style>\n",
       "<table border=\"1\" class=\"dataframe\">\n",
       "  <thead>\n",
       "    <tr style=\"text-align: right;\">\n",
       "      <th></th>\n",
       "      <th>Name</th>\n",
       "      <th>Platform</th>\n",
       "      <th>Year_of_Release</th>\n",
       "      <th>Genre</th>\n",
       "      <th>NA_sales</th>\n",
       "      <th>EU_sales</th>\n",
       "      <th>JP_sales</th>\n",
       "      <th>Other_sales</th>\n",
       "      <th>Critic_Score</th>\n",
       "      <th>User_Score</th>\n",
       "      <th>Rating</th>\n",
       "    </tr>\n",
       "  </thead>\n",
       "  <tbody>\n",
       "    <tr>\n",
       "      <th>1</th>\n",
       "      <td>Super Mario Bros.</td>\n",
       "      <td>NES</td>\n",
       "      <td>1985.0</td>\n",
       "      <td>Platform</td>\n",
       "      <td>29.08</td>\n",
       "      <td>3.58</td>\n",
       "      <td>6.81</td>\n",
       "      <td>0.77</td>\n",
       "      <td>NaN</td>\n",
       "      <td>NaN</td>\n",
       "      <td>NaN</td>\n",
       "    </tr>\n",
       "    <tr>\n",
       "      <th>4</th>\n",
       "      <td>Pokemon Red/Pokemon Blue</td>\n",
       "      <td>GB</td>\n",
       "      <td>1996.0</td>\n",
       "      <td>Role-Playing</td>\n",
       "      <td>11.27</td>\n",
       "      <td>8.89</td>\n",
       "      <td>10.22</td>\n",
       "      <td>1.00</td>\n",
       "      <td>NaN</td>\n",
       "      <td>NaN</td>\n",
       "      <td>NaN</td>\n",
       "    </tr>\n",
       "    <tr>\n",
       "      <th>5</th>\n",
       "      <td>Tetris</td>\n",
       "      <td>GB</td>\n",
       "      <td>1989.0</td>\n",
       "      <td>Puzzle</td>\n",
       "      <td>23.20</td>\n",
       "      <td>2.26</td>\n",
       "      <td>4.22</td>\n",
       "      <td>0.58</td>\n",
       "      <td>NaN</td>\n",
       "      <td>NaN</td>\n",
       "      <td>NaN</td>\n",
       "    </tr>\n",
       "    <tr>\n",
       "      <th>9</th>\n",
       "      <td>Duck Hunt</td>\n",
       "      <td>NES</td>\n",
       "      <td>1984.0</td>\n",
       "      <td>Shooter</td>\n",
       "      <td>26.93</td>\n",
       "      <td>0.63</td>\n",
       "      <td>0.28</td>\n",
       "      <td>0.47</td>\n",
       "      <td>NaN</td>\n",
       "      <td>NaN</td>\n",
       "      <td>NaN</td>\n",
       "    </tr>\n",
       "    <tr>\n",
       "      <th>10</th>\n",
       "      <td>Nintendogs</td>\n",
       "      <td>DS</td>\n",
       "      <td>2005.0</td>\n",
       "      <td>Simulation</td>\n",
       "      <td>9.05</td>\n",
       "      <td>10.95</td>\n",
       "      <td>1.93</td>\n",
       "      <td>2.74</td>\n",
       "      <td>NaN</td>\n",
       "      <td>NaN</td>\n",
       "      <td>NaN</td>\n",
       "    </tr>\n",
       "    <tr>\n",
       "      <th>...</th>\n",
       "      <td>...</td>\n",
       "      <td>...</td>\n",
       "      <td>...</td>\n",
       "      <td>...</td>\n",
       "      <td>...</td>\n",
       "      <td>...</td>\n",
       "      <td>...</td>\n",
       "      <td>...</td>\n",
       "      <td>...</td>\n",
       "      <td>...</td>\n",
       "      <td>...</td>\n",
       "    </tr>\n",
       "    <tr>\n",
       "      <th>16710</th>\n",
       "      <td>Samurai Warriors: Sanada Maru</td>\n",
       "      <td>PS3</td>\n",
       "      <td>2016.0</td>\n",
       "      <td>Action</td>\n",
       "      <td>0.00</td>\n",
       "      <td>0.00</td>\n",
       "      <td>0.01</td>\n",
       "      <td>0.00</td>\n",
       "      <td>NaN</td>\n",
       "      <td>NaN</td>\n",
       "      <td>NaN</td>\n",
       "    </tr>\n",
       "    <tr>\n",
       "      <th>16711</th>\n",
       "      <td>LMA Manager 2007</td>\n",
       "      <td>X360</td>\n",
       "      <td>2006.0</td>\n",
       "      <td>Sports</td>\n",
       "      <td>0.00</td>\n",
       "      <td>0.01</td>\n",
       "      <td>0.00</td>\n",
       "      <td>0.00</td>\n",
       "      <td>NaN</td>\n",
       "      <td>NaN</td>\n",
       "      <td>NaN</td>\n",
       "    </tr>\n",
       "    <tr>\n",
       "      <th>16712</th>\n",
       "      <td>Haitaka no Psychedelica</td>\n",
       "      <td>PSV</td>\n",
       "      <td>2016.0</td>\n",
       "      <td>Adventure</td>\n",
       "      <td>0.00</td>\n",
       "      <td>0.00</td>\n",
       "      <td>0.01</td>\n",
       "      <td>0.00</td>\n",
       "      <td>NaN</td>\n",
       "      <td>NaN</td>\n",
       "      <td>NaN</td>\n",
       "    </tr>\n",
       "    <tr>\n",
       "      <th>16713</th>\n",
       "      <td>Spirits &amp; Spells</td>\n",
       "      <td>GBA</td>\n",
       "      <td>2003.0</td>\n",
       "      <td>Platform</td>\n",
       "      <td>0.01</td>\n",
       "      <td>0.00</td>\n",
       "      <td>0.00</td>\n",
       "      <td>0.00</td>\n",
       "      <td>NaN</td>\n",
       "      <td>NaN</td>\n",
       "      <td>NaN</td>\n",
       "    </tr>\n",
       "    <tr>\n",
       "      <th>16714</th>\n",
       "      <td>Winning Post 8 2016</td>\n",
       "      <td>PSV</td>\n",
       "      <td>2016.0</td>\n",
       "      <td>Simulation</td>\n",
       "      <td>0.00</td>\n",
       "      <td>0.00</td>\n",
       "      <td>0.01</td>\n",
       "      <td>0.00</td>\n",
       "      <td>NaN</td>\n",
       "      <td>NaN</td>\n",
       "      <td>NaN</td>\n",
       "    </tr>\n",
       "  </tbody>\n",
       "</table>\n",
       "<p>8578 rows × 11 columns</p>\n",
       "</div>"
      ],
      "text/plain": [
       "                                Name Platform  Year_of_Release         Genre  \\\n",
       "1                  Super Mario Bros.      NES           1985.0      Platform   \n",
       "4           Pokemon Red/Pokemon Blue       GB           1996.0  Role-Playing   \n",
       "5                             Tetris       GB           1989.0        Puzzle   \n",
       "9                          Duck Hunt      NES           1984.0       Shooter   \n",
       "10                        Nintendogs       DS           2005.0    Simulation   \n",
       "...                              ...      ...              ...           ...   \n",
       "16710  Samurai Warriors: Sanada Maru      PS3           2016.0        Action   \n",
       "16711               LMA Manager 2007     X360           2006.0        Sports   \n",
       "16712        Haitaka no Psychedelica      PSV           2016.0     Adventure   \n",
       "16713               Spirits & Spells      GBA           2003.0      Platform   \n",
       "16714            Winning Post 8 2016      PSV           2016.0    Simulation   \n",
       "\n",
       "       NA_sales  EU_sales  JP_sales  Other_sales  Critic_Score User_Score  \\\n",
       "1         29.08      3.58      6.81         0.77           NaN        NaN   \n",
       "4         11.27      8.89     10.22         1.00           NaN        NaN   \n",
       "5         23.20      2.26      4.22         0.58           NaN        NaN   \n",
       "9         26.93      0.63      0.28         0.47           NaN        NaN   \n",
       "10         9.05     10.95      1.93         2.74           NaN        NaN   \n",
       "...         ...       ...       ...          ...           ...        ...   \n",
       "16710      0.00      0.00      0.01         0.00           NaN        NaN   \n",
       "16711      0.00      0.01      0.00         0.00           NaN        NaN   \n",
       "16712      0.00      0.00      0.01         0.00           NaN        NaN   \n",
       "16713      0.01      0.00      0.00         0.00           NaN        NaN   \n",
       "16714      0.00      0.00      0.01         0.00           NaN        NaN   \n",
       "\n",
       "      Rating  \n",
       "1        NaN  \n",
       "4        NaN  \n",
       "5        NaN  \n",
       "9        NaN  \n",
       "10       NaN  \n",
       "...      ...  \n",
       "16710    NaN  \n",
       "16711    NaN  \n",
       "16712    NaN  \n",
       "16713    NaN  \n",
       "16714    NaN  \n",
       "\n",
       "[8578 rows x 11 columns]"
      ]
     },
     "execution_count": 5,
     "metadata": {},
     "output_type": "execute_result"
    }
   ],
   "source": [
    "games_data[games_data['Critic_Score'].isna()]"
   ]
  },
  {
   "cell_type": "code",
   "execution_count": 6,
   "metadata": {},
   "outputs": [
    {
     "data": {
      "text/html": [
       "<div>\n",
       "<style scoped>\n",
       "    .dataframe tbody tr th:only-of-type {\n",
       "        vertical-align: middle;\n",
       "    }\n",
       "\n",
       "    .dataframe tbody tr th {\n",
       "        vertical-align: top;\n",
       "    }\n",
       "\n",
       "    .dataframe thead th {\n",
       "        text-align: right;\n",
       "    }\n",
       "</style>\n",
       "<table border=\"1\" class=\"dataframe\">\n",
       "  <thead>\n",
       "    <tr style=\"text-align: right;\">\n",
       "      <th></th>\n",
       "      <th>Name</th>\n",
       "      <th>Platform</th>\n",
       "      <th>Year_of_Release</th>\n",
       "      <th>Genre</th>\n",
       "      <th>NA_sales</th>\n",
       "      <th>EU_sales</th>\n",
       "      <th>JP_sales</th>\n",
       "      <th>Other_sales</th>\n",
       "      <th>Critic_Score</th>\n",
       "      <th>User_Score</th>\n",
       "      <th>Rating</th>\n",
       "    </tr>\n",
       "  </thead>\n",
       "  <tbody>\n",
       "    <tr>\n",
       "      <th>1</th>\n",
       "      <td>Super Mario Bros.</td>\n",
       "      <td>NES</td>\n",
       "      <td>1985.0</td>\n",
       "      <td>Platform</td>\n",
       "      <td>29.08</td>\n",
       "      <td>3.58</td>\n",
       "      <td>6.81</td>\n",
       "      <td>0.77</td>\n",
       "      <td>NaN</td>\n",
       "      <td>NaN</td>\n",
       "      <td>NaN</td>\n",
       "    </tr>\n",
       "    <tr>\n",
       "      <th>4</th>\n",
       "      <td>Pokemon Red/Pokemon Blue</td>\n",
       "      <td>GB</td>\n",
       "      <td>1996.0</td>\n",
       "      <td>Role-Playing</td>\n",
       "      <td>11.27</td>\n",
       "      <td>8.89</td>\n",
       "      <td>10.22</td>\n",
       "      <td>1.00</td>\n",
       "      <td>NaN</td>\n",
       "      <td>NaN</td>\n",
       "      <td>NaN</td>\n",
       "    </tr>\n",
       "    <tr>\n",
       "      <th>5</th>\n",
       "      <td>Tetris</td>\n",
       "      <td>GB</td>\n",
       "      <td>1989.0</td>\n",
       "      <td>Puzzle</td>\n",
       "      <td>23.20</td>\n",
       "      <td>2.26</td>\n",
       "      <td>4.22</td>\n",
       "      <td>0.58</td>\n",
       "      <td>NaN</td>\n",
       "      <td>NaN</td>\n",
       "      <td>NaN</td>\n",
       "    </tr>\n",
       "    <tr>\n",
       "      <th>9</th>\n",
       "      <td>Duck Hunt</td>\n",
       "      <td>NES</td>\n",
       "      <td>1984.0</td>\n",
       "      <td>Shooter</td>\n",
       "      <td>26.93</td>\n",
       "      <td>0.63</td>\n",
       "      <td>0.28</td>\n",
       "      <td>0.47</td>\n",
       "      <td>NaN</td>\n",
       "      <td>NaN</td>\n",
       "      <td>NaN</td>\n",
       "    </tr>\n",
       "    <tr>\n",
       "      <th>10</th>\n",
       "      <td>Nintendogs</td>\n",
       "      <td>DS</td>\n",
       "      <td>2005.0</td>\n",
       "      <td>Simulation</td>\n",
       "      <td>9.05</td>\n",
       "      <td>10.95</td>\n",
       "      <td>1.93</td>\n",
       "      <td>2.74</td>\n",
       "      <td>NaN</td>\n",
       "      <td>NaN</td>\n",
       "      <td>NaN</td>\n",
       "    </tr>\n",
       "    <tr>\n",
       "      <th>...</th>\n",
       "      <td>...</td>\n",
       "      <td>...</td>\n",
       "      <td>...</td>\n",
       "      <td>...</td>\n",
       "      <td>...</td>\n",
       "      <td>...</td>\n",
       "      <td>...</td>\n",
       "      <td>...</td>\n",
       "      <td>...</td>\n",
       "      <td>...</td>\n",
       "      <td>...</td>\n",
       "    </tr>\n",
       "    <tr>\n",
       "      <th>16710</th>\n",
       "      <td>Samurai Warriors: Sanada Maru</td>\n",
       "      <td>PS3</td>\n",
       "      <td>2016.0</td>\n",
       "      <td>Action</td>\n",
       "      <td>0.00</td>\n",
       "      <td>0.00</td>\n",
       "      <td>0.01</td>\n",
       "      <td>0.00</td>\n",
       "      <td>NaN</td>\n",
       "      <td>NaN</td>\n",
       "      <td>NaN</td>\n",
       "    </tr>\n",
       "    <tr>\n",
       "      <th>16711</th>\n",
       "      <td>LMA Manager 2007</td>\n",
       "      <td>X360</td>\n",
       "      <td>2006.0</td>\n",
       "      <td>Sports</td>\n",
       "      <td>0.00</td>\n",
       "      <td>0.01</td>\n",
       "      <td>0.00</td>\n",
       "      <td>0.00</td>\n",
       "      <td>NaN</td>\n",
       "      <td>NaN</td>\n",
       "      <td>NaN</td>\n",
       "    </tr>\n",
       "    <tr>\n",
       "      <th>16712</th>\n",
       "      <td>Haitaka no Psychedelica</td>\n",
       "      <td>PSV</td>\n",
       "      <td>2016.0</td>\n",
       "      <td>Adventure</td>\n",
       "      <td>0.00</td>\n",
       "      <td>0.00</td>\n",
       "      <td>0.01</td>\n",
       "      <td>0.00</td>\n",
       "      <td>NaN</td>\n",
       "      <td>NaN</td>\n",
       "      <td>NaN</td>\n",
       "    </tr>\n",
       "    <tr>\n",
       "      <th>16713</th>\n",
       "      <td>Spirits &amp; Spells</td>\n",
       "      <td>GBA</td>\n",
       "      <td>2003.0</td>\n",
       "      <td>Platform</td>\n",
       "      <td>0.01</td>\n",
       "      <td>0.00</td>\n",
       "      <td>0.00</td>\n",
       "      <td>0.00</td>\n",
       "      <td>NaN</td>\n",
       "      <td>NaN</td>\n",
       "      <td>NaN</td>\n",
       "    </tr>\n",
       "    <tr>\n",
       "      <th>16714</th>\n",
       "      <td>Winning Post 8 2016</td>\n",
       "      <td>PSV</td>\n",
       "      <td>2016.0</td>\n",
       "      <td>Simulation</td>\n",
       "      <td>0.00</td>\n",
       "      <td>0.00</td>\n",
       "      <td>0.01</td>\n",
       "      <td>0.00</td>\n",
       "      <td>NaN</td>\n",
       "      <td>NaN</td>\n",
       "      <td>NaN</td>\n",
       "    </tr>\n",
       "  </tbody>\n",
       "</table>\n",
       "<p>6701 rows × 11 columns</p>\n",
       "</div>"
      ],
      "text/plain": [
       "                                Name Platform  Year_of_Release         Genre  \\\n",
       "1                  Super Mario Bros.      NES           1985.0      Platform   \n",
       "4           Pokemon Red/Pokemon Blue       GB           1996.0  Role-Playing   \n",
       "5                             Tetris       GB           1989.0        Puzzle   \n",
       "9                          Duck Hunt      NES           1984.0       Shooter   \n",
       "10                        Nintendogs       DS           2005.0    Simulation   \n",
       "...                              ...      ...              ...           ...   \n",
       "16710  Samurai Warriors: Sanada Maru      PS3           2016.0        Action   \n",
       "16711               LMA Manager 2007     X360           2006.0        Sports   \n",
       "16712        Haitaka no Psychedelica      PSV           2016.0     Adventure   \n",
       "16713               Spirits & Spells      GBA           2003.0      Platform   \n",
       "16714            Winning Post 8 2016      PSV           2016.0    Simulation   \n",
       "\n",
       "       NA_sales  EU_sales  JP_sales  Other_sales  Critic_Score User_Score  \\\n",
       "1         29.08      3.58      6.81         0.77           NaN        NaN   \n",
       "4         11.27      8.89     10.22         1.00           NaN        NaN   \n",
       "5         23.20      2.26      4.22         0.58           NaN        NaN   \n",
       "9         26.93      0.63      0.28         0.47           NaN        NaN   \n",
       "10         9.05     10.95      1.93         2.74           NaN        NaN   \n",
       "...         ...       ...       ...          ...           ...        ...   \n",
       "16710      0.00      0.00      0.01         0.00           NaN        NaN   \n",
       "16711      0.00      0.01      0.00         0.00           NaN        NaN   \n",
       "16712      0.00      0.00      0.01         0.00           NaN        NaN   \n",
       "16713      0.01      0.00      0.00         0.00           NaN        NaN   \n",
       "16714      0.00      0.00      0.01         0.00           NaN        NaN   \n",
       "\n",
       "      Rating  \n",
       "1        NaN  \n",
       "4        NaN  \n",
       "5        NaN  \n",
       "9        NaN  \n",
       "10       NaN  \n",
       "...      ...  \n",
       "16710    NaN  \n",
       "16711    NaN  \n",
       "16712    NaN  \n",
       "16713    NaN  \n",
       "16714    NaN  \n",
       "\n",
       "[6701 rows x 11 columns]"
      ]
     },
     "execution_count": 6,
     "metadata": {},
     "output_type": "execute_result"
    }
   ],
   "source": [
    "games_data[games_data['User_Score'].isna()]"
   ]
  },
  {
   "cell_type": "code",
   "execution_count": 7,
   "metadata": {},
   "outputs": [
    {
     "data": {
      "text/html": [
       "<div>\n",
       "<style scoped>\n",
       "    .dataframe tbody tr th:only-of-type {\n",
       "        vertical-align: middle;\n",
       "    }\n",
       "\n",
       "    .dataframe tbody tr th {\n",
       "        vertical-align: top;\n",
       "    }\n",
       "\n",
       "    .dataframe thead th {\n",
       "        text-align: right;\n",
       "    }\n",
       "</style>\n",
       "<table border=\"1\" class=\"dataframe\">\n",
       "  <thead>\n",
       "    <tr style=\"text-align: right;\">\n",
       "      <th></th>\n",
       "      <th>Name</th>\n",
       "      <th>Platform</th>\n",
       "      <th>Year_of_Release</th>\n",
       "      <th>Genre</th>\n",
       "      <th>NA_sales</th>\n",
       "      <th>EU_sales</th>\n",
       "      <th>JP_sales</th>\n",
       "      <th>Other_sales</th>\n",
       "      <th>Critic_Score</th>\n",
       "      <th>User_Score</th>\n",
       "      <th>Rating</th>\n",
       "    </tr>\n",
       "  </thead>\n",
       "  <tbody>\n",
       "    <tr>\n",
       "      <th>1</th>\n",
       "      <td>Super Mario Bros.</td>\n",
       "      <td>NES</td>\n",
       "      <td>1985.0</td>\n",
       "      <td>Platform</td>\n",
       "      <td>29.08</td>\n",
       "      <td>3.58</td>\n",
       "      <td>6.81</td>\n",
       "      <td>0.77</td>\n",
       "      <td>NaN</td>\n",
       "      <td>NaN</td>\n",
       "      <td>NaN</td>\n",
       "    </tr>\n",
       "    <tr>\n",
       "      <th>4</th>\n",
       "      <td>Pokemon Red/Pokemon Blue</td>\n",
       "      <td>GB</td>\n",
       "      <td>1996.0</td>\n",
       "      <td>Role-Playing</td>\n",
       "      <td>11.27</td>\n",
       "      <td>8.89</td>\n",
       "      <td>10.22</td>\n",
       "      <td>1.00</td>\n",
       "      <td>NaN</td>\n",
       "      <td>NaN</td>\n",
       "      <td>NaN</td>\n",
       "    </tr>\n",
       "    <tr>\n",
       "      <th>5</th>\n",
       "      <td>Tetris</td>\n",
       "      <td>GB</td>\n",
       "      <td>1989.0</td>\n",
       "      <td>Puzzle</td>\n",
       "      <td>23.20</td>\n",
       "      <td>2.26</td>\n",
       "      <td>4.22</td>\n",
       "      <td>0.58</td>\n",
       "      <td>NaN</td>\n",
       "      <td>NaN</td>\n",
       "      <td>NaN</td>\n",
       "    </tr>\n",
       "    <tr>\n",
       "      <th>9</th>\n",
       "      <td>Duck Hunt</td>\n",
       "      <td>NES</td>\n",
       "      <td>1984.0</td>\n",
       "      <td>Shooter</td>\n",
       "      <td>26.93</td>\n",
       "      <td>0.63</td>\n",
       "      <td>0.28</td>\n",
       "      <td>0.47</td>\n",
       "      <td>NaN</td>\n",
       "      <td>NaN</td>\n",
       "      <td>NaN</td>\n",
       "    </tr>\n",
       "    <tr>\n",
       "      <th>10</th>\n",
       "      <td>Nintendogs</td>\n",
       "      <td>DS</td>\n",
       "      <td>2005.0</td>\n",
       "      <td>Simulation</td>\n",
       "      <td>9.05</td>\n",
       "      <td>10.95</td>\n",
       "      <td>1.93</td>\n",
       "      <td>2.74</td>\n",
       "      <td>NaN</td>\n",
       "      <td>NaN</td>\n",
       "      <td>NaN</td>\n",
       "    </tr>\n",
       "    <tr>\n",
       "      <th>...</th>\n",
       "      <td>...</td>\n",
       "      <td>...</td>\n",
       "      <td>...</td>\n",
       "      <td>...</td>\n",
       "      <td>...</td>\n",
       "      <td>...</td>\n",
       "      <td>...</td>\n",
       "      <td>...</td>\n",
       "      <td>...</td>\n",
       "      <td>...</td>\n",
       "      <td>...</td>\n",
       "    </tr>\n",
       "    <tr>\n",
       "      <th>16710</th>\n",
       "      <td>Samurai Warriors: Sanada Maru</td>\n",
       "      <td>PS3</td>\n",
       "      <td>2016.0</td>\n",
       "      <td>Action</td>\n",
       "      <td>0.00</td>\n",
       "      <td>0.00</td>\n",
       "      <td>0.01</td>\n",
       "      <td>0.00</td>\n",
       "      <td>NaN</td>\n",
       "      <td>NaN</td>\n",
       "      <td>NaN</td>\n",
       "    </tr>\n",
       "    <tr>\n",
       "      <th>16711</th>\n",
       "      <td>LMA Manager 2007</td>\n",
       "      <td>X360</td>\n",
       "      <td>2006.0</td>\n",
       "      <td>Sports</td>\n",
       "      <td>0.00</td>\n",
       "      <td>0.01</td>\n",
       "      <td>0.00</td>\n",
       "      <td>0.00</td>\n",
       "      <td>NaN</td>\n",
       "      <td>NaN</td>\n",
       "      <td>NaN</td>\n",
       "    </tr>\n",
       "    <tr>\n",
       "      <th>16712</th>\n",
       "      <td>Haitaka no Psychedelica</td>\n",
       "      <td>PSV</td>\n",
       "      <td>2016.0</td>\n",
       "      <td>Adventure</td>\n",
       "      <td>0.00</td>\n",
       "      <td>0.00</td>\n",
       "      <td>0.01</td>\n",
       "      <td>0.00</td>\n",
       "      <td>NaN</td>\n",
       "      <td>NaN</td>\n",
       "      <td>NaN</td>\n",
       "    </tr>\n",
       "    <tr>\n",
       "      <th>16713</th>\n",
       "      <td>Spirits &amp; Spells</td>\n",
       "      <td>GBA</td>\n",
       "      <td>2003.0</td>\n",
       "      <td>Platform</td>\n",
       "      <td>0.01</td>\n",
       "      <td>0.00</td>\n",
       "      <td>0.00</td>\n",
       "      <td>0.00</td>\n",
       "      <td>NaN</td>\n",
       "      <td>NaN</td>\n",
       "      <td>NaN</td>\n",
       "    </tr>\n",
       "    <tr>\n",
       "      <th>16714</th>\n",
       "      <td>Winning Post 8 2016</td>\n",
       "      <td>PSV</td>\n",
       "      <td>2016.0</td>\n",
       "      <td>Simulation</td>\n",
       "      <td>0.00</td>\n",
       "      <td>0.00</td>\n",
       "      <td>0.01</td>\n",
       "      <td>0.00</td>\n",
       "      <td>NaN</td>\n",
       "      <td>NaN</td>\n",
       "      <td>NaN</td>\n",
       "    </tr>\n",
       "  </tbody>\n",
       "</table>\n",
       "<p>6766 rows × 11 columns</p>\n",
       "</div>"
      ],
      "text/plain": [
       "                                Name Platform  Year_of_Release         Genre  \\\n",
       "1                  Super Mario Bros.      NES           1985.0      Platform   \n",
       "4           Pokemon Red/Pokemon Blue       GB           1996.0  Role-Playing   \n",
       "5                             Tetris       GB           1989.0        Puzzle   \n",
       "9                          Duck Hunt      NES           1984.0       Shooter   \n",
       "10                        Nintendogs       DS           2005.0    Simulation   \n",
       "...                              ...      ...              ...           ...   \n",
       "16710  Samurai Warriors: Sanada Maru      PS3           2016.0        Action   \n",
       "16711               LMA Manager 2007     X360           2006.0        Sports   \n",
       "16712        Haitaka no Psychedelica      PSV           2016.0     Adventure   \n",
       "16713               Spirits & Spells      GBA           2003.0      Platform   \n",
       "16714            Winning Post 8 2016      PSV           2016.0    Simulation   \n",
       "\n",
       "       NA_sales  EU_sales  JP_sales  Other_sales  Critic_Score User_Score  \\\n",
       "1         29.08      3.58      6.81         0.77           NaN        NaN   \n",
       "4         11.27      8.89     10.22         1.00           NaN        NaN   \n",
       "5         23.20      2.26      4.22         0.58           NaN        NaN   \n",
       "9         26.93      0.63      0.28         0.47           NaN        NaN   \n",
       "10         9.05     10.95      1.93         2.74           NaN        NaN   \n",
       "...         ...       ...       ...          ...           ...        ...   \n",
       "16710      0.00      0.00      0.01         0.00           NaN        NaN   \n",
       "16711      0.00      0.01      0.00         0.00           NaN        NaN   \n",
       "16712      0.00      0.00      0.01         0.00           NaN        NaN   \n",
       "16713      0.01      0.00      0.00         0.00           NaN        NaN   \n",
       "16714      0.00      0.00      0.01         0.00           NaN        NaN   \n",
       "\n",
       "      Rating  \n",
       "1        NaN  \n",
       "4        NaN  \n",
       "5        NaN  \n",
       "9        NaN  \n",
       "10       NaN  \n",
       "...      ...  \n",
       "16710    NaN  \n",
       "16711    NaN  \n",
       "16712    NaN  \n",
       "16713    NaN  \n",
       "16714    NaN  \n",
       "\n",
       "[6766 rows x 11 columns]"
      ]
     },
     "execution_count": 7,
     "metadata": {},
     "output_type": "execute_result"
    }
   ],
   "source": [
    "games_data[games_data['Rating'].isna()]"
   ]
  },
  {
   "cell_type": "code",
   "execution_count": 8,
   "metadata": {},
   "outputs": [
    {
     "data": {
      "text/html": [
       "<div>\n",
       "<style scoped>\n",
       "    .dataframe tbody tr th:only-of-type {\n",
       "        vertical-align: middle;\n",
       "    }\n",
       "\n",
       "    .dataframe tbody tr th {\n",
       "        vertical-align: top;\n",
       "    }\n",
       "\n",
       "    .dataframe thead th {\n",
       "        text-align: right;\n",
       "    }\n",
       "</style>\n",
       "<table border=\"1\" class=\"dataframe\">\n",
       "  <thead>\n",
       "    <tr style=\"text-align: right;\">\n",
       "      <th></th>\n",
       "      <th>Name</th>\n",
       "      <th>Platform</th>\n",
       "      <th>Year_of_Release</th>\n",
       "      <th>Genre</th>\n",
       "      <th>NA_sales</th>\n",
       "      <th>EU_sales</th>\n",
       "      <th>JP_sales</th>\n",
       "      <th>Other_sales</th>\n",
       "      <th>Critic_Score</th>\n",
       "      <th>User_Score</th>\n",
       "      <th>Rating</th>\n",
       "    </tr>\n",
       "  </thead>\n",
       "  <tbody>\n",
       "    <tr>\n",
       "      <th>183</th>\n",
       "      <td>Madden NFL 2004</td>\n",
       "      <td>PS2</td>\n",
       "      <td>NaN</td>\n",
       "      <td>Sports</td>\n",
       "      <td>4.26</td>\n",
       "      <td>0.26</td>\n",
       "      <td>0.01</td>\n",
       "      <td>0.71</td>\n",
       "      <td>94.0</td>\n",
       "      <td>8.5</td>\n",
       "      <td>E</td>\n",
       "    </tr>\n",
       "    <tr>\n",
       "      <th>377</th>\n",
       "      <td>FIFA Soccer 2004</td>\n",
       "      <td>PS2</td>\n",
       "      <td>NaN</td>\n",
       "      <td>Sports</td>\n",
       "      <td>0.59</td>\n",
       "      <td>2.36</td>\n",
       "      <td>0.04</td>\n",
       "      <td>0.51</td>\n",
       "      <td>84.0</td>\n",
       "      <td>6.4</td>\n",
       "      <td>E</td>\n",
       "    </tr>\n",
       "    <tr>\n",
       "      <th>456</th>\n",
       "      <td>LEGO Batman: The Videogame</td>\n",
       "      <td>Wii</td>\n",
       "      <td>NaN</td>\n",
       "      <td>Action</td>\n",
       "      <td>1.80</td>\n",
       "      <td>0.97</td>\n",
       "      <td>0.00</td>\n",
       "      <td>0.29</td>\n",
       "      <td>74.0</td>\n",
       "      <td>7.9</td>\n",
       "      <td>E10+</td>\n",
       "    </tr>\n",
       "    <tr>\n",
       "      <th>475</th>\n",
       "      <td>wwe Smackdown vs. Raw 2006</td>\n",
       "      <td>PS2</td>\n",
       "      <td>NaN</td>\n",
       "      <td>Fighting</td>\n",
       "      <td>1.57</td>\n",
       "      <td>1.02</td>\n",
       "      <td>0.00</td>\n",
       "      <td>0.41</td>\n",
       "      <td>NaN</td>\n",
       "      <td>NaN</td>\n",
       "      <td>NaN</td>\n",
       "    </tr>\n",
       "    <tr>\n",
       "      <th>609</th>\n",
       "      <td>Space Invaders</td>\n",
       "      <td>2600</td>\n",
       "      <td>NaN</td>\n",
       "      <td>Shooter</td>\n",
       "      <td>2.36</td>\n",
       "      <td>0.14</td>\n",
       "      <td>0.00</td>\n",
       "      <td>0.03</td>\n",
       "      <td>NaN</td>\n",
       "      <td>NaN</td>\n",
       "      <td>NaN</td>\n",
       "    </tr>\n",
       "    <tr>\n",
       "      <th>...</th>\n",
       "      <td>...</td>\n",
       "      <td>...</td>\n",
       "      <td>...</td>\n",
       "      <td>...</td>\n",
       "      <td>...</td>\n",
       "      <td>...</td>\n",
       "      <td>...</td>\n",
       "      <td>...</td>\n",
       "      <td>...</td>\n",
       "      <td>...</td>\n",
       "      <td>...</td>\n",
       "    </tr>\n",
       "    <tr>\n",
       "      <th>16373</th>\n",
       "      <td>PDC World Championship Darts 2008</td>\n",
       "      <td>PSP</td>\n",
       "      <td>NaN</td>\n",
       "      <td>Sports</td>\n",
       "      <td>0.01</td>\n",
       "      <td>0.00</td>\n",
       "      <td>0.00</td>\n",
       "      <td>0.00</td>\n",
       "      <td>43.0</td>\n",
       "      <td>tbd</td>\n",
       "      <td>E10+</td>\n",
       "    </tr>\n",
       "    <tr>\n",
       "      <th>16405</th>\n",
       "      <td>Freaky Flyers</td>\n",
       "      <td>GC</td>\n",
       "      <td>NaN</td>\n",
       "      <td>Racing</td>\n",
       "      <td>0.01</td>\n",
       "      <td>0.00</td>\n",
       "      <td>0.00</td>\n",
       "      <td>0.00</td>\n",
       "      <td>69.0</td>\n",
       "      <td>6.5</td>\n",
       "      <td>T</td>\n",
       "    </tr>\n",
       "    <tr>\n",
       "      <th>16448</th>\n",
       "      <td>Inversion</td>\n",
       "      <td>PC</td>\n",
       "      <td>NaN</td>\n",
       "      <td>Shooter</td>\n",
       "      <td>0.01</td>\n",
       "      <td>0.00</td>\n",
       "      <td>0.00</td>\n",
       "      <td>0.00</td>\n",
       "      <td>59.0</td>\n",
       "      <td>6.7</td>\n",
       "      <td>M</td>\n",
       "    </tr>\n",
       "    <tr>\n",
       "      <th>16458</th>\n",
       "      <td>Hakuouki: Shinsengumi Kitan</td>\n",
       "      <td>PS3</td>\n",
       "      <td>NaN</td>\n",
       "      <td>Adventure</td>\n",
       "      <td>0.01</td>\n",
       "      <td>0.00</td>\n",
       "      <td>0.00</td>\n",
       "      <td>0.00</td>\n",
       "      <td>NaN</td>\n",
       "      <td>NaN</td>\n",
       "      <td>NaN</td>\n",
       "    </tr>\n",
       "    <tr>\n",
       "      <th>16522</th>\n",
       "      <td>Virtua Quest</td>\n",
       "      <td>GC</td>\n",
       "      <td>NaN</td>\n",
       "      <td>Role-Playing</td>\n",
       "      <td>0.01</td>\n",
       "      <td>0.00</td>\n",
       "      <td>0.00</td>\n",
       "      <td>0.00</td>\n",
       "      <td>55.0</td>\n",
       "      <td>5.5</td>\n",
       "      <td>T</td>\n",
       "    </tr>\n",
       "  </tbody>\n",
       "</table>\n",
       "<p>269 rows × 11 columns</p>\n",
       "</div>"
      ],
      "text/plain": [
       "                                    Name Platform  Year_of_Release  \\\n",
       "183                      Madden NFL 2004      PS2              NaN   \n",
       "377                     FIFA Soccer 2004      PS2              NaN   \n",
       "456           LEGO Batman: The Videogame      Wii              NaN   \n",
       "475           wwe Smackdown vs. Raw 2006      PS2              NaN   \n",
       "609                       Space Invaders     2600              NaN   \n",
       "...                                  ...      ...              ...   \n",
       "16373  PDC World Championship Darts 2008      PSP              NaN   \n",
       "16405                      Freaky Flyers       GC              NaN   \n",
       "16448                          Inversion       PC              NaN   \n",
       "16458        Hakuouki: Shinsengumi Kitan      PS3              NaN   \n",
       "16522                       Virtua Quest       GC              NaN   \n",
       "\n",
       "              Genre  NA_sales  EU_sales  JP_sales  Other_sales  Critic_Score  \\\n",
       "183          Sports      4.26      0.26      0.01         0.71          94.0   \n",
       "377          Sports      0.59      2.36      0.04         0.51          84.0   \n",
       "456          Action      1.80      0.97      0.00         0.29          74.0   \n",
       "475        Fighting      1.57      1.02      0.00         0.41           NaN   \n",
       "609         Shooter      2.36      0.14      0.00         0.03           NaN   \n",
       "...             ...       ...       ...       ...          ...           ...   \n",
       "16373        Sports      0.01      0.00      0.00         0.00          43.0   \n",
       "16405        Racing      0.01      0.00      0.00         0.00          69.0   \n",
       "16448       Shooter      0.01      0.00      0.00         0.00          59.0   \n",
       "16458     Adventure      0.01      0.00      0.00         0.00           NaN   \n",
       "16522  Role-Playing      0.01      0.00      0.00         0.00          55.0   \n",
       "\n",
       "      User_Score Rating  \n",
       "183          8.5      E  \n",
       "377          6.4      E  \n",
       "456          7.9   E10+  \n",
       "475          NaN    NaN  \n",
       "609          NaN    NaN  \n",
       "...          ...    ...  \n",
       "16373        tbd   E10+  \n",
       "16405        6.5      T  \n",
       "16448        6.7      M  \n",
       "16458        NaN    NaN  \n",
       "16522        5.5      T  \n",
       "\n",
       "[269 rows x 11 columns]"
      ]
     },
     "execution_count": 8,
     "metadata": {},
     "output_type": "execute_result"
    }
   ],
   "source": [
    "games_data[games_data['Year_of_Release'].isna()]"
   ]
  },
  {
   "cell_type": "code",
   "execution_count": 9,
   "metadata": {},
   "outputs": [
    {
     "data": {
      "text/plain": [
       "0"
      ]
     },
     "execution_count": 9,
     "metadata": {},
     "output_type": "execute_result"
    }
   ],
   "source": [
    "games_data.duplicated().sum()"
   ]
  },
  {
   "cell_type": "markdown",
   "metadata": {},
   "source": [
    "После данного этапа можно выделить некоторые наблюдения. В нашем датасете 11 столбцов с информацией по продажам видеоигр:\n",
    "\n",
    "Name — название игры\n",
    "\n",
    "Platform — платформа\n",
    "\n",
    "Year_of_Release — год выпуска\n",
    "\n",
    "Genre — жанр игры\n",
    "\n",
    "NA_sales — продажи в Северной Америке (миллионы долларов)\n",
    "\n",
    "EU_sales — продажи в Европе (миллионы долларов)\n",
    "\n",
    "JP_sales — продажи в Японии (миллионы долларов)\n",
    "\n",
    "Other_sales — продажи в других странах (миллионы долларов)\n",
    "\n",
    "Critic_Score — оценка критиков (максимум 100)\n",
    "\n",
    "User_Score — оценка пользователей (максимум 10)\n",
    "\n",
    "Rating — рейтинг от организации ESRB (англ. Entertainment Software Rating Board).\n",
    "\n",
    "Просмотрев пропуски в каждом столбце, можно сделать вывод, что заменить их на среднее, либо на какое-то другое значение нельзя, потому что это отразиться на результатах исследования. Но в глаза бросился неправильный формат данных в столбце Year_of_Release, на этапе предобработки данных следует заменить тип данных на int.\n",
    "\n",
    "Также датасет был проверен на наличие дубликатов и можно сделать вывод, что явных дубликатов в датасете нет."
   ]
  },
  {
   "cell_type": "markdown",
   "metadata": {},
   "source": [
    "<h3>2. Предобработка данных<a class=\"tocSkip\"><.h3>"
   ]
  },
  {
   "cell_type": "markdown",
   "metadata": {},
   "source": [
    "Приведем названия столбцов к нижнему регистру"
   ]
  },
  {
   "cell_type": "code",
   "execution_count": 10,
   "metadata": {},
   "outputs": [],
   "source": [
    " games_data.columns = games_data.columns.str.lower()"
   ]
  },
  {
   "cell_type": "code",
   "execution_count": 11,
   "metadata": {},
   "outputs": [],
   "source": [
    "#Заменим тип данных в столбце с годами релиза\n",
    "games_data['year_of_release'] = games_data['year_of_release'].astype('Int64')"
   ]
  },
  {
   "cell_type": "code",
   "execution_count": 12,
   "metadata": {},
   "outputs": [
    {
     "data": {
      "text/html": [
       "<div>\n",
       "<style scoped>\n",
       "    .dataframe tbody tr th:only-of-type {\n",
       "        vertical-align: middle;\n",
       "    }\n",
       "\n",
       "    .dataframe tbody tr th {\n",
       "        vertical-align: top;\n",
       "    }\n",
       "\n",
       "    .dataframe thead th {\n",
       "        text-align: right;\n",
       "    }\n",
       "</style>\n",
       "<table border=\"1\" class=\"dataframe\">\n",
       "  <thead>\n",
       "    <tr style=\"text-align: right;\">\n",
       "      <th></th>\n",
       "      <th>name</th>\n",
       "      <th>platform</th>\n",
       "      <th>year_of_release</th>\n",
       "      <th>genre</th>\n",
       "      <th>na_sales</th>\n",
       "      <th>eu_sales</th>\n",
       "      <th>jp_sales</th>\n",
       "      <th>other_sales</th>\n",
       "      <th>critic_score</th>\n",
       "      <th>user_score</th>\n",
       "      <th>rating</th>\n",
       "    </tr>\n",
       "  </thead>\n",
       "  <tbody>\n",
       "    <tr>\n",
       "      <th>119</th>\n",
       "      <td>Zumba Fitness</td>\n",
       "      <td>Wii</td>\n",
       "      <td>2010</td>\n",
       "      <td>Sports</td>\n",
       "      <td>3.45</td>\n",
       "      <td>2.59</td>\n",
       "      <td>0.0</td>\n",
       "      <td>0.66</td>\n",
       "      <td>NaN</td>\n",
       "      <td>tbd</td>\n",
       "      <td>E</td>\n",
       "    </tr>\n",
       "    <tr>\n",
       "      <th>301</th>\n",
       "      <td>Namco Museum: 50th Anniversary</td>\n",
       "      <td>PS2</td>\n",
       "      <td>2005</td>\n",
       "      <td>Misc</td>\n",
       "      <td>2.08</td>\n",
       "      <td>1.35</td>\n",
       "      <td>0.0</td>\n",
       "      <td>0.54</td>\n",
       "      <td>61.0</td>\n",
       "      <td>tbd</td>\n",
       "      <td>E10+</td>\n",
       "    </tr>\n",
       "    <tr>\n",
       "      <th>520</th>\n",
       "      <td>Zumba Fitness 2</td>\n",
       "      <td>Wii</td>\n",
       "      <td>2011</td>\n",
       "      <td>Sports</td>\n",
       "      <td>1.51</td>\n",
       "      <td>1.03</td>\n",
       "      <td>0.0</td>\n",
       "      <td>0.27</td>\n",
       "      <td>NaN</td>\n",
       "      <td>tbd</td>\n",
       "      <td>T</td>\n",
       "    </tr>\n",
       "    <tr>\n",
       "      <th>645</th>\n",
       "      <td>uDraw Studio</td>\n",
       "      <td>Wii</td>\n",
       "      <td>2010</td>\n",
       "      <td>Misc</td>\n",
       "      <td>1.65</td>\n",
       "      <td>0.57</td>\n",
       "      <td>0.0</td>\n",
       "      <td>0.20</td>\n",
       "      <td>71.0</td>\n",
       "      <td>tbd</td>\n",
       "      <td>E</td>\n",
       "    </tr>\n",
       "    <tr>\n",
       "      <th>657</th>\n",
       "      <td>Frogger's Adventures: Temple of the Frog</td>\n",
       "      <td>GBA</td>\n",
       "      <td>&lt;NA&gt;</td>\n",
       "      <td>Adventure</td>\n",
       "      <td>2.15</td>\n",
       "      <td>0.18</td>\n",
       "      <td>0.0</td>\n",
       "      <td>0.07</td>\n",
       "      <td>73.0</td>\n",
       "      <td>tbd</td>\n",
       "      <td>E</td>\n",
       "    </tr>\n",
       "    <tr>\n",
       "      <th>...</th>\n",
       "      <td>...</td>\n",
       "      <td>...</td>\n",
       "      <td>...</td>\n",
       "      <td>...</td>\n",
       "      <td>...</td>\n",
       "      <td>...</td>\n",
       "      <td>...</td>\n",
       "      <td>...</td>\n",
       "      <td>...</td>\n",
       "      <td>...</td>\n",
       "      <td>...</td>\n",
       "    </tr>\n",
       "    <tr>\n",
       "      <th>16695</th>\n",
       "      <td>Planet Monsters</td>\n",
       "      <td>GBA</td>\n",
       "      <td>2001</td>\n",
       "      <td>Action</td>\n",
       "      <td>0.01</td>\n",
       "      <td>0.00</td>\n",
       "      <td>0.0</td>\n",
       "      <td>0.00</td>\n",
       "      <td>67.0</td>\n",
       "      <td>tbd</td>\n",
       "      <td>E</td>\n",
       "    </tr>\n",
       "    <tr>\n",
       "      <th>16697</th>\n",
       "      <td>Bust-A-Move 3000</td>\n",
       "      <td>GC</td>\n",
       "      <td>2003</td>\n",
       "      <td>Puzzle</td>\n",
       "      <td>0.01</td>\n",
       "      <td>0.00</td>\n",
       "      <td>0.0</td>\n",
       "      <td>0.00</td>\n",
       "      <td>53.0</td>\n",
       "      <td>tbd</td>\n",
       "      <td>E</td>\n",
       "    </tr>\n",
       "    <tr>\n",
       "      <th>16698</th>\n",
       "      <td>Mega Brain Boost</td>\n",
       "      <td>DS</td>\n",
       "      <td>2008</td>\n",
       "      <td>Puzzle</td>\n",
       "      <td>0.01</td>\n",
       "      <td>0.00</td>\n",
       "      <td>0.0</td>\n",
       "      <td>0.00</td>\n",
       "      <td>48.0</td>\n",
       "      <td>tbd</td>\n",
       "      <td>E</td>\n",
       "    </tr>\n",
       "    <tr>\n",
       "      <th>16704</th>\n",
       "      <td>Plushees</td>\n",
       "      <td>DS</td>\n",
       "      <td>2008</td>\n",
       "      <td>Simulation</td>\n",
       "      <td>0.01</td>\n",
       "      <td>0.00</td>\n",
       "      <td>0.0</td>\n",
       "      <td>0.00</td>\n",
       "      <td>NaN</td>\n",
       "      <td>tbd</td>\n",
       "      <td>E</td>\n",
       "    </tr>\n",
       "    <tr>\n",
       "      <th>16706</th>\n",
       "      <td>Men in Black II: Alien Escape</td>\n",
       "      <td>GC</td>\n",
       "      <td>2003</td>\n",
       "      <td>Shooter</td>\n",
       "      <td>0.01</td>\n",
       "      <td>0.00</td>\n",
       "      <td>0.0</td>\n",
       "      <td>0.00</td>\n",
       "      <td>NaN</td>\n",
       "      <td>tbd</td>\n",
       "      <td>T</td>\n",
       "    </tr>\n",
       "  </tbody>\n",
       "</table>\n",
       "<p>2424 rows × 11 columns</p>\n",
       "</div>"
      ],
      "text/plain": [
       "                                           name platform  year_of_release  \\\n",
       "119                               Zumba Fitness      Wii             2010   \n",
       "301              Namco Museum: 50th Anniversary      PS2             2005   \n",
       "520                             Zumba Fitness 2      Wii             2011   \n",
       "645                                uDraw Studio      Wii             2010   \n",
       "657    Frogger's Adventures: Temple of the Frog      GBA             <NA>   \n",
       "...                                         ...      ...              ...   \n",
       "16695                           Planet Monsters      GBA             2001   \n",
       "16697                          Bust-A-Move 3000       GC             2003   \n",
       "16698                          Mega Brain Boost       DS             2008   \n",
       "16704                                  Plushees       DS             2008   \n",
       "16706             Men in Black II: Alien Escape       GC             2003   \n",
       "\n",
       "            genre  na_sales  eu_sales  jp_sales  other_sales  critic_score  \\\n",
       "119        Sports      3.45      2.59       0.0         0.66           NaN   \n",
       "301          Misc      2.08      1.35       0.0         0.54          61.0   \n",
       "520        Sports      1.51      1.03       0.0         0.27           NaN   \n",
       "645          Misc      1.65      0.57       0.0         0.20          71.0   \n",
       "657     Adventure      2.15      0.18       0.0         0.07          73.0   \n",
       "...           ...       ...       ...       ...          ...           ...   \n",
       "16695      Action      0.01      0.00       0.0         0.00          67.0   \n",
       "16697      Puzzle      0.01      0.00       0.0         0.00          53.0   \n",
       "16698      Puzzle      0.01      0.00       0.0         0.00          48.0   \n",
       "16704  Simulation      0.01      0.00       0.0         0.00           NaN   \n",
       "16706     Shooter      0.01      0.00       0.0         0.00           NaN   \n",
       "\n",
       "      user_score rating  \n",
       "119          tbd      E  \n",
       "301          tbd   E10+  \n",
       "520          tbd      T  \n",
       "645          tbd      E  \n",
       "657          tbd      E  \n",
       "...          ...    ...  \n",
       "16695        tbd      E  \n",
       "16697        tbd      E  \n",
       "16698        tbd      E  \n",
       "16704        tbd      E  \n",
       "16706        tbd      T  \n",
       "\n",
       "[2424 rows x 11 columns]"
      ]
     },
     "execution_count": 12,
     "metadata": {},
     "output_type": "execute_result"
    }
   ],
   "source": [
    "#Рассмотрим встречающуюся аббревиатуру tbd в столбце с оценкой пользователей\n",
    "games_data[games_data['user_score'] == 'tbd']"
   ]
  },
  {
   "cell_type": "markdown",
   "metadata": {},
   "source": [
    "Оказывается tbd это аббревиатура означающая To Be Determind. Она пишется в случаях, когда игра не набрала нужного количества отзывов, а значит для нас это то же самое, что и NaN. Заменим все tbd на NaN и изменим тип данных этого столбца с object на float."
   ]
  },
  {
   "cell_type": "code",
   "execution_count": 13,
   "metadata": {},
   "outputs": [
    {
     "data": {
      "text/html": [
       "<div>\n",
       "<style scoped>\n",
       "    .dataframe tbody tr th:only-of-type {\n",
       "        vertical-align: middle;\n",
       "    }\n",
       "\n",
       "    .dataframe tbody tr th {\n",
       "        vertical-align: top;\n",
       "    }\n",
       "\n",
       "    .dataframe thead th {\n",
       "        text-align: right;\n",
       "    }\n",
       "</style>\n",
       "<table border=\"1\" class=\"dataframe\">\n",
       "  <thead>\n",
       "    <tr style=\"text-align: right;\">\n",
       "      <th></th>\n",
       "      <th>name</th>\n",
       "      <th>platform</th>\n",
       "      <th>year_of_release</th>\n",
       "      <th>genre</th>\n",
       "      <th>na_sales</th>\n",
       "      <th>eu_sales</th>\n",
       "      <th>jp_sales</th>\n",
       "      <th>other_sales</th>\n",
       "      <th>critic_score</th>\n",
       "      <th>user_score</th>\n",
       "      <th>rating</th>\n",
       "    </tr>\n",
       "  </thead>\n",
       "  <tbody>\n",
       "  </tbody>\n",
       "</table>\n",
       "</div>"
      ],
      "text/plain": [
       "Empty DataFrame\n",
       "Columns: [name, platform, year_of_release, genre, na_sales, eu_sales, jp_sales, other_sales, critic_score, user_score, rating]\n",
       "Index: []"
      ]
     },
     "execution_count": 13,
     "metadata": {},
     "output_type": "execute_result"
    }
   ],
   "source": [
    "games_data['user_score'] = games_data['user_score'].replace('tbd', np.NaN)\n",
    "games_data['user_score'] = games_data['user_score'].astype('float')\n",
    "games_data[games_data['user_score'] == 'tbd']"
   ]
  },
  {
   "cell_type": "markdown",
   "metadata": {},
   "source": [
    "Посчитаем суммарные продажи во всех регионах."
   ]
  },
  {
   "cell_type": "code",
   "execution_count": 14,
   "metadata": {},
   "outputs": [
    {
     "data": {
      "text/html": [
       "<div>\n",
       "<style scoped>\n",
       "    .dataframe tbody tr th:only-of-type {\n",
       "        vertical-align: middle;\n",
       "    }\n",
       "\n",
       "    .dataframe tbody tr th {\n",
       "        vertical-align: top;\n",
       "    }\n",
       "\n",
       "    .dataframe thead th {\n",
       "        text-align: right;\n",
       "    }\n",
       "</style>\n",
       "<table border=\"1\" class=\"dataframe\">\n",
       "  <thead>\n",
       "    <tr style=\"text-align: right;\">\n",
       "      <th></th>\n",
       "      <th>name</th>\n",
       "      <th>platform</th>\n",
       "      <th>year_of_release</th>\n",
       "      <th>genre</th>\n",
       "      <th>na_sales</th>\n",
       "      <th>eu_sales</th>\n",
       "      <th>jp_sales</th>\n",
       "      <th>other_sales</th>\n",
       "      <th>critic_score</th>\n",
       "      <th>user_score</th>\n",
       "      <th>rating</th>\n",
       "      <th>total_sales</th>\n",
       "    </tr>\n",
       "  </thead>\n",
       "  <tbody>\n",
       "    <tr>\n",
       "      <th>0</th>\n",
       "      <td>Wii Sports</td>\n",
       "      <td>Wii</td>\n",
       "      <td>2006</td>\n",
       "      <td>Sports</td>\n",
       "      <td>41.36</td>\n",
       "      <td>28.96</td>\n",
       "      <td>3.77</td>\n",
       "      <td>8.45</td>\n",
       "      <td>76.0</td>\n",
       "      <td>8.0</td>\n",
       "      <td>E</td>\n",
       "      <td>82.54</td>\n",
       "    </tr>\n",
       "    <tr>\n",
       "      <th>1</th>\n",
       "      <td>Super Mario Bros.</td>\n",
       "      <td>NES</td>\n",
       "      <td>1985</td>\n",
       "      <td>Platform</td>\n",
       "      <td>29.08</td>\n",
       "      <td>3.58</td>\n",
       "      <td>6.81</td>\n",
       "      <td>0.77</td>\n",
       "      <td>NaN</td>\n",
       "      <td>NaN</td>\n",
       "      <td>NaN</td>\n",
       "      <td>40.24</td>\n",
       "    </tr>\n",
       "    <tr>\n",
       "      <th>2</th>\n",
       "      <td>Mario Kart Wii</td>\n",
       "      <td>Wii</td>\n",
       "      <td>2008</td>\n",
       "      <td>Racing</td>\n",
       "      <td>15.68</td>\n",
       "      <td>12.76</td>\n",
       "      <td>3.79</td>\n",
       "      <td>3.29</td>\n",
       "      <td>82.0</td>\n",
       "      <td>8.3</td>\n",
       "      <td>E</td>\n",
       "      <td>35.52</td>\n",
       "    </tr>\n",
       "    <tr>\n",
       "      <th>3</th>\n",
       "      <td>Wii Sports Resort</td>\n",
       "      <td>Wii</td>\n",
       "      <td>2009</td>\n",
       "      <td>Sports</td>\n",
       "      <td>15.61</td>\n",
       "      <td>10.93</td>\n",
       "      <td>3.28</td>\n",
       "      <td>2.95</td>\n",
       "      <td>80.0</td>\n",
       "      <td>8.0</td>\n",
       "      <td>E</td>\n",
       "      <td>32.77</td>\n",
       "    </tr>\n",
       "    <tr>\n",
       "      <th>4</th>\n",
       "      <td>Pokemon Red/Pokemon Blue</td>\n",
       "      <td>GB</td>\n",
       "      <td>1996</td>\n",
       "      <td>Role-Playing</td>\n",
       "      <td>11.27</td>\n",
       "      <td>8.89</td>\n",
       "      <td>10.22</td>\n",
       "      <td>1.00</td>\n",
       "      <td>NaN</td>\n",
       "      <td>NaN</td>\n",
       "      <td>NaN</td>\n",
       "      <td>31.38</td>\n",
       "    </tr>\n",
       "  </tbody>\n",
       "</table>\n",
       "</div>"
      ],
      "text/plain": [
       "                       name platform  year_of_release         genre  na_sales  \\\n",
       "0                Wii Sports      Wii             2006        Sports     41.36   \n",
       "1         Super Mario Bros.      NES             1985      Platform     29.08   \n",
       "2            Mario Kart Wii      Wii             2008        Racing     15.68   \n",
       "3         Wii Sports Resort      Wii             2009        Sports     15.61   \n",
       "4  Pokemon Red/Pokemon Blue       GB             1996  Role-Playing     11.27   \n",
       "\n",
       "   eu_sales  jp_sales  other_sales  critic_score  user_score rating  \\\n",
       "0     28.96      3.77         8.45          76.0         8.0      E   \n",
       "1      3.58      6.81         0.77           NaN         NaN    NaN   \n",
       "2     12.76      3.79         3.29          82.0         8.3      E   \n",
       "3     10.93      3.28         2.95          80.0         8.0      E   \n",
       "4      8.89     10.22         1.00           NaN         NaN    NaN   \n",
       "\n",
       "   total_sales  \n",
       "0        82.54  \n",
       "1        40.24  \n",
       "2        35.52  \n",
       "3        32.77  \n",
       "4        31.38  "
      ]
     },
     "execution_count": 14,
     "metadata": {},
     "output_type": "execute_result"
    }
   ],
   "source": [
    "games_data['total_sales'] = games_data['na_sales'] + games_data['eu_sales'] + games_data['jp_sales'] + games_data['other_sales']\n",
    "games_data.head()"
   ]
  },
  {
   "cell_type": "code",
   "execution_count": 15,
   "metadata": {},
   "outputs": [
    {
     "name": "stdout",
     "output_type": "stream",
     "text": [
      "<class 'pandas.core.frame.DataFrame'>\n",
      "RangeIndex: 16715 entries, 0 to 16714\n",
      "Data columns (total 12 columns):\n",
      " #   Column           Non-Null Count  Dtype  \n",
      "---  ------           --------------  -----  \n",
      " 0   name             16713 non-null  object \n",
      " 1   platform         16715 non-null  object \n",
      " 2   year_of_release  16446 non-null  Int64  \n",
      " 3   genre            16713 non-null  object \n",
      " 4   na_sales         16715 non-null  float64\n",
      " 5   eu_sales         16715 non-null  float64\n",
      " 6   jp_sales         16715 non-null  float64\n",
      " 7   other_sales      16715 non-null  float64\n",
      " 8   critic_score     8137 non-null   float64\n",
      " 9   user_score       7590 non-null   float64\n",
      " 10  rating           9949 non-null   object \n",
      " 11  total_sales      16715 non-null  float64\n",
      "dtypes: Int64(1), float64(7), object(4)\n",
      "memory usage: 1.5+ MB\n"
     ]
    }
   ],
   "source": [
    "games_data.info()"
   ]
  },
  {
   "cell_type": "markdown",
   "metadata": {},
   "source": [
    "Поиск неявных дубликатов совпадающих по названию, платформе и году релиза одновременно."
   ]
  },
  {
   "cell_type": "code",
   "execution_count": 16,
   "metadata": {},
   "outputs": [
    {
     "name": "stdout",
     "output_type": "stream",
     "text": [
      "<class 'pandas.core.frame.DataFrame'>\n",
      "RangeIndex: 16715 entries, 0 to 16714\n",
      "Data columns (total 3 columns):\n",
      " #   Column           Non-Null Count  Dtype \n",
      "---  ------           --------------  ----- \n",
      " 0   name             16713 non-null  object\n",
      " 1   platform         16715 non-null  object\n",
      " 2   year_of_release  16446 non-null  Int64 \n",
      "dtypes: Int64(1), object(2)\n",
      "memory usage: 408.2+ KB\n"
     ]
    }
   ],
   "source": [
    "games_date_part = games_data.loc[:, 'name':'year_of_release']\n",
    "games_date_part.drop_duplicates()\n",
    "games_date_part.info()"
   ]
  },
  {
   "cell_type": "markdown",
   "metadata": {},
   "source": [
    "В результате данного этапа были выполнены следующие действия:\n",
    "\n",
    "1) Все столбцы приведены к нижнему регистру.\n",
    "\n",
    "2) Тип данных в столбцах с годом релиза был заменен на int.\n",
    "\n",
    "3) Рассмотрена аббревиатура tbd, выяснено, что она обозначет To Be Determind и пишется в случаях когда не набрано нужное количество отзывов. Данная аббревиатура была заменена на NaN, потому что для нас она несет ровно ту же информацию.\n",
    "\n",
    "4) Создан столбец с суммарными продажами во всех регионах. \n",
    "\n",
    "5) По характеры пропусков можно сделать следующие выводы. В столбцах critic_score и user_score пропуски связаны либо с банальным их отсутсвием, либо с тем, что игра выпущена во времена, когда сервисы с отзывами об играх не были так распространены. примерно тоже самое касается и столбца raiting в котором записан рейтинг ESRB, который используется для возрастных ограничений игры. Для заполнения пропусков в данных столбцах у нас недостаточно данных."
   ]
  },
  {
   "cell_type": "markdown",
   "metadata": {},
   "source": [
    "<h3>3. Исследовательский анализ данных<a class=\"tocSkip\"><.h3>"
   ]
  },
  {
   "cell_type": "code",
   "execution_count": 17,
   "metadata": {},
   "outputs": [
    {
     "data": {
      "text/plain": [
       "Text(0, 0.5, 'Количество выпущенных игр')"
      ]
     },
     "execution_count": 17,
     "metadata": {},
     "output_type": "execute_result"
    },
    {
     "data": {
      "image/png": "[encoded data removed]",
      "text/plain": [
       "<Figure size 936x504 with 1 Axes>"
      ]
     },
     "metadata": {
      "needs_background": "light"
     },
     "output_type": "display_data"
    }
   ],
   "source": [
    "games_by_each_year = games_data.pivot_table(index='year_of_release', values='name', aggfunc='count')\n",
    "plt.figure(figsize=(13,7))\n",
    "sns.lineplot(data=games_by_each_year)\n",
    "sns.set_style('darkgrid')\n",
    "plt.title(\"Количество игр по годам\")\n",
    "plt.xlabel(\"Год выпуска\")\n",
    "plt.ylabel(\"Количество выпущенных игр\")"
   ]
  },
  {
   "cell_type": "markdown",
   "metadata": {},
   "source": [
    "Из графика видно что начало стремительного роста количества выпущенных игр пришлось на 1993 год, явный пик можно увидеть в 2008-2009 годах после чего количество пошло на спад."
   ]
  },
  {
   "cell_type": "code",
   "execution_count": 18,
   "metadata": {},
   "outputs": [
    {
     "data": {
      "text/plain": [
       "Text(0, 0.5, 'Количество продаж')"
      ]
     },
     "execution_count": 18,
     "metadata": {},
     "output_type": "execute_result"
    },
    {
     "data": {
      "image/png": "[encoded data removed]",
      "text/plain": [
       "<Figure size 936x576 with 1 Axes>"
      ]
     },
     "metadata": {},
     "output_type": "display_data"
    }
   ],
   "source": [
    "sales_pivot_table = games_data.pivot_table(index='platform', values='total_sales', aggfunc='sum').sort_values(\n",
    "    by='total_sales')\n",
    "plt.figure(figsize=(13,8))\n",
    "sales_pivot_table['total_sales'].plot(kind='bar', title='Продажи по платформам за весь период')\n",
    "plt.xlabel(\"Название платформы\")\n",
    "plt.ylabel(\"Количество продаж\")"
   ]
  },
  {
   "cell_type": "markdown",
   "metadata": {},
   "source": [
    "Из графика видно, что самыми популярными платформами являются PS2, X360, PS3, WII, DS, PS. Но это данные за все годы, они могут быть не слишком актуальны сейчас."
   ]
  },
  {
   "cell_type": "code",
   "execution_count": 19,
   "metadata": {},
   "outputs": [
    {
     "data": {
      "image/png": "[encoded data removed]",
      "text/plain": [
       "<Figure size 864x216 with 1 Axes>"
      ]
     },
     "metadata": {},
     "output_type": "display_data"
    },
    {
     "data": {
      "image/png": "[encoded data removed]",
      "text/plain": [
       "<Figure size 864x216 with 1 Axes>"
      ]
     },
     "metadata": {},
     "output_type": "display_data"
    },
    {
     "data": {
      "image/png": "[encoded data removed]",
      "text/plain": [
       "<Figure size 864x216 with 1 Axes>"
      ]
     },
     "metadata": {},
     "output_type": "display_data"
    },
    {
     "data": {
      "image/png": "[encoded data removed]",
      "text/plain": [
       "<Figure size 864x216 with 1 Axes>"
      ]
     },
     "metadata": {},
     "output_type": "display_data"
    },
    {
     "data": {
      "image/png": "[encoded data removed]",
      "text/plain": [
       "<Figure size 864x216 with 1 Axes>"
      ]
     },
     "metadata": {},
     "output_type": "display_data"
    },
    {
     "data": {
      "image/png": "[encoded data removed]",
      "text/plain": [
       "<Figure size 864x216 with 1 Axes>"
      ]
     },
     "metadata": {},
     "output_type": "display_data"
    }
   ],
   "source": [
    "platform_grouped = sales_pivot_table[sales_pivot_table['total_sales'] > 600].reset_index()\n",
    "platforms_list = platform_grouped['platform'].unique()\n",
    "for platform in platforms_list:\n",
    "    games_data[games_data['platform'] == platform].pivot_table(index='year_of_release', values='total_sales', aggfunc='sum').plot(\n",
    "        kind='bar', figsize=(12,3), title=platform)"
   ]
  },
  {
   "cell_type": "markdown",
   "metadata": {},
   "source": [
    "Исходя из полученных графиков средний период \"жизни\" платфомы 7-10 лет. "
   ]
  },
  {
   "cell_type": "markdown",
   "metadata": {},
   "source": [
    "Теперь следует определить, что мы будем считать **актуальным периодом**. Мне кажется, что следует брать года после 2012, потому что, как было отмечено ранее, именно в эти года пошел спад количества выпущенных игр, а значит сменилась реальность, которая стала наиболее близка к настоящему времени. Также, что немаловажно 2012 год не так далек от нынешнего времени, а значит платформы актуальные тогда, зачастую актуальны и на данный момент."
   ]
  },
  {
   "cell_type": "code",
   "execution_count": 20,
   "metadata": {},
   "outputs": [
    {
     "data": {
      "text/html": [
       "<div>\n",
       "<style scoped>\n",
       "    .dataframe tbody tr th:only-of-type {\n",
       "        vertical-align: middle;\n",
       "    }\n",
       "\n",
       "    .dataframe tbody tr th {\n",
       "        vertical-align: top;\n",
       "    }\n",
       "\n",
       "    .dataframe thead th {\n",
       "        text-align: right;\n",
       "    }\n",
       "</style>\n",
       "<table border=\"1\" class=\"dataframe\">\n",
       "  <thead>\n",
       "    <tr style=\"text-align: right;\">\n",
       "      <th></th>\n",
       "      <th>name</th>\n",
       "      <th>platform</th>\n",
       "      <th>year_of_release</th>\n",
       "      <th>genre</th>\n",
       "      <th>na_sales</th>\n",
       "      <th>eu_sales</th>\n",
       "      <th>jp_sales</th>\n",
       "      <th>other_sales</th>\n",
       "      <th>critic_score</th>\n",
       "      <th>user_score</th>\n",
       "      <th>rating</th>\n",
       "      <th>total_sales</th>\n",
       "    </tr>\n",
       "  </thead>\n",
       "  <tbody>\n",
       "    <tr>\n",
       "      <th>16</th>\n",
       "      <td>Grand Theft Auto V</td>\n",
       "      <td>PS3</td>\n",
       "      <td>2013</td>\n",
       "      <td>Action</td>\n",
       "      <td>7.02</td>\n",
       "      <td>9.09</td>\n",
       "      <td>0.98</td>\n",
       "      <td>3.96</td>\n",
       "      <td>97.0</td>\n",
       "      <td>8.2</td>\n",
       "      <td>M</td>\n",
       "      <td>21.05</td>\n",
       "    </tr>\n",
       "    <tr>\n",
       "      <th>23</th>\n",
       "      <td>Grand Theft Auto V</td>\n",
       "      <td>X360</td>\n",
       "      <td>2013</td>\n",
       "      <td>Action</td>\n",
       "      <td>9.66</td>\n",
       "      <td>5.14</td>\n",
       "      <td>0.06</td>\n",
       "      <td>1.41</td>\n",
       "      <td>97.0</td>\n",
       "      <td>8.1</td>\n",
       "      <td>M</td>\n",
       "      <td>16.27</td>\n",
       "    </tr>\n",
       "    <tr>\n",
       "      <th>31</th>\n",
       "      <td>Call of Duty: Black Ops 3</td>\n",
       "      <td>PS4</td>\n",
       "      <td>2015</td>\n",
       "      <td>Shooter</td>\n",
       "      <td>6.03</td>\n",
       "      <td>5.86</td>\n",
       "      <td>0.36</td>\n",
       "      <td>2.38</td>\n",
       "      <td>NaN</td>\n",
       "      <td>NaN</td>\n",
       "      <td>NaN</td>\n",
       "      <td>14.63</td>\n",
       "    </tr>\n",
       "    <tr>\n",
       "      <th>33</th>\n",
       "      <td>Pokemon X/Pokemon Y</td>\n",
       "      <td>3DS</td>\n",
       "      <td>2013</td>\n",
       "      <td>Role-Playing</td>\n",
       "      <td>5.28</td>\n",
       "      <td>4.19</td>\n",
       "      <td>4.35</td>\n",
       "      <td>0.78</td>\n",
       "      <td>NaN</td>\n",
       "      <td>NaN</td>\n",
       "      <td>NaN</td>\n",
       "      <td>14.60</td>\n",
       "    </tr>\n",
       "    <tr>\n",
       "      <th>42</th>\n",
       "      <td>Grand Theft Auto V</td>\n",
       "      <td>PS4</td>\n",
       "      <td>2014</td>\n",
       "      <td>Action</td>\n",
       "      <td>3.96</td>\n",
       "      <td>6.31</td>\n",
       "      <td>0.38</td>\n",
       "      <td>1.97</td>\n",
       "      <td>97.0</td>\n",
       "      <td>8.3</td>\n",
       "      <td>M</td>\n",
       "      <td>12.62</td>\n",
       "    </tr>\n",
       "  </tbody>\n",
       "</table>\n",
       "</div>"
      ],
      "text/plain": [
       "                         name platform  year_of_release         genre  \\\n",
       "16         Grand Theft Auto V      PS3             2013        Action   \n",
       "23         Grand Theft Auto V     X360             2013        Action   \n",
       "31  Call of Duty: Black Ops 3      PS4             2015       Shooter   \n",
       "33        Pokemon X/Pokemon Y      3DS             2013  Role-Playing   \n",
       "42         Grand Theft Auto V      PS4             2014        Action   \n",
       "\n",
       "    na_sales  eu_sales  jp_sales  other_sales  critic_score  user_score  \\\n",
       "16      7.02      9.09      0.98         3.96          97.0         8.2   \n",
       "23      9.66      5.14      0.06         1.41          97.0         8.1   \n",
       "31      6.03      5.86      0.36         2.38           NaN         NaN   \n",
       "33      5.28      4.19      4.35         0.78           NaN         NaN   \n",
       "42      3.96      6.31      0.38         1.97          97.0         8.3   \n",
       "\n",
       "   rating  total_sales  \n",
       "16      M        21.05  \n",
       "23      M        16.27  \n",
       "31    NaN        14.63  \n",
       "33    NaN        14.60  \n",
       "42      M        12.62  "
      ]
     },
     "execution_count": 20,
     "metadata": {},
     "output_type": "execute_result"
    }
   ],
   "source": [
    "actual_period_data = games_data[games_data['year_of_release'] > 2012]\n",
    "actual_period_data.head()"
   ]
  },
  {
   "cell_type": "markdown",
   "metadata": {},
   "source": [
    "Определим самые актуальные на данный момент платформы."
   ]
  },
  {
   "cell_type": "code",
   "execution_count": 21,
   "metadata": {},
   "outputs": [
    {
     "data": {
      "text/html": [
       "<div>\n",
       "<style scoped>\n",
       "    .dataframe tbody tr th:only-of-type {\n",
       "        vertical-align: middle;\n",
       "    }\n",
       "\n",
       "    .dataframe tbody tr th {\n",
       "        vertical-align: top;\n",
       "    }\n",
       "\n",
       "    .dataframe thead th {\n",
       "        text-align: right;\n",
       "    }\n",
       "</style>\n",
       "<table border=\"1\" class=\"dataframe\">\n",
       "  <thead>\n",
       "    <tr style=\"text-align: right;\">\n",
       "      <th></th>\n",
       "      <th></th>\n",
       "      <th>total_sales</th>\n",
       "    </tr>\n",
       "    <tr>\n",
       "      <th>platform</th>\n",
       "      <th>year_of_release</th>\n",
       "      <th></th>\n",
       "    </tr>\n",
       "  </thead>\n",
       "  <tbody>\n",
       "    <tr>\n",
       "      <th rowspan=\"4\" valign=\"top\">3DS</th>\n",
       "      <th>2013</th>\n",
       "      <td>56.57</td>\n",
       "    </tr>\n",
       "    <tr>\n",
       "      <th>2014</th>\n",
       "      <td>43.76</td>\n",
       "    </tr>\n",
       "    <tr>\n",
       "      <th>2015</th>\n",
       "      <td>27.78</td>\n",
       "    </tr>\n",
       "    <tr>\n",
       "      <th>2016</th>\n",
       "      <td>15.14</td>\n",
       "    </tr>\n",
       "    <tr>\n",
       "      <th>DS</th>\n",
       "      <th>2013</th>\n",
       "      <td>1.54</td>\n",
       "    </tr>\n",
       "    <tr>\n",
       "      <th rowspan=\"4\" valign=\"top\">PC</th>\n",
       "      <th>2013</th>\n",
       "      <td>12.38</td>\n",
       "    </tr>\n",
       "    <tr>\n",
       "      <th>2014</th>\n",
       "      <td>13.28</td>\n",
       "    </tr>\n",
       "    <tr>\n",
       "      <th>2015</th>\n",
       "      <td>8.52</td>\n",
       "    </tr>\n",
       "    <tr>\n",
       "      <th>2016</th>\n",
       "      <td>5.25</td>\n",
       "    </tr>\n",
       "    <tr>\n",
       "      <th rowspan=\"4\" valign=\"top\">PS3</th>\n",
       "      <th>2013</th>\n",
       "      <td>113.25</td>\n",
       "    </tr>\n",
       "    <tr>\n",
       "      <th>2014</th>\n",
       "      <td>47.76</td>\n",
       "    </tr>\n",
       "    <tr>\n",
       "      <th>2015</th>\n",
       "      <td>16.82</td>\n",
       "    </tr>\n",
       "    <tr>\n",
       "      <th>2016</th>\n",
       "      <td>3.60</td>\n",
       "    </tr>\n",
       "    <tr>\n",
       "      <th rowspan=\"4\" valign=\"top\">PS4</th>\n",
       "      <th>2013</th>\n",
       "      <td>25.99</td>\n",
       "    </tr>\n",
       "    <tr>\n",
       "      <th>2014</th>\n",
       "      <td>100.00</td>\n",
       "    </tr>\n",
       "    <tr>\n",
       "      <th>2015</th>\n",
       "      <td>118.90</td>\n",
       "    </tr>\n",
       "    <tr>\n",
       "      <th>2016</th>\n",
       "      <td>69.25</td>\n",
       "    </tr>\n",
       "    <tr>\n",
       "      <th rowspan=\"3\" valign=\"top\">PSP</th>\n",
       "      <th>2013</th>\n",
       "      <td>3.14</td>\n",
       "    </tr>\n",
       "    <tr>\n",
       "      <th>2014</th>\n",
       "      <td>0.24</td>\n",
       "    </tr>\n",
       "    <tr>\n",
       "      <th>2015</th>\n",
       "      <td>0.12</td>\n",
       "    </tr>\n",
       "    <tr>\n",
       "      <th rowspan=\"4\" valign=\"top\">PSV</th>\n",
       "      <th>2013</th>\n",
       "      <td>10.59</td>\n",
       "    </tr>\n",
       "    <tr>\n",
       "      <th>2014</th>\n",
       "      <td>11.90</td>\n",
       "    </tr>\n",
       "    <tr>\n",
       "      <th>2015</th>\n",
       "      <td>6.25</td>\n",
       "    </tr>\n",
       "    <tr>\n",
       "      <th>2016</th>\n",
       "      <td>4.25</td>\n",
       "    </tr>\n",
       "    <tr>\n",
       "      <th rowspan=\"4\" valign=\"top\">Wii</th>\n",
       "      <th>2013</th>\n",
       "      <td>8.59</td>\n",
       "    </tr>\n",
       "    <tr>\n",
       "      <th>2014</th>\n",
       "      <td>3.75</td>\n",
       "    </tr>\n",
       "    <tr>\n",
       "      <th>2015</th>\n",
       "      <td>1.14</td>\n",
       "    </tr>\n",
       "    <tr>\n",
       "      <th>2016</th>\n",
       "      <td>0.18</td>\n",
       "    </tr>\n",
       "    <tr>\n",
       "      <th rowspan=\"4\" valign=\"top\">WiiU</th>\n",
       "      <th>2013</th>\n",
       "      <td>21.65</td>\n",
       "    </tr>\n",
       "    <tr>\n",
       "      <th>2014</th>\n",
       "      <td>22.03</td>\n",
       "    </tr>\n",
       "    <tr>\n",
       "      <th>2015</th>\n",
       "      <td>16.35</td>\n",
       "    </tr>\n",
       "    <tr>\n",
       "      <th>2016</th>\n",
       "      <td>4.60</td>\n",
       "    </tr>\n",
       "    <tr>\n",
       "      <th rowspan=\"4\" valign=\"top\">X360</th>\n",
       "      <th>2013</th>\n",
       "      <td>88.58</td>\n",
       "    </tr>\n",
       "    <tr>\n",
       "      <th>2014</th>\n",
       "      <td>34.74</td>\n",
       "    </tr>\n",
       "    <tr>\n",
       "      <th>2015</th>\n",
       "      <td>11.96</td>\n",
       "    </tr>\n",
       "    <tr>\n",
       "      <th>2016</th>\n",
       "      <td>1.52</td>\n",
       "    </tr>\n",
       "    <tr>\n",
       "      <th rowspan=\"4\" valign=\"top\">XOne</th>\n",
       "      <th>2013</th>\n",
       "      <td>18.96</td>\n",
       "    </tr>\n",
       "    <tr>\n",
       "      <th>2014</th>\n",
       "      <td>54.07</td>\n",
       "    </tr>\n",
       "    <tr>\n",
       "      <th>2015</th>\n",
       "      <td>60.14</td>\n",
       "    </tr>\n",
       "    <tr>\n",
       "      <th>2016</th>\n",
       "      <td>26.15</td>\n",
       "    </tr>\n",
       "  </tbody>\n",
       "</table>\n",
       "</div>"
      ],
      "text/plain": [
       "                          total_sales\n",
       "platform year_of_release             \n",
       "3DS      2013                   56.57\n",
       "         2014                   43.76\n",
       "         2015                   27.78\n",
       "         2016                   15.14\n",
       "DS       2013                    1.54\n",
       "PC       2013                   12.38\n",
       "         2014                   13.28\n",
       "         2015                    8.52\n",
       "         2016                    5.25\n",
       "PS3      2013                  113.25\n",
       "         2014                   47.76\n",
       "         2015                   16.82\n",
       "         2016                    3.60\n",
       "PS4      2013                   25.99\n",
       "         2014                  100.00\n",
       "         2015                  118.90\n",
       "         2016                   69.25\n",
       "PSP      2013                    3.14\n",
       "         2014                    0.24\n",
       "         2015                    0.12\n",
       "PSV      2013                   10.59\n",
       "         2014                   11.90\n",
       "         2015                    6.25\n",
       "         2016                    4.25\n",
       "Wii      2013                    8.59\n",
       "         2014                    3.75\n",
       "         2015                    1.14\n",
       "         2016                    0.18\n",
       "WiiU     2013                   21.65\n",
       "         2014                   22.03\n",
       "         2015                   16.35\n",
       "         2016                    4.60\n",
       "X360     2013                   88.58\n",
       "         2014                   34.74\n",
       "         2015                   11.96\n",
       "         2016                    1.52\n",
       "XOne     2013                   18.96\n",
       "         2014                   54.07\n",
       "         2015                   60.14\n",
       "         2016                   26.15"
      ]
     },
     "execution_count": 21,
     "metadata": {},
     "output_type": "execute_result"
    }
   ],
   "source": [
    "best_platforms = pd.pivot_table(actual_period_data, index=['platform','year_of_release'], \n",
    "                                     values='total_sales', aggfunc = 'sum')\n",
    "best_platforms"
   ]
  },
  {
   "cell_type": "markdown",
   "metadata": {},
   "source": [
    "По этим данным видно, что актуальными платформами с хорошими продажами можно считать - PS4, PS3, XOne, X360 и 3DS.\n",
    "\n",
    "PS4 растет по продажам и точно не достигла своего пика.\n",
    "\n",
    "PS3 пережила свой рассвет, но все еще актуальна.\n",
    "\n",
    "XOne еще будет расти в будущем, так как является самой новой консолью своей линейки.\n",
    "\n",
    "X360 переживает падение, но все еще актуален.\n",
    "\n",
    "3DS переживает падение, но все еще актуален."
   ]
  },
  {
   "cell_type": "code",
   "execution_count": 22,
   "metadata": {
    "scrolled": true
   },
   "outputs": [
    {
     "data": {
      "text/plain": [
       "Text(0.5, 0.94, 'Продажи на топовых платформах')"
      ]
     },
     "execution_count": 22,
     "metadata": {},
     "output_type": "execute_result"
    },
    {
     "data": {
      "image/png": "[encoded data removed]",
      "text/plain": [
       "<Figure size 1800x1080 with 1 Axes>"
      ]
     },
     "metadata": {},
     "output_type": "display_data"
    }
   ],
   "source": [
    "top_platforms = ['PS4', 'X360', 'PS3', 'DS', 'XOne']\n",
    "df_query = actual_period_data.query('platform in @top_platforms')\n",
    "by_column = 'platform in @top_platforms'.split()[0]\n",
    "ax = df_query.boxplot(column='total_sales', by=by_column, fontsize=25, figsize=(25,15),\n",
    "                                         boxprops=dict(linestyle='-', linewidth=5),\n",
    "                                         medianprops=dict(linestyle='-', linewidth=5),\n",
    "                                         whiskerprops=dict(linestyle='-', linewidth=5),\n",
    "                                         capprops=dict(linestyle='-', linewidth=5),\n",
    "                                         notch=True)\n",
    "ax.set_xlabel('')\n",
    "ax.set_title('')\n",
    "ax.set_ylim([0, 3])\n",
    "plt.suptitle('Продажи на топовых платформах', y=0.94, fontsize=25, fontweight='bold')"
   ]
  },
  {
   "cell_type": "code",
   "execution_count": 23,
   "metadata": {},
   "outputs": [
    {
     "name": "stdout",
     "output_type": "stream",
     "text": [
      "count    8.000000\n",
      "mean     0.192500\n",
      "std      0.172026\n",
      "min      0.030000\n",
      "25%      0.067500\n",
      "50%      0.150000\n",
      "75%      0.252500\n",
      "max      0.510000\n",
      "Name: total_sales, dtype: float64\n",
      "count    345.000000\n",
      "mean       0.525884\n",
      "std        1.451939\n",
      "min        0.010000\n",
      "25%        0.040000\n",
      "50%        0.150000\n",
      "75%        0.510000\n",
      "max       21.050000\n",
      "Name: total_sales, dtype: float64\n",
      "count    392.000000\n",
      "mean       0.801378\n",
      "std        1.609456\n",
      "min        0.010000\n",
      "25%        0.060000\n",
      "50%        0.200000\n",
      "75%        0.730000\n",
      "max       14.630000\n",
      "Name: total_sales, dtype: float64\n",
      "count    186.000000\n",
      "mean       0.735484\n",
      "std        1.663275\n",
      "min        0.010000\n",
      "25%        0.080000\n",
      "50%        0.265000\n",
      "75%        0.795000\n",
      "max       16.270000\n",
      "Name: total_sales, dtype: float64\n"
     ]
    },
    {
     "data": {
      "text/plain": [
       "count    247.000000\n",
       "mean       0.645020\n",
       "std        1.036139\n",
       "min        0.010000\n",
       "25%        0.060000\n",
       "50%        0.220000\n",
       "75%        0.685000\n",
       "max        7.390000\n",
       "Name: total_sales, dtype: float64"
      ]
     },
     "execution_count": 23,
     "metadata": {},
     "output_type": "execute_result"
    }
   ],
   "source": [
    "print(actual_period_data.query('platform ==\"DS\"')['total_sales'].describe())\n",
    "print(actual_period_data.query('platform ==\"PS3\"')['total_sales'].describe())\n",
    "print(actual_period_data.query('platform ==\"PS4\"')['total_sales'].describe())\n",
    "print(actual_period_data.query('platform ==\"X360\"')['total_sales'].describe())\n",
    "actual_period_data.query('platform ==\"XOne\"')['total_sales'].describe()"
   ]
  },
  {
   "cell_type": "markdown",
   "metadata": {},
   "source": [
    "Разброс наблюдается в каждом из построенных графиков, это связано с тем, что есть очень успешные игры, но такие мало, а вот неуспешных - сотни.\n",
    "\n",
    "Основные данные:\n",
    "\n",
    "Средняя выручка за игру на PS4 - 200 тысяч долларов(берем медиану, чтобы выбросы сильно не влияли на результат),  максимум - 14 миллионов долларов.\n",
    "\n",
    "Средняя выручка за игру на PS3 - 150 тысяч долларов(берем медиану, чтобы выбросы сильно не влияли на результат),  максимум - 21 миллионов долларов.\n",
    "\n",
    "Средняя выручка за игру на PS4 - 220 тысяч долларов(берем медиану, чтобы выбросы сильно не влияли на результат),  максимум - 7.3 миллионов долларов.\n",
    "\n",
    "Средняя выручка за игру на PS4 - 265 тысяч долларов(берем медиану, чтобы выбросы сильно не влияли на результат),  максимум - 16 миллионов долларов.\n",
    "\n",
    "Средняя выручка за игру на PS4 - 90 тысяч долларов(берем медиану, чтобы выбросы сильно не влияли на результат),  максимум - 14.3 миллионов долларов."
   ]
  },
  {
   "cell_type": "code",
   "execution_count": 24,
   "metadata": {},
   "outputs": [
    {
     "data": {
      "text/plain": [
       "0.40656790206178095"
      ]
     },
     "execution_count": 24,
     "metadata": {},
     "output_type": "execute_result"
    },
    {
     "data": {
      "image/png": "[encoded data removed]",
      "text/plain": [
       "<Figure size 720x360 with 1 Axes>"
      ]
     },
     "metadata": {},
     "output_type": "display_data"
    }
   ],
   "source": [
    "games_ps4_critics = actual_period_data[(actual_period_data['platform'] == 'PS4') & (actual_period_data['critic_score'] > 0)].copy()\n",
    "games_ps4_critics.plot(kind='scatter', x='critic_score', y='total_sales', figsize=(10,5), title='Зависимость количества продаж от оценок критиков')\n",
    "plt.xlabel(\"Оценка критиков\")\n",
    "plt.ylabel(\"Количество продаж\")\n",
    "games_ps4_critics['critic_score'].corr(games_ps4_critics['total_sales'])"
   ]
  },
  {
   "cell_type": "markdown",
   "metadata": {},
   "source": [
    "Можно заметить четкую связь между оценкой критиков и успешностью игры. Оно и понятно - чем качественнее игра, тем она более успешна."
   ]
  },
  {
   "cell_type": "code",
   "execution_count": 25,
   "metadata": {},
   "outputs": [
    {
     "data": {
      "text/plain": [
       "-0.031957110204556376"
      ]
     },
     "execution_count": 25,
     "metadata": {},
     "output_type": "execute_result"
    },
    {
     "data": {
      "image/png": "[encoded data removed]",
      "text/plain": [
       "<Figure size 720x360 with 1 Axes>"
      ]
     },
     "metadata": {},
     "output_type": "display_data"
    }
   ],
   "source": [
    "games_ps4_users = actual_period_data[(actual_period_data['platform'] == 'PS4') & (actual_period_data['user_score'] > 0)].copy()\n",
    "games_ps4_users.plot(kind='scatter', x='user_score', y='total_sales', figsize=(10,5), title='Зависимость количества продаж от оценок пользователей')\n",
    "plt.xlabel(\"Оценка пользователей\")\n",
    "plt.ylabel(\"Количество продаж\")\n",
    "games_ps4_users['user_score'].corr(games_ps4_users['total_sales'])"
   ]
  },
  {
   "cell_type": "markdown",
   "metadata": {},
   "source": [
    "С оценками пользовтелей не все так одназначно, как с критиками, потому что оценка пользователей, хоть и часто, но не всегда отражает раельное качество проекта. Игра может просто не понравиться и пользователь сразу ставит низкую оценку, хотя игра и не так плоха."
   ]
  },
  {
   "cell_type": "code",
   "execution_count": 26,
   "metadata": {},
   "outputs": [
    {
     "name": "stdout",
     "output_type": "stream",
     "text": [
      "PS3 и отзывы критиков - 0.3342853393371919\n",
      "PS3 и отзывы пользователей - 0.0023944027357566925\n",
      "XOne и отзывы критиков - 0.4169983280084017\n",
      "XOne и отзывы пользователей - -0.06892505328279414\n",
      "X360 и отзывы критиков - 0.3503445460228664\n",
      "X360 и отзывы пользователей - -0.011742185147181342\n",
      "3DS и отзывы критиков - 0.3570566142288103\n",
      "3DS и отзывы пользователей - 0.24150411773563016\n"
     ]
    },
    {
     "data": {
      "image/png": "[encoded data removed]",
      "text/plain": [
       "<Figure size 720x360 with 1 Axes>"
      ]
     },
     "metadata": {},
     "output_type": "display_data"
    },
    {
     "data": {
      "image/png": "[encoded data removed]",
      "text/plain": [
       "<Figure size 720x360 with 1 Axes>"
      ]
     },
     "metadata": {},
     "output_type": "display_data"
    },
    {
     "data": {
      "image/png": "[encoded data removed]",
      "text/plain": [
       "<Figure size 720x360 with 1 Axes>"
      ]
     },
     "metadata": {},
     "output_type": "display_data"
    },
    {
     "data": {
      "image/png": "[encoded data removed]",
      "text/plain": [
       "<Figure size 720x360 with 1 Axes>"
      ]
     },
     "metadata": {},
     "output_type": "display_data"
    },
    {
     "data": {
      "image/png": "[encoded data removed]",
      "text/plain": [
       "<Figure size 720x360 with 1 Axes>"
      ]
     },
     "metadata": {},
     "output_type": "display_data"
    },
    {
     "data": {
      "image/png": "[encoded data removed]",
      "text/plain": [
       "<Figure size 720x360 with 1 Axes>"
      ]
     },
     "metadata": {},
     "output_type": "display_data"
    },
    {
     "data": {
      "image/png": "[encoded data removed]",
      "text/plain": [
       "<Figure size 720x360 with 1 Axes>"
      ]
     },
     "metadata": {},
     "output_type": "display_data"
    },
    {
     "data": {
      "image/png": "[encoded data removed]",
      "text/plain": [
       "<Figure size 720x360 with 1 Axes>"
      ]
     },
     "metadata": {},
     "output_type": "display_data"
    }
   ],
   "source": [
    "topp_platforms = ['PS3', 'XOne', 'X360', '3DS']\n",
    "for platform in topp_platforms:\n",
    "    games_critics = actual_period_data[(actual_period_data['platform'] == platform) & (actual_period_data['critic_score'] > 0)].copy()\n",
    "    games_users = actual_period_data[(actual_period_data['platform'] == platform) & (actual_period_data['user_score'] > 0)].copy()\n",
    "    title1 = 'Зависимость количества продаж от оценок критиков у ' + platform\n",
    "    title2 = 'Зависимость количества продаж от пользователей у ' + platform\n",
    "    games_critics.plot(kind='scatter', x='critic_score', y='total_sales', figsize=(10,5), title=title1)\n",
    "    plt.xlabel(\"Оценка критиков\")\n",
    "    plt.ylabel(\"Количество продаж\")\n",
    "    print(platform, 'и отзывы критиков -', games_critics['critic_score'].corr(games_critics['total_sales']))\n",
    "    games_users.plot(kind='scatter', x='user_score', y='total_sales', figsize=(10,5), title=title2)\n",
    "    print(platform, 'и отзывы пользователей -', games_users['user_score'].corr(games_users['total_sales']))\n",
    "    plt.xlabel(\"Оценка пользователей\")\n",
    "    plt.ylabel(\"Количество продаж\")"
   ]
  },
  {
   "cell_type": "markdown",
   "metadata": {},
   "source": [
    "Рассмотрев корреляцию на других платформах мы видим такую же ситуацию, что и на PS4."
   ]
  },
  {
   "cell_type": "code",
   "execution_count": 27,
   "metadata": {},
   "outputs": [
    {
     "data": {
      "text/html": [
       "<div>\n",
       "<style scoped>\n",
       "    .dataframe tbody tr th:only-of-type {\n",
       "        vertical-align: middle;\n",
       "    }\n",
       "\n",
       "    .dataframe tbody tr th {\n",
       "        vertical-align: top;\n",
       "    }\n",
       "\n",
       "    .dataframe thead th {\n",
       "        text-align: right;\n",
       "    }\n",
       "</style>\n",
       "<table border=\"1\" class=\"dataframe\">\n",
       "  <thead>\n",
       "    <tr style=\"text-align: right;\">\n",
       "      <th></th>\n",
       "      <th>total_sales</th>\n",
       "    </tr>\n",
       "    <tr>\n",
       "      <th>genre</th>\n",
       "      <th></th>\n",
       "    </tr>\n",
       "  </thead>\n",
       "  <tbody>\n",
       "    <tr>\n",
       "      <th>Shooter</th>\n",
       "      <td>0.450</td>\n",
       "    </tr>\n",
       "    <tr>\n",
       "      <th>Sports</th>\n",
       "      <td>0.240</td>\n",
       "    </tr>\n",
       "    <tr>\n",
       "      <th>Platform</th>\n",
       "      <td>0.225</td>\n",
       "    </tr>\n",
       "    <tr>\n",
       "      <th>Role-Playing</th>\n",
       "      <td>0.125</td>\n",
       "    </tr>\n",
       "    <tr>\n",
       "      <th>Fighting</th>\n",
       "      <td>0.125</td>\n",
       "    </tr>\n",
       "    <tr>\n",
       "      <th>Racing</th>\n",
       "      <td>0.120</td>\n",
       "    </tr>\n",
       "    <tr>\n",
       "      <th>Action</th>\n",
       "      <td>0.110</td>\n",
       "    </tr>\n",
       "    <tr>\n",
       "      <th>Simulation</th>\n",
       "      <td>0.100</td>\n",
       "    </tr>\n",
       "    <tr>\n",
       "      <th>Misc</th>\n",
       "      <td>0.100</td>\n",
       "    </tr>\n",
       "    <tr>\n",
       "      <th>Strategy</th>\n",
       "      <td>0.080</td>\n",
       "    </tr>\n",
       "    <tr>\n",
       "      <th>Puzzle</th>\n",
       "      <td>0.060</td>\n",
       "    </tr>\n",
       "    <tr>\n",
       "      <th>Adventure</th>\n",
       "      <td>0.030</td>\n",
       "    </tr>\n",
       "  </tbody>\n",
       "</table>\n",
       "</div>"
      ],
      "text/plain": [
       "              total_sales\n",
       "genre                    \n",
       "Shooter             0.450\n",
       "Sports              0.240\n",
       "Platform            0.225\n",
       "Role-Playing        0.125\n",
       "Fighting            0.125\n",
       "Racing              0.120\n",
       "Action              0.110\n",
       "Simulation          0.100\n",
       "Misc                0.100\n",
       "Strategy            0.080\n",
       "Puzzle              0.060\n",
       "Adventure           0.030"
      ]
     },
     "execution_count": 27,
     "metadata": {},
     "output_type": "execute_result"
    }
   ],
   "source": [
    "genre_pivot_table = pd.pivot_table(actual_period_data, index='genre', values='total_sales', aggfunc='median')\n",
    "genre_pivot_table.sort_values('total_sales', ascending=False)"
   ]
  },
  {
   "cell_type": "code",
   "execution_count": 28,
   "metadata": {},
   "outputs": [
    {
     "data": {
      "text/plain": [
       "<matplotlib.legend.Legend at 0x7f988b17f730>"
      ]
     },
     "execution_count": 28,
     "metadata": {},
     "output_type": "execute_result"
    },
    {
     "data": {
      "image/png": "[encoded data removed]",
      "text/plain": [
       "<Figure size 432x288 with 1 Axes>"
      ]
     },
     "metadata": {},
     "output_type": "display_data"
    }
   ],
   "source": [
    "genre_pivot_table.sort_values('total_sales', ascending=False).plot(kind='bar', title='Прибыльность различных жанров')\n",
    "plt.xlabel(\"Жанр\")\n",
    "plt.ylabel(\"Мидианное значение продаж\")\n",
    "plt.legend('')"
   ]
  },
  {
   "cell_type": "markdown",
   "metadata": {},
   "source": [
    "Самыми прибыльными жанрами можно считать экшн, шутеры, спортивные и ролевые игры. \n",
    "\n",
    "Экшн и шутеры зачастую очень динамичные игры целевая аудитория, которых многочисленна.\n",
    "\n",
    "Спортивные игры в большинстве случаев позволяют играть небольшой компанией, что вызывает заинтересованность и спрос.\n",
    "\n",
    "Ролевые игры зачастую привлекают своей атмосферностью и хардкором.\n",
    "\n",
    "У остальных игр также присутсвует целевая аудитория, но она не так велика как у вышеперечисленных жанров."
   ]
  },
  {
   "cell_type": "markdown",
   "metadata": {},
   "source": [
    "**Вывод:**\n",
    "\n",
    "Были выделены и проанализированы самые актуальные платформы и временной промежуток. Для этих параметров были рассмотрены различные зависимость и было выяснено:\n",
    "\n",
    "1) Средняя продолжительность \"жизни\" платформы - 7-10 лет\n",
    "\n",
    "2) Самыми актуальными и перспективными платформами являются - PS4, PS3, XOne, X360 и 3DS.\n",
    "\n",
    "3) Средняя и максимальная выручка каждой платформы.\n",
    "\n",
    "4) Успешность проектов на каждой платформе сильно коррелирует с оценками критиков и в меньшей степени с оценками пользователей.\n",
    "\n",
    "5) Самыми прибыльными жанрами можно считать экшн, шутеры, спортивные и ролевые игры."
   ]
  },
  {
   "cell_type": "markdown",
   "metadata": {},
   "source": [
    "<h3>4. Составление портрета пользователя каждого региона<a class=\"tocSkip\"><.h3>"
   ]
  },
  {
   "cell_type": "code",
   "execution_count": 29,
   "metadata": {},
   "outputs": [
    {
     "data": {
      "text/html": [
       "<div>\n",
       "<style scoped>\n",
       "    .dataframe tbody tr th:only-of-type {\n",
       "        vertical-align: middle;\n",
       "    }\n",
       "\n",
       "    .dataframe tbody tr th {\n",
       "        vertical-align: top;\n",
       "    }\n",
       "\n",
       "    .dataframe thead th {\n",
       "        text-align: right;\n",
       "    }\n",
       "</style>\n",
       "<table border=\"1\" class=\"dataframe\">\n",
       "  <thead>\n",
       "    <tr style=\"text-align: right;\">\n",
       "      <th></th>\n",
       "      <th>na_sales</th>\n",
       "    </tr>\n",
       "    <tr>\n",
       "      <th>platform</th>\n",
       "      <th></th>\n",
       "    </tr>\n",
       "  </thead>\n",
       "  <tbody>\n",
       "    <tr>\n",
       "      <th>PS4</th>\n",
       "      <td>108.74</td>\n",
       "    </tr>\n",
       "    <tr>\n",
       "      <th>XOne</th>\n",
       "      <td>93.12</td>\n",
       "    </tr>\n",
       "    <tr>\n",
       "      <th>X360</th>\n",
       "      <td>81.66</td>\n",
       "    </tr>\n",
       "    <tr>\n",
       "      <th>PS3</th>\n",
       "      <td>63.50</td>\n",
       "    </tr>\n",
       "    <tr>\n",
       "      <th>3DS</th>\n",
       "      <td>38.20</td>\n",
       "    </tr>\n",
       "    <tr>\n",
       "      <th>WiiU</th>\n",
       "      <td>29.21</td>\n",
       "    </tr>\n",
       "    <tr>\n",
       "      <th>PC</th>\n",
       "      <td>11.11</td>\n",
       "    </tr>\n",
       "    <tr>\n",
       "      <th>Wii</th>\n",
       "      <td>6.56</td>\n",
       "    </tr>\n",
       "    <tr>\n",
       "      <th>PSV</th>\n",
       "      <td>5.04</td>\n",
       "    </tr>\n",
       "    <tr>\n",
       "      <th>DS</th>\n",
       "      <td>0.57</td>\n",
       "    </tr>\n",
       "    <tr>\n",
       "      <th>PSP</th>\n",
       "      <td>0.00</td>\n",
       "    </tr>\n",
       "  </tbody>\n",
       "</table>\n",
       "</div>"
      ],
      "text/plain": [
       "          na_sales\n",
       "platform          \n",
       "PS4         108.74\n",
       "XOne         93.12\n",
       "X360         81.66\n",
       "PS3          63.50\n",
       "3DS          38.20\n",
       "WiiU         29.21\n",
       "PC           11.11\n",
       "Wii           6.56\n",
       "PSV           5.04\n",
       "DS            0.57\n",
       "PSP           0.00"
      ]
     },
     "execution_count": 29,
     "metadata": {},
     "output_type": "execute_result"
    }
   ],
   "source": [
    "# код ревьюера\n",
    "pd.pivot_table(actual_period_data, index='platform', values='na_sales',\n",
    "                                        aggfunc='sum').sort_values('na_sales', ascending=False)"
   ]
  },
  {
   "cell_type": "code",
   "execution_count": 30,
   "metadata": {},
   "outputs": [
    {
     "data": {
      "text/html": [
       "<div>\n",
       "<style scoped>\n",
       "    .dataframe tbody tr th:only-of-type {\n",
       "        vertical-align: middle;\n",
       "    }\n",
       "\n",
       "    .dataframe tbody tr th {\n",
       "        vertical-align: top;\n",
       "    }\n",
       "\n",
       "    .dataframe thead th {\n",
       "        text-align: right;\n",
       "    }\n",
       "</style>\n",
       "<table border=\"1\" class=\"dataframe\">\n",
       "  <thead>\n",
       "    <tr style=\"text-align: right;\">\n",
       "      <th></th>\n",
       "      <th>na_sales</th>\n",
       "    </tr>\n",
       "    <tr>\n",
       "      <th>platform</th>\n",
       "      <th></th>\n",
       "    </tr>\n",
       "  </thead>\n",
       "  <tbody>\n",
       "    <tr>\n",
       "      <th>X360</th>\n",
       "      <td>0.150</td>\n",
       "    </tr>\n",
       "    <tr>\n",
       "      <th>XOne</th>\n",
       "      <td>0.120</td>\n",
       "    </tr>\n",
       "    <tr>\n",
       "      <th>WiiU</th>\n",
       "      <td>0.090</td>\n",
       "    </tr>\n",
       "    <tr>\n",
       "      <th>PS4</th>\n",
       "      <td>0.060</td>\n",
       "    </tr>\n",
       "    <tr>\n",
       "      <th>Wii</th>\n",
       "      <td>0.040</td>\n",
       "    </tr>\n",
       "    <tr>\n",
       "      <th>PS3</th>\n",
       "      <td>0.030</td>\n",
       "    </tr>\n",
       "    <tr>\n",
       "      <th>DS</th>\n",
       "      <td>0.015</td>\n",
       "    </tr>\n",
       "    <tr>\n",
       "      <th>3DS</th>\n",
       "      <td>0.000</td>\n",
       "    </tr>\n",
       "    <tr>\n",
       "      <th>PC</th>\n",
       "      <td>0.000</td>\n",
       "    </tr>\n",
       "    <tr>\n",
       "      <th>PSP</th>\n",
       "      <td>0.000</td>\n",
       "    </tr>\n",
       "    <tr>\n",
       "      <th>PSV</th>\n",
       "      <td>0.000</td>\n",
       "    </tr>\n",
       "  </tbody>\n",
       "</table>\n",
       "</div>"
      ],
      "text/plain": [
       "          na_sales\n",
       "platform          \n",
       "X360         0.150\n",
       "XOne         0.120\n",
       "WiiU         0.090\n",
       "PS4          0.060\n",
       "Wii          0.040\n",
       "PS3          0.030\n",
       "DS           0.015\n",
       "3DS          0.000\n",
       "PC           0.000\n",
       "PSP          0.000\n",
       "PSV          0.000"
      ]
     },
     "execution_count": 30,
     "metadata": {},
     "output_type": "execute_result"
    },
    {
     "data": {
      "image/png": "[encoded data removed]",
      "text/plain": [
       "<Figure size 432x288 with 1 Axes>"
      ]
     },
     "metadata": {},
     "output_type": "display_data"
    }
   ],
   "source": [
    "na = pd.pivot_table(actual_period_data, index='platform', values='na_sales',\n",
    "                                        aggfunc='median').sort_values('na_sales', ascending=False)\n",
    "na.sort_values('na_sales', ascending=False).plot(kind='bar', title='Прибыльность различных платформ в NA')\n",
    "plt.xlabel(\"Платформа\")\n",
    "plt.ylabel(\"Медианное значение продаж\")\n",
    "plt.legend('')\n",
    "na"
   ]
  },
  {
   "cell_type": "code",
   "execution_count": 31,
   "metadata": {},
   "outputs": [
    {
     "data": {
      "text/html": [
       "<div>\n",
       "<style scoped>\n",
       "    .dataframe tbody tr th:only-of-type {\n",
       "        vertical-align: middle;\n",
       "    }\n",
       "\n",
       "    .dataframe tbody tr th {\n",
       "        vertical-align: top;\n",
       "    }\n",
       "\n",
       "    .dataframe thead th {\n",
       "        text-align: right;\n",
       "    }\n",
       "</style>\n",
       "<table border=\"1\" class=\"dataframe\">\n",
       "  <thead>\n",
       "    <tr style=\"text-align: right;\">\n",
       "      <th></th>\n",
       "      <th>eu_sales</th>\n",
       "    </tr>\n",
       "    <tr>\n",
       "      <th>platform</th>\n",
       "      <th></th>\n",
       "    </tr>\n",
       "  </thead>\n",
       "  <tbody>\n",
       "    <tr>\n",
       "      <th>Wii</th>\n",
       "      <td>0.100</td>\n",
       "    </tr>\n",
       "    <tr>\n",
       "      <th>DS</th>\n",
       "      <td>0.095</td>\n",
       "    </tr>\n",
       "    <tr>\n",
       "      <th>PS4</th>\n",
       "      <td>0.080</td>\n",
       "    </tr>\n",
       "    <tr>\n",
       "      <th>X360</th>\n",
       "      <td>0.080</td>\n",
       "    </tr>\n",
       "    <tr>\n",
       "      <th>WiiU</th>\n",
       "      <td>0.070</td>\n",
       "    </tr>\n",
       "    <tr>\n",
       "      <th>XOne</th>\n",
       "      <td>0.070</td>\n",
       "    </tr>\n",
       "    <tr>\n",
       "      <th>PC</th>\n",
       "      <td>0.060</td>\n",
       "    </tr>\n",
       "    <tr>\n",
       "      <th>PS3</th>\n",
       "      <td>0.020</td>\n",
       "    </tr>\n",
       "    <tr>\n",
       "      <th>3DS</th>\n",
       "      <td>0.000</td>\n",
       "    </tr>\n",
       "    <tr>\n",
       "      <th>PSP</th>\n",
       "      <td>0.000</td>\n",
       "    </tr>\n",
       "    <tr>\n",
       "      <th>PSV</th>\n",
       "      <td>0.000</td>\n",
       "    </tr>\n",
       "  </tbody>\n",
       "</table>\n",
       "</div>"
      ],
      "text/plain": [
       "          eu_sales\n",
       "platform          \n",
       "Wii          0.100\n",
       "DS           0.095\n",
       "PS4          0.080\n",
       "X360         0.080\n",
       "WiiU         0.070\n",
       "XOne         0.070\n",
       "PC           0.060\n",
       "PS3          0.020\n",
       "3DS          0.000\n",
       "PSP          0.000\n",
       "PSV          0.000"
      ]
     },
     "execution_count": 31,
     "metadata": {},
     "output_type": "execute_result"
    },
    {
     "data": {
      "image/png": "[encoded data removed]",
      "text/plain": [
       "<Figure size 432x288 with 1 Axes>"
      ]
     },
     "metadata": {},
     "output_type": "display_data"
    }
   ],
   "source": [
    "eu = pd.pivot_table(actual_period_data, index='platform', values='eu_sales',\n",
    "                                        aggfunc='median').sort_values('eu_sales', ascending=False)\n",
    "eu.sort_values('eu_sales', ascending=False).plot(kind='bar', title='Прибыльность различных платформ в EU')\n",
    "plt.xlabel(\"Платформа\")\n",
    "plt.ylabel(\"Медианное значение продаж\")\n",
    "plt.legend('')\n",
    "eu"
   ]
  },
  {
   "cell_type": "code",
   "execution_count": 32,
   "metadata": {},
   "outputs": [
    {
     "data": {
      "text/html": [
       "<div>\n",
       "<style scoped>\n",
       "    .dataframe tbody tr th:only-of-type {\n",
       "        vertical-align: middle;\n",
       "    }\n",
       "\n",
       "    .dataframe tbody tr th {\n",
       "        vertical-align: top;\n",
       "    }\n",
       "\n",
       "    .dataframe thead th {\n",
       "        text-align: right;\n",
       "    }\n",
       "</style>\n",
       "<table border=\"1\" class=\"dataframe\">\n",
       "  <thead>\n",
       "    <tr style=\"text-align: right;\">\n",
       "      <th></th>\n",
       "      <th>jp_sales</th>\n",
       "    </tr>\n",
       "    <tr>\n",
       "      <th>platform</th>\n",
       "      <th></th>\n",
       "    </tr>\n",
       "  </thead>\n",
       "  <tbody>\n",
       "    <tr>\n",
       "      <th>3DS</th>\n",
       "      <td>0.06</td>\n",
       "    </tr>\n",
       "    <tr>\n",
       "      <th>PS3</th>\n",
       "      <td>0.03</td>\n",
       "    </tr>\n",
       "    <tr>\n",
       "      <th>PSV</th>\n",
       "      <td>0.03</td>\n",
       "    </tr>\n",
       "    <tr>\n",
       "      <th>PSP</th>\n",
       "      <td>0.02</td>\n",
       "    </tr>\n",
       "    <tr>\n",
       "      <th>PS4</th>\n",
       "      <td>0.01</td>\n",
       "    </tr>\n",
       "    <tr>\n",
       "      <th>DS</th>\n",
       "      <td>0.00</td>\n",
       "    </tr>\n",
       "    <tr>\n",
       "      <th>PC</th>\n",
       "      <td>0.00</td>\n",
       "    </tr>\n",
       "    <tr>\n",
       "      <th>Wii</th>\n",
       "      <td>0.00</td>\n",
       "    </tr>\n",
       "    <tr>\n",
       "      <th>WiiU</th>\n",
       "      <td>0.00</td>\n",
       "    </tr>\n",
       "    <tr>\n",
       "      <th>X360</th>\n",
       "      <td>0.00</td>\n",
       "    </tr>\n",
       "    <tr>\n",
       "      <th>XOne</th>\n",
       "      <td>0.00</td>\n",
       "    </tr>\n",
       "  </tbody>\n",
       "</table>\n",
       "</div>"
      ],
      "text/plain": [
       "          jp_sales\n",
       "platform          \n",
       "3DS           0.06\n",
       "PS3           0.03\n",
       "PSV           0.03\n",
       "PSP           0.02\n",
       "PS4           0.01\n",
       "DS            0.00\n",
       "PC            0.00\n",
       "Wii           0.00\n",
       "WiiU          0.00\n",
       "X360          0.00\n",
       "XOne          0.00"
      ]
     },
     "execution_count": 32,
     "metadata": {},
     "output_type": "execute_result"
    },
    {
     "data": {
      "image/png": "[encoded data removed]",
      "text/plain": [
       "<Figure size 432x288 with 1 Axes>"
      ]
     },
     "metadata": {},
     "output_type": "display_data"
    }
   ],
   "source": [
    "jp = pd.pivot_table(actual_period_data, index='platform', values='jp_sales',\n",
    "                                        aggfunc='median').sort_values('jp_sales', ascending=False)\n",
    "jp.sort_values('jp_sales', ascending=False).plot(kind='bar', title='Прибыльность различных платформ в JP')\n",
    "plt.xlabel(\"Платформа\")\n",
    "plt.ylabel(\"Медианное значение продаж\")\n",
    "plt.legend('')\n",
    "jp"
   ]
  },
  {
   "cell_type": "markdown",
   "metadata": {},
   "source": [
    "Топ 5 платформ по регионам:\n",
    "\n",
    "**North America** - PS4, XOne, X360, PS3 и 3DS.\n",
    "\n",
    "**Europe** - Wii, PS4, DS, X360 и WiiU.\n",
    "\n",
    "**Japan** - 3DS, PS3, PSV, PS4 и PSP.\n",
    "\n",
    "В Америке самыми прибыльными являются консоли линейки от Microsoft XOne и X360. Возможно это связано с расположением Microsoft в этом регионе. В Европе первые места занимают Wii, DS и PS4, а в Японии вне конкуренции платформа 3DS, а PS3 и PSV примерно на одном уровне."
   ]
  },
  {
   "cell_type": "code",
   "execution_count": 33,
   "metadata": {},
   "outputs": [
    {
     "data": {
      "text/html": [
       "<div>\n",
       "<style scoped>\n",
       "    .dataframe tbody tr th:only-of-type {\n",
       "        vertical-align: middle;\n",
       "    }\n",
       "\n",
       "    .dataframe tbody tr th {\n",
       "        vertical-align: top;\n",
       "    }\n",
       "\n",
       "    .dataframe thead th {\n",
       "        text-align: right;\n",
       "    }\n",
       "</style>\n",
       "<table border=\"1\" class=\"dataframe\">\n",
       "  <thead>\n",
       "    <tr style=\"text-align: right;\">\n",
       "      <th></th>\n",
       "      <th>na_sales</th>\n",
       "    </tr>\n",
       "    <tr>\n",
       "      <th>genre</th>\n",
       "      <th></th>\n",
       "    </tr>\n",
       "  </thead>\n",
       "  <tbody>\n",
       "    <tr>\n",
       "      <th>Shooter</th>\n",
       "      <td>0.200</td>\n",
       "    </tr>\n",
       "    <tr>\n",
       "      <th>Platform</th>\n",
       "      <td>0.090</td>\n",
       "    </tr>\n",
       "    <tr>\n",
       "      <th>Sports</th>\n",
       "      <td>0.080</td>\n",
       "    </tr>\n",
       "    <tr>\n",
       "      <th>Fighting</th>\n",
       "      <td>0.045</td>\n",
       "    </tr>\n",
       "    <tr>\n",
       "      <th>Racing</th>\n",
       "      <td>0.030</td>\n",
       "    </tr>\n",
       "    <tr>\n",
       "      <th>Action</th>\n",
       "      <td>0.020</td>\n",
       "    </tr>\n",
       "    <tr>\n",
       "      <th>Role-Playing</th>\n",
       "      <td>0.020</td>\n",
       "    </tr>\n",
       "    <tr>\n",
       "      <th>Misc</th>\n",
       "      <td>0.010</td>\n",
       "    </tr>\n",
       "    <tr>\n",
       "      <th>Adventure</th>\n",
       "      <td>0.000</td>\n",
       "    </tr>\n",
       "    <tr>\n",
       "      <th>Puzzle</th>\n",
       "      <td>0.000</td>\n",
       "    </tr>\n",
       "    <tr>\n",
       "      <th>Simulation</th>\n",
       "      <td>0.000</td>\n",
       "    </tr>\n",
       "    <tr>\n",
       "      <th>Strategy</th>\n",
       "      <td>0.000</td>\n",
       "    </tr>\n",
       "  </tbody>\n",
       "</table>\n",
       "</div>"
      ],
      "text/plain": [
       "              na_sales\n",
       "genre                 \n",
       "Shooter          0.200\n",
       "Platform         0.090\n",
       "Sports           0.080\n",
       "Fighting         0.045\n",
       "Racing           0.030\n",
       "Action           0.020\n",
       "Role-Playing     0.020\n",
       "Misc             0.010\n",
       "Adventure        0.000\n",
       "Puzzle           0.000\n",
       "Simulation       0.000\n",
       "Strategy         0.000"
      ]
     },
     "execution_count": 33,
     "metadata": {},
     "output_type": "execute_result"
    },
    {
     "data": {
      "image/png": "[encoded data removed]",
      "text/plain": [
       "<Figure size 432x288 with 1 Axes>"
      ]
     },
     "metadata": {},
     "output_type": "display_data"
    }
   ],
   "source": [
    "na_genre = pd.pivot_table(actual_period_data, index='genre', values='na_sales',\n",
    "                                        aggfunc='median').sort_values('na_sales', ascending=False)\n",
    "na_genre.sort_values('na_sales', ascending=False).plot(kind='bar', title='Прибыльность различных жанров в NA')\n",
    "plt.xlabel(\"Жанр\")\n",
    "plt.ylabel(\"Медианное значение продаж\")\n",
    "plt.legend('')\n",
    "na_genre"
   ]
  },
  {
   "cell_type": "code",
   "execution_count": 35,
   "metadata": {},
   "outputs": [
    {
     "data": {
      "text/html": [
       "<div>\n",
       "<style scoped>\n",
       "    .dataframe tbody tr th:only-of-type {\n",
       "        vertical-align: middle;\n",
       "    }\n",
       "\n",
       "    .dataframe tbody tr th {\n",
       "        vertical-align: top;\n",
       "    }\n",
       "\n",
       "    .dataframe thead th {\n",
       "        text-align: right;\n",
       "    }\n",
       "</style>\n",
       "<table border=\"1\" class=\"dataframe\">\n",
       "  <thead>\n",
       "    <tr style=\"text-align: right;\">\n",
       "      <th></th>\n",
       "      <th>eu_sales</th>\n",
       "    </tr>\n",
       "    <tr>\n",
       "      <th>genre</th>\n",
       "      <th></th>\n",
       "    </tr>\n",
       "  </thead>\n",
       "  <tbody>\n",
       "    <tr>\n",
       "      <th>Shooter</th>\n",
       "      <td>0.190</td>\n",
       "    </tr>\n",
       "    <tr>\n",
       "      <th>Platform</th>\n",
       "      <td>0.080</td>\n",
       "    </tr>\n",
       "    <tr>\n",
       "      <th>Racing</th>\n",
       "      <td>0.060</td>\n",
       "    </tr>\n",
       "    <tr>\n",
       "      <th>Sports</th>\n",
       "      <td>0.050</td>\n",
       "    </tr>\n",
       "    <tr>\n",
       "      <th>Simulation</th>\n",
       "      <td>0.035</td>\n",
       "    </tr>\n",
       "    <tr>\n",
       "      <th>Strategy</th>\n",
       "      <td>0.025</td>\n",
       "    </tr>\n",
       "    <tr>\n",
       "      <th>Action</th>\n",
       "      <td>0.020</td>\n",
       "    </tr>\n",
       "    <tr>\n",
       "      <th>Fighting</th>\n",
       "      <td>0.020</td>\n",
       "    </tr>\n",
       "    <tr>\n",
       "      <th>Misc</th>\n",
       "      <td>0.010</td>\n",
       "    </tr>\n",
       "    <tr>\n",
       "      <th>Role-Playing</th>\n",
       "      <td>0.010</td>\n",
       "    </tr>\n",
       "    <tr>\n",
       "      <th>Adventure</th>\n",
       "      <td>0.000</td>\n",
       "    </tr>\n",
       "    <tr>\n",
       "      <th>Puzzle</th>\n",
       "      <td>0.000</td>\n",
       "    </tr>\n",
       "  </tbody>\n",
       "</table>\n",
       "</div>"
      ],
      "text/plain": [
       "              eu_sales\n",
       "genre                 \n",
       "Shooter          0.190\n",
       "Platform         0.080\n",
       "Racing           0.060\n",
       "Sports           0.050\n",
       "Simulation       0.035\n",
       "Strategy         0.025\n",
       "Action           0.020\n",
       "Fighting         0.020\n",
       "Misc             0.010\n",
       "Role-Playing     0.010\n",
       "Adventure        0.000\n",
       "Puzzle           0.000"
      ]
     },
     "execution_count": 35,
     "metadata": {},
     "output_type": "execute_result"
    },
    {
     "data": {
      "image/png": "[encoded data removed]",
      "text/plain": [
       "<Figure size 432x288 with 1 Axes>"
      ]
     },
     "metadata": {},
     "output_type": "display_data"
    }
   ],
   "source": [
    "eu_genre = pd.pivot_table(actual_period_data, index='genre', values='eu_sales',\n",
    "                                        aggfunc='median').sort_values('eu_sales', ascending=False)\n",
    "eu_genre.sort_values('eu_sales', ascending=False).plot(kind='bar', title='Прибыльность различных жанров в EU')\n",
    "plt.xlabel(\"Жанр\")\n",
    "plt.ylabel(\"Медианное значение продаж\")\n",
    "plt.legend('')\n",
    "eu_genre"
   ]
  },
  {
   "cell_type": "code",
   "execution_count": 36,
   "metadata": {},
   "outputs": [
    {
     "data": {
      "text/html": [
       "<div>\n",
       "<style scoped>\n",
       "    .dataframe tbody tr th:only-of-type {\n",
       "        vertical-align: middle;\n",
       "    }\n",
       "\n",
       "    .dataframe tbody tr th {\n",
       "        vertical-align: top;\n",
       "    }\n",
       "\n",
       "    .dataframe thead th {\n",
       "        text-align: right;\n",
       "    }\n",
       "</style>\n",
       "<table border=\"1\" class=\"dataframe\">\n",
       "  <thead>\n",
       "    <tr style=\"text-align: right;\">\n",
       "      <th></th>\n",
       "      <th>jp_sales</th>\n",
       "    </tr>\n",
       "    <tr>\n",
       "      <th>genre</th>\n",
       "      <th></th>\n",
       "    </tr>\n",
       "  </thead>\n",
       "  <tbody>\n",
       "    <tr>\n",
       "      <th>Role-Playing</th>\n",
       "      <td>0.05</td>\n",
       "    </tr>\n",
       "    <tr>\n",
       "      <th>Fighting</th>\n",
       "      <td>0.03</td>\n",
       "    </tr>\n",
       "    <tr>\n",
       "      <th>Misc</th>\n",
       "      <td>0.02</td>\n",
       "    </tr>\n",
       "    <tr>\n",
       "      <th>Puzzle</th>\n",
       "      <td>0.02</td>\n",
       "    </tr>\n",
       "    <tr>\n",
       "      <th>Action</th>\n",
       "      <td>0.01</td>\n",
       "    </tr>\n",
       "    <tr>\n",
       "      <th>Adventure</th>\n",
       "      <td>0.01</td>\n",
       "    </tr>\n",
       "    <tr>\n",
       "      <th>Platform</th>\n",
       "      <td>0.00</td>\n",
       "    </tr>\n",
       "    <tr>\n",
       "      <th>Racing</th>\n",
       "      <td>0.00</td>\n",
       "    </tr>\n",
       "    <tr>\n",
       "      <th>Shooter</th>\n",
       "      <td>0.00</td>\n",
       "    </tr>\n",
       "    <tr>\n",
       "      <th>Simulation</th>\n",
       "      <td>0.00</td>\n",
       "    </tr>\n",
       "    <tr>\n",
       "      <th>Sports</th>\n",
       "      <td>0.00</td>\n",
       "    </tr>\n",
       "    <tr>\n",
       "      <th>Strategy</th>\n",
       "      <td>0.00</td>\n",
       "    </tr>\n",
       "  </tbody>\n",
       "</table>\n",
       "</div>"
      ],
      "text/plain": [
       "              jp_sales\n",
       "genre                 \n",
       "Role-Playing      0.05\n",
       "Fighting          0.03\n",
       "Misc              0.02\n",
       "Puzzle            0.02\n",
       "Action            0.01\n",
       "Adventure         0.01\n",
       "Platform          0.00\n",
       "Racing            0.00\n",
       "Shooter           0.00\n",
       "Simulation        0.00\n",
       "Sports            0.00\n",
       "Strategy          0.00"
      ]
     },
     "execution_count": 36,
     "metadata": {},
     "output_type": "execute_result"
    },
    {
     "data": {
      "image/png": "[encoded data removed]",
      "text/plain": [
       "<Figure size 432x288 with 1 Axes>"
      ]
     },
     "metadata": {},
     "output_type": "display_data"
    }
   ],
   "source": [
    "jp_genre = pd.pivot_table(actual_period_data, index='genre', values='jp_sales',\n",
    "                                        aggfunc='median').sort_values('jp_sales', ascending=False)\n",
    "jp_genre.sort_values('jp_sales', ascending=False).plot(kind='bar', title='Прибыльность различных жанров в JP')\n",
    "plt.xlabel(\"Жанр\")\n",
    "plt.ylabel(\"Медианное значение продаж\")\n",
    "plt.legend('')\n",
    "jp_genre"
   ]
  },
  {
   "cell_type": "markdown",
   "metadata": {},
   "source": [
    "**North America** - Shooter, Platform, Sports, Fighting, Racing.\n",
    "\n",
    "**Europe** - Shooter, Platform, Racing, Sports, Misc.\n",
    "\n",
    "**Japan** - Puzzle, Role-Playing, Sports, Action, Misc, Strategy.\n",
    "\n",
    "В Северной Америке и Европе различия незначительны первые четыре позиции одинаковы. Это неудивительно, ведь различия в менталитете европейцев и североамериканцев невелики. Совсем другая ситуация в Японии, там предпочтения сильно отличаются. "
   ]
  },
  {
   "cell_type": "code",
   "execution_count": 37,
   "metadata": {},
   "outputs": [
    {
     "data": {
      "text/html": [
       "<div>\n",
       "<style scoped>\n",
       "    .dataframe tbody tr th:only-of-type {\n",
       "        vertical-align: middle;\n",
       "    }\n",
       "\n",
       "    .dataframe tbody tr th {\n",
       "        vertical-align: top;\n",
       "    }\n",
       "\n",
       "    .dataframe thead th {\n",
       "        text-align: right;\n",
       "    }\n",
       "</style>\n",
       "<table border=\"1\" class=\"dataframe\">\n",
       "  <thead>\n",
       "    <tr style=\"text-align: right;\">\n",
       "      <th></th>\n",
       "      <th>na_sales</th>\n",
       "    </tr>\n",
       "    <tr>\n",
       "      <th>rating</th>\n",
       "      <th></th>\n",
       "    </tr>\n",
       "  </thead>\n",
       "  <tbody>\n",
       "    <tr>\n",
       "      <th>M</th>\n",
       "      <td>0.14</td>\n",
       "    </tr>\n",
       "    <tr>\n",
       "      <th>E10+</th>\n",
       "      <td>0.12</td>\n",
       "    </tr>\n",
       "    <tr>\n",
       "      <th>E</th>\n",
       "      <td>0.05</td>\n",
       "    </tr>\n",
       "    <tr>\n",
       "      <th>T</th>\n",
       "      <td>0.04</td>\n",
       "    </tr>\n",
       "  </tbody>\n",
       "</table>\n",
       "</div>"
      ],
      "text/plain": [
       "        na_sales\n",
       "rating          \n",
       "M           0.14\n",
       "E10+        0.12\n",
       "E           0.05\n",
       "T           0.04"
      ]
     },
     "execution_count": 37,
     "metadata": {},
     "output_type": "execute_result"
    }
   ],
   "source": [
    "na_rating_pivot_table = pd.pivot_table(actual_period_data, index='rating', values='na_sales',\n",
    "                                        aggfunc='median').sort_values('na_sales', ascending=False)\n",
    "na_rating_pivot_table"
   ]
  },
  {
   "cell_type": "code",
   "execution_count": 38,
   "metadata": {},
   "outputs": [
    {
     "data": {
      "text/html": [
       "<div>\n",
       "<style scoped>\n",
       "    .dataframe tbody tr th:only-of-type {\n",
       "        vertical-align: middle;\n",
       "    }\n",
       "\n",
       "    .dataframe tbody tr th {\n",
       "        vertical-align: top;\n",
       "    }\n",
       "\n",
       "    .dataframe thead th {\n",
       "        text-align: right;\n",
       "    }\n",
       "</style>\n",
       "<table border=\"1\" class=\"dataframe\">\n",
       "  <thead>\n",
       "    <tr style=\"text-align: right;\">\n",
       "      <th></th>\n",
       "      <th>eu_sales</th>\n",
       "    </tr>\n",
       "    <tr>\n",
       "      <th>rating</th>\n",
       "      <th></th>\n",
       "    </tr>\n",
       "  </thead>\n",
       "  <tbody>\n",
       "    <tr>\n",
       "      <th>M</th>\n",
       "      <td>0.130</td>\n",
       "    </tr>\n",
       "    <tr>\n",
       "      <th>E10+</th>\n",
       "      <td>0.100</td>\n",
       "    </tr>\n",
       "    <tr>\n",
       "      <th>E</th>\n",
       "      <td>0.055</td>\n",
       "    </tr>\n",
       "    <tr>\n",
       "      <th>T</th>\n",
       "      <td>0.040</td>\n",
       "    </tr>\n",
       "  </tbody>\n",
       "</table>\n",
       "</div>"
      ],
      "text/plain": [
       "        eu_sales\n",
       "rating          \n",
       "M          0.130\n",
       "E10+       0.100\n",
       "E          0.055\n",
       "T          0.040"
      ]
     },
     "execution_count": 38,
     "metadata": {},
     "output_type": "execute_result"
    }
   ],
   "source": [
    "eu_rating_pivot_table = pd.pivot_table(actual_period_data, index='rating', values='eu_sales',\n",
    "                                        aggfunc='median').sort_values('eu_sales', ascending=False)\n",
    "eu_rating_pivot_table"
   ]
  },
  {
   "cell_type": "code",
   "execution_count": 39,
   "metadata": {},
   "outputs": [
    {
     "data": {
      "text/html": [
       "<div>\n",
       "<style scoped>\n",
       "    .dataframe tbody tr th:only-of-type {\n",
       "        vertical-align: middle;\n",
       "    }\n",
       "\n",
       "    .dataframe tbody tr th {\n",
       "        vertical-align: top;\n",
       "    }\n",
       "\n",
       "    .dataframe thead th {\n",
       "        text-align: right;\n",
       "    }\n",
       "</style>\n",
       "<table border=\"1\" class=\"dataframe\">\n",
       "  <thead>\n",
       "    <tr style=\"text-align: right;\">\n",
       "      <th></th>\n",
       "      <th>jp_sales</th>\n",
       "    </tr>\n",
       "    <tr>\n",
       "      <th>rating</th>\n",
       "      <th></th>\n",
       "    </tr>\n",
       "  </thead>\n",
       "  <tbody>\n",
       "    <tr>\n",
       "      <th>T</th>\n",
       "      <td>0.01</td>\n",
       "    </tr>\n",
       "    <tr>\n",
       "      <th>E</th>\n",
       "      <td>0.00</td>\n",
       "    </tr>\n",
       "    <tr>\n",
       "      <th>E10+</th>\n",
       "      <td>0.00</td>\n",
       "    </tr>\n",
       "    <tr>\n",
       "      <th>M</th>\n",
       "      <td>0.00</td>\n",
       "    </tr>\n",
       "  </tbody>\n",
       "</table>\n",
       "</div>"
      ],
      "text/plain": [
       "        jp_sales\n",
       "rating          \n",
       "T           0.01\n",
       "E           0.00\n",
       "E10+        0.00\n",
       "M           0.00"
      ]
     },
     "execution_count": 39,
     "metadata": {},
     "output_type": "execute_result"
    }
   ],
   "source": [
    "jp_rating_pivot_table = pd.pivot_table(actual_period_data, index='rating', values='jp_sales',\n",
    "                                        aggfunc='median').sort_values('jp_sales', ascending=False)\n",
    "jp_rating_pivot_table"
   ]
  },
  {
   "cell_type": "markdown",
   "metadata": {},
   "source": [
    "В Северной Америке и Европе популярны игры для взрослых, тогда как в Японии самый популрный возврастной рейтинг - 13+."
   ]
  },
  {
   "cell_type": "markdown",
   "metadata": {},
   "source": [
    "**Вывод:**\n",
    "\n",
    "Мы провели анализ различных регионов по параметрам - платформа, жанр и возрастной рейтинг. В результате исследования можно составить психологический портрет пользователя из каждого региона.\n",
    "\n",
    "**Северная Америка:** Игрок возрастом от 17 лет играет на XOne или X360, любит шутеры, спортивные игры и файтинги.\n",
    "\n",
    "**Европа:** Игрок возрастом от 17 лет играет на PS4, любит шутеры, спортивные игры или гонки.\n",
    "\n",
    "**Япония:** Игрок возрастом от 13 лет играет на 3DS и PS3, любит ролевые игры и пазлы."
   ]
  },
  {
   "cell_type": "markdown",
   "metadata": {},
   "source": [
    "<h3>5. Проверка гипотез<a class=\"tocSkip\"><.h3>"
   ]
  },
  {
   "cell_type": "markdown",
   "metadata": {},
   "source": [
    "1)**Нулевая гипотеза** - средние пользовательские рейтинги платформ Xbox One и PC одинаковые.\n",
    "\n",
    "**Альтернативная гипотеза** - средние пользовательские рейтинги платформ Xbox One и PC отличаются."
   ]
  },
  {
   "cell_type": "code",
   "execution_count": 40,
   "metadata": {},
   "outputs": [
    {
     "name": "stdout",
     "output_type": "stream",
     "text": [
      "p-value: 0.14012658403611647\n",
      "Нет оснований отвергнуть нулевую гипотезу\n"
     ]
    }
   ],
   "source": [
    "alpha = 0.05\n",
    "results = st.ttest_ind(actual_period_data[(actual_period_data['platform'] == 'XOne') & (actual_period_data['user_score'] > 0)]['user_score'],\n",
    "        actual_period_data[(actual_period_data['platform'] == 'PC') & (actual_period_data['user_score'] > 0)]['user_score'], alternative='two-sided')\n",
    "print(f'p-value: {results.pvalue}')\n",
    "if results.pvalue < alpha:\n",
    "    print('Отвергаем нулевую гипотезу')\n",
    "else:\n",
    "    print('Нет оснований отвергнуть нулевую гипотезу')"
   ]
  },
  {
   "cell_type": "markdown",
   "metadata": {},
   "source": [
    "Мы не отвергаем нулевую гипотезу, а значит средние пользовательские рейтинги платформ Xbox One и PC одинаковые при пороговом значении 0.05."
   ]
  },
  {
   "cell_type": "markdown",
   "metadata": {},
   "source": [
    "2)**Нулевая гипотеза** - средние пользовательские рейтинги жанров Action и Sports одинаковые.\n",
    "\n",
    "**Альтернативная гипотеза** - средние пользовательские рейтинги жанров Action и Sports отличаются."
   ]
  },
  {
   "cell_type": "code",
   "execution_count": null,
   "metadata": {},
   "outputs": [],
   "source": [
    "alpha = 0.05\n",
    "results = st.ttest_ind(actual_period_data[(actual_period_data['genre'] == 'Action') & (actual_period_data['user_score'] > 0)]['user_score'],\n",
    "        actual_period_data[(actual_period_data['genre'] == 'Sports') & (actual_period_data['user_score'] > 0)]['user_score'], alternative='two-sided')\n",
    "print(f'p-value: {results.pvalue}')\n",
    "if results.pvalue < alpha:\n",
    "    print('Отвергаем нулевую гипотезу')\n",
    "else:\n",
    "    print('Нет оснований отвергнуть нулевую гипотезу')"
   ]
  },
  {
   "cell_type": "markdown",
   "metadata": {},
   "source": [
    "Мы отвергаем нулевую гипотезу, а значит средние пользовательские рейтинги жанров Action и Sports отличаются при пороговом значении 0.05."
   ]
  },
  {
   "cell_type": "markdown",
   "metadata": {},
   "source": [
    "<h3>6. Общий вывод<a class=\"tocSkip\"><.h3>"
   ]
  },
  {
   "cell_type": "markdown",
   "metadata": {},
   "source": [
    "Для анализы работы интернет-магазина \"Стримчик\" были взяты данные из открытых источников. При первичном анализе были замечены проблемы - пропуски, неправильно записанные названия столбцов, столбцы не правильным типом данных, непонятные tbd в столбце с отзывами пользователей \n",
    "\n",
    "В разделе **предобработки** были ликвидированы ошибки в названиях столбцов и в типах данных. Было выяснено, что tbd это To Be Determind, и то, что мы можем заменить их на NaN.\n",
    "\n",
    "В разделе **исследовательского анализа данных** было выяснено:\n",
    "\n",
    "1) Средняя продолжительность \"жизни\" платформы - 7-10 лет\n",
    "\n",
    "2) Самыми актуальными и перспективными платформами являются - PS4, PS3, XOne, X360 и 3DS.\n",
    "\n",
    "3) Средняя и максимальная выручка каждой платформы.\n",
    "\n",
    "4) Успешность проектов на каждой платформе сильно коррелирует с оценками критиков и в меньшей степени с оценками пользователей.\n",
    "\n",
    "5) Самыми прибыльными жанрами можно считать экшн, шутеры, спортивные и ролевые игры.\n",
    "\n",
    "В следующем разделе был составлен портрет пользователя из Америки, Европы и Японии:\n",
    "\n",
    "**Северная Америка:** Игрок возрастом от 17 лет играет на XOne или X360, любит шутеры, спортивные игры и файтинги.\n",
    "\n",
    "**Европа:** Игрок возрастом от 17 лет играет на PS4, любит шутеры, спортивные игры или гонки.\n",
    "\n",
    "**Япония:** Игрок возрастом от 13 лет играет на 3DS и PS3, любит ролевые игры и пазлы.\n",
    "\n",
    "В разделе **проверки гипотез** были протестированы следующие гипотезы:\n",
    "\n",
    "**Средние пользовательские рейтинги платформ Xbox One и PC одинаковые.** Данная гипотеза не была отвергнута при пороговом значении 0.05.\n",
    "\n",
    "**Средние пользовательские рейтинги жанров Action и Sports одинаковые.** Данная гипотеза была отвергнута при пороговом значении 0.05.\n",
    "\n",
    "В результате данного исследования можно дать следующие рекомендации отделу маркетинга для проведения рекламной компании в 2017 году: \n",
    "\n",
    "1) В каждом регионе в качестве популярной и актуальной платформы фигурирует PS4. Эта платформа еще не достигла пика своей популярности, ее актуальность будет только расти. Сейчас разработчики полностью подстроились под разработку игр на эту перспективную платформу, поэтому в грядущем году можно ожидать громких релизов. В Американском регионе преобладают платформы компании Microsoft.\n",
    "\n",
    "2) В двух крупных регионах(Америка и Европа) самым популярным жанром являются шутеры. Именно в этом жанре стоит ожидать выхода успешных игр. Также стоит обратить внимание на спортивные игры, успешность которых во многом объясняется возможностью играть компанией на одном устройстве, что во часто гарантирует успех продукта. Если говорить только о Японии, то там преобладают неспешные игры по типу пазлов, также стоит обратить внимание на ролевые игры.\n",
    "\n",
    "3) Вероятным возрастным ограничением у хита будет 17+.\n"
   ]
  }
 ],
 "metadata": {
  "ExecuteTimeLog": [
   {
    "duration": 1303,
    "start_time": "2023-11-08T09:00:50.507Z"
   },
   {
    "duration": 110,
    "start_time": "2023-11-08T09:03:14.034Z"
   },
   {
    "duration": 158,
    "start_time": "2023-11-08T09:07:29.462Z"
   },
   {
    "duration": 59,
    "start_time": "2023-11-08T09:07:42.036Z"
   },
   {
    "duration": 68,
    "start_time": "2023-11-08T09:07:45.302Z"
   },
   {
    "duration": 15,
    "start_time": "2023-11-08T09:07:46.996Z"
   },
   {
    "duration": 7,
    "start_time": "2023-11-08T09:10:32.788Z"
   },
   {
    "duration": 6,
    "start_time": "2023-11-08T09:10:51.890Z"
   },
   {
    "duration": 17,
    "start_time": "2023-11-08T09:10:59.114Z"
   },
   {
    "duration": 11,
    "start_time": "2023-11-08T09:11:34.753Z"
   },
   {
    "duration": 31,
    "start_time": "2023-11-08T09:11:44.282Z"
   },
   {
    "duration": 9,
    "start_time": "2023-11-08T09:12:59.326Z"
   },
   {
    "duration": 27,
    "start_time": "2023-11-08T09:13:05.503Z"
   },
   {
    "duration": 26,
    "start_time": "2023-11-08T09:13:20.511Z"
   },
   {
    "duration": 25,
    "start_time": "2023-11-08T09:18:21.726Z"
   },
   {
    "duration": 2,
    "start_time": "2023-11-08T09:25:47.164Z"
   },
   {
    "duration": 20,
    "start_time": "2023-11-08T09:27:46.890Z"
   },
   {
    "duration": 5,
    "start_time": "2023-11-08T09:28:18.901Z"
   },
   {
    "duration": 24,
    "start_time": "2023-11-08T09:31:14.147Z"
   },
   {
    "duration": 6,
    "start_time": "2023-11-08T09:35:27.667Z"
   },
   {
    "duration": 10,
    "start_time": "2023-11-08T09:35:40.670Z"
   },
   {
    "duration": 16,
    "start_time": "2023-11-08T09:38:19.895Z"
   },
   {
    "duration": 219,
    "start_time": "2023-11-08T09:53:34.140Z"
   },
   {
    "duration": 221,
    "start_time": "2023-11-08T09:53:43.788Z"
   },
   {
    "duration": 8,
    "start_time": "2023-11-08T09:58:45.579Z"
   },
   {
    "duration": 320,
    "start_time": "2023-11-08T10:00:15.076Z"
   },
   {
    "duration": 16,
    "start_time": "2023-11-08T10:00:26.257Z"
   },
   {
    "duration": 340,
    "start_time": "2023-11-08T10:00:32.241Z"
   },
   {
    "duration": 501,
    "start_time": "2023-11-08T10:02:22.739Z"
   },
   {
    "duration": 287,
    "start_time": "2023-11-08T10:02:38.398Z"
   },
   {
    "duration": 305,
    "start_time": "2023-11-08T10:03:02.085Z"
   },
   {
    "duration": 9,
    "start_time": "2023-11-08T10:06:48.792Z"
   },
   {
    "duration": 9,
    "start_time": "2023-11-08T10:07:39.606Z"
   },
   {
    "duration": 4579,
    "start_time": "2023-11-08T10:08:06.317Z"
   },
   {
    "duration": 1138,
    "start_time": "2023-11-08T10:15:39.877Z"
   },
   {
    "duration": 7,
    "start_time": "2023-11-08T10:25:39.570Z"
   },
   {
    "duration": 14,
    "start_time": "2023-11-08T10:25:47.563Z"
   },
   {
    "duration": 7,
    "start_time": "2023-11-08T10:36:20.350Z"
   },
   {
    "duration": 9,
    "start_time": "2023-11-08T10:36:38.071Z"
   },
   {
    "duration": 20,
    "start_time": "2023-11-08T10:36:59.886Z"
   },
   {
    "duration": 14,
    "start_time": "2023-11-08T10:37:37.398Z"
   },
   {
    "duration": 16,
    "start_time": "2023-11-08T10:37:43.031Z"
   },
   {
    "duration": 18,
    "start_time": "2023-11-08T10:37:59.996Z"
   },
   {
    "duration": 17,
    "start_time": "2023-11-08T10:38:07.027Z"
   },
   {
    "duration": 18,
    "start_time": "2023-11-08T10:38:16.841Z"
   },
   {
    "duration": 15,
    "start_time": "2023-11-08T10:40:19.580Z"
   },
   {
    "duration": 18,
    "start_time": "2023-11-08T10:40:23.522Z"
   },
   {
    "duration": 16,
    "start_time": "2023-11-08T10:40:32.066Z"
   },
   {
    "duration": 16,
    "start_time": "2023-11-08T10:49:29.820Z"
   },
   {
    "duration": 27,
    "start_time": "2023-11-08T10:51:23.772Z"
   },
   {
    "duration": 4,
    "start_time": "2023-11-08T10:51:51.932Z"
   },
   {
    "duration": 155,
    "start_time": "2023-11-08T10:52:02.324Z"
   },
   {
    "duration": 153,
    "start_time": "2023-11-08T10:53:11.230Z"
   },
   {
    "duration": 900,
    "start_time": "2023-11-08T10:54:05.944Z"
   },
   {
    "duration": 223,
    "start_time": "2023-11-08T10:54:30.993Z"
   },
   {
    "duration": 118,
    "start_time": "2023-11-08T10:55:13.226Z"
   },
   {
    "duration": 184,
    "start_time": "2023-11-08T10:56:44.810Z"
   },
   {
    "duration": 123,
    "start_time": "2023-11-08T10:57:15.359Z"
   },
   {
    "duration": 96,
    "start_time": "2023-11-08T10:57:30.001Z"
   },
   {
    "duration": 120,
    "start_time": "2023-11-08T10:58:29.965Z"
   },
   {
    "duration": 101,
    "start_time": "2023-11-08T10:58:51.129Z"
   },
   {
    "duration": 91,
    "start_time": "2023-11-08T10:59:11.937Z"
   },
   {
    "duration": 133,
    "start_time": "2023-11-08T10:59:35.258Z"
   },
   {
    "duration": 90,
    "start_time": "2023-11-08T10:59:55.145Z"
   },
   {
    "duration": 104,
    "start_time": "2023-11-08T11:00:26.751Z"
   },
   {
    "duration": 107,
    "start_time": "2023-11-08T11:00:36.971Z"
   },
   {
    "duration": 102,
    "start_time": "2023-11-08T11:10:29.050Z"
   },
   {
    "duration": 102,
    "start_time": "2023-11-08T11:10:42.949Z"
   },
   {
    "duration": 174,
    "start_time": "2023-11-08T11:10:59.249Z"
   },
   {
    "duration": 4,
    "start_time": "2023-11-08T12:06:13.667Z"
   },
   {
    "duration": 8,
    "start_time": "2023-11-08T12:07:32.720Z"
   },
   {
    "duration": 13,
    "start_time": "2023-11-08T12:07:40.340Z"
   },
   {
    "duration": 1717,
    "start_time": "2023-11-08T12:07:44.890Z"
   },
   {
    "duration": 167,
    "start_time": "2023-11-08T12:08:00.300Z"
   },
   {
    "duration": 172,
    "start_time": "2023-11-08T12:08:16.253Z"
   },
   {
    "duration": 161,
    "start_time": "2023-11-08T12:08:27.300Z"
   },
   {
    "duration": 167,
    "start_time": "2023-11-08T12:08:33.386Z"
   },
   {
    "duration": 164,
    "start_time": "2023-11-08T12:08:38.570Z"
   },
   {
    "duration": 160,
    "start_time": "2023-11-08T12:08:43.882Z"
   },
   {
    "duration": 174,
    "start_time": "2023-11-08T12:09:05.461Z"
   },
   {
    "duration": 164,
    "start_time": "2023-11-08T12:09:29.454Z"
   },
   {
    "duration": 157,
    "start_time": "2023-11-08T12:13:25.115Z"
   },
   {
    "duration": 178,
    "start_time": "2023-11-08T12:13:59.603Z"
   },
   {
    "duration": 161,
    "start_time": "2023-11-08T12:14:02.025Z"
   },
   {
    "duration": 157,
    "start_time": "2023-11-08T12:23:13.430Z"
   },
   {
    "duration": 154,
    "start_time": "2023-11-08T12:23:50.586Z"
   },
   {
    "duration": 154,
    "start_time": "2023-11-08T12:24:09.225Z"
   },
   {
    "duration": 8,
    "start_time": "2023-11-08T12:32:01.250Z"
   },
   {
    "duration": 11,
    "start_time": "2023-11-08T12:32:24.284Z"
   },
   {
    "duration": 9,
    "start_time": "2023-11-08T12:33:28.800Z"
   },
   {
    "duration": 9,
    "start_time": "2023-11-08T12:33:42.208Z"
   },
   {
    "duration": 9,
    "start_time": "2023-11-08T12:34:09.813Z"
   },
   {
    "duration": 12,
    "start_time": "2023-11-08T12:35:52.508Z"
   },
   {
    "duration": 78,
    "start_time": "2023-11-08T12:36:39.580Z"
   },
   {
    "duration": 9,
    "start_time": "2023-11-08T12:36:45.457Z"
   },
   {
    "duration": 10,
    "start_time": "2023-11-08T12:36:46.529Z"
   },
   {
    "duration": 10,
    "start_time": "2023-11-08T12:36:47.455Z"
   },
   {
    "duration": 10,
    "start_time": "2023-11-08T12:36:49.964Z"
   },
   {
    "duration": 11,
    "start_time": "2023-11-08T12:44:02.241Z"
   },
   {
    "duration": 9,
    "start_time": "2023-11-08T13:01:11.219Z"
   },
   {
    "duration": 13,
    "start_time": "2023-11-08T13:01:58.779Z"
   },
   {
    "duration": 14,
    "start_time": "2023-11-08T13:02:14.307Z"
   },
   {
    "duration": 12,
    "start_time": "2023-11-08T13:02:28.078Z"
   },
   {
    "duration": 11,
    "start_time": "2023-11-08T13:10:08.445Z"
   },
   {
    "duration": 12,
    "start_time": "2023-11-08T13:10:32.827Z"
   },
   {
    "duration": 13,
    "start_time": "2023-11-08T13:10:50.658Z"
   },
   {
    "duration": 13,
    "start_time": "2023-11-08T13:11:09.224Z"
   },
   {
    "duration": 12,
    "start_time": "2023-11-08T13:18:06.507Z"
   },
   {
    "duration": 11,
    "start_time": "2023-11-08T13:18:27.116Z"
   },
   {
    "duration": 12,
    "start_time": "2023-11-08T13:18:44.534Z"
   },
   {
    "duration": 11,
    "start_time": "2023-11-08T13:19:09.879Z"
   },
   {
    "duration": 11,
    "start_time": "2023-11-08T13:19:51.096Z"
   },
   {
    "duration": 9,
    "start_time": "2023-11-08T13:39:06.964Z"
   },
   {
    "duration": 12,
    "start_time": "2023-11-08T13:39:37.158Z"
   },
   {
    "duration": 3,
    "start_time": "2023-11-08T13:39:43.114Z"
   },
   {
    "duration": 8,
    "start_time": "2023-11-08T13:39:47.201Z"
   },
   {
    "duration": 8,
    "start_time": "2023-11-08T13:40:10.033Z"
   },
   {
    "duration": 10,
    "start_time": "2023-11-08T13:45:03.068Z"
   },
   {
    "duration": 89,
    "start_time": "2023-11-08T13:46:31.233Z"
   },
   {
    "duration": 1195,
    "start_time": "2023-11-08T14:06:13.523Z"
   },
   {
    "duration": 62,
    "start_time": "2023-11-08T14:06:14.719Z"
   },
   {
    "duration": 17,
    "start_time": "2023-11-08T14:06:14.782Z"
   },
   {
    "duration": 8,
    "start_time": "2023-11-08T14:06:14.801Z"
   },
   {
    "duration": 18,
    "start_time": "2023-11-08T14:06:14.810Z"
   },
   {
    "duration": 17,
    "start_time": "2023-11-08T14:06:14.840Z"
   },
   {
    "duration": 18,
    "start_time": "2023-11-08T14:06:14.858Z"
   },
   {
    "duration": 19,
    "start_time": "2023-11-08T14:06:14.877Z"
   },
   {
    "duration": 17,
    "start_time": "2023-11-08T14:06:14.898Z"
   },
   {
    "duration": 3,
    "start_time": "2023-11-08T14:06:14.939Z"
   },
   {
    "duration": 6,
    "start_time": "2023-11-08T14:06:14.944Z"
   },
   {
    "duration": 19,
    "start_time": "2023-11-08T14:06:14.951Z"
   },
   {
    "duration": 13,
    "start_time": "2023-11-08T14:06:14.972Z"
   },
   {
    "duration": 15,
    "start_time": "2023-11-08T14:06:14.987Z"
   },
   {
    "duration": 242,
    "start_time": "2023-11-08T14:06:15.003Z"
   },
   {
    "duration": 333,
    "start_time": "2023-11-08T14:06:15.246Z"
   },
   {
    "duration": 1052,
    "start_time": "2023-11-08T14:06:15.580Z"
   },
   {
    "duration": 17,
    "start_time": "2023-11-08T14:06:16.633Z"
   },
   {
    "duration": 16,
    "start_time": "2023-11-08T14:06:16.652Z"
   },
   {
    "duration": 148,
    "start_time": "2023-11-08T14:06:16.670Z"
   },
   {
    "duration": 162,
    "start_time": "2023-11-08T14:06:16.819Z"
   },
   {
    "duration": 119,
    "start_time": "2023-11-08T14:06:16.982Z"
   },
   {
    "duration": 114,
    "start_time": "2023-11-08T14:06:17.102Z"
   },
   {
    "duration": 115,
    "start_time": "2023-11-08T14:06:17.217Z"
   },
   {
    "duration": 180,
    "start_time": "2023-11-08T14:06:17.334Z"
   },
   {
    "duration": 202,
    "start_time": "2023-11-08T14:06:17.516Z"
   },
   {
    "duration": 10,
    "start_time": "2023-11-08T14:06:17.719Z"
   },
   {
    "duration": 11,
    "start_time": "2023-11-08T14:06:17.739Z"
   },
   {
    "duration": 11,
    "start_time": "2023-11-08T14:06:17.752Z"
   },
   {
    "duration": 8,
    "start_time": "2023-11-08T14:06:17.765Z"
   },
   {
    "duration": 14,
    "start_time": "2023-11-08T14:06:17.775Z"
   },
   {
    "duration": 8,
    "start_time": "2023-11-08T14:06:17.791Z"
   },
   {
    "duration": 44,
    "start_time": "2023-11-08T14:06:17.801Z"
   },
   {
    "duration": 12,
    "start_time": "2023-11-08T14:06:17.846Z"
   },
   {
    "duration": 19,
    "start_time": "2023-11-08T14:06:17.859Z"
   },
   {
    "duration": 12,
    "start_time": "2023-11-08T14:06:17.879Z"
   },
   {
    "duration": 12,
    "start_time": "2023-11-08T14:06:17.892Z"
   },
   {
    "duration": 37,
    "start_time": "2023-11-08T14:06:17.905Z"
   },
   {
    "duration": 13,
    "start_time": "2023-11-08T14:06:17.943Z"
   },
   {
    "duration": 12,
    "start_time": "2023-11-08T14:06:17.957Z"
   },
   {
    "duration": 13,
    "start_time": "2023-11-08T14:06:17.970Z"
   },
   {
    "duration": 9,
    "start_time": "2023-11-08T14:06:17.984Z"
   },
   {
    "duration": 9,
    "start_time": "2023-11-08T14:06:17.995Z"
   },
   {
    "duration": 1617,
    "start_time": "2023-11-08T15:36:37.684Z"
   },
   {
    "duration": 111,
    "start_time": "2023-11-08T15:36:39.306Z"
   },
   {
    "duration": 31,
    "start_time": "2023-11-08T15:36:39.419Z"
   },
   {
    "duration": 25,
    "start_time": "2023-11-08T15:36:39.454Z"
   },
   {
    "duration": 47,
    "start_time": "2023-11-08T15:36:39.481Z"
   },
   {
    "duration": 32,
    "start_time": "2023-11-08T15:36:39.530Z"
   },
   {
    "duration": 131,
    "start_time": "2023-11-08T15:36:39.564Z"
   },
   {
    "duration": 114,
    "start_time": "2023-11-08T15:36:39.697Z"
   },
   {
    "duration": 135,
    "start_time": "2023-11-08T15:36:39.813Z"
   },
   {
    "duration": 6,
    "start_time": "2023-11-08T15:36:39.953Z"
   },
   {
    "duration": 17,
    "start_time": "2023-11-08T15:36:39.961Z"
   },
   {
    "duration": 41,
    "start_time": "2023-11-08T15:36:39.982Z"
   },
   {
    "duration": 21,
    "start_time": "2023-11-08T15:36:40.026Z"
   },
   {
    "duration": 26,
    "start_time": "2023-11-08T15:36:40.050Z"
   },
   {
    "duration": 395,
    "start_time": "2023-11-08T15:36:40.079Z"
   },
   {
    "duration": 634,
    "start_time": "2023-11-08T15:36:40.476Z"
   },
   {
    "duration": 2029,
    "start_time": "2023-11-08T15:36:41.113Z"
   },
   {
    "duration": 24,
    "start_time": "2023-11-08T15:36:43.145Z"
   },
   {
    "duration": 24,
    "start_time": "2023-11-08T15:36:43.171Z"
   },
   {
    "duration": 232,
    "start_time": "2023-11-08T15:36:43.197Z"
   },
   {
    "duration": 275,
    "start_time": "2023-11-08T15:36:43.432Z"
   },
   {
    "duration": 186,
    "start_time": "2023-11-08T15:36:43.710Z"
   },
   {
    "duration": 191,
    "start_time": "2023-11-08T15:36:43.898Z"
   },
   {
    "duration": 193,
    "start_time": "2023-11-08T15:36:44.091Z"
   },
   {
    "duration": 319,
    "start_time": "2023-11-08T15:36:44.286Z"
   },
   {
    "duration": 343,
    "start_time": "2023-11-08T15:36:44.607Z"
   },
   {
    "duration": 18,
    "start_time": "2023-11-08T15:36:44.952Z"
   },
   {
    "duration": 115,
    "start_time": "2023-11-08T15:36:44.976Z"
   },
   {
    "duration": 26,
    "start_time": "2023-11-08T15:36:45.094Z"
   },
   {
    "duration": 30,
    "start_time": "2023-11-08T15:36:45.122Z"
   },
   {
    "duration": 23,
    "start_time": "2023-11-08T15:36:45.154Z"
   },
   {
    "duration": 13,
    "start_time": "2023-11-08T15:36:45.180Z"
   },
   {
    "duration": 53,
    "start_time": "2023-11-08T15:36:45.196Z"
   },
   {
    "duration": 67,
    "start_time": "2023-11-08T15:36:45.252Z"
   },
   {
    "duration": 46,
    "start_time": "2023-11-08T15:36:45.322Z"
   },
   {
    "duration": 29,
    "start_time": "2023-11-08T15:36:45.370Z"
   },
   {
    "duration": 65,
    "start_time": "2023-11-08T15:36:45.402Z"
   },
   {
    "duration": 92,
    "start_time": "2023-11-08T15:36:45.469Z"
   },
   {
    "duration": 153,
    "start_time": "2023-11-08T15:36:45.564Z"
   },
   {
    "duration": 92,
    "start_time": "2023-11-08T15:36:45.720Z"
   },
   {
    "duration": 68,
    "start_time": "2023-11-08T15:36:45.814Z"
   },
   {
    "duration": 89,
    "start_time": "2023-11-08T15:36:45.885Z"
   },
   {
    "duration": 28,
    "start_time": "2023-11-08T15:36:45.976Z"
   },
   {
    "duration": 17,
    "start_time": "2023-11-08T15:46:22.058Z"
   },
   {
    "duration": 1344,
    "start_time": "2023-11-08T15:51:09.204Z"
   },
   {
    "duration": 69,
    "start_time": "2023-11-08T15:51:10.550Z"
   },
   {
    "duration": 20,
    "start_time": "2023-11-08T15:51:10.621Z"
   },
   {
    "duration": 26,
    "start_time": "2023-11-08T15:51:10.643Z"
   },
   {
    "duration": 52,
    "start_time": "2023-11-08T15:51:10.671Z"
   },
   {
    "duration": 35,
    "start_time": "2023-11-08T15:51:10.724Z"
   },
   {
    "duration": 63,
    "start_time": "2023-11-08T15:51:10.761Z"
   },
   {
    "duration": 67,
    "start_time": "2023-11-08T15:51:10.827Z"
   },
   {
    "duration": 67,
    "start_time": "2023-11-08T15:51:10.896Z"
   },
   {
    "duration": 19,
    "start_time": "2023-11-08T15:51:10.965Z"
   },
   {
    "duration": 56,
    "start_time": "2023-11-08T15:51:10.986Z"
   },
   {
    "duration": 74,
    "start_time": "2023-11-08T15:51:11.044Z"
   },
   {
    "duration": 32,
    "start_time": "2023-11-08T15:51:11.119Z"
   },
   {
    "duration": 72,
    "start_time": "2023-11-08T15:51:11.155Z"
   },
   {
    "duration": 331,
    "start_time": "2023-11-08T15:51:11.229Z"
   },
   {
    "duration": 387,
    "start_time": "2023-11-08T15:51:11.562Z"
   },
   {
    "duration": 1406,
    "start_time": "2023-11-08T15:51:11.951Z"
   },
   {
    "duration": 19,
    "start_time": "2023-11-08T15:51:13.359Z"
   },
   {
    "duration": 44,
    "start_time": "2023-11-08T15:51:13.379Z"
   },
   {
    "duration": 136,
    "start_time": "2023-11-08T15:51:13.426Z"
   },
   {
    "duration": 212,
    "start_time": "2023-11-08T15:51:13.564Z"
   },
   {
    "duration": 139,
    "start_time": "2023-11-08T15:51:13.778Z"
   },
   {
    "duration": 135,
    "start_time": "2023-11-08T15:51:13.924Z"
   },
   {
    "duration": 171,
    "start_time": "2023-11-08T15:51:14.060Z"
   },
   {
    "duration": 218,
    "start_time": "2023-11-08T15:51:14.233Z"
   },
   {
    "duration": 191,
    "start_time": "2023-11-08T15:51:14.452Z"
   },
   {
    "duration": 11,
    "start_time": "2023-11-08T15:51:14.644Z"
   },
   {
    "duration": 11,
    "start_time": "2023-11-08T15:51:14.656Z"
   },
   {
    "duration": 10,
    "start_time": "2023-11-08T15:51:14.669Z"
   },
   {
    "duration": 45,
    "start_time": "2023-11-08T15:51:14.680Z"
   },
   {
    "duration": 14,
    "start_time": "2023-11-08T15:51:14.727Z"
   },
   {
    "duration": 10,
    "start_time": "2023-11-08T15:51:14.743Z"
   },
   {
    "duration": 25,
    "start_time": "2023-11-08T15:51:14.755Z"
   },
   {
    "duration": 20,
    "start_time": "2023-11-08T15:51:14.781Z"
   },
   {
    "duration": 20,
    "start_time": "2023-11-08T15:51:14.824Z"
   },
   {
    "duration": 21,
    "start_time": "2023-11-08T15:51:14.846Z"
   },
   {
    "duration": 54,
    "start_time": "2023-11-08T15:51:14.869Z"
   },
   {
    "duration": 31,
    "start_time": "2023-11-08T15:51:14.925Z"
   },
   {
    "duration": 15,
    "start_time": "2023-11-08T15:51:14.958Z"
   },
   {
    "duration": 16,
    "start_time": "2023-11-08T15:51:14.975Z"
   },
   {
    "duration": 20,
    "start_time": "2023-11-08T15:51:14.995Z"
   },
   {
    "duration": 110,
    "start_time": "2023-11-08T15:51:15.017Z"
   },
   {
    "duration": 43,
    "start_time": "2023-11-08T15:51:15.129Z"
   },
   {
    "duration": 13,
    "start_time": "2023-11-08T15:51:15.174Z"
   },
   {
    "duration": 3,
    "start_time": "2023-11-08T16:17:08.703Z"
   },
   {
    "duration": 63,
    "start_time": "2023-11-09T06:46:24.012Z"
   },
   {
    "duration": 1307,
    "start_time": "2023-11-09T06:46:36.967Z"
   },
   {
    "duration": 190,
    "start_time": "2023-11-09T06:46:38.276Z"
   },
   {
    "duration": 19,
    "start_time": "2023-11-09T06:46:38.468Z"
   },
   {
    "duration": 20,
    "start_time": "2023-11-09T06:46:38.489Z"
   },
   {
    "duration": 26,
    "start_time": "2023-11-09T06:46:38.511Z"
   },
   {
    "duration": 20,
    "start_time": "2023-11-09T06:46:38.539Z"
   },
   {
    "duration": 23,
    "start_time": "2023-11-09T06:46:38.568Z"
   },
   {
    "duration": 27,
    "start_time": "2023-11-09T06:46:38.773Z"
   },
   {
    "duration": 17,
    "start_time": "2023-11-09T06:46:38.946Z"
   },
   {
    "duration": 4,
    "start_time": "2023-11-09T06:46:41.038Z"
   },
   {
    "duration": 5,
    "start_time": "2023-11-09T06:46:41.519Z"
   },
   {
    "duration": 27,
    "start_time": "2023-11-09T06:46:41.748Z"
   },
   {
    "duration": 18,
    "start_time": "2023-11-09T06:46:42.299Z"
   },
   {
    "duration": 23,
    "start_time": "2023-11-09T06:46:42.675Z"
   },
   {
    "duration": 22,
    "start_time": "2023-11-09T06:46:43.065Z"
   },
   {
    "duration": 15,
    "start_time": "2023-11-09T06:48:23.287Z"
   },
   {
    "duration": 12,
    "start_time": "2023-11-09T06:48:36.953Z"
   },
   {
    "duration": 179,
    "start_time": "2023-11-09T06:52:36.923Z"
   },
   {
    "duration": 86,
    "start_time": "2023-11-09T06:53:14.041Z"
   },
   {
    "duration": 16,
    "start_time": "2023-11-09T06:53:24.311Z"
   },
   {
    "duration": 16,
    "start_time": "2023-11-09T06:53:24.784Z"
   },
   {
    "duration": 193,
    "start_time": "2023-11-09T06:53:25.476Z"
   },
   {
    "duration": 347,
    "start_time": "2023-11-09T06:53:25.837Z"
   },
   {
    "duration": 1190,
    "start_time": "2023-11-09T06:53:26.348Z"
   },
   {
    "duration": 18,
    "start_time": "2023-11-09T06:53:27.544Z"
   },
   {
    "duration": 20,
    "start_time": "2023-11-09T06:53:27.564Z"
   },
   {
    "duration": 205,
    "start_time": "2023-11-09T06:53:27.866Z"
   },
   {
    "duration": 121,
    "start_time": "2023-11-09T06:53:28.073Z"
   },
   {
    "duration": 132,
    "start_time": "2023-11-09T06:53:28.200Z"
   },
   {
    "duration": 120,
    "start_time": "2023-11-09T06:53:28.388Z"
   },
   {
    "duration": 119,
    "start_time": "2023-11-09T06:53:28.568Z"
   },
   {
    "duration": 174,
    "start_time": "2023-11-09T06:53:29.124Z"
   },
   {
    "duration": 172,
    "start_time": "2023-11-09T06:53:33.431Z"
   },
   {
    "duration": 11,
    "start_time": "2023-11-09T06:53:34.973Z"
   },
   {
    "duration": 11,
    "start_time": "2023-11-09T06:53:35.140Z"
   },
   {
    "duration": 10,
    "start_time": "2023-11-09T06:53:35.306Z"
   },
   {
    "duration": 10,
    "start_time": "2023-11-09T06:53:35.463Z"
   },
   {
    "duration": 14,
    "start_time": "2023-11-09T06:53:35.936Z"
   },
   {
    "duration": 10,
    "start_time": "2023-11-09T06:53:36.787Z"
   },
   {
    "duration": 13,
    "start_time": "2023-11-09T06:53:37.127Z"
   },
   {
    "duration": 14,
    "start_time": "2023-11-09T06:53:37.282Z"
   },
   {
    "duration": 13,
    "start_time": "2023-11-09T06:53:37.459Z"
   },
   {
    "duration": 14,
    "start_time": "2023-11-09T06:53:37.637Z"
   },
   {
    "duration": 14,
    "start_time": "2023-11-09T06:53:37.992Z"
   },
   {
    "duration": 16,
    "start_time": "2023-11-09T06:53:38.162Z"
   },
   {
    "duration": 18,
    "start_time": "2023-11-09T06:53:38.330Z"
   },
   {
    "duration": 14,
    "start_time": "2023-11-09T06:53:38.858Z"
   },
   {
    "duration": 15,
    "start_time": "2023-11-09T06:53:39.038Z"
   },
   {
    "duration": 13,
    "start_time": "2023-11-09T06:53:39.214Z"
   },
   {
    "duration": 10,
    "start_time": "2023-11-09T06:53:40.651Z"
   },
   {
    "duration": 11,
    "start_time": "2023-11-09T06:53:41.561Z"
   },
   {
    "duration": 199,
    "start_time": "2023-11-09T06:54:51.387Z"
   },
   {
    "duration": 212,
    "start_time": "2023-11-09T06:55:42.943Z"
   },
   {
    "duration": 213,
    "start_time": "2023-11-09T06:56:06.738Z"
   },
   {
    "duration": 162,
    "start_time": "2023-11-09T07:03:35.046Z"
   },
   {
    "duration": 119,
    "start_time": "2023-11-09T07:04:01.108Z"
   },
   {
    "duration": 322,
    "start_time": "2023-11-09T07:11:26.561Z"
   },
   {
    "duration": 143,
    "start_time": "2023-11-09T07:12:07.516Z"
   },
   {
    "duration": 227,
    "start_time": "2023-11-09T07:12:22.185Z"
   },
   {
    "duration": 267,
    "start_time": "2023-11-09T07:12:53.787Z"
   },
   {
    "duration": 236,
    "start_time": "2023-11-09T07:12:58.008Z"
   },
   {
    "duration": 436,
    "start_time": "2023-11-09T07:13:02.789Z"
   },
   {
    "duration": 411,
    "start_time": "2023-11-09T07:15:08.565Z"
   },
   {
    "duration": 393,
    "start_time": "2023-11-09T07:49:28.398Z"
   },
   {
    "duration": 498,
    "start_time": "2023-11-09T07:50:02.770Z"
   },
   {
    "duration": 387,
    "start_time": "2023-11-09T07:52:13.500Z"
   },
   {
    "duration": 19,
    "start_time": "2023-11-09T08:02:20.808Z"
   },
   {
    "duration": 203,
    "start_time": "2023-11-09T08:02:41.489Z"
   },
   {
    "duration": 238,
    "start_time": "2023-11-09T08:02:55.811Z"
   },
   {
    "duration": 239,
    "start_time": "2023-11-09T08:05:58.641Z"
   },
   {
    "duration": 221,
    "start_time": "2023-11-09T08:06:11.112Z"
   },
   {
    "duration": 215,
    "start_time": "2023-11-09T08:06:27.603Z"
   },
   {
    "duration": 226,
    "start_time": "2023-11-09T08:06:35.148Z"
   },
   {
    "duration": 205,
    "start_time": "2023-11-09T08:06:48.550Z"
   },
   {
    "duration": 319,
    "start_time": "2023-11-09T08:06:54.327Z"
   },
   {
    "duration": 361,
    "start_time": "2023-11-09T08:07:06.111Z"
   },
   {
    "duration": 351,
    "start_time": "2023-11-09T08:07:16.884Z"
   },
   {
    "duration": 277,
    "start_time": "2023-11-09T08:07:21.892Z"
   },
   {
    "duration": 240,
    "start_time": "2023-11-09T08:07:27.321Z"
   },
   {
    "duration": 226,
    "start_time": "2023-11-09T08:07:53.266Z"
   },
   {
    "duration": 366,
    "start_time": "2023-11-09T08:08:30.148Z"
   },
   {
    "duration": 260,
    "start_time": "2023-11-09T08:10:19.222Z"
   },
   {
    "duration": 272,
    "start_time": "2023-11-09T08:10:36.658Z"
   },
   {
    "duration": 28,
    "start_time": "2023-11-09T08:11:46.968Z"
   },
   {
    "duration": 30,
    "start_time": "2023-11-09T08:12:15.475Z"
   },
   {
    "duration": 330,
    "start_time": "2023-11-09T08:12:51.321Z"
   },
   {
    "duration": 268,
    "start_time": "2023-11-09T08:12:59.512Z"
   },
   {
    "duration": 370,
    "start_time": "2023-11-09T08:13:19.111Z"
   },
   {
    "duration": 299,
    "start_time": "2023-11-09T08:13:57.771Z"
   },
   {
    "duration": 293,
    "start_time": "2023-11-09T08:14:37.630Z"
   },
   {
    "duration": 10,
    "start_time": "2023-11-09T08:17:33.587Z"
   },
   {
    "duration": 11,
    "start_time": "2023-11-09T08:17:34.232Z"
   },
   {
    "duration": 10,
    "start_time": "2023-11-09T08:17:35.696Z"
   },
   {
    "duration": 9,
    "start_time": "2023-11-09T08:17:36.456Z"
   },
   {
    "duration": 13,
    "start_time": "2023-11-09T08:18:30.626Z"
   },
   {
    "duration": 189,
    "start_time": "2023-11-09T08:19:51.838Z"
   },
   {
    "duration": 183,
    "start_time": "2023-11-09T08:20:11.086Z"
   },
   {
    "duration": 223,
    "start_time": "2023-11-09T08:23:56.485Z"
   },
   {
    "duration": 190,
    "start_time": "2023-11-09T08:24:18.057Z"
   },
   {
    "duration": 118,
    "start_time": "2023-11-09T08:32:05.017Z"
   },
   {
    "duration": 19,
    "start_time": "2023-11-09T08:32:13.394Z"
   },
   {
    "duration": 14,
    "start_time": "2023-11-09T08:32:47.523Z"
   },
   {
    "duration": 26,
    "start_time": "2023-11-09T08:32:54.234Z"
   },
   {
    "duration": 22,
    "start_time": "2023-11-09T08:33:22.719Z"
   },
   {
    "duration": 1422,
    "start_time": "2023-11-09T08:35:50.712Z"
   },
   {
    "duration": 1877,
    "start_time": "2023-11-09T08:36:32.938Z"
   },
   {
    "duration": 1597,
    "start_time": "2023-11-09T08:36:49.704Z"
   },
   {
    "duration": 2008,
    "start_time": "2023-11-09T08:39:23.029Z"
   },
   {
    "duration": 1464,
    "start_time": "2023-11-09T08:39:32.121Z"
   },
   {
    "duration": 1519,
    "start_time": "2023-11-09T08:40:07.302Z"
   },
   {
    "duration": 1626,
    "start_time": "2023-11-09T08:40:15.452Z"
   },
   {
    "duration": 15,
    "start_time": "2023-11-09T08:44:32.888Z"
   },
   {
    "duration": 13,
    "start_time": "2023-11-09T08:44:39.406Z"
   },
   {
    "duration": 13,
    "start_time": "2023-11-09T08:44:52.415Z"
   },
   {
    "duration": 14,
    "start_time": "2023-11-09T08:45:14.898Z"
   },
   {
    "duration": 13,
    "start_time": "2023-11-09T08:45:43.322Z"
   },
   {
    "duration": 17,
    "start_time": "2023-11-09T08:54:07.915Z"
   },
   {
    "duration": 235,
    "start_time": "2023-11-09T08:54:25.630Z"
   },
   {
    "duration": 210,
    "start_time": "2023-11-09T08:55:12.742Z"
   },
   {
    "duration": 219,
    "start_time": "2023-11-09T08:56:12.708Z"
   },
   {
    "duration": 142,
    "start_time": "2023-11-09T08:58:24.322Z"
   },
   {
    "duration": 127,
    "start_time": "2023-11-09T08:58:30.369Z"
   },
   {
    "duration": 17,
    "start_time": "2023-11-09T09:04:58.673Z"
   },
   {
    "duration": 258,
    "start_time": "2023-11-09T09:05:13.066Z"
   },
   {
    "duration": 233,
    "start_time": "2023-11-09T09:06:18.794Z"
   },
   {
    "duration": 226,
    "start_time": "2023-11-09T09:06:22.507Z"
   },
   {
    "duration": 273,
    "start_time": "2023-11-09T09:06:23.034Z"
   },
   {
    "duration": 234,
    "start_time": "2023-11-09T09:06:24.676Z"
   },
   {
    "duration": 260,
    "start_time": "2023-11-09T09:06:25.709Z"
   },
   {
    "duration": 250,
    "start_time": "2023-11-09T09:08:31.826Z"
   },
   {
    "duration": 242,
    "start_time": "2023-11-09T09:08:41.814Z"
   },
   {
    "duration": 218,
    "start_time": "2023-11-09T09:08:47.829Z"
   },
   {
    "duration": 20,
    "start_time": "2023-11-09T09:11:40.449Z"
   },
   {
    "duration": 13,
    "start_time": "2023-11-09T09:11:52.900Z"
   },
   {
    "duration": 14,
    "start_time": "2023-11-09T09:12:02.942Z"
   },
   {
    "duration": 13,
    "start_time": "2023-11-09T09:12:11.523Z"
   },
   {
    "duration": 11,
    "start_time": "2023-11-09T09:14:40.383Z"
   },
   {
    "duration": 10,
    "start_time": "2023-11-09T09:15:42.735Z"
   },
   {
    "duration": 123,
    "start_time": "2023-11-09T09:28:08.701Z"
   },
   {
    "duration": 1177,
    "start_time": "2023-11-09T09:34:06.576Z"
   },
   {
    "duration": 65,
    "start_time": "2023-11-09T09:34:07.756Z"
   },
   {
    "duration": 28,
    "start_time": "2023-11-09T09:34:07.823Z"
   },
   {
    "duration": 15,
    "start_time": "2023-11-09T09:34:07.854Z"
   },
   {
    "duration": 50,
    "start_time": "2023-11-09T09:34:07.871Z"
   },
   {
    "duration": 45,
    "start_time": "2023-11-09T09:34:07.923Z"
   },
   {
    "duration": 20,
    "start_time": "2023-11-09T09:34:07.970Z"
   },
   {
    "duration": 30,
    "start_time": "2023-11-09T09:34:07.993Z"
   },
   {
    "duration": 37,
    "start_time": "2023-11-09T09:34:08.026Z"
   },
   {
    "duration": 5,
    "start_time": "2023-11-09T09:34:08.065Z"
   },
   {
    "duration": 11,
    "start_time": "2023-11-09T09:34:08.072Z"
   },
   {
    "duration": 64,
    "start_time": "2023-11-09T09:34:08.086Z"
   },
   {
    "duration": 37,
    "start_time": "2023-11-09T09:34:08.152Z"
   },
   {
    "duration": 24,
    "start_time": "2023-11-09T09:34:08.191Z"
   },
   {
    "duration": 15,
    "start_time": "2023-11-09T09:34:08.217Z"
   },
   {
    "duration": 77,
    "start_time": "2023-11-09T09:34:08.245Z"
   },
   {
    "duration": 241,
    "start_time": "2023-11-09T09:34:08.324Z"
   },
   {
    "duration": 378,
    "start_time": "2023-11-09T09:34:08.567Z"
   },
   {
    "duration": 1179,
    "start_time": "2023-11-09T09:34:08.948Z"
   },
   {
    "duration": 31,
    "start_time": "2023-11-09T09:34:10.130Z"
   },
   {
    "duration": 21,
    "start_time": "2023-11-09T09:34:10.163Z"
   },
   {
    "duration": 377,
    "start_time": "2023-11-09T09:34:10.185Z"
   },
   {
    "duration": 44,
    "start_time": "2023-11-09T09:34:10.565Z"
   },
   {
    "duration": 308,
    "start_time": "2023-11-09T09:34:10.610Z"
   },
   {
    "duration": 210,
    "start_time": "2023-11-09T09:34:10.919Z"
   },
   {
    "duration": 1490,
    "start_time": "2023-11-09T09:34:11.131Z"
   },
   {
    "duration": 22,
    "start_time": "2023-11-09T09:34:12.622Z"
   },
   {
    "duration": 246,
    "start_time": "2023-11-09T09:34:12.649Z"
   },
   {
    "duration": 14,
    "start_time": "2023-11-09T09:34:12.897Z"
   },
   {
    "duration": 248,
    "start_time": "2023-11-09T09:34:12.912Z"
   },
   {
    "duration": 215,
    "start_time": "2023-11-09T09:34:13.162Z"
   },
   {
    "duration": 211,
    "start_time": "2023-11-09T09:34:13.379Z"
   },
   {
    "duration": 305,
    "start_time": "2023-11-09T09:34:13.592Z"
   },
   {
    "duration": 115,
    "start_time": "2023-11-09T09:34:13.899Z"
   },
   {
    "duration": 0,
    "start_time": "2023-11-09T09:34:14.017Z"
   },
   {
    "duration": 0,
    "start_time": "2023-11-09T09:34:14.018Z"
   },
   {
    "duration": 0,
    "start_time": "2023-11-09T09:34:14.020Z"
   },
   {
    "duration": 0,
    "start_time": "2023-11-09T09:34:14.021Z"
   },
   {
    "duration": 0,
    "start_time": "2023-11-09T09:34:14.023Z"
   },
   {
    "duration": 0,
    "start_time": "2023-11-09T09:34:14.026Z"
   },
   {
    "duration": 1224,
    "start_time": "2023-11-09T15:05:17.022Z"
   },
   {
    "duration": 74,
    "start_time": "2023-11-09T15:05:18.248Z"
   },
   {
    "duration": 18,
    "start_time": "2023-11-09T15:05:18.325Z"
   },
   {
    "duration": 23,
    "start_time": "2023-11-09T15:05:18.345Z"
   },
   {
    "duration": 25,
    "start_time": "2023-11-09T15:05:18.370Z"
   },
   {
    "duration": 28,
    "start_time": "2023-11-09T15:05:18.397Z"
   },
   {
    "duration": 21,
    "start_time": "2023-11-09T15:05:18.426Z"
   },
   {
    "duration": 20,
    "start_time": "2023-11-09T15:05:18.448Z"
   },
   {
    "duration": 50,
    "start_time": "2023-11-09T15:05:18.470Z"
   },
   {
    "duration": 3,
    "start_time": "2023-11-09T15:05:18.523Z"
   },
   {
    "duration": 30,
    "start_time": "2023-11-09T15:05:18.527Z"
   },
   {
    "duration": 46,
    "start_time": "2023-11-09T15:05:18.559Z"
   },
   {
    "duration": 20,
    "start_time": "2023-11-09T15:05:18.607Z"
   },
   {
    "duration": 16,
    "start_time": "2023-11-09T15:05:18.629Z"
   },
   {
    "duration": 30,
    "start_time": "2023-11-09T15:05:18.646Z"
   },
   {
    "duration": 17,
    "start_time": "2023-11-09T15:05:18.678Z"
   },
   {
    "duration": 247,
    "start_time": "2023-11-09T15:05:18.696Z"
   },
   {
    "duration": 386,
    "start_time": "2023-11-09T15:05:18.945Z"
   },
   {
    "duration": 1182,
    "start_time": "2023-11-09T15:05:19.333Z"
   },
   {
    "duration": 18,
    "start_time": "2023-11-09T15:05:20.517Z"
   },
   {
    "duration": 29,
    "start_time": "2023-11-09T15:05:20.537Z"
   },
   {
    "duration": 317,
    "start_time": "2023-11-09T15:05:20.568Z"
   },
   {
    "duration": 42,
    "start_time": "2023-11-09T15:05:20.886Z"
   },
   {
    "duration": 291,
    "start_time": "2023-11-09T15:05:20.929Z"
   },
   {
    "duration": 200,
    "start_time": "2023-11-09T15:05:21.222Z"
   },
   {
    "duration": 1485,
    "start_time": "2023-11-09T15:05:21.424Z"
   },
   {
    "duration": 14,
    "start_time": "2023-11-09T15:05:22.911Z"
   },
   {
    "duration": 208,
    "start_time": "2023-11-09T15:05:22.928Z"
   },
   {
    "duration": 15,
    "start_time": "2023-11-09T15:05:23.137Z"
   },
   {
    "duration": 285,
    "start_time": "2023-11-09T15:05:23.153Z"
   },
   {
    "duration": 214,
    "start_time": "2023-11-09T15:05:23.439Z"
   },
   {
    "duration": 212,
    "start_time": "2023-11-09T15:05:23.655Z"
   },
   {
    "duration": 232,
    "start_time": "2023-11-09T15:05:23.868Z"
   },
   {
    "duration": 105,
    "start_time": "2023-11-09T15:05:24.102Z"
   },
   {
    "duration": 0,
    "start_time": "2023-11-09T15:05:24.208Z"
   },
   {
    "duration": 0,
    "start_time": "2023-11-09T15:05:24.210Z"
   },
   {
    "duration": 0,
    "start_time": "2023-11-09T15:05:24.211Z"
   },
   {
    "duration": 0,
    "start_time": "2023-11-09T15:05:24.212Z"
   },
   {
    "duration": 0,
    "start_time": "2023-11-09T15:05:24.213Z"
   },
   {
    "duration": 0,
    "start_time": "2023-11-09T15:05:24.214Z"
   },
   {
    "duration": 306,
    "start_time": "2023-11-09T15:08:18.603Z"
   },
   {
    "duration": 196,
    "start_time": "2023-11-09T15:08:22.875Z"
   },
   {
    "duration": 13,
    "start_time": "2023-11-09T15:08:32.690Z"
   },
   {
    "duration": 14,
    "start_time": "2023-11-09T15:08:33.082Z"
   },
   {
    "duration": 13,
    "start_time": "2023-11-09T15:08:33.451Z"
   },
   {
    "duration": 8,
    "start_time": "2023-11-09T15:09:34.715Z"
   }
  ],
  "kernelspec": {
   "display_name": "Python 3 (ipykernel)",
   "language": "python",
   "name": "python3"
  },
  "language_info": {
   "codemirror_mode": {
    "name": "ipython",
    "version": 3
   },
   "file_extension": ".py",
   "mimetype": "text/x-python",
   "name": "python",
   "nbconvert_exporter": "python",
   "pygments_lexer": "ipython3",
   "version": "3.9.5"
  },
  "toc": {
   "base_numbering": 1,
   "nav_menu": {},
   "number_sections": true,
   "sideBar": true,
   "skip_h1_title": true,
   "title_cell": "Table of Contents",
   "title_sidebar": "Contents",
   "toc_cell": false,
   "toc_position": {},
   "toc_section_display": true,
   "toc_window_display": false
  }
 },
 "nbformat": 4,
 "nbformat_minor": 2
}
