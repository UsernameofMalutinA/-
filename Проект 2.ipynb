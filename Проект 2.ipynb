{
 "cells": [
  {
   "cell_type": "markdown",
   "id": "a4e1be98",
   "metadata": {},
   "source": [
    "<h2>Анализ данных популярного сервиса аренды самокатов GoFast<a class=\"tocSkip\"><.h2>"
   ]
  },
  {
   "cell_type": "markdown",
   "id": "a37d8e8a",
   "metadata": {},
   "source": [
    "Нам передали данные о некоторых пользователях из нескольких городов, а также об их поездках. Проанализируем данные и проверим некоторые гипотезы, которые могут помочь бизнесу вырасти. Основными задачами являются: Предварительный анализ, предобработка, исследование, оптимизация данных, а также приведение их к виду удобному для проверки гипотез. В результате работы планируется сделать выводы, которые помогут улучшить бизнес процессы и сделать их более эффективными."
   ]
  },
  {
   "cell_type": "code",
   "execution_count": 1,
   "id": "e45360d0",
   "metadata": {},
   "outputs": [],
   "source": [
    "import pandas as pd\n",
    "import matplotlib.pyplot as plt\n",
    "import math\n",
    "import numpy as np\n",
    "from scipy import stats as st"
   ]
  },
  {
   "cell_type": "markdown",
   "id": "c42cbe00",
   "metadata": {},
   "source": [
    "#### Загрузка данных"
   ]
  },
  {
   "cell_type": "code",
   "execution_count": 2,
   "id": "eff9f206",
   "metadata": {
    "scrolled": true
   },
   "outputs": [
    {
     "data": {
      "text/html": [
       "<div>\n",
       "<style scoped>\n",
       "    .dataframe tbody tr th:only-of-type {\n",
       "        vertical-align: middle;\n",
       "    }\n",
       "\n",
       "    .dataframe tbody tr th {\n",
       "        vertical-align: top;\n",
       "    }\n",
       "\n",
       "    .dataframe thead th {\n",
       "        text-align: right;\n",
       "    }\n",
       "</style>\n",
       "<table border=\"1\" class=\"dataframe\">\n",
       "  <thead>\n",
       "    <tr style=\"text-align: right;\">\n",
       "      <th></th>\n",
       "      <th>user_id</th>\n",
       "      <th>name</th>\n",
       "      <th>age</th>\n",
       "      <th>city</th>\n",
       "      <th>subscription_type</th>\n",
       "    </tr>\n",
       "  </thead>\n",
       "  <tbody>\n",
       "    <tr>\n",
       "      <th>0</th>\n",
       "      <td>1</td>\n",
       "      <td>Кира</td>\n",
       "      <td>22</td>\n",
       "      <td>Тюмень</td>\n",
       "      <td>ultra</td>\n",
       "    </tr>\n",
       "    <tr>\n",
       "      <th>1</th>\n",
       "      <td>2</td>\n",
       "      <td>Станислав</td>\n",
       "      <td>31</td>\n",
       "      <td>Омск</td>\n",
       "      <td>ultra</td>\n",
       "    </tr>\n",
       "    <tr>\n",
       "      <th>2</th>\n",
       "      <td>3</td>\n",
       "      <td>Алексей</td>\n",
       "      <td>20</td>\n",
       "      <td>Москва</td>\n",
       "      <td>ultra</td>\n",
       "    </tr>\n",
       "    <tr>\n",
       "      <th>3</th>\n",
       "      <td>4</td>\n",
       "      <td>Константин</td>\n",
       "      <td>26</td>\n",
       "      <td>Ростов-на-Дону</td>\n",
       "      <td>ultra</td>\n",
       "    </tr>\n",
       "    <tr>\n",
       "      <th>4</th>\n",
       "      <td>5</td>\n",
       "      <td>Адель</td>\n",
       "      <td>28</td>\n",
       "      <td>Омск</td>\n",
       "      <td>ultra</td>\n",
       "    </tr>\n",
       "  </tbody>\n",
       "</table>\n",
       "</div>"
      ],
      "text/plain": [
       "   user_id        name  age            city subscription_type\n",
       "0        1        Кира   22          Тюмень             ultra\n",
       "1        2   Станислав   31            Омск             ultra\n",
       "2        3     Алексей   20          Москва             ultra\n",
       "3        4  Константин   26  Ростов-на-Дону             ultra\n",
       "4        5       Адель   28            Омск             ultra"
      ]
     },
     "metadata": {},
     "output_type": "display_data"
    },
    {
     "data": {
      "text/html": [
       "<div>\n",
       "<style scoped>\n",
       "    .dataframe tbody tr th:only-of-type {\n",
       "        vertical-align: middle;\n",
       "    }\n",
       "\n",
       "    .dataframe tbody tr th {\n",
       "        vertical-align: top;\n",
       "    }\n",
       "\n",
       "    .dataframe thead th {\n",
       "        text-align: right;\n",
       "    }\n",
       "</style>\n",
       "<table border=\"1\" class=\"dataframe\">\n",
       "  <thead>\n",
       "    <tr style=\"text-align: right;\">\n",
       "      <th></th>\n",
       "      <th>user_id</th>\n",
       "      <th>distance</th>\n",
       "      <th>duration</th>\n",
       "      <th>date</th>\n",
       "    </tr>\n",
       "  </thead>\n",
       "  <tbody>\n",
       "    <tr>\n",
       "      <th>0</th>\n",
       "      <td>1</td>\n",
       "      <td>4409.919140</td>\n",
       "      <td>25.599769</td>\n",
       "      <td>2021-01-01</td>\n",
       "    </tr>\n",
       "    <tr>\n",
       "      <th>1</th>\n",
       "      <td>1</td>\n",
       "      <td>2617.592153</td>\n",
       "      <td>15.816871</td>\n",
       "      <td>2021-01-18</td>\n",
       "    </tr>\n",
       "    <tr>\n",
       "      <th>2</th>\n",
       "      <td>1</td>\n",
       "      <td>754.159807</td>\n",
       "      <td>6.232113</td>\n",
       "      <td>2021-04-20</td>\n",
       "    </tr>\n",
       "    <tr>\n",
       "      <th>3</th>\n",
       "      <td>1</td>\n",
       "      <td>2694.783254</td>\n",
       "      <td>18.511000</td>\n",
       "      <td>2021-08-11</td>\n",
       "    </tr>\n",
       "    <tr>\n",
       "      <th>4</th>\n",
       "      <td>1</td>\n",
       "      <td>4028.687306</td>\n",
       "      <td>26.265803</td>\n",
       "      <td>2021-08-28</td>\n",
       "    </tr>\n",
       "  </tbody>\n",
       "</table>\n",
       "</div>"
      ],
      "text/plain": [
       "   user_id     distance   duration        date\n",
       "0        1  4409.919140  25.599769  2021-01-01\n",
       "1        1  2617.592153  15.816871  2021-01-18\n",
       "2        1   754.159807   6.232113  2021-04-20\n",
       "3        1  2694.783254  18.511000  2021-08-11\n",
       "4        1  4028.687306  26.265803  2021-08-28"
      ]
     },
     "metadata": {},
     "output_type": "display_data"
    },
    {
     "data": {
      "text/html": [
       "<div>\n",
       "<style scoped>\n",
       "    .dataframe tbody tr th:only-of-type {\n",
       "        vertical-align: middle;\n",
       "    }\n",
       "\n",
       "    .dataframe tbody tr th {\n",
       "        vertical-align: top;\n",
       "    }\n",
       "\n",
       "    .dataframe thead th {\n",
       "        text-align: right;\n",
       "    }\n",
       "</style>\n",
       "<table border=\"1\" class=\"dataframe\">\n",
       "  <thead>\n",
       "    <tr style=\"text-align: right;\">\n",
       "      <th></th>\n",
       "      <th>subscription_type</th>\n",
       "      <th>minute_price</th>\n",
       "      <th>start_ride_price</th>\n",
       "      <th>subscription_fee</th>\n",
       "    </tr>\n",
       "  </thead>\n",
       "  <tbody>\n",
       "    <tr>\n",
       "      <th>0</th>\n",
       "      <td>free</td>\n",
       "      <td>8</td>\n",
       "      <td>50</td>\n",
       "      <td>0</td>\n",
       "    </tr>\n",
       "    <tr>\n",
       "      <th>1</th>\n",
       "      <td>ultra</td>\n",
       "      <td>6</td>\n",
       "      <td>0</td>\n",
       "      <td>199</td>\n",
       "    </tr>\n",
       "  </tbody>\n",
       "</table>\n",
       "</div>"
      ],
      "text/plain": [
       "  subscription_type  minute_price  start_ride_price  subscription_fee\n",
       "0              free             8                50                 0\n",
       "1             ultra             6                 0               199"
      ]
     },
     "execution_count": 2,
     "metadata": {},
     "output_type": "execute_result"
    }
   ],
   "source": [
    "users_data = pd.read_csv('/datasets/users_go.csv')\n",
    "rides_data = pd.read_csv('/datasets/rides_go.csv')\n",
    "subscriptions_data = pd.read_csv('/datasets/subscriptions_go.csv')\n",
    "display(users_data.head())\n",
    "display(rides_data.head())\n",
    "subscriptions_data.head()"
   ]
  },
  {
   "cell_type": "markdown",
   "id": "f7205c35",
   "metadata": {},
   "source": [
    "Были созданы три датафрейма с нужными для анализа данными. Каждый из датафреймов изучен при помощи выведения первых пяти строк. Первый датафрейм содержит данные о пользователях, а именно ID(int), имя(str), возраст(int), город(str) и тип подписки(str).Второй информацию о поездках - дистанцию(float), продолжительность(float) и дату заезда(datetime). Третий всю информацию о подписке(int), а также различия бесплатного катания и катания с подпиской."
   ]
  },
  {
   "cell_type": "markdown",
   "id": "e95ebca7",
   "metadata": {},
   "source": [
    "#### Предобработка данных"
   ]
  },
  {
   "cell_type": "code",
   "execution_count": 3,
   "id": "af6d202c",
   "metadata": {},
   "outputs": [
    {
     "name": "stdout",
     "output_type": "stream",
     "text": [
      "   user_id     distance  duration       date  month_date\n",
      "0        1  4409.919140        26 2021-01-01           1\n",
      "1        1  2617.592153        16 2021-01-18           1\n",
      "2        1   754.159807         7 2021-04-20           4\n",
      "3        1  2694.783254        19 2021-08-11           8\n",
      "4        1  4028.687306        27 2021-08-28           8\n"
     ]
    }
   ],
   "source": [
    "#Создадим столбец с номером месяца в дате\n",
    "rides_data['date'] = pd.to_datetime(rides_data['date'])\n",
    "rides_data['month_date'] = rides_data['date'].dt.month\n",
    "#Мы округляем значения до ближайшего сверху целого числа для дальнейшей более удобной работы с этими значениями\n",
    "rides_data['duration'] = np.ceil(rides_data['duration'])\n",
    "#Изменим тип данных на int потому что все числа после преобразований являются целыми\n",
    "rides_data['duration'] = rides_data['duration'].astype('int')\n",
    "print(rides_data.head())"
   ]
  },
  {
   "cell_type": "code",
   "execution_count": 4,
   "id": "bf4e2b35",
   "metadata": {},
   "outputs": [
    {
     "data": {
      "text/plain": [
       "31"
      ]
     },
     "execution_count": 4,
     "metadata": {},
     "output_type": "execute_result"
    }
   ],
   "source": [
    "#Проверим датафреймы на предмет дубликатов\n",
    "users_data.duplicated().sum()"
   ]
  },
  {
   "cell_type": "code",
   "execution_count": 5,
   "id": "9257ef79",
   "metadata": {},
   "outputs": [
    {
     "data": {
      "text/html": [
       "<div>\n",
       "<style scoped>\n",
       "    .dataframe tbody tr th:only-of-type {\n",
       "        vertical-align: middle;\n",
       "    }\n",
       "\n",
       "    .dataframe tbody tr th {\n",
       "        vertical-align: top;\n",
       "    }\n",
       "\n",
       "    .dataframe thead th {\n",
       "        text-align: right;\n",
       "    }\n",
       "</style>\n",
       "<table border=\"1\" class=\"dataframe\">\n",
       "  <thead>\n",
       "    <tr style=\"text-align: right;\">\n",
       "      <th></th>\n",
       "      <th>user_id</th>\n",
       "      <th>name</th>\n",
       "      <th>age</th>\n",
       "      <th>city</th>\n",
       "      <th>subscription_type</th>\n",
       "    </tr>\n",
       "  </thead>\n",
       "  <tbody>\n",
       "    <tr>\n",
       "      <th>0</th>\n",
       "      <td>1</td>\n",
       "      <td>Кира</td>\n",
       "      <td>22</td>\n",
       "      <td>Тюмень</td>\n",
       "      <td>ultra</td>\n",
       "    </tr>\n",
       "    <tr>\n",
       "      <th>1</th>\n",
       "      <td>2</td>\n",
       "      <td>Станислав</td>\n",
       "      <td>31</td>\n",
       "      <td>Омск</td>\n",
       "      <td>ultra</td>\n",
       "    </tr>\n",
       "    <tr>\n",
       "      <th>2</th>\n",
       "      <td>3</td>\n",
       "      <td>Алексей</td>\n",
       "      <td>20</td>\n",
       "      <td>Москва</td>\n",
       "      <td>ultra</td>\n",
       "    </tr>\n",
       "    <tr>\n",
       "      <th>3</th>\n",
       "      <td>4</td>\n",
       "      <td>Константин</td>\n",
       "      <td>26</td>\n",
       "      <td>Ростов-на-Дону</td>\n",
       "      <td>ultra</td>\n",
       "    </tr>\n",
       "    <tr>\n",
       "      <th>4</th>\n",
       "      <td>5</td>\n",
       "      <td>Адель</td>\n",
       "      <td>28</td>\n",
       "      <td>Омск</td>\n",
       "      <td>ultra</td>\n",
       "    </tr>\n",
       "  </tbody>\n",
       "</table>\n",
       "</div>"
      ],
      "text/plain": [
       "   user_id        name  age            city subscription_type\n",
       "0        1        Кира   22          Тюмень             ultra\n",
       "1        2   Станислав   31            Омск             ultra\n",
       "2        3     Алексей   20          Москва             ultra\n",
       "3        4  Константин   26  Ростов-на-Дону             ultra\n",
       "4        5       Адель   28            Омск             ultra"
      ]
     },
     "execution_count": 5,
     "metadata": {},
     "output_type": "execute_result"
    }
   ],
   "source": [
    "#Удалим явные дубликаты\n",
    "users_data = users_data.drop_duplicates()\n",
    "users_data = users_data.reset_index(drop=True)\n",
    "users_data.head()"
   ]
  },
  {
   "cell_type": "code",
   "execution_count": 6,
   "id": "ef14992b",
   "metadata": {},
   "outputs": [
    {
     "data": {
      "text/plain": [
       "0"
      ]
     },
     "execution_count": 6,
     "metadata": {},
     "output_type": "execute_result"
    }
   ],
   "source": [
    "users_data.duplicated().sum()"
   ]
  },
  {
   "cell_type": "code",
   "execution_count": 7,
   "id": "18fd4f0c",
   "metadata": {},
   "outputs": [
    {
     "data": {
      "text/plain": [
       "0"
      ]
     },
     "execution_count": 7,
     "metadata": {},
     "output_type": "execute_result"
    }
   ],
   "source": [
    "rides_data.duplicated().sum()"
   ]
  },
  {
   "cell_type": "markdown",
   "id": "dfaf4756",
   "metadata": {},
   "source": [
    "В результате предобработки был создан новый столбец с месяцами заказа. Также были изучены все столбцы датафреймов были обнаружены и удалены дубликаты в первом датафрейме, аномальных значений замечено не было. В столбце с длительностью заездов значения были округлены для ближайших сверху целых чисел для более удобной работы в дальнейшем."
   ]
  },
  {
   "cell_type": "markdown",
   "id": "212593c7",
   "metadata": {},
   "source": [
    "#### Исследовательский анализ данных"
   ]
  },
  {
   "cell_type": "code",
   "execution_count": 8,
   "id": "e3a4274c",
   "metadata": {},
   "outputs": [
    {
     "name": "stdout",
     "output_type": "stream",
     "text": [
      "Пятигорск         219\n",
      "Екатеринбург      204\n",
      "Ростов-на-Дону    198\n",
      "Краснодар         193\n",
      "Сочи              189\n",
      "Омск              183\n",
      "Тюмень            180\n",
      "Москва            168\n",
      "Name: city, dtype: int64\n",
      "AxesSubplot(0.125,0.125;0.775x0.755)\n"
     ]
    },
    {
     "data": {
      "image/png": "[encoded data removed]",
      "text/plain": [
       "<Figure size 432x288 with 1 Axes>"
      ]
     },
     "metadata": {
      "needs_background": "light"
     },
     "output_type": "display_data"
    }
   ],
   "source": [
    "#Выведем частоту встречаемости городов\n",
    "city_count_table = users_data.city.value_counts()\n",
    "print(city_count_table)\n",
    "plot0 = city_count_table.plot(kind='bar', title='Пользователи из разных городов')\n",
    "plt.xlabel(\"Город\")\n",
    "plt.ylabel(\"Количество\")\n",
    "print(plot0)"
   ]
  },
  {
   "cell_type": "markdown",
   "id": "189d6141",
   "metadata": {},
   "source": [
    "Видно, что самый распространенный город - это Пятигорск, а самый не распространенный - Москва. Это странно, учитывая размер городов, но возможно компания только начинает пробовать себя на крупном рынке. "
   ]
  },
  {
   "cell_type": "code",
   "execution_count": 9,
   "id": "53413cdb",
   "metadata": {
    "scrolled": true
   },
   "outputs": [
    {
     "name": "stdout",
     "output_type": "stream",
     "text": [
      "free     835\n",
      "ultra    699\n",
      "Name: subscription_type, dtype: int64\n"
     ]
    },
    {
     "data": {
      "text/plain": [
       "<AxesSubplot:title={'center':'Пользователи с разными типами подписки'}, ylabel='subscription_type'>"
      ]
     },
     "execution_count": 9,
     "metadata": {},
     "output_type": "execute_result"
    },
    {
     "data": {
      "image/png": "[encoded data removed]",
      "text/plain": [
       "<Figure size 432x288 with 1 Axes>"
      ]
     },
     "metadata": {},
     "output_type": "display_data"
    }
   ],
   "source": [
    "subs_count_table = users_data.subscription_type.value_counts()\n",
    "print(subs_count_table)\n",
    "subs_count_table.plot(kind='pie', title='Пользователи с разными типами подписки', autopct='%1.1f%%')"
   ]
  },
  {
   "cell_type": "markdown",
   "id": "fb789ef4",
   "metadata": {},
   "source": [
    "Мы видим, что пользователей с подпиской и без подписки практически равное количество, но пользователей без подписки больше. Разница между ними составляет всего 8% от общего количества пользователей."
   ]
  },
  {
   "cell_type": "code",
   "execution_count": 10,
   "id": "991329f2",
   "metadata": {
    "scrolled": false
   },
   "outputs": [
    {
     "name": "stdout",
     "output_type": "stream",
     "text": [
      "25    145\n",
      "24    132\n",
      "26    131\n",
      "23    129\n",
      "27    119\n",
      "22    119\n",
      "28    112\n",
      "21     93\n",
      "20     71\n",
      "30     68\n",
      "29     68\n",
      "31     48\n",
      "19     47\n",
      "18     46\n",
      "32     41\n",
      "33     39\n",
      "17     26\n",
      "34     19\n",
      "16     19\n",
      "35     15\n",
      "15     13\n",
      "14      9\n",
      "13      8\n",
      "36      6\n",
      "12      4\n",
      "38      3\n",
      "37      2\n",
      "39      1\n",
      "43      1\n",
      "Name: age, dtype: int64\n",
      "count     29.000000\n",
      "mean      52.896552\n",
      "std       48.824280\n",
      "min        1.000000\n",
      "25%        9.000000\n",
      "50%       41.000000\n",
      "75%       93.000000\n",
      "max      145.000000\n",
      "Name: age, dtype: float64\n",
      "AxesSubplot(0.125,0.125;0.775x0.755)\n"
     ]
    },
    {
     "data": {
      "image/png": "[encoded data removed]",
      "text/plain": [
       "<Figure size 432x288 with 1 Axes>"
      ]
     },
     "metadata": {
      "needs_background": "light"
     },
     "output_type": "display_data"
    }
   ],
   "source": [
    "age_count_table = users_data.age.value_counts()\n",
    "print(age_count_table)\n",
    "print(age_count_table.describe())\n",
    "plot1 = age_count_table.plot(kind = 'bar', title='Пользователи с разным возрастом')\n",
    "plt.xlabel(\"Возраст\")\n",
    "plt.ylabel(\"Количество\")\n",
    "print(plot1)"
   ]
  },
  {
   "cell_type": "markdown",
   "id": "1ae0428f",
   "metadata": {},
   "source": [
    "Исходя из полученных данных самым частым возрастом пользователей является - 25 лет, а самыми редкими 37, 39, 43."
   ]
  },
  {
   "cell_type": "code",
   "execution_count": 11,
   "id": "9673ee76",
   "metadata": {},
   "outputs": [
    {
     "name": "stdout",
     "output_type": "stream",
     "text": [
      "count    18068.000000\n",
      "mean      3070.659976\n",
      "std       1116.831209\n",
      "min          0.855683\n",
      "25%       2543.226360\n",
      "50%       3133.609994\n",
      "75%       3776.222735\n",
      "max       7211.007745\n",
      "Name: distance, dtype: float64\n"
     ]
    },
    {
     "data": {
      "text/plain": [
       "<AxesSubplot:title={'center':'Дистанция заездов'}, xlabel='Дистанция', ylabel='Количество'>"
      ]
     },
     "execution_count": 11,
     "metadata": {},
     "output_type": "execute_result"
    },
    {
     "data": {
      "image/png": "[encoded data removed]",
      "text/plain": [
       "<Figure size 432x288 with 1 Axes>"
      ]
     },
     "metadata": {
      "needs_background": "light"
     },
     "output_type": "display_data"
    }
   ],
   "source": [
    "print(rides_data['distance'].describe())\n",
    "plot2 = rides_data['distance'].plot(kind='hist',bins = 70, title='Дистанция заездов')\n",
    "plt.xlabel(\"Дистанция\")\n",
    "plt.ylabel(\"Количество\")\n",
    "plot2"
   ]
  },
  {
   "cell_type": "markdown",
   "id": "fe2b89d4",
   "metadata": {},
   "source": [
    "По гистограмме видно, что распределение преодоленного расстояния близко к нормальному с центральным значением 3070 метров."
   ]
  },
  {
   "cell_type": "code",
   "execution_count": 12,
   "id": "f1d3e7c5",
   "metadata": {
    "scrolled": true
   },
   "outputs": [
    {
     "name": "stdout",
     "output_type": "stream",
     "text": [
      "count    18068.000000\n",
      "mean        18.303520\n",
      "std          6.094928\n",
      "min          1.000000\n",
      "25%         14.000000\n",
      "50%         18.000000\n",
      "75%         22.000000\n",
      "max         41.000000\n",
      "Name: duration, dtype: float64\n"
     ]
    },
    {
     "data": {
      "text/plain": [
       "<AxesSubplot:title={'center':'Длительность заездов'}, xlabel='Длительность', ylabel='Количество'>"
      ]
     },
     "execution_count": 12,
     "metadata": {},
     "output_type": "execute_result"
    },
    {
     "data": {
      "image/png": "[encoded data removed]",
      "text/plain": [
       "<Figure size 432x288 with 1 Axes>"
      ]
     },
     "metadata": {
      "needs_background": "light"
     },
     "output_type": "display_data"
    }
   ],
   "source": [
    "print(rides_data['duration'].describe())\n",
    "plot3 = rides_data['duration'].plot(kind='hist',bins = 40, title='Длительность заездов')\n",
    "plt.xlabel(\"Длительность\")\n",
    "plt.ylabel(\"Количество\")\n",
    "plot3"
   ]
  },
  {
   "cell_type": "markdown",
   "id": "4a64be4a",
   "metadata": {},
   "source": [
    "Распределение времени поездки также является номальным с центральным значением 17.8 минут."
   ]
  },
  {
   "cell_type": "markdown",
   "id": "281a510e",
   "metadata": {},
   "source": [
    "**Вывод**:\n",
    "\n",
    "Проведя исследователький анализ данных можно сделать вывод, что самым часто встречающимся городом является Пятигорск, а самым редким - Москва. Пользователей с подпиской и без подписки практически равное количество, но пользователей без подписки больше. Самый распространенный возраст пользователей - 25 лет, а самые непопулярные 37, 39 и 43. Распределение преодоленного расстояния близко к нормальному с центральным значением 3070 метров. Распределение времени поездки также является номальным с центральным значением 17.8 минут."
   ]
  },
  {
   "cell_type": "markdown",
   "id": "4ef51331",
   "metadata": {},
   "source": [
    "#### Объединение данных"
   ]
  },
  {
   "cell_type": "code",
   "execution_count": 13,
   "id": "6bf288b5",
   "metadata": {
    "scrolled": false
   },
   "outputs": [
    {
     "data": {
      "text/html": [
       "<div>\n",
       "<style scoped>\n",
       "    .dataframe tbody tr th:only-of-type {\n",
       "        vertical-align: middle;\n",
       "    }\n",
       "\n",
       "    .dataframe tbody tr th {\n",
       "        vertical-align: top;\n",
       "    }\n",
       "\n",
       "    .dataframe thead th {\n",
       "        text-align: right;\n",
       "    }\n",
       "</style>\n",
       "<table border=\"1\" class=\"dataframe\">\n",
       "  <thead>\n",
       "    <tr style=\"text-align: right;\">\n",
       "      <th></th>\n",
       "      <th>user_id</th>\n",
       "      <th>name</th>\n",
       "      <th>age</th>\n",
       "      <th>city</th>\n",
       "      <th>subscription_type</th>\n",
       "      <th>distance</th>\n",
       "      <th>duration</th>\n",
       "      <th>date</th>\n",
       "      <th>month_date</th>\n",
       "      <th>minute_price</th>\n",
       "      <th>start_ride_price</th>\n",
       "      <th>subscription_fee</th>\n",
       "    </tr>\n",
       "  </thead>\n",
       "  <tbody>\n",
       "    <tr>\n",
       "      <th>0</th>\n",
       "      <td>1</td>\n",
       "      <td>Кира</td>\n",
       "      <td>22</td>\n",
       "      <td>Тюмень</td>\n",
       "      <td>ultra</td>\n",
       "      <td>4409.919140</td>\n",
       "      <td>26</td>\n",
       "      <td>2021-01-01</td>\n",
       "      <td>1</td>\n",
       "      <td>6</td>\n",
       "      <td>0</td>\n",
       "      <td>199</td>\n",
       "    </tr>\n",
       "    <tr>\n",
       "      <th>1</th>\n",
       "      <td>1</td>\n",
       "      <td>Кира</td>\n",
       "      <td>22</td>\n",
       "      <td>Тюмень</td>\n",
       "      <td>ultra</td>\n",
       "      <td>2617.592153</td>\n",
       "      <td>16</td>\n",
       "      <td>2021-01-18</td>\n",
       "      <td>1</td>\n",
       "      <td>6</td>\n",
       "      <td>0</td>\n",
       "      <td>199</td>\n",
       "    </tr>\n",
       "    <tr>\n",
       "      <th>2</th>\n",
       "      <td>1</td>\n",
       "      <td>Кира</td>\n",
       "      <td>22</td>\n",
       "      <td>Тюмень</td>\n",
       "      <td>ultra</td>\n",
       "      <td>754.159807</td>\n",
       "      <td>7</td>\n",
       "      <td>2021-04-20</td>\n",
       "      <td>4</td>\n",
       "      <td>6</td>\n",
       "      <td>0</td>\n",
       "      <td>199</td>\n",
       "    </tr>\n",
       "    <tr>\n",
       "      <th>3</th>\n",
       "      <td>1</td>\n",
       "      <td>Кира</td>\n",
       "      <td>22</td>\n",
       "      <td>Тюмень</td>\n",
       "      <td>ultra</td>\n",
       "      <td>2694.783254</td>\n",
       "      <td>19</td>\n",
       "      <td>2021-08-11</td>\n",
       "      <td>8</td>\n",
       "      <td>6</td>\n",
       "      <td>0</td>\n",
       "      <td>199</td>\n",
       "    </tr>\n",
       "    <tr>\n",
       "      <th>4</th>\n",
       "      <td>1</td>\n",
       "      <td>Кира</td>\n",
       "      <td>22</td>\n",
       "      <td>Тюмень</td>\n",
       "      <td>ultra</td>\n",
       "      <td>4028.687306</td>\n",
       "      <td>27</td>\n",
       "      <td>2021-08-28</td>\n",
       "      <td>8</td>\n",
       "      <td>6</td>\n",
       "      <td>0</td>\n",
       "      <td>199</td>\n",
       "    </tr>\n",
       "    <tr>\n",
       "      <th>5</th>\n",
       "      <td>1</td>\n",
       "      <td>Кира</td>\n",
       "      <td>22</td>\n",
       "      <td>Тюмень</td>\n",
       "      <td>ultra</td>\n",
       "      <td>2770.890808</td>\n",
       "      <td>17</td>\n",
       "      <td>2021-10-09</td>\n",
       "      <td>10</td>\n",
       "      <td>6</td>\n",
       "      <td>0</td>\n",
       "      <td>199</td>\n",
       "    </tr>\n",
       "    <tr>\n",
       "      <th>6</th>\n",
       "      <td>1</td>\n",
       "      <td>Кира</td>\n",
       "      <td>22</td>\n",
       "      <td>Тюмень</td>\n",
       "      <td>ultra</td>\n",
       "      <td>3039.020292</td>\n",
       "      <td>15</td>\n",
       "      <td>2021-10-19</td>\n",
       "      <td>10</td>\n",
       "      <td>6</td>\n",
       "      <td>0</td>\n",
       "      <td>199</td>\n",
       "    </tr>\n",
       "    <tr>\n",
       "      <th>7</th>\n",
       "      <td>1</td>\n",
       "      <td>Кира</td>\n",
       "      <td>22</td>\n",
       "      <td>Тюмень</td>\n",
       "      <td>ultra</td>\n",
       "      <td>2842.118050</td>\n",
       "      <td>24</td>\n",
       "      <td>2021-11-06</td>\n",
       "      <td>11</td>\n",
       "      <td>6</td>\n",
       "      <td>0</td>\n",
       "      <td>199</td>\n",
       "    </tr>\n",
       "    <tr>\n",
       "      <th>8</th>\n",
       "      <td>1</td>\n",
       "      <td>Кира</td>\n",
       "      <td>22</td>\n",
       "      <td>Тюмень</td>\n",
       "      <td>ultra</td>\n",
       "      <td>3412.690668</td>\n",
       "      <td>16</td>\n",
       "      <td>2021-11-14</td>\n",
       "      <td>11</td>\n",
       "      <td>6</td>\n",
       "      <td>0</td>\n",
       "      <td>199</td>\n",
       "    </tr>\n",
       "    <tr>\n",
       "      <th>9</th>\n",
       "      <td>1</td>\n",
       "      <td>Кира</td>\n",
       "      <td>22</td>\n",
       "      <td>Тюмень</td>\n",
       "      <td>ultra</td>\n",
       "      <td>748.690645</td>\n",
       "      <td>16</td>\n",
       "      <td>2021-11-22</td>\n",
       "      <td>11</td>\n",
       "      <td>6</td>\n",
       "      <td>0</td>\n",
       "      <td>199</td>\n",
       "    </tr>\n",
       "    <tr>\n",
       "      <th>10</th>\n",
       "      <td>1</td>\n",
       "      <td>Кира</td>\n",
       "      <td>22</td>\n",
       "      <td>Тюмень</td>\n",
       "      <td>ultra</td>\n",
       "      <td>4031.020195</td>\n",
       "      <td>18</td>\n",
       "      <td>2021-12-14</td>\n",
       "      <td>12</td>\n",
       "      <td>6</td>\n",
       "      <td>0</td>\n",
       "      <td>199</td>\n",
       "    </tr>\n",
       "    <tr>\n",
       "      <th>11</th>\n",
       "      <td>1</td>\n",
       "      <td>Кира</td>\n",
       "      <td>22</td>\n",
       "      <td>Тюмень</td>\n",
       "      <td>ultra</td>\n",
       "      <td>2720.609748</td>\n",
       "      <td>10</td>\n",
       "      <td>2021-12-22</td>\n",
       "      <td>12</td>\n",
       "      <td>6</td>\n",
       "      <td>0</td>\n",
       "      <td>199</td>\n",
       "    </tr>\n",
       "    <tr>\n",
       "      <th>12</th>\n",
       "      <td>2</td>\n",
       "      <td>Станислав</td>\n",
       "      <td>31</td>\n",
       "      <td>Омск</td>\n",
       "      <td>ultra</td>\n",
       "      <td>3105.086678</td>\n",
       "      <td>25</td>\n",
       "      <td>2021-03-15</td>\n",
       "      <td>3</td>\n",
       "      <td>6</td>\n",
       "      <td>0</td>\n",
       "      <td>199</td>\n",
       "    </tr>\n",
       "    <tr>\n",
       "      <th>13</th>\n",
       "      <td>2</td>\n",
       "      <td>Станислав</td>\n",
       "      <td>31</td>\n",
       "      <td>Омск</td>\n",
       "      <td>ultra</td>\n",
       "      <td>3053.519401</td>\n",
       "      <td>12</td>\n",
       "      <td>2021-03-18</td>\n",
       "      <td>3</td>\n",
       "      <td>6</td>\n",
       "      <td>0</td>\n",
       "      <td>199</td>\n",
       "    </tr>\n",
       "    <tr>\n",
       "      <th>14</th>\n",
       "      <td>2</td>\n",
       "      <td>Станислав</td>\n",
       "      <td>31</td>\n",
       "      <td>Омск</td>\n",
       "      <td>ultra</td>\n",
       "      <td>4029.116927</td>\n",
       "      <td>26</td>\n",
       "      <td>2021-03-23</td>\n",
       "      <td>3</td>\n",
       "      <td>6</td>\n",
       "      <td>0</td>\n",
       "      <td>199</td>\n",
       "    </tr>\n",
       "  </tbody>\n",
       "</table>\n",
       "</div>"
      ],
      "text/plain": [
       "    user_id       name  age    city subscription_type     distance  duration  \\\n",
       "0         1       Кира   22  Тюмень             ultra  4409.919140        26   \n",
       "1         1       Кира   22  Тюмень             ultra  2617.592153        16   \n",
       "2         1       Кира   22  Тюмень             ultra   754.159807         7   \n",
       "3         1       Кира   22  Тюмень             ultra  2694.783254        19   \n",
       "4         1       Кира   22  Тюмень             ultra  4028.687306        27   \n",
       "5         1       Кира   22  Тюмень             ultra  2770.890808        17   \n",
       "6         1       Кира   22  Тюмень             ultra  3039.020292        15   \n",
       "7         1       Кира   22  Тюмень             ultra  2842.118050        24   \n",
       "8         1       Кира   22  Тюмень             ultra  3412.690668        16   \n",
       "9         1       Кира   22  Тюмень             ultra   748.690645        16   \n",
       "10        1       Кира   22  Тюмень             ultra  4031.020195        18   \n",
       "11        1       Кира   22  Тюмень             ultra  2720.609748        10   \n",
       "12        2  Станислав   31    Омск             ultra  3105.086678        25   \n",
       "13        2  Станислав   31    Омск             ultra  3053.519401        12   \n",
       "14        2  Станислав   31    Омск             ultra  4029.116927        26   \n",
       "\n",
       "         date  month_date  minute_price  start_ride_price  subscription_fee  \n",
       "0  2021-01-01           1             6                 0               199  \n",
       "1  2021-01-18           1             6                 0               199  \n",
       "2  2021-04-20           4             6                 0               199  \n",
       "3  2021-08-11           8             6                 0               199  \n",
       "4  2021-08-28           8             6                 0               199  \n",
       "5  2021-10-09          10             6                 0               199  \n",
       "6  2021-10-19          10             6                 0               199  \n",
       "7  2021-11-06          11             6                 0               199  \n",
       "8  2021-11-14          11             6                 0               199  \n",
       "9  2021-11-22          11             6                 0               199  \n",
       "10 2021-12-14          12             6                 0               199  \n",
       "11 2021-12-22          12             6                 0               199  \n",
       "12 2021-03-15           3             6                 0               199  \n",
       "13 2021-03-18           3             6                 0               199  \n",
       "14 2021-03-23           3             6                 0               199  "
      ]
     },
     "execution_count": 13,
     "metadata": {},
     "output_type": "execute_result"
    }
   ],
   "source": [
    "#Объединим все датафреймы в один общий\n",
    "general_data = users_data.merge(rides_data)\n",
    "general_data = general_data.merge(subscriptions_data)\n",
    "general_data.head(15)"
   ]
  },
  {
   "cell_type": "code",
   "execution_count": 14,
   "id": "de46992c",
   "metadata": {},
   "outputs": [
    {
     "name": "stdout",
     "output_type": "stream",
     "text": [
      "<class 'pandas.core.frame.DataFrame'>\n",
      "Int64Index: 18068 entries, 0 to 18067\n",
      "Data columns (total 12 columns):\n",
      " #   Column             Non-Null Count  Dtype         \n",
      "---  ------             --------------  -----         \n",
      " 0   user_id            18068 non-null  int64         \n",
      " 1   name               18068 non-null  object        \n",
      " 2   age                18068 non-null  int64         \n",
      " 3   city               18068 non-null  object        \n",
      " 4   subscription_type  18068 non-null  object        \n",
      " 5   distance           18068 non-null  float64       \n",
      " 6   duration           18068 non-null  int64         \n",
      " 7   date               18068 non-null  datetime64[ns]\n",
      " 8   month_date         18068 non-null  int64         \n",
      " 9   minute_price       18068 non-null  int64         \n",
      " 10  start_ride_price   18068 non-null  int64         \n",
      " 11  subscription_fee   18068 non-null  int64         \n",
      "dtypes: datetime64[ns](1), float64(1), int64(7), object(3)\n",
      "memory usage: 1.8+ MB\n",
      "None\n",
      "<class 'pandas.core.frame.DataFrame'>\n",
      "RangeIndex: 18068 entries, 0 to 18067\n",
      "Data columns (total 5 columns):\n",
      " #   Column      Non-Null Count  Dtype         \n",
      "---  ------      --------------  -----         \n",
      " 0   user_id     18068 non-null  int64         \n",
      " 1   distance    18068 non-null  float64       \n",
      " 2   duration    18068 non-null  int64         \n",
      " 3   date        18068 non-null  datetime64[ns]\n",
      " 4   month_date  18068 non-null  int64         \n",
      "dtypes: datetime64[ns](1), float64(1), int64(3)\n",
      "memory usage: 705.9 KB\n"
     ]
    }
   ],
   "source": [
    "print(general_data.info())\n",
    "rides_data.info()"
   ]
  },
  {
   "cell_type": "markdown",
   "id": "89d90dd2",
   "metadata": {},
   "source": [
    "Исходя из данных полученных при помощи метода info можно сделать вывод, что в новом датафрейме нет пропусков, а количество записей совпадает со второй исходной таблицей, что может свидетельствовать о том, что объединение прошло корректно"
   ]
  },
  {
   "cell_type": "code",
   "execution_count": 15,
   "id": "8e33539d",
   "metadata": {},
   "outputs": [
    {
     "data": {
      "text/html": [
       "<div>\n",
       "<style scoped>\n",
       "    .dataframe tbody tr th:only-of-type {\n",
       "        vertical-align: middle;\n",
       "    }\n",
       "\n",
       "    .dataframe tbody tr th {\n",
       "        vertical-align: top;\n",
       "    }\n",
       "\n",
       "    .dataframe thead th {\n",
       "        text-align: right;\n",
       "    }\n",
       "</style>\n",
       "<table border=\"1\" class=\"dataframe\">\n",
       "  <thead>\n",
       "    <tr style=\"text-align: right;\">\n",
       "      <th></th>\n",
       "      <th>user_id</th>\n",
       "      <th>name</th>\n",
       "      <th>age</th>\n",
       "      <th>city</th>\n",
       "      <th>subscription_type</th>\n",
       "      <th>distance</th>\n",
       "      <th>duration</th>\n",
       "      <th>date</th>\n",
       "      <th>month_date</th>\n",
       "      <th>minute_price</th>\n",
       "      <th>start_ride_price</th>\n",
       "      <th>subscription_fee</th>\n",
       "    </tr>\n",
       "  </thead>\n",
       "  <tbody>\n",
       "    <tr>\n",
       "      <th>6500</th>\n",
       "      <td>700</td>\n",
       "      <td>Айдар</td>\n",
       "      <td>22</td>\n",
       "      <td>Омск</td>\n",
       "      <td>free</td>\n",
       "      <td>2515.690719</td>\n",
       "      <td>15</td>\n",
       "      <td>2021-01-02</td>\n",
       "      <td>1</td>\n",
       "      <td>8</td>\n",
       "      <td>50</td>\n",
       "      <td>0</td>\n",
       "    </tr>\n",
       "    <tr>\n",
       "      <th>6501</th>\n",
       "      <td>700</td>\n",
       "      <td>Айдар</td>\n",
       "      <td>22</td>\n",
       "      <td>Омск</td>\n",
       "      <td>free</td>\n",
       "      <td>846.932642</td>\n",
       "      <td>17</td>\n",
       "      <td>2021-02-01</td>\n",
       "      <td>2</td>\n",
       "      <td>8</td>\n",
       "      <td>50</td>\n",
       "      <td>0</td>\n",
       "    </tr>\n",
       "    <tr>\n",
       "      <th>6502</th>\n",
       "      <td>700</td>\n",
       "      <td>Айдар</td>\n",
       "      <td>22</td>\n",
       "      <td>Омск</td>\n",
       "      <td>free</td>\n",
       "      <td>4004.434142</td>\n",
       "      <td>21</td>\n",
       "      <td>2021-02-04</td>\n",
       "      <td>2</td>\n",
       "      <td>8</td>\n",
       "      <td>50</td>\n",
       "      <td>0</td>\n",
       "    </tr>\n",
       "    <tr>\n",
       "      <th>6503</th>\n",
       "      <td>700</td>\n",
       "      <td>Айдар</td>\n",
       "      <td>22</td>\n",
       "      <td>Омск</td>\n",
       "      <td>free</td>\n",
       "      <td>1205.911290</td>\n",
       "      <td>10</td>\n",
       "      <td>2021-02-10</td>\n",
       "      <td>2</td>\n",
       "      <td>8</td>\n",
       "      <td>50</td>\n",
       "      <td>0</td>\n",
       "    </tr>\n",
       "    <tr>\n",
       "      <th>6504</th>\n",
       "      <td>700</td>\n",
       "      <td>Айдар</td>\n",
       "      <td>22</td>\n",
       "      <td>Омск</td>\n",
       "      <td>free</td>\n",
       "      <td>3047.379435</td>\n",
       "      <td>18</td>\n",
       "      <td>2021-02-14</td>\n",
       "      <td>2</td>\n",
       "      <td>8</td>\n",
       "      <td>50</td>\n",
       "      <td>0</td>\n",
       "    </tr>\n",
       "    <tr>\n",
       "      <th>6505</th>\n",
       "      <td>700</td>\n",
       "      <td>Айдар</td>\n",
       "      <td>22</td>\n",
       "      <td>Омск</td>\n",
       "      <td>free</td>\n",
       "      <td>4342.002254</td>\n",
       "      <td>23</td>\n",
       "      <td>2021-02-23</td>\n",
       "      <td>2</td>\n",
       "      <td>8</td>\n",
       "      <td>50</td>\n",
       "      <td>0</td>\n",
       "    </tr>\n",
       "    <tr>\n",
       "      <th>6506</th>\n",
       "      <td>700</td>\n",
       "      <td>Айдар</td>\n",
       "      <td>22</td>\n",
       "      <td>Омск</td>\n",
       "      <td>free</td>\n",
       "      <td>3798.334905</td>\n",
       "      <td>19</td>\n",
       "      <td>2021-03-03</td>\n",
       "      <td>3</td>\n",
       "      <td>8</td>\n",
       "      <td>50</td>\n",
       "      <td>0</td>\n",
       "    </tr>\n",
       "    <tr>\n",
       "      <th>6507</th>\n",
       "      <td>700</td>\n",
       "      <td>Айдар</td>\n",
       "      <td>22</td>\n",
       "      <td>Омск</td>\n",
       "      <td>free</td>\n",
       "      <td>2984.551206</td>\n",
       "      <td>16</td>\n",
       "      <td>2021-04-09</td>\n",
       "      <td>4</td>\n",
       "      <td>8</td>\n",
       "      <td>50</td>\n",
       "      <td>0</td>\n",
       "    </tr>\n",
       "    <tr>\n",
       "      <th>6508</th>\n",
       "      <td>700</td>\n",
       "      <td>Айдар</td>\n",
       "      <td>22</td>\n",
       "      <td>Омск</td>\n",
       "      <td>free</td>\n",
       "      <td>3360.107141</td>\n",
       "      <td>17</td>\n",
       "      <td>2021-06-12</td>\n",
       "      <td>6</td>\n",
       "      <td>8</td>\n",
       "      <td>50</td>\n",
       "      <td>0</td>\n",
       "    </tr>\n",
       "    <tr>\n",
       "      <th>6509</th>\n",
       "      <td>700</td>\n",
       "      <td>Айдар</td>\n",
       "      <td>22</td>\n",
       "      <td>Омск</td>\n",
       "      <td>free</td>\n",
       "      <td>2567.543847</td>\n",
       "      <td>12</td>\n",
       "      <td>2021-06-23</td>\n",
       "      <td>6</td>\n",
       "      <td>8</td>\n",
       "      <td>50</td>\n",
       "      <td>0</td>\n",
       "    </tr>\n",
       "    <tr>\n",
       "      <th>6510</th>\n",
       "      <td>700</td>\n",
       "      <td>Айдар</td>\n",
       "      <td>22</td>\n",
       "      <td>Омск</td>\n",
       "      <td>free</td>\n",
       "      <td>4110.232038</td>\n",
       "      <td>16</td>\n",
       "      <td>2021-07-08</td>\n",
       "      <td>7</td>\n",
       "      <td>8</td>\n",
       "      <td>50</td>\n",
       "      <td>0</td>\n",
       "    </tr>\n",
       "    <tr>\n",
       "      <th>6511</th>\n",
       "      <td>700</td>\n",
       "      <td>Айдар</td>\n",
       "      <td>22</td>\n",
       "      <td>Омск</td>\n",
       "      <td>free</td>\n",
       "      <td>288.974241</td>\n",
       "      <td>5</td>\n",
       "      <td>2021-07-18</td>\n",
       "      <td>7</td>\n",
       "      <td>8</td>\n",
       "      <td>50</td>\n",
       "      <td>0</td>\n",
       "    </tr>\n",
       "    <tr>\n",
       "      <th>6512</th>\n",
       "      <td>700</td>\n",
       "      <td>Айдар</td>\n",
       "      <td>22</td>\n",
       "      <td>Омск</td>\n",
       "      <td>free</td>\n",
       "      <td>4071.654669</td>\n",
       "      <td>17</td>\n",
       "      <td>2021-08-17</td>\n",
       "      <td>8</td>\n",
       "      <td>8</td>\n",
       "      <td>50</td>\n",
       "      <td>0</td>\n",
       "    </tr>\n",
       "    <tr>\n",
       "      <th>6513</th>\n",
       "      <td>700</td>\n",
       "      <td>Айдар</td>\n",
       "      <td>22</td>\n",
       "      <td>Омск</td>\n",
       "      <td>free</td>\n",
       "      <td>1920.188901</td>\n",
       "      <td>10</td>\n",
       "      <td>2021-10-08</td>\n",
       "      <td>10</td>\n",
       "      <td>8</td>\n",
       "      <td>50</td>\n",
       "      <td>0</td>\n",
       "    </tr>\n",
       "    <tr>\n",
       "      <th>6514</th>\n",
       "      <td>700</td>\n",
       "      <td>Айдар</td>\n",
       "      <td>22</td>\n",
       "      <td>Омск</td>\n",
       "      <td>free</td>\n",
       "      <td>4402.389717</td>\n",
       "      <td>34</td>\n",
       "      <td>2021-10-15</td>\n",
       "      <td>10</td>\n",
       "      <td>8</td>\n",
       "      <td>50</td>\n",
       "      <td>0</td>\n",
       "    </tr>\n",
       "  </tbody>\n",
       "</table>\n",
       "</div>"
      ],
      "text/plain": [
       "      user_id   name  age  city subscription_type     distance  duration  \\\n",
       "6500      700  Айдар   22  Омск              free  2515.690719        15   \n",
       "6501      700  Айдар   22  Омск              free   846.932642        17   \n",
       "6502      700  Айдар   22  Омск              free  4004.434142        21   \n",
       "6503      700  Айдар   22  Омск              free  1205.911290        10   \n",
       "6504      700  Айдар   22  Омск              free  3047.379435        18   \n",
       "6505      700  Айдар   22  Омск              free  4342.002254        23   \n",
       "6506      700  Айдар   22  Омск              free  3798.334905        19   \n",
       "6507      700  Айдар   22  Омск              free  2984.551206        16   \n",
       "6508      700  Айдар   22  Омск              free  3360.107141        17   \n",
       "6509      700  Айдар   22  Омск              free  2567.543847        12   \n",
       "6510      700  Айдар   22  Омск              free  4110.232038        16   \n",
       "6511      700  Айдар   22  Омск              free   288.974241         5   \n",
       "6512      700  Айдар   22  Омск              free  4071.654669        17   \n",
       "6513      700  Айдар   22  Омск              free  1920.188901        10   \n",
       "6514      700  Айдар   22  Омск              free  4402.389717        34   \n",
       "\n",
       "           date  month_date  minute_price  start_ride_price  subscription_fee  \n",
       "6500 2021-01-02           1             8                50                 0  \n",
       "6501 2021-02-01           2             8                50                 0  \n",
       "6502 2021-02-04           2             8                50                 0  \n",
       "6503 2021-02-10           2             8                50                 0  \n",
       "6504 2021-02-14           2             8                50                 0  \n",
       "6505 2021-02-23           2             8                50                 0  \n",
       "6506 2021-03-03           3             8                50                 0  \n",
       "6507 2021-04-09           4             8                50                 0  \n",
       "6508 2021-06-12           6             8                50                 0  \n",
       "6509 2021-06-23           6             8                50                 0  \n",
       "6510 2021-07-08           7             8                50                 0  \n",
       "6511 2021-07-18           7             8                50                 0  \n",
       "6512 2021-08-17           8             8                50                 0  \n",
       "6513 2021-10-08          10             8                50                 0  \n",
       "6514 2021-10-15          10             8                50                 0  "
      ]
     },
     "execution_count": 15,
     "metadata": {},
     "output_type": "execute_result"
    }
   ],
   "source": [
    "users_without_subs = pd.DataFrame()\n",
    "users_without_subs = general_data.loc[general_data['subscription_type'] == 'free']\n",
    "users_without_subs.head(15)"
   ]
  },
  {
   "cell_type": "code",
   "execution_count": 16,
   "id": "9f390093",
   "metadata": {
    "scrolled": true
   },
   "outputs": [
    {
     "data": {
      "text/html": [
       "<div>\n",
       "<style scoped>\n",
       "    .dataframe tbody tr th:only-of-type {\n",
       "        vertical-align: middle;\n",
       "    }\n",
       "\n",
       "    .dataframe tbody tr th {\n",
       "        vertical-align: top;\n",
       "    }\n",
       "\n",
       "    .dataframe thead th {\n",
       "        text-align: right;\n",
       "    }\n",
       "</style>\n",
       "<table border=\"1\" class=\"dataframe\">\n",
       "  <thead>\n",
       "    <tr style=\"text-align: right;\">\n",
       "      <th></th>\n",
       "      <th>user_id</th>\n",
       "      <th>name</th>\n",
       "      <th>age</th>\n",
       "      <th>city</th>\n",
       "      <th>subscription_type</th>\n",
       "      <th>distance</th>\n",
       "      <th>duration</th>\n",
       "      <th>date</th>\n",
       "      <th>month_date</th>\n",
       "      <th>minute_price</th>\n",
       "      <th>start_ride_price</th>\n",
       "      <th>subscription_fee</th>\n",
       "    </tr>\n",
       "  </thead>\n",
       "  <tbody>\n",
       "    <tr>\n",
       "      <th>0</th>\n",
       "      <td>1</td>\n",
       "      <td>Кира</td>\n",
       "      <td>22</td>\n",
       "      <td>Тюмень</td>\n",
       "      <td>ultra</td>\n",
       "      <td>4409.919140</td>\n",
       "      <td>26</td>\n",
       "      <td>2021-01-01</td>\n",
       "      <td>1</td>\n",
       "      <td>6</td>\n",
       "      <td>0</td>\n",
       "      <td>199</td>\n",
       "    </tr>\n",
       "    <tr>\n",
       "      <th>1</th>\n",
       "      <td>1</td>\n",
       "      <td>Кира</td>\n",
       "      <td>22</td>\n",
       "      <td>Тюмень</td>\n",
       "      <td>ultra</td>\n",
       "      <td>2617.592153</td>\n",
       "      <td>16</td>\n",
       "      <td>2021-01-18</td>\n",
       "      <td>1</td>\n",
       "      <td>6</td>\n",
       "      <td>0</td>\n",
       "      <td>199</td>\n",
       "    </tr>\n",
       "    <tr>\n",
       "      <th>2</th>\n",
       "      <td>1</td>\n",
       "      <td>Кира</td>\n",
       "      <td>22</td>\n",
       "      <td>Тюмень</td>\n",
       "      <td>ultra</td>\n",
       "      <td>754.159807</td>\n",
       "      <td>7</td>\n",
       "      <td>2021-04-20</td>\n",
       "      <td>4</td>\n",
       "      <td>6</td>\n",
       "      <td>0</td>\n",
       "      <td>199</td>\n",
       "    </tr>\n",
       "    <tr>\n",
       "      <th>3</th>\n",
       "      <td>1</td>\n",
       "      <td>Кира</td>\n",
       "      <td>22</td>\n",
       "      <td>Тюмень</td>\n",
       "      <td>ultra</td>\n",
       "      <td>2694.783254</td>\n",
       "      <td>19</td>\n",
       "      <td>2021-08-11</td>\n",
       "      <td>8</td>\n",
       "      <td>6</td>\n",
       "      <td>0</td>\n",
       "      <td>199</td>\n",
       "    </tr>\n",
       "    <tr>\n",
       "      <th>4</th>\n",
       "      <td>1</td>\n",
       "      <td>Кира</td>\n",
       "      <td>22</td>\n",
       "      <td>Тюмень</td>\n",
       "      <td>ultra</td>\n",
       "      <td>4028.687306</td>\n",
       "      <td>27</td>\n",
       "      <td>2021-08-28</td>\n",
       "      <td>8</td>\n",
       "      <td>6</td>\n",
       "      <td>0</td>\n",
       "      <td>199</td>\n",
       "    </tr>\n",
       "    <tr>\n",
       "      <th>5</th>\n",
       "      <td>1</td>\n",
       "      <td>Кира</td>\n",
       "      <td>22</td>\n",
       "      <td>Тюмень</td>\n",
       "      <td>ultra</td>\n",
       "      <td>2770.890808</td>\n",
       "      <td>17</td>\n",
       "      <td>2021-10-09</td>\n",
       "      <td>10</td>\n",
       "      <td>6</td>\n",
       "      <td>0</td>\n",
       "      <td>199</td>\n",
       "    </tr>\n",
       "    <tr>\n",
       "      <th>6</th>\n",
       "      <td>1</td>\n",
       "      <td>Кира</td>\n",
       "      <td>22</td>\n",
       "      <td>Тюмень</td>\n",
       "      <td>ultra</td>\n",
       "      <td>3039.020292</td>\n",
       "      <td>15</td>\n",
       "      <td>2021-10-19</td>\n",
       "      <td>10</td>\n",
       "      <td>6</td>\n",
       "      <td>0</td>\n",
       "      <td>199</td>\n",
       "    </tr>\n",
       "    <tr>\n",
       "      <th>7</th>\n",
       "      <td>1</td>\n",
       "      <td>Кира</td>\n",
       "      <td>22</td>\n",
       "      <td>Тюмень</td>\n",
       "      <td>ultra</td>\n",
       "      <td>2842.118050</td>\n",
       "      <td>24</td>\n",
       "      <td>2021-11-06</td>\n",
       "      <td>11</td>\n",
       "      <td>6</td>\n",
       "      <td>0</td>\n",
       "      <td>199</td>\n",
       "    </tr>\n",
       "    <tr>\n",
       "      <th>8</th>\n",
       "      <td>1</td>\n",
       "      <td>Кира</td>\n",
       "      <td>22</td>\n",
       "      <td>Тюмень</td>\n",
       "      <td>ultra</td>\n",
       "      <td>3412.690668</td>\n",
       "      <td>16</td>\n",
       "      <td>2021-11-14</td>\n",
       "      <td>11</td>\n",
       "      <td>6</td>\n",
       "      <td>0</td>\n",
       "      <td>199</td>\n",
       "    </tr>\n",
       "    <tr>\n",
       "      <th>9</th>\n",
       "      <td>1</td>\n",
       "      <td>Кира</td>\n",
       "      <td>22</td>\n",
       "      <td>Тюмень</td>\n",
       "      <td>ultra</td>\n",
       "      <td>748.690645</td>\n",
       "      <td>16</td>\n",
       "      <td>2021-11-22</td>\n",
       "      <td>11</td>\n",
       "      <td>6</td>\n",
       "      <td>0</td>\n",
       "      <td>199</td>\n",
       "    </tr>\n",
       "  </tbody>\n",
       "</table>\n",
       "</div>"
      ],
      "text/plain": [
       "   user_id  name  age    city subscription_type     distance  duration  \\\n",
       "0        1  Кира   22  Тюмень             ultra  4409.919140        26   \n",
       "1        1  Кира   22  Тюмень             ultra  2617.592153        16   \n",
       "2        1  Кира   22  Тюмень             ultra   754.159807         7   \n",
       "3        1  Кира   22  Тюмень             ultra  2694.783254        19   \n",
       "4        1  Кира   22  Тюмень             ultra  4028.687306        27   \n",
       "5        1  Кира   22  Тюмень             ultra  2770.890808        17   \n",
       "6        1  Кира   22  Тюмень             ultra  3039.020292        15   \n",
       "7        1  Кира   22  Тюмень             ultra  2842.118050        24   \n",
       "8        1  Кира   22  Тюмень             ultra  3412.690668        16   \n",
       "9        1  Кира   22  Тюмень             ultra   748.690645        16   \n",
       "\n",
       "        date  month_date  minute_price  start_ride_price  subscription_fee  \n",
       "0 2021-01-01           1             6                 0               199  \n",
       "1 2021-01-18           1             6                 0               199  \n",
       "2 2021-04-20           4             6                 0               199  \n",
       "3 2021-08-11           8             6                 0               199  \n",
       "4 2021-08-28           8             6                 0               199  \n",
       "5 2021-10-09          10             6                 0               199  \n",
       "6 2021-10-19          10             6                 0               199  \n",
       "7 2021-11-06          11             6                 0               199  \n",
       "8 2021-11-14          11             6                 0               199  \n",
       "9 2021-11-22          11             6                 0               199  "
      ]
     },
     "execution_count": 16,
     "metadata": {},
     "output_type": "execute_result"
    }
   ],
   "source": [
    "users_with_subs = pd.DataFrame()\n",
    "users_with_subs = general_data.loc[general_data['subscription_type'] == 'ultra']\n",
    "users_with_subs.head(10)"
   ]
  },
  {
   "cell_type": "code",
   "execution_count": 17,
   "id": "0528670d",
   "metadata": {},
   "outputs": [
    {
     "data": {
      "text/plain": [
       "Text(0, 0.5, 'Количество')"
      ]
     },
     "execution_count": 17,
     "metadata": {},
     "output_type": "execute_result"
    },
    {
     "data": {
      "image/png": "[encoded data removed]",
      "text/plain": [
       "<Figure size 432x288 with 1 Axes>"
      ]
     },
     "metadata": {
      "needs_background": "light"
     },
     "output_type": "display_data"
    }
   ],
   "source": [
    "_, bins, _ = plt.hist(users_without_subs['distance'], bins=100)\n",
    "_ = plt.hist(users_with_subs['distance'], bins=bins)\n",
    "plt.title('Расстояние поездок у пользователей с разными подписками')\n",
    "plt.xlabel(\"Расстояние\")\n",
    "plt.legend(['Без подписки', 'С подпиской'])\n",
    "plt.ylabel(\"Количество\")"
   ]
  },
  {
   "cell_type": "code",
   "execution_count": 18,
   "id": "1ed3bf30",
   "metadata": {},
   "outputs": [
    {
     "name": "stdout",
     "output_type": "stream",
     "text": [
      "count    11568.000000\n",
      "mean        17.890992\n",
      "std          6.330250\n",
      "min          1.000000\n",
      "25%         13.000000\n",
      "50%         18.000000\n",
      "75%         22.000000\n",
      "max         35.000000\n",
      "Name: duration, dtype: float64\n"
     ]
    },
    {
     "data": {
      "text/plain": [
       "Text(0, 0.5, 'Количество')"
      ]
     },
     "execution_count": 18,
     "metadata": {},
     "output_type": "execute_result"
    },
    {
     "data": {
      "image/png": "[encoded data removed]",
      "text/plain": [
       "<Figure size 432x288 with 1 Axes>"
      ]
     },
     "metadata": {
      "needs_background": "light"
     },
     "output_type": "display_data"
    }
   ],
   "source": [
    "print(users_without_subs['duration'].describe())\n",
    "_, bins, _ = plt.hist(users_without_subs['duration'], bins=50)\n",
    "_ = plt.hist(users_with_subs['duration'], bins=bins)\n",
    "plt.title('Длительность поездок у пользователей с разными подписками')\n",
    "plt.xlabel(\"Длительность\")\n",
    "plt.legend(['Без подписки', 'С подпиской'])\n",
    "plt.ylabel(\"Количество\")"
   ]
  },
  {
   "cell_type": "markdown",
   "id": "a7ecb175",
   "metadata": {},
   "source": [
    "В этом разделе мы объединили все датафреймы в один общий, что поможет нам сделать более комплексные выводы. Также из общего датафрейма были выделены еще два с пользователями с и без подписки. По данным из этих двух датафреймов были построены гистограммы отражающие отличия в длительности и расстоянии заездов пользователей обеих категорий.\n",
    "\n",
    "Главный вывод, который можно сделать из полученных гистограмм это то, что пользователи с подпиской очень редко ездят на дистанции меньше 2500 метров. Это может быть связано с тем, что люди, у которых есть подписка, постоянно пользуются самокатами и у них уже есть намеченный маршрут по которому они едут, а пользователи без подписки могут взять самокат просто прокатиться или попробовать, что это вообще такое.\n",
    "\n",
    "Время поездки у пользователей с подпиской и без отличается слабо. И там и там значения распределены нормально и имеют примерно одинаковые центральные значения."
   ]
  },
  {
   "cell_type": "markdown",
   "id": "402d620f",
   "metadata": {},
   "source": [
    "#### Подсчёт выручки"
   ]
  },
  {
   "cell_type": "code",
   "execution_count": 19,
   "id": "53049e0a",
   "metadata": {},
   "outputs": [
    {
     "data": {
      "text/html": [
       "<div>\n",
       "<style scoped>\n",
       "    .dataframe tbody tr th:only-of-type {\n",
       "        vertical-align: middle;\n",
       "    }\n",
       "\n",
       "    .dataframe tbody tr th {\n",
       "        vertical-align: top;\n",
       "    }\n",
       "\n",
       "    .dataframe thead th {\n",
       "        text-align: right;\n",
       "    }\n",
       "</style>\n",
       "<table border=\"1\" class=\"dataframe\">\n",
       "  <thead>\n",
       "    <tr style=\"text-align: right;\">\n",
       "      <th></th>\n",
       "      <th>user_id</th>\n",
       "      <th>month_date</th>\n",
       "      <th>distance_sum</th>\n",
       "      <th>duration_sum</th>\n",
       "      <th>num_of_trips</th>\n",
       "    </tr>\n",
       "  </thead>\n",
       "  <tbody>\n",
       "    <tr>\n",
       "      <th>0</th>\n",
       "      <td>1</td>\n",
       "      <td>1</td>\n",
       "      <td>7027.511294</td>\n",
       "      <td>42</td>\n",
       "      <td>2</td>\n",
       "    </tr>\n",
       "    <tr>\n",
       "      <th>1</th>\n",
       "      <td>1</td>\n",
       "      <td>4</td>\n",
       "      <td>754.159807</td>\n",
       "      <td>7</td>\n",
       "      <td>1</td>\n",
       "    </tr>\n",
       "    <tr>\n",
       "      <th>2</th>\n",
       "      <td>1</td>\n",
       "      <td>8</td>\n",
       "      <td>6723.470560</td>\n",
       "      <td>46</td>\n",
       "      <td>2</td>\n",
       "    </tr>\n",
       "    <tr>\n",
       "      <th>3</th>\n",
       "      <td>1</td>\n",
       "      <td>10</td>\n",
       "      <td>5809.911100</td>\n",
       "      <td>32</td>\n",
       "      <td>2</td>\n",
       "    </tr>\n",
       "    <tr>\n",
       "      <th>4</th>\n",
       "      <td>1</td>\n",
       "      <td>11</td>\n",
       "      <td>7003.499363</td>\n",
       "      <td>56</td>\n",
       "      <td>3</td>\n",
       "    </tr>\n",
       "    <tr>\n",
       "      <th>5</th>\n",
       "      <td>1</td>\n",
       "      <td>12</td>\n",
       "      <td>6751.629942</td>\n",
       "      <td>28</td>\n",
       "      <td>2</td>\n",
       "    </tr>\n",
       "    <tr>\n",
       "      <th>6</th>\n",
       "      <td>2</td>\n",
       "      <td>3</td>\n",
       "      <td>10187.723006</td>\n",
       "      <td>63</td>\n",
       "      <td>3</td>\n",
       "    </tr>\n",
       "    <tr>\n",
       "      <th>7</th>\n",
       "      <td>2</td>\n",
       "      <td>4</td>\n",
       "      <td>6164.381824</td>\n",
       "      <td>40</td>\n",
       "      <td>2</td>\n",
       "    </tr>\n",
       "    <tr>\n",
       "      <th>8</th>\n",
       "      <td>2</td>\n",
       "      <td>6</td>\n",
       "      <td>3255.338202</td>\n",
       "      <td>14</td>\n",
       "      <td>1</td>\n",
       "    </tr>\n",
       "    <tr>\n",
       "      <th>9</th>\n",
       "      <td>2</td>\n",
       "      <td>7</td>\n",
       "      <td>6780.722964</td>\n",
       "      <td>48</td>\n",
       "      <td>2</td>\n",
       "    </tr>\n",
       "    <tr>\n",
       "      <th>10</th>\n",
       "      <td>2</td>\n",
       "      <td>8</td>\n",
       "      <td>923.007439</td>\n",
       "      <td>7</td>\n",
       "      <td>1</td>\n",
       "    </tr>\n",
       "    <tr>\n",
       "      <th>11</th>\n",
       "      <td>2</td>\n",
       "      <td>10</td>\n",
       "      <td>2824.636598</td>\n",
       "      <td>19</td>\n",
       "      <td>1</td>\n",
       "    </tr>\n",
       "    <tr>\n",
       "      <th>12</th>\n",
       "      <td>2</td>\n",
       "      <td>12</td>\n",
       "      <td>3828.248580</td>\n",
       "      <td>12</td>\n",
       "      <td>1</td>\n",
       "    </tr>\n",
       "    <tr>\n",
       "      <th>13</th>\n",
       "      <td>3</td>\n",
       "      <td>1</td>\n",
       "      <td>3061.777147</td>\n",
       "      <td>13</td>\n",
       "      <td>1</td>\n",
       "    </tr>\n",
       "    <tr>\n",
       "      <th>14</th>\n",
       "      <td>3</td>\n",
       "      <td>2</td>\n",
       "      <td>5421.152016</td>\n",
       "      <td>39</td>\n",
       "      <td>2</td>\n",
       "    </tr>\n",
       "  </tbody>\n",
       "</table>\n",
       "</div>"
      ],
      "text/plain": [
       "    user_id  month_date  distance_sum  duration_sum  num_of_trips\n",
       "0         1           1   7027.511294            42             2\n",
       "1         1           4    754.159807             7             1\n",
       "2         1           8   6723.470560            46             2\n",
       "3         1          10   5809.911100            32             2\n",
       "4         1          11   7003.499363            56             3\n",
       "5         1          12   6751.629942            28             2\n",
       "6         2           3  10187.723006            63             3\n",
       "7         2           4   6164.381824            40             2\n",
       "8         2           6   3255.338202            14             1\n",
       "9         2           7   6780.722964            48             2\n",
       "10        2           8    923.007439             7             1\n",
       "11        2          10   2824.636598            19             1\n",
       "12        2          12   3828.248580            12             1\n",
       "13        3           1   3061.777147            13             1\n",
       "14        3           2   5421.152016            39             2"
      ]
     },
     "metadata": {},
     "output_type": "display_data"
    },
    {
     "name": "stdout",
     "output_type": "stream",
     "text": [
      "<class 'pandas.core.frame.DataFrame'>\n",
      "RangeIndex: 11331 entries, 0 to 11330\n",
      "Data columns (total 5 columns):\n",
      " #   Column        Non-Null Count  Dtype  \n",
      "---  ------        --------------  -----  \n",
      " 0   user_id       11331 non-null  int64  \n",
      " 1   month_date    11331 non-null  int64  \n",
      " 2   distance_sum  11331 non-null  float64\n",
      " 3   duration_sum  11331 non-null  int64  \n",
      " 4   num_of_trips  11331 non-null  int64  \n",
      "dtypes: float64(1), int64(4)\n",
      "memory usage: 442.7 KB\n"
     ]
    }
   ],
   "source": [
    "dist_agg_table = general_data.groupby(by=[\"user_id\", 'month_date'],).agg({'distance': ['sum'],\n",
    "                                                                        'duration': ['sum']}).reset_index()\n",
    "dist_agg_table1 = general_data.groupby(by=[\"user_id\", 'month_date'],).agg({'distance': ['count']}).reset_index()\n",
    "dist_agg_table.merge(dist_agg_table1)\n",
    "dist_agg_table1.columns = ['user_id', 'month_date', 'num_of_trips']\n",
    "dist_agg_table['num_of_trips'] = dist_agg_table1['num_of_trips']\n",
    "dist_agg_table.columns = ['user_id', 'month_date', 'distance_sum', 'duration_sum', 'num_of_trips']\n",
    "display(dist_agg_table.head(15))\n",
    "dist_agg_table.info()"
   ]
  },
  {
   "cell_type": "markdown",
   "id": "0ac7a1e0",
   "metadata": {},
   "source": [
    "Создана таблица с суммой дистанций, длительностей поездок пользователей, а также с их количеством. В результате сравнения данных в этой таблице и исходной,а также оценки наличия пропусков я сделал вывод, что эта таблица - корректна. "
   ]
  },
  {
   "cell_type": "code",
   "execution_count": 20,
   "id": "830c63c2",
   "metadata": {},
   "outputs": [
    {
     "data": {
      "text/html": [
       "<div>\n",
       "<style scoped>\n",
       "    .dataframe tbody tr th:only-of-type {\n",
       "        vertical-align: middle;\n",
       "    }\n",
       "\n",
       "    .dataframe tbody tr th {\n",
       "        vertical-align: top;\n",
       "    }\n",
       "\n",
       "    .dataframe thead th {\n",
       "        text-align: right;\n",
       "    }\n",
       "</style>\n",
       "<table border=\"1\" class=\"dataframe\">\n",
       "  <thead>\n",
       "    <tr style=\"text-align: right;\">\n",
       "      <th></th>\n",
       "      <th>user_id</th>\n",
       "      <th>month_date</th>\n",
       "      <th>distance_sum</th>\n",
       "      <th>duration_sum</th>\n",
       "      <th>num_of_trips</th>\n",
       "      <th>name</th>\n",
       "      <th>age</th>\n",
       "      <th>city</th>\n",
       "      <th>subscription_type</th>\n",
       "      <th>minute_price</th>\n",
       "      <th>start_ride_price</th>\n",
       "      <th>subscription_fee</th>\n",
       "    </tr>\n",
       "  </thead>\n",
       "  <tbody>\n",
       "    <tr>\n",
       "      <th>0</th>\n",
       "      <td>1</td>\n",
       "      <td>1</td>\n",
       "      <td>7027.511294</td>\n",
       "      <td>42</td>\n",
       "      <td>2</td>\n",
       "      <td>Кира</td>\n",
       "      <td>22</td>\n",
       "      <td>Тюмень</td>\n",
       "      <td>ultra</td>\n",
       "      <td>6</td>\n",
       "      <td>0</td>\n",
       "      <td>199</td>\n",
       "    </tr>\n",
       "    <tr>\n",
       "      <th>1</th>\n",
       "      <td>1</td>\n",
       "      <td>4</td>\n",
       "      <td>754.159807</td>\n",
       "      <td>7</td>\n",
       "      <td>1</td>\n",
       "      <td>Кира</td>\n",
       "      <td>22</td>\n",
       "      <td>Тюмень</td>\n",
       "      <td>ultra</td>\n",
       "      <td>6</td>\n",
       "      <td>0</td>\n",
       "      <td>199</td>\n",
       "    </tr>\n",
       "    <tr>\n",
       "      <th>2</th>\n",
       "      <td>1</td>\n",
       "      <td>8</td>\n",
       "      <td>6723.470560</td>\n",
       "      <td>46</td>\n",
       "      <td>2</td>\n",
       "      <td>Кира</td>\n",
       "      <td>22</td>\n",
       "      <td>Тюмень</td>\n",
       "      <td>ultra</td>\n",
       "      <td>6</td>\n",
       "      <td>0</td>\n",
       "      <td>199</td>\n",
       "    </tr>\n",
       "    <tr>\n",
       "      <th>3</th>\n",
       "      <td>1</td>\n",
       "      <td>10</td>\n",
       "      <td>5809.911100</td>\n",
       "      <td>32</td>\n",
       "      <td>2</td>\n",
       "      <td>Кира</td>\n",
       "      <td>22</td>\n",
       "      <td>Тюмень</td>\n",
       "      <td>ultra</td>\n",
       "      <td>6</td>\n",
       "      <td>0</td>\n",
       "      <td>199</td>\n",
       "    </tr>\n",
       "    <tr>\n",
       "      <th>4</th>\n",
       "      <td>1</td>\n",
       "      <td>11</td>\n",
       "      <td>7003.499363</td>\n",
       "      <td>56</td>\n",
       "      <td>3</td>\n",
       "      <td>Кира</td>\n",
       "      <td>22</td>\n",
       "      <td>Тюмень</td>\n",
       "      <td>ultra</td>\n",
       "      <td>6</td>\n",
       "      <td>0</td>\n",
       "      <td>199</td>\n",
       "    </tr>\n",
       "    <tr>\n",
       "      <th>5</th>\n",
       "      <td>1</td>\n",
       "      <td>12</td>\n",
       "      <td>6751.629942</td>\n",
       "      <td>28</td>\n",
       "      <td>2</td>\n",
       "      <td>Кира</td>\n",
       "      <td>22</td>\n",
       "      <td>Тюмень</td>\n",
       "      <td>ultra</td>\n",
       "      <td>6</td>\n",
       "      <td>0</td>\n",
       "      <td>199</td>\n",
       "    </tr>\n",
       "    <tr>\n",
       "      <th>6</th>\n",
       "      <td>2</td>\n",
       "      <td>3</td>\n",
       "      <td>10187.723006</td>\n",
       "      <td>63</td>\n",
       "      <td>3</td>\n",
       "      <td>Станислав</td>\n",
       "      <td>31</td>\n",
       "      <td>Омск</td>\n",
       "      <td>ultra</td>\n",
       "      <td>6</td>\n",
       "      <td>0</td>\n",
       "      <td>199</td>\n",
       "    </tr>\n",
       "    <tr>\n",
       "      <th>7</th>\n",
       "      <td>2</td>\n",
       "      <td>4</td>\n",
       "      <td>6164.381824</td>\n",
       "      <td>40</td>\n",
       "      <td>2</td>\n",
       "      <td>Станислав</td>\n",
       "      <td>31</td>\n",
       "      <td>Омск</td>\n",
       "      <td>ultra</td>\n",
       "      <td>6</td>\n",
       "      <td>0</td>\n",
       "      <td>199</td>\n",
       "    </tr>\n",
       "    <tr>\n",
       "      <th>8</th>\n",
       "      <td>2</td>\n",
       "      <td>6</td>\n",
       "      <td>3255.338202</td>\n",
       "      <td>14</td>\n",
       "      <td>1</td>\n",
       "      <td>Станислав</td>\n",
       "      <td>31</td>\n",
       "      <td>Омск</td>\n",
       "      <td>ultra</td>\n",
       "      <td>6</td>\n",
       "      <td>0</td>\n",
       "      <td>199</td>\n",
       "    </tr>\n",
       "    <tr>\n",
       "      <th>9</th>\n",
       "      <td>2</td>\n",
       "      <td>7</td>\n",
       "      <td>6780.722964</td>\n",
       "      <td>48</td>\n",
       "      <td>2</td>\n",
       "      <td>Станислав</td>\n",
       "      <td>31</td>\n",
       "      <td>Омск</td>\n",
       "      <td>ultra</td>\n",
       "      <td>6</td>\n",
       "      <td>0</td>\n",
       "      <td>199</td>\n",
       "    </tr>\n",
       "    <tr>\n",
       "      <th>10</th>\n",
       "      <td>2</td>\n",
       "      <td>8</td>\n",
       "      <td>923.007439</td>\n",
       "      <td>7</td>\n",
       "      <td>1</td>\n",
       "      <td>Станислав</td>\n",
       "      <td>31</td>\n",
       "      <td>Омск</td>\n",
       "      <td>ultra</td>\n",
       "      <td>6</td>\n",
       "      <td>0</td>\n",
       "      <td>199</td>\n",
       "    </tr>\n",
       "    <tr>\n",
       "      <th>11</th>\n",
       "      <td>2</td>\n",
       "      <td>10</td>\n",
       "      <td>2824.636598</td>\n",
       "      <td>19</td>\n",
       "      <td>1</td>\n",
       "      <td>Станислав</td>\n",
       "      <td>31</td>\n",
       "      <td>Омск</td>\n",
       "      <td>ultra</td>\n",
       "      <td>6</td>\n",
       "      <td>0</td>\n",
       "      <td>199</td>\n",
       "    </tr>\n",
       "    <tr>\n",
       "      <th>12</th>\n",
       "      <td>2</td>\n",
       "      <td>12</td>\n",
       "      <td>3828.248580</td>\n",
       "      <td>12</td>\n",
       "      <td>1</td>\n",
       "      <td>Станислав</td>\n",
       "      <td>31</td>\n",
       "      <td>Омск</td>\n",
       "      <td>ultra</td>\n",
       "      <td>6</td>\n",
       "      <td>0</td>\n",
       "      <td>199</td>\n",
       "    </tr>\n",
       "    <tr>\n",
       "      <th>13</th>\n",
       "      <td>3</td>\n",
       "      <td>1</td>\n",
       "      <td>3061.777147</td>\n",
       "      <td>13</td>\n",
       "      <td>1</td>\n",
       "      <td>Алексей</td>\n",
       "      <td>20</td>\n",
       "      <td>Москва</td>\n",
       "      <td>ultra</td>\n",
       "      <td>6</td>\n",
       "      <td>0</td>\n",
       "      <td>199</td>\n",
       "    </tr>\n",
       "    <tr>\n",
       "      <th>14</th>\n",
       "      <td>3</td>\n",
       "      <td>2</td>\n",
       "      <td>5421.152016</td>\n",
       "      <td>39</td>\n",
       "      <td>2</td>\n",
       "      <td>Алексей</td>\n",
       "      <td>20</td>\n",
       "      <td>Москва</td>\n",
       "      <td>ultra</td>\n",
       "      <td>6</td>\n",
       "      <td>0</td>\n",
       "      <td>199</td>\n",
       "    </tr>\n",
       "  </tbody>\n",
       "</table>\n",
       "</div>"
      ],
      "text/plain": [
       "    user_id  month_date  distance_sum  duration_sum  num_of_trips       name  \\\n",
       "0         1           1   7027.511294            42             2       Кира   \n",
       "1         1           4    754.159807             7             1       Кира   \n",
       "2         1           8   6723.470560            46             2       Кира   \n",
       "3         1          10   5809.911100            32             2       Кира   \n",
       "4         1          11   7003.499363            56             3       Кира   \n",
       "5         1          12   6751.629942            28             2       Кира   \n",
       "6         2           3  10187.723006            63             3  Станислав   \n",
       "7         2           4   6164.381824            40             2  Станислав   \n",
       "8         2           6   3255.338202            14             1  Станислав   \n",
       "9         2           7   6780.722964            48             2  Станислав   \n",
       "10        2           8    923.007439             7             1  Станислав   \n",
       "11        2          10   2824.636598            19             1  Станислав   \n",
       "12        2          12   3828.248580            12             1  Станислав   \n",
       "13        3           1   3061.777147            13             1    Алексей   \n",
       "14        3           2   5421.152016            39             2    Алексей   \n",
       "\n",
       "    age    city subscription_type  minute_price  start_ride_price  \\\n",
       "0    22  Тюмень             ultra             6                 0   \n",
       "1    22  Тюмень             ultra             6                 0   \n",
       "2    22  Тюмень             ultra             6                 0   \n",
       "3    22  Тюмень             ultra             6                 0   \n",
       "4    22  Тюмень             ultra             6                 0   \n",
       "5    22  Тюмень             ultra             6                 0   \n",
       "6    31    Омск             ultra             6                 0   \n",
       "7    31    Омск             ultra             6                 0   \n",
       "8    31    Омск             ultra             6                 0   \n",
       "9    31    Омск             ultra             6                 0   \n",
       "10   31    Омск             ultra             6                 0   \n",
       "11   31    Омск             ultra             6                 0   \n",
       "12   31    Омск             ultra             6                 0   \n",
       "13   20  Москва             ultra             6                 0   \n",
       "14   20  Москва             ultra             6                 0   \n",
       "\n",
       "    subscription_fee  \n",
       "0                199  \n",
       "1                199  \n",
       "2                199  \n",
       "3                199  \n",
       "4                199  \n",
       "5                199  \n",
       "6                199  \n",
       "7                199  \n",
       "8                199  \n",
       "9                199  \n",
       "10               199  \n",
       "11               199  \n",
       "12               199  \n",
       "13               199  \n",
       "14               199  "
      ]
     },
     "execution_count": 20,
     "metadata": {},
     "output_type": "execute_result"
    }
   ],
   "source": [
    "dist_agg_table1 = dist_agg_table.merge(users_data)\n",
    "dist_agg_table1 = dist_agg_table1.merge(subscriptions_data)\n",
    "dist_agg_table1.head(15)"
   ]
  },
  {
   "cell_type": "markdown",
   "id": "d393d81c",
   "metadata": {},
   "source": [
    "Добавил в новую таблицу данные о наличии подписки и стоимости поезки."
   ]
  },
  {
   "cell_type": "code",
   "execution_count": 21,
   "id": "95a61f45",
   "metadata": {
    "scrolled": true
   },
   "outputs": [
    {
     "data": {
      "text/html": [
       "<div>\n",
       "<style scoped>\n",
       "    .dataframe tbody tr th:only-of-type {\n",
       "        vertical-align: middle;\n",
       "    }\n",
       "\n",
       "    .dataframe tbody tr th {\n",
       "        vertical-align: top;\n",
       "    }\n",
       "\n",
       "    .dataframe thead th {\n",
       "        text-align: right;\n",
       "    }\n",
       "</style>\n",
       "<table border=\"1\" class=\"dataframe\">\n",
       "  <thead>\n",
       "    <tr style=\"text-align: right;\">\n",
       "      <th></th>\n",
       "      <th>user_id</th>\n",
       "      <th>month_date</th>\n",
       "      <th>distance_sum</th>\n",
       "      <th>duration_sum</th>\n",
       "      <th>num_of_trips</th>\n",
       "      <th>name</th>\n",
       "      <th>age</th>\n",
       "      <th>city</th>\n",
       "      <th>subscription_type</th>\n",
       "      <th>minute_price</th>\n",
       "      <th>start_ride_price</th>\n",
       "      <th>subscription_fee</th>\n",
       "      <th>month_profit</th>\n",
       "    </tr>\n",
       "  </thead>\n",
       "  <tbody>\n",
       "    <tr>\n",
       "      <th>0</th>\n",
       "      <td>1</td>\n",
       "      <td>1</td>\n",
       "      <td>7027.511294</td>\n",
       "      <td>42</td>\n",
       "      <td>2</td>\n",
       "      <td>Кира</td>\n",
       "      <td>22</td>\n",
       "      <td>Тюмень</td>\n",
       "      <td>ultra</td>\n",
       "      <td>6</td>\n",
       "      <td>0</td>\n",
       "      <td>199</td>\n",
       "      <td>451.0</td>\n",
       "    </tr>\n",
       "    <tr>\n",
       "      <th>1</th>\n",
       "      <td>1</td>\n",
       "      <td>4</td>\n",
       "      <td>754.159807</td>\n",
       "      <td>7</td>\n",
       "      <td>1</td>\n",
       "      <td>Кира</td>\n",
       "      <td>22</td>\n",
       "      <td>Тюмень</td>\n",
       "      <td>ultra</td>\n",
       "      <td>6</td>\n",
       "      <td>0</td>\n",
       "      <td>199</td>\n",
       "      <td>241.0</td>\n",
       "    </tr>\n",
       "    <tr>\n",
       "      <th>2</th>\n",
       "      <td>1</td>\n",
       "      <td>8</td>\n",
       "      <td>6723.470560</td>\n",
       "      <td>46</td>\n",
       "      <td>2</td>\n",
       "      <td>Кира</td>\n",
       "      <td>22</td>\n",
       "      <td>Тюмень</td>\n",
       "      <td>ultra</td>\n",
       "      <td>6</td>\n",
       "      <td>0</td>\n",
       "      <td>199</td>\n",
       "      <td>475.0</td>\n",
       "    </tr>\n",
       "    <tr>\n",
       "      <th>3</th>\n",
       "      <td>1</td>\n",
       "      <td>10</td>\n",
       "      <td>5809.911100</td>\n",
       "      <td>32</td>\n",
       "      <td>2</td>\n",
       "      <td>Кира</td>\n",
       "      <td>22</td>\n",
       "      <td>Тюмень</td>\n",
       "      <td>ultra</td>\n",
       "      <td>6</td>\n",
       "      <td>0</td>\n",
       "      <td>199</td>\n",
       "      <td>391.0</td>\n",
       "    </tr>\n",
       "    <tr>\n",
       "      <th>4</th>\n",
       "      <td>1</td>\n",
       "      <td>11</td>\n",
       "      <td>7003.499363</td>\n",
       "      <td>56</td>\n",
       "      <td>3</td>\n",
       "      <td>Кира</td>\n",
       "      <td>22</td>\n",
       "      <td>Тюмень</td>\n",
       "      <td>ultra</td>\n",
       "      <td>6</td>\n",
       "      <td>0</td>\n",
       "      <td>199</td>\n",
       "      <td>535.0</td>\n",
       "    </tr>\n",
       "    <tr>\n",
       "      <th>5</th>\n",
       "      <td>1</td>\n",
       "      <td>12</td>\n",
       "      <td>6751.629942</td>\n",
       "      <td>28</td>\n",
       "      <td>2</td>\n",
       "      <td>Кира</td>\n",
       "      <td>22</td>\n",
       "      <td>Тюмень</td>\n",
       "      <td>ultra</td>\n",
       "      <td>6</td>\n",
       "      <td>0</td>\n",
       "      <td>199</td>\n",
       "      <td>367.0</td>\n",
       "    </tr>\n",
       "    <tr>\n",
       "      <th>6</th>\n",
       "      <td>2</td>\n",
       "      <td>3</td>\n",
       "      <td>10187.723006</td>\n",
       "      <td>63</td>\n",
       "      <td>3</td>\n",
       "      <td>Станислав</td>\n",
       "      <td>31</td>\n",
       "      <td>Омск</td>\n",
       "      <td>ultra</td>\n",
       "      <td>6</td>\n",
       "      <td>0</td>\n",
       "      <td>199</td>\n",
       "      <td>577.0</td>\n",
       "    </tr>\n",
       "    <tr>\n",
       "      <th>7</th>\n",
       "      <td>2</td>\n",
       "      <td>4</td>\n",
       "      <td>6164.381824</td>\n",
       "      <td>40</td>\n",
       "      <td>2</td>\n",
       "      <td>Станислав</td>\n",
       "      <td>31</td>\n",
       "      <td>Омск</td>\n",
       "      <td>ultra</td>\n",
       "      <td>6</td>\n",
       "      <td>0</td>\n",
       "      <td>199</td>\n",
       "      <td>439.0</td>\n",
       "    </tr>\n",
       "    <tr>\n",
       "      <th>8</th>\n",
       "      <td>2</td>\n",
       "      <td>6</td>\n",
       "      <td>3255.338202</td>\n",
       "      <td>14</td>\n",
       "      <td>1</td>\n",
       "      <td>Станислав</td>\n",
       "      <td>31</td>\n",
       "      <td>Омск</td>\n",
       "      <td>ultra</td>\n",
       "      <td>6</td>\n",
       "      <td>0</td>\n",
       "      <td>199</td>\n",
       "      <td>283.0</td>\n",
       "    </tr>\n",
       "    <tr>\n",
       "      <th>9</th>\n",
       "      <td>2</td>\n",
       "      <td>7</td>\n",
       "      <td>6780.722964</td>\n",
       "      <td>48</td>\n",
       "      <td>2</td>\n",
       "      <td>Станислав</td>\n",
       "      <td>31</td>\n",
       "      <td>Омск</td>\n",
       "      <td>ultra</td>\n",
       "      <td>6</td>\n",
       "      <td>0</td>\n",
       "      <td>199</td>\n",
       "      <td>487.0</td>\n",
       "    </tr>\n",
       "    <tr>\n",
       "      <th>10</th>\n",
       "      <td>2</td>\n",
       "      <td>8</td>\n",
       "      <td>923.007439</td>\n",
       "      <td>7</td>\n",
       "      <td>1</td>\n",
       "      <td>Станислав</td>\n",
       "      <td>31</td>\n",
       "      <td>Омск</td>\n",
       "      <td>ultra</td>\n",
       "      <td>6</td>\n",
       "      <td>0</td>\n",
       "      <td>199</td>\n",
       "      <td>241.0</td>\n",
       "    </tr>\n",
       "    <tr>\n",
       "      <th>11</th>\n",
       "      <td>2</td>\n",
       "      <td>10</td>\n",
       "      <td>2824.636598</td>\n",
       "      <td>19</td>\n",
       "      <td>1</td>\n",
       "      <td>Станислав</td>\n",
       "      <td>31</td>\n",
       "      <td>Омск</td>\n",
       "      <td>ultra</td>\n",
       "      <td>6</td>\n",
       "      <td>0</td>\n",
       "      <td>199</td>\n",
       "      <td>313.0</td>\n",
       "    </tr>\n",
       "    <tr>\n",
       "      <th>12</th>\n",
       "      <td>2</td>\n",
       "      <td>12</td>\n",
       "      <td>3828.248580</td>\n",
       "      <td>12</td>\n",
       "      <td>1</td>\n",
       "      <td>Станислав</td>\n",
       "      <td>31</td>\n",
       "      <td>Омск</td>\n",
       "      <td>ultra</td>\n",
       "      <td>6</td>\n",
       "      <td>0</td>\n",
       "      <td>199</td>\n",
       "      <td>271.0</td>\n",
       "    </tr>\n",
       "    <tr>\n",
       "      <th>13</th>\n",
       "      <td>3</td>\n",
       "      <td>1</td>\n",
       "      <td>3061.777147</td>\n",
       "      <td>13</td>\n",
       "      <td>1</td>\n",
       "      <td>Алексей</td>\n",
       "      <td>20</td>\n",
       "      <td>Москва</td>\n",
       "      <td>ultra</td>\n",
       "      <td>6</td>\n",
       "      <td>0</td>\n",
       "      <td>199</td>\n",
       "      <td>277.0</td>\n",
       "    </tr>\n",
       "    <tr>\n",
       "      <th>14</th>\n",
       "      <td>3</td>\n",
       "      <td>2</td>\n",
       "      <td>5421.152016</td>\n",
       "      <td>39</td>\n",
       "      <td>2</td>\n",
       "      <td>Алексей</td>\n",
       "      <td>20</td>\n",
       "      <td>Москва</td>\n",
       "      <td>ultra</td>\n",
       "      <td>6</td>\n",
       "      <td>0</td>\n",
       "      <td>199</td>\n",
       "      <td>433.0</td>\n",
       "    </tr>\n",
       "  </tbody>\n",
       "</table>\n",
       "</div>"
      ],
      "text/plain": [
       "    user_id  month_date  distance_sum  duration_sum  num_of_trips       name  \\\n",
       "0         1           1   7027.511294            42             2       Кира   \n",
       "1         1           4    754.159807             7             1       Кира   \n",
       "2         1           8   6723.470560            46             2       Кира   \n",
       "3         1          10   5809.911100            32             2       Кира   \n",
       "4         1          11   7003.499363            56             3       Кира   \n",
       "5         1          12   6751.629942            28             2       Кира   \n",
       "6         2           3  10187.723006            63             3  Станислав   \n",
       "7         2           4   6164.381824            40             2  Станислав   \n",
       "8         2           6   3255.338202            14             1  Станислав   \n",
       "9         2           7   6780.722964            48             2  Станислав   \n",
       "10        2           8    923.007439             7             1  Станислав   \n",
       "11        2          10   2824.636598            19             1  Станислав   \n",
       "12        2          12   3828.248580            12             1  Станислав   \n",
       "13        3           1   3061.777147            13             1    Алексей   \n",
       "14        3           2   5421.152016            39             2    Алексей   \n",
       "\n",
       "    age    city subscription_type  minute_price  start_ride_price  \\\n",
       "0    22  Тюмень             ultra             6                 0   \n",
       "1    22  Тюмень             ultra             6                 0   \n",
       "2    22  Тюмень             ultra             6                 0   \n",
       "3    22  Тюмень             ultra             6                 0   \n",
       "4    22  Тюмень             ultra             6                 0   \n",
       "5    22  Тюмень             ultra             6                 0   \n",
       "6    31    Омск             ultra             6                 0   \n",
       "7    31    Омск             ultra             6                 0   \n",
       "8    31    Омск             ultra             6                 0   \n",
       "9    31    Омск             ultra             6                 0   \n",
       "10   31    Омск             ultra             6                 0   \n",
       "11   31    Омск             ultra             6                 0   \n",
       "12   31    Омск             ultra             6                 0   \n",
       "13   20  Москва             ultra             6                 0   \n",
       "14   20  Москва             ultra             6                 0   \n",
       "\n",
       "    subscription_fee  month_profit  \n",
       "0                199         451.0  \n",
       "1                199         241.0  \n",
       "2                199         475.0  \n",
       "3                199         391.0  \n",
       "4                199         535.0  \n",
       "5                199         367.0  \n",
       "6                199         577.0  \n",
       "7                199         439.0  \n",
       "8                199         283.0  \n",
       "9                199         487.0  \n",
       "10               199         241.0  \n",
       "11               199         313.0  \n",
       "12               199         271.0  \n",
       "13               199         277.0  \n",
       "14               199         433.0  "
      ]
     },
     "execution_count": 21,
     "metadata": {},
     "output_type": "execute_result"
    }
   ],
   "source": [
    "for i in range(len(dist_agg_table1)):\n",
    "    dist_agg_table1.loc[i, 'month_profit'] = dist_agg_table1.loc[i, 'subscription_fee'] + (dist_agg_table1.loc[i, 'minute_price'] * dist_agg_table1.loc[i, 'duration_sum']) + (dist_agg_table1.loc[i, 'start_ride_price'] * dist_agg_table1.loc[i, 'num_of_trips'])\n",
    "dist_agg_table1.head(15)"
   ]
  },
  {
   "cell_type": "markdown",
   "id": "d450ef92",
   "metadata": {},
   "source": [
    "Была создана таблица с суммарным расстоянием, количеством поездок и суммарным временем для каждого пользователя за каждый месяц. Также был добавлен столбец с помесячной прибылью от каждого пользователя."
   ]
  },
  {
   "cell_type": "markdown",
   "id": "41545ac0",
   "metadata": {},
   "source": [
    "#### Проверка гипотез"
   ]
  },
  {
   "cell_type": "markdown",
   "id": "f6c2c07b",
   "metadata": {},
   "source": [
    "**1) Нулевая гипотеза:** пользователи с подпиской и без тратят одинаковое время на поезки\n",
    "\n",
    "**Альтернативная гипотеза:** пользователи с подпиской тратят больше времени на поездки, чем пользователи без подписки."
   ]
  },
  {
   "cell_type": "code",
   "execution_count": 22,
   "id": "b1a2f438",
   "metadata": {},
   "outputs": [
    {
     "name": "stdout",
     "output_type": "stream",
     "text": [
      "p-value: 2.4959453720736625e-34\n",
      "Отвергаем нулевую гипотезу\n"
     ]
    }
   ],
   "source": [
    "results = st.ttest_ind(users_with_subs['duration'], users_without_subs['duration'], alternative='greater')\n",
    "print(f'p-value: {results.pvalue}')\n",
    "alpha = 0.05\n",
    "if results.pvalue < alpha:\n",
    "    print('Отвергаем нулевую гипотезу')\n",
    "else:\n",
    "    print('Нет оснований отвергнуть нулевую гипотезу')"
   ]
  },
  {
   "cell_type": "markdown",
   "id": "23b9b736",
   "metadata": {},
   "source": [
    "Мы отвергаем нулевую гипотезу, а значит есть основания считать, что пользователи с подпиской тратят на поездки больше времени, чем пользователи без подписки."
   ]
  },
  {
   "cell_type": "markdown",
   "id": "3a75d224",
   "metadata": {},
   "source": [
    "**2) Нулевая гипотеза:** Среднее расстояние, которое проезжают пользователи с подпиской, не превышает 3130 метров.\n",
    "\n",
    "**Альтернативная гипотеза:** Среднее расстояние, которое проезжают пользователи с подпиской, превышает 3130 метров.\n",
    "\n",
    "Для тестирования гипотезы возьмем выборку из 400 элементов."
   ]
  },
  {
   "cell_type": "code",
   "execution_count": 23,
   "id": "23ea867b",
   "metadata": {},
   "outputs": [
    {
     "name": "stdout",
     "output_type": "stream",
     "text": [
      "p-значение: 0.9195368847849785\n",
      "Не отвергаем нулевую гипотезу\n"
     ]
    }
   ],
   "source": [
    "interested_distance = 3130\n",
    "alpha = 0.05\n",
    "results = st.ttest_1samp(\n",
    "    users_with_subs['distance'], \n",
    "    interested_distance,\n",
    "      alternative='greater')\n",
    "\n",
    "print('p-значение:', results.pvalue)\n",
    "if (results.pvalue < alpha):\n",
    "    print('Отвергаем нулевую гипотезу')\n",
    "else:\n",
    "    print('Не отвергаем нулевую гипотезу') "
   ]
  },
  {
   "cell_type": "markdown",
   "id": "d86acf17",
   "metadata": {},
   "source": [
    "Мы не отвергаем нулевую гипотезу, а значит не отвергаем тот факт, что среднее расстояние, которое проезжают пользователи с подпиской, не превышает 3130 метров. А значит расстояние, которое проезжают пользователи с подпиской меньше изнашивает самокаты, а значит выгодны для бизнеса."
   ]
  },
  {
   "cell_type": "markdown",
   "id": "07eb0b0c",
   "metadata": {},
   "source": [
    "**3) Нулевая гипотеза:** помесячная выручка от пользователей с подпиской и без подписки равна.\n",
    "\n",
    "**Альтернативная гипотеза:** помесячная выручка от пользователей с подпиской по месяцам выше.\n",
    "\n",
    "Для тестирования гипотезы возьмем две выборки по 400 элементов."
   ]
  },
  {
   "cell_type": "code",
   "execution_count": 24,
   "id": "6f3e143b",
   "metadata": {},
   "outputs": [
    {
     "name": "stdout",
     "output_type": "stream",
     "text": [
      "p-value: 1.8850394384715216e-31\n",
      "Отвергаем нулевую гипотезу\n"
     ]
    }
   ],
   "source": [
    "results = st.ttest_ind(dist_agg_table1.loc[dist_agg_table1['subscription_type'] == 'ultra']['month_profit'],\n",
    "                       dist_agg_table1.loc[dist_agg_table1['subscription_type'] == 'free']['month_profit'], alternative='greater')\n",
    "print(f'p-value: {results.pvalue}')\n",
    "if results.pvalue < alpha:\n",
    "    print('Отвергаем нулевую гипотезу')\n",
    "else:\n",
    "    print('Нет оснований отвергнуть нулевую гипотезу')"
   ]
  },
  {
   "cell_type": "markdown",
   "id": "1eb5b635",
   "metadata": {},
   "source": [
    "Мы отвергаем нулевую гипотезу, а значит есть основания полагать, что помесячная выручка от пользователей с подпиской выше, чем от пользователей без подписки. Это логично, ведь если бы было наоборот, компания упразднила бы данную концепцию. "
   ]
  },
  {
   "cell_type": "markdown",
   "id": "9edd20f1",
   "metadata": {},
   "source": [
    "**4)** Это гипотеза о равенстве средних для зависимых выборок. Для проверки этой гипотезы нам потребовался бы метод ttest_rel. В таком случае гипотеза формулировалась бы так:\n",
    "\n",
    "Нулевая гипотеза: средние значения до и после изменения равны.\n",
    "\n",
    "Альтернативная гипотеза: средние значения после изменения стали значимо меньше."
   ]
  },
  {
   "cell_type": "markdown",
   "id": "c6f5dd41",
   "metadata": {},
   "source": [
    "#### Общий вывод"
   ]
  },
  {
   "cell_type": "markdown",
   "id": "0846b050",
   "metadata": {},
   "source": [
    "Нам были переданы данные популярного сервиса аренды самокатов GoFast, а именно три датасета содержащие данные о пользователях, поездках и различных тарифах. \n",
    "\n",
    "**На этапе предобработки** датасеты были исследованы на предмет аномальных значений, были удалены дубликаты в первом датафрейме, а также был добавлен столбец, несущий информацию о месяце поездки.\n",
    "\n",
    "<br>\n",
    "\n",
    "**На этапе исследовательского анализа данных** был проведен анализ имеющихся датасетов. В результате, мы выяснили, что:\n",
    "\n",
    "1) Самый распространенный город - это Пятигорск, а самый не распространенный - Москва.\n",
    "\n",
    "2) Пользователей с подпиской и без подписки практически равное количество, но пользователей без подписки больше. Разница между ними составляет всего 8% от общего количества пользователей.\n",
    "\n",
    "3) Самым частым возрастом пользователей является - 25 лет, а самыми редкими 37, 39, 43\n",
    "\n",
    "4) Распределение преодоленного расстояния близко к нормальному с центральным значением 3070 метров.\n",
    "\n",
    "5) Распределение времени поездки также является номальным с центральным значением 17.8 минут.\n",
    "\n",
    "<br>\n",
    "\n",
    "**На этапе объединения данных** были проведены следующие операции:\n",
    "\n",
    "1) Три датафрейма были объединены в один, содержащий общую информацию о пользователях и их поездках.\n",
    "\n",
    "2) Этот датафрейм был разбит на два по принципу (С подпиской), (Без подписки)\n",
    "\n",
    "3) Были исследованы зависимости различных показателей от наличия подписки. Мы выяснили, что главным отличием является факт, что пользователи с подпиской не ездят на маленькие дистанции, а пользователи без подписки ездят.\n",
    "\n",
    "<br>\n",
    "\n",
    "**На этапе подсчета выручки** Была создана сводная таблица с общей дистанцией и временем пользователей, а также с количеством поездок каждого. После, была подсчитана и добавлена в таблицу помесячная прибыль от каждого пользователя. \n",
    "\n",
    "<br>\n",
    "\n",
    "**На последнем этапе были протестированы следующие гипотезы:**\n",
    "\n",
    "1) Тратят ли пользователи с подпиской больше времени на поездки? Есть основания считать, что пользователи с подпиской тратят на поездки больше времени, чем пользователи без подписки.\n",
    "\n",
    "2) Можно ли сказать, что среднее расстояние, которое проезжают пользователи с подпиской за одну поездку, не превышает 3130? Мы не отвергаем тот факт, что среднее расстояние, которое проезжают пользователи с подпиской, не превышает 3130 метров. А значит расстояние, которое проезжают пользователи с подпиской меньше изнашивает самокаты, а значит выгодны для бизнеса.\n",
    "\n",
    "3) Является ли помесячная выручка от пользователей с подпиской по месяцам выше, чем выручка от пользователей без подписки? Есть основания полагать, что помесячная выручка от пользователей с подпиской выше, чем от пользователей без подписки. Это логично, ведь если бы было наоборот, компания упразднила бы данную концепцию.\n",
    "\n",
    "4) А также приведен алгоритм тестирования гипотезы об уменьшении количества обращений в тех. поддержку из-за обновления сервера.\n",
    "\n",
    "В конечном итоге, на основании протестированных гипотез, можно резюмировать, что пользователи с подпиской являются **более выгодными для бизнеса**, потому что в среднем тратят больше времени на поездки, при этом критично не изначшивая самокаты. Также помесячная выручка от пользователей с подпиской выше, чем от пользователей без подписки. "
   ]
  }
 ],
 "metadata": {
  "ExecuteTimeLog": [
   {
    "duration": 1346,
    "start_time": "2023-11-04T09:24:29.005Z"
   },
   {
    "duration": 205,
    "start_time": "2023-11-04T09:26:10.269Z"
   },
   {
    "duration": 14,
    "start_time": "2023-11-04T09:28:55.300Z"
   },
   {
    "duration": 153,
    "start_time": "2023-11-04T09:31:15.359Z"
   },
   {
    "duration": 19,
    "start_time": "2023-11-04T09:31:19.466Z"
   },
   {
    "duration": 1202,
    "start_time": "2023-11-04T09:31:46.006Z"
   },
   {
    "duration": 20,
    "start_time": "2023-11-04T09:31:52.086Z"
   },
   {
    "duration": 3,
    "start_time": "2023-11-04T09:37:52.289Z"
   },
   {
    "duration": 15,
    "start_time": "2023-11-04T09:40:05.252Z"
   },
   {
    "duration": 11,
    "start_time": "2023-11-04T09:40:23.821Z"
   },
   {
    "duration": 7,
    "start_time": "2023-11-04T09:44:50.492Z"
   },
   {
    "duration": 6,
    "start_time": "2023-11-04T09:45:30.806Z"
   },
   {
    "duration": 6,
    "start_time": "2023-11-04T09:45:55.695Z"
   },
   {
    "duration": 6,
    "start_time": "2023-11-04T09:49:07.683Z"
   },
   {
    "duration": 7,
    "start_time": "2023-11-04T09:49:47.953Z"
   },
   {
    "duration": 157,
    "start_time": "2023-11-04T09:49:54.206Z"
   },
   {
    "duration": 13,
    "start_time": "2023-11-04T09:50:16.620Z"
   },
   {
    "duration": 93,
    "start_time": "2023-11-04T09:50:54.910Z"
   },
   {
    "duration": 123,
    "start_time": "2023-11-04T09:51:44.062Z"
   },
   {
    "duration": 74,
    "start_time": "2023-11-04T09:51:54.889Z"
   },
   {
    "duration": 75,
    "start_time": "2023-11-04T09:51:58.356Z"
   },
   {
    "duration": 78,
    "start_time": "2023-11-04T09:52:28.658Z"
   },
   {
    "duration": 99,
    "start_time": "2023-11-04T09:55:22.274Z"
   },
   {
    "duration": 186,
    "start_time": "2023-11-04T09:56:20.964Z"
   },
   {
    "duration": 27,
    "start_time": "2023-11-04T09:56:25.418Z"
   },
   {
    "duration": 142,
    "start_time": "2023-11-04T09:56:54.274Z"
   },
   {
    "duration": 8,
    "start_time": "2023-11-04T09:58:58.921Z"
   },
   {
    "duration": 196,
    "start_time": "2023-11-04T09:59:15.494Z"
   },
   {
    "duration": 16,
    "start_time": "2023-11-04T09:59:31.493Z"
   },
   {
    "duration": 140,
    "start_time": "2023-11-04T09:59:38.709Z"
   },
   {
    "duration": 136,
    "start_time": "2023-11-04T09:59:51.907Z"
   },
   {
    "duration": 184,
    "start_time": "2023-11-04T10:03:09.566Z"
   },
   {
    "duration": 12,
    "start_time": "2023-11-04T10:05:03.163Z"
   },
   {
    "duration": 127,
    "start_time": "2023-11-04T10:05:22.026Z"
   },
   {
    "duration": 117,
    "start_time": "2023-11-04T10:06:49.321Z"
   },
   {
    "duration": 90,
    "start_time": "2023-11-04T10:07:05.644Z"
   },
   {
    "duration": 92,
    "start_time": "2023-11-04T10:07:09.167Z"
   },
   {
    "duration": 118,
    "start_time": "2023-11-04T10:07:11.597Z"
   },
   {
    "duration": 117,
    "start_time": "2023-11-04T10:07:23.619Z"
   },
   {
    "duration": 4,
    "start_time": "2023-11-04T10:09:38.523Z"
   },
   {
    "duration": 252,
    "start_time": "2023-11-04T10:10:03.522Z"
   },
   {
    "duration": 251,
    "start_time": "2023-11-04T10:10:26.028Z"
   },
   {
    "duration": 257,
    "start_time": "2023-11-04T10:11:01.083Z"
   },
   {
    "duration": 15,
    "start_time": "2023-11-04T10:12:08.399Z"
   },
   {
    "duration": 2666,
    "start_time": "2023-11-04T10:12:15.539Z"
   },
   {
    "duration": 267,
    "start_time": "2023-11-04T10:12:34.954Z"
   },
   {
    "duration": 319,
    "start_time": "2023-11-04T10:13:29.310Z"
   },
   {
    "duration": 9,
    "start_time": "2023-11-04T10:16:57.232Z"
   },
   {
    "duration": 144,
    "start_time": "2023-11-04T10:17:25.866Z"
   },
   {
    "duration": 198,
    "start_time": "2023-11-04T10:17:35.145Z"
   },
   {
    "duration": 154,
    "start_time": "2023-11-04T10:19:32.141Z"
   },
   {
    "duration": 9,
    "start_time": "2023-11-04T10:27:38.519Z"
   },
   {
    "duration": 22,
    "start_time": "2023-11-04T10:28:04.265Z"
   },
   {
    "duration": 24,
    "start_time": "2023-11-04T10:28:23.878Z"
   },
   {
    "duration": 23,
    "start_time": "2023-11-04T10:28:27.783Z"
   },
   {
    "duration": 33,
    "start_time": "2023-11-04T10:29:04.768Z"
   },
   {
    "duration": 3,
    "start_time": "2023-11-04T10:31:09.790Z"
   },
   {
    "duration": 11,
    "start_time": "2023-11-04T10:33:36.873Z"
   },
   {
    "duration": 19,
    "start_time": "2023-11-04T10:33:58.450Z"
   },
   {
    "duration": 18,
    "start_time": "2023-11-04T10:34:10.782Z"
   },
   {
    "duration": 17,
    "start_time": "2023-11-04T10:34:22.823Z"
   },
   {
    "duration": 31,
    "start_time": "2023-11-04T10:34:35.743Z"
   },
   {
    "duration": 28,
    "start_time": "2023-11-04T10:34:43.635Z"
   },
   {
    "duration": 19,
    "start_time": "2023-11-04T10:34:49.390Z"
   },
   {
    "duration": 19,
    "start_time": "2023-11-04T10:35:25.548Z"
   },
   {
    "duration": 20,
    "start_time": "2023-11-04T10:35:53.391Z"
   },
   {
    "duration": 18,
    "start_time": "2023-11-04T10:35:59.606Z"
   },
   {
    "duration": 14,
    "start_time": "2023-11-04T10:37:44.167Z"
   },
   {
    "duration": 14,
    "start_time": "2023-11-04T10:37:54.161Z"
   },
   {
    "duration": 10,
    "start_time": "2023-11-04T10:37:56.404Z"
   },
   {
    "duration": 17,
    "start_time": "2023-11-04T10:38:04.590Z"
   },
   {
    "duration": 141,
    "start_time": "2023-11-04T10:38:50.094Z"
   },
   {
    "duration": 161,
    "start_time": "2023-11-04T10:39:05.343Z"
   },
   {
    "duration": 135,
    "start_time": "2023-11-04T10:39:21.881Z"
   },
   {
    "duration": 153,
    "start_time": "2023-11-04T10:39:39.800Z"
   },
   {
    "duration": 127,
    "start_time": "2023-11-04T10:39:41.510Z"
   },
   {
    "duration": 11,
    "start_time": "2023-11-04T10:40:18.358Z"
   },
   {
    "duration": 146,
    "start_time": "2023-11-04T10:40:24.403Z"
   },
   {
    "duration": 148,
    "start_time": "2023-11-04T10:42:49.989Z"
   },
   {
    "duration": 153,
    "start_time": "2023-11-04T10:42:59.005Z"
   },
   {
    "duration": 316,
    "start_time": "2023-11-04T10:43:40.325Z"
   },
   {
    "duration": 25,
    "start_time": "2023-11-04T10:56:36.135Z"
   },
   {
    "duration": 17,
    "start_time": "2023-11-04T10:57:03.769Z"
   },
   {
    "duration": 29,
    "start_time": "2023-11-04T10:57:44.276Z"
   },
   {
    "duration": 29,
    "start_time": "2023-11-04T10:58:02.685Z"
   },
   {
    "duration": 18,
    "start_time": "2023-11-04T10:58:17.102Z"
   },
   {
    "duration": 18,
    "start_time": "2023-11-04T10:58:22.941Z"
   },
   {
    "duration": 15,
    "start_time": "2023-11-04T10:59:57.097Z"
   },
   {
    "duration": 20,
    "start_time": "2023-11-04T11:02:47.714Z"
   },
   {
    "duration": 14,
    "start_time": "2023-11-04T11:04:13.259Z"
   },
   {
    "duration": 12,
    "start_time": "2023-11-04T11:05:34.574Z"
   },
   {
    "duration": 14,
    "start_time": "2023-11-04T11:06:51.468Z"
   },
   {
    "duration": 15,
    "start_time": "2023-11-04T11:07:04.865Z"
   },
   {
    "duration": 14,
    "start_time": "2023-11-04T11:07:28.527Z"
   },
   {
    "duration": 13,
    "start_time": "2023-11-04T11:07:36.658Z"
   },
   {
    "duration": 763,
    "start_time": "2023-11-04T11:08:04.216Z"
   },
   {
    "duration": 16,
    "start_time": "2023-11-04T11:09:00.193Z"
   },
   {
    "duration": 19,
    "start_time": "2023-11-04T11:15:07.262Z"
   },
   {
    "duration": 12,
    "start_time": "2023-11-04T11:15:57.172Z"
   },
   {
    "duration": 2136,
    "start_time": "2023-11-04T11:16:08.477Z"
   },
   {
    "duration": 1960,
    "start_time": "2023-11-04T11:16:29.379Z"
   },
   {
    "duration": 17,
    "start_time": "2023-11-04T11:20:00.408Z"
   },
   {
    "duration": 18,
    "start_time": "2023-11-04T11:20:16.303Z"
   },
   {
    "duration": 26,
    "start_time": "2023-11-04T11:20:57.937Z"
   },
   {
    "duration": 1509,
    "start_time": "2023-11-04T11:21:14.287Z"
   },
   {
    "duration": 675,
    "start_time": "2023-11-04T11:21:19.620Z"
   },
   {
    "duration": 696,
    "start_time": "2023-11-04T11:21:53.078Z"
   },
   {
    "duration": 617,
    "start_time": "2023-11-04T11:22:19.045Z"
   },
   {
    "duration": 16,
    "start_time": "2023-11-04T11:22:23.584Z"
   },
   {
    "duration": 13,
    "start_time": "2023-11-04T11:25:54.383Z"
   },
   {
    "duration": 14,
    "start_time": "2023-11-04T11:26:11.117Z"
   },
   {
    "duration": 14,
    "start_time": "2023-11-04T11:26:18.795Z"
   },
   {
    "duration": 10,
    "start_time": "2023-11-04T11:26:49.215Z"
   },
   {
    "duration": 12,
    "start_time": "2023-11-04T11:27:11.497Z"
   },
   {
    "duration": 13,
    "start_time": "2023-11-04T11:27:36.255Z"
   },
   {
    "duration": 1378,
    "start_time": "2023-11-04T11:28:28.750Z"
   },
   {
    "duration": 1250,
    "start_time": "2023-11-04T11:28:43.566Z"
   },
   {
    "duration": 8,
    "start_time": "2023-11-04T11:29:34.853Z"
   },
   {
    "duration": 6,
    "start_time": "2023-11-04T11:29:41.626Z"
   },
   {
    "duration": 14,
    "start_time": "2023-11-04T11:32:42.462Z"
   },
   {
    "duration": 9,
    "start_time": "2023-11-04T11:32:57.237Z"
   },
   {
    "duration": 11,
    "start_time": "2023-11-04T11:33:19.135Z"
   },
   {
    "duration": 11,
    "start_time": "2023-11-04T11:33:27.828Z"
   },
   {
    "duration": 18,
    "start_time": "2023-11-04T11:37:28.416Z"
   },
   {
    "duration": 7,
    "start_time": "2023-11-04T11:37:41.288Z"
   },
   {
    "duration": 14,
    "start_time": "2023-11-04T11:38:19.618Z"
   },
   {
    "duration": 17,
    "start_time": "2023-11-04T11:38:32.731Z"
   },
   {
    "duration": 15,
    "start_time": "2023-11-04T11:38:44.636Z"
   },
   {
    "duration": 18,
    "start_time": "2023-11-04T11:38:54.402Z"
   },
   {
    "duration": 9,
    "start_time": "2023-11-04T11:39:02.717Z"
   },
   {
    "duration": 9,
    "start_time": "2023-11-04T11:39:20.484Z"
   },
   {
    "duration": 9,
    "start_time": "2023-11-04T11:39:33.157Z"
   },
   {
    "duration": 10,
    "start_time": "2023-11-04T11:39:44.956Z"
   },
   {
    "duration": 13,
    "start_time": "2023-11-04T11:39:53.533Z"
   },
   {
    "duration": 13,
    "start_time": "2023-11-04T11:40:24.029Z"
   },
   {
    "duration": 9,
    "start_time": "2023-11-04T11:40:24.665Z"
   },
   {
    "duration": 9,
    "start_time": "2023-11-04T11:42:02.495Z"
   },
   {
    "duration": 15,
    "start_time": "2023-11-04T11:42:48.600Z"
   },
   {
    "duration": 9,
    "start_time": "2023-11-04T11:43:06.871Z"
   },
   {
    "duration": 9,
    "start_time": "2023-11-04T11:44:07.818Z"
   },
   {
    "duration": 10,
    "start_time": "2023-11-04T11:44:12.160Z"
   },
   {
    "duration": 11,
    "start_time": "2023-11-04T11:44:39.737Z"
   },
   {
    "duration": 9,
    "start_time": "2023-11-04T11:56:27.731Z"
   },
   {
    "duration": 161,
    "start_time": "2023-11-04T11:56:32.049Z"
   },
   {
    "duration": 122,
    "start_time": "2023-11-04T11:56:33.646Z"
   },
   {
    "duration": 312,
    "start_time": "2023-11-04T11:56:35.230Z"
   },
   {
    "duration": 149,
    "start_time": "2023-11-04T11:56:38.673Z"
   },
   {
    "duration": 141,
    "start_time": "2023-11-04T11:56:43.208Z"
   },
   {
    "duration": 31,
    "start_time": "2023-11-04T11:56:47.932Z"
   },
   {
    "duration": 20,
    "start_time": "2023-11-04T11:56:50.620Z"
   },
   {
    "duration": 17,
    "start_time": "2023-11-04T11:56:52.691Z"
   },
   {
    "duration": 139,
    "start_time": "2023-11-04T11:56:52.992Z"
   },
   {
    "duration": 149,
    "start_time": "2023-11-04T11:56:54.842Z"
   },
   {
    "duration": 151,
    "start_time": "2023-11-04T11:56:55.067Z"
   },
   {
    "duration": 163,
    "start_time": "2023-11-04T11:56:56.819Z"
   },
   {
    "duration": 15,
    "start_time": "2023-11-04T11:57:00.196Z"
   },
   {
    "duration": 16,
    "start_time": "2023-11-04T11:57:00.389Z"
   },
   {
    "duration": 14,
    "start_time": "2023-11-04T11:57:01.743Z"
   },
   {
    "duration": 15,
    "start_time": "2023-11-04T11:57:01.959Z"
   },
   {
    "duration": 11,
    "start_time": "2023-11-04T11:57:03.601Z"
   },
   {
    "duration": 10,
    "start_time": "2023-11-04T12:04:16.459Z"
   },
   {
    "duration": 14,
    "start_time": "2023-11-04T12:04:33.247Z"
   },
   {
    "duration": 16,
    "start_time": "2023-11-04T12:12:12.565Z"
   },
   {
    "duration": 15,
    "start_time": "2023-11-04T12:13:07.870Z"
   },
   {
    "duration": 17,
    "start_time": "2023-11-04T12:14:38.134Z"
   },
   {
    "duration": 16,
    "start_time": "2023-11-04T12:15:04.526Z"
   },
   {
    "duration": 9,
    "start_time": "2023-11-04T12:15:20.064Z"
   },
   {
    "duration": 27,
    "start_time": "2023-11-04T12:16:15.587Z"
   },
   {
    "duration": 1643,
    "start_time": "2023-11-04T12:16:44.326Z"
   },
   {
    "duration": 6,
    "start_time": "2023-11-04T12:18:04.322Z"
   },
   {
    "duration": 16,
    "start_time": "2023-11-04T12:18:09.113Z"
   },
   {
    "duration": 1844,
    "start_time": "2023-11-04T12:20:16.304Z"
   },
   {
    "duration": 1331,
    "start_time": "2023-11-04T12:21:19.946Z"
   },
   {
    "duration": 10,
    "start_time": "2023-11-04T12:24:10.382Z"
   },
   {
    "duration": 16,
    "start_time": "2023-11-04T12:24:32.673Z"
   },
   {
    "duration": 11,
    "start_time": "2023-11-04T12:26:10.897Z"
   },
   {
    "duration": 1297,
    "start_time": "2023-11-04T12:26:30.611Z"
   },
   {
    "duration": 1192,
    "start_time": "2023-11-04T12:28:47.383Z"
   },
   {
    "duration": 1631,
    "start_time": "2023-11-04T12:29:33.954Z"
   },
   {
    "duration": 1186,
    "start_time": "2023-11-04T12:30:27.334Z"
   },
   {
    "duration": 79,
    "start_time": "2023-11-04T12:30:28.522Z"
   },
   {
    "duration": 108,
    "start_time": "2023-11-04T12:30:28.603Z"
   },
   {
    "duration": 0,
    "start_time": "2023-11-04T12:30:28.713Z"
   },
   {
    "duration": 0,
    "start_time": "2023-11-04T12:30:28.715Z"
   },
   {
    "duration": 0,
    "start_time": "2023-11-04T12:30:28.716Z"
   },
   {
    "duration": 0,
    "start_time": "2023-11-04T12:30:28.717Z"
   },
   {
    "duration": 0,
    "start_time": "2023-11-04T12:30:28.718Z"
   },
   {
    "duration": 0,
    "start_time": "2023-11-04T12:30:28.719Z"
   },
   {
    "duration": 0,
    "start_time": "2023-11-04T12:30:28.721Z"
   },
   {
    "duration": 0,
    "start_time": "2023-11-04T12:30:28.722Z"
   },
   {
    "duration": 0,
    "start_time": "2023-11-04T12:30:28.723Z"
   },
   {
    "duration": 0,
    "start_time": "2023-11-04T12:30:28.724Z"
   },
   {
    "duration": 0,
    "start_time": "2023-11-04T12:30:28.725Z"
   },
   {
    "duration": 0,
    "start_time": "2023-11-04T12:30:28.726Z"
   },
   {
    "duration": 0,
    "start_time": "2023-11-04T12:30:28.747Z"
   },
   {
    "duration": 0,
    "start_time": "2023-11-04T12:30:28.748Z"
   },
   {
    "duration": 0,
    "start_time": "2023-11-04T12:30:28.749Z"
   },
   {
    "duration": 0,
    "start_time": "2023-11-04T12:30:28.750Z"
   },
   {
    "duration": 0,
    "start_time": "2023-11-04T12:30:28.752Z"
   },
   {
    "duration": 0,
    "start_time": "2023-11-04T12:30:28.753Z"
   },
   {
    "duration": 13,
    "start_time": "2023-11-04T12:31:31.078Z"
   },
   {
    "duration": 12,
    "start_time": "2023-11-04T12:31:57.738Z"
   },
   {
    "duration": 75,
    "start_time": "2023-11-04T12:32:22.564Z"
   },
   {
    "duration": 12,
    "start_time": "2023-11-04T12:32:25.046Z"
   },
   {
    "duration": 3,
    "start_time": "2023-11-04T12:32:30.650Z"
   },
   {
    "duration": 75,
    "start_time": "2023-11-04T12:32:31.254Z"
   },
   {
    "duration": 12,
    "start_time": "2023-11-04T12:32:34.080Z"
   },
   {
    "duration": 153,
    "start_time": "2023-11-04T12:32:36.725Z"
   },
   {
    "duration": 1658,
    "start_time": "2023-11-04T12:36:13.500Z"
   },
   {
    "duration": 12,
    "start_time": "2023-11-04T12:36:54.307Z"
   },
   {
    "duration": 21,
    "start_time": "2023-11-04T12:37:44.837Z"
   },
   {
    "duration": 1153,
    "start_time": "2023-11-04T12:38:49.408Z"
   },
   {
    "duration": 81,
    "start_time": "2023-11-04T12:38:50.563Z"
   },
   {
    "duration": 15,
    "start_time": "2023-11-04T12:38:50.646Z"
   },
   {
    "duration": 180,
    "start_time": "2023-11-04T12:38:50.663Z"
   },
   {
    "duration": 146,
    "start_time": "2023-11-04T12:38:50.848Z"
   },
   {
    "duration": 282,
    "start_time": "2023-11-04T12:38:50.996Z"
   },
   {
    "duration": 162,
    "start_time": "2023-11-04T12:38:51.279Z"
   },
   {
    "duration": 166,
    "start_time": "2023-11-04T12:38:51.442Z"
   },
   {
    "duration": 43,
    "start_time": "2023-11-04T12:38:51.609Z"
   },
   {
    "duration": 20,
    "start_time": "2023-11-04T12:38:51.654Z"
   },
   {
    "duration": 21,
    "start_time": "2023-11-04T12:38:51.676Z"
   },
   {
    "duration": 163,
    "start_time": "2023-11-04T12:38:51.698Z"
   },
   {
    "duration": 154,
    "start_time": "2023-11-04T12:38:51.862Z"
   },
   {
    "duration": 153,
    "start_time": "2023-11-04T12:38:52.019Z"
   },
   {
    "duration": 235,
    "start_time": "2023-11-04T12:38:52.174Z"
   },
   {
    "duration": 17,
    "start_time": "2023-11-04T12:38:52.411Z"
   },
   {
    "duration": 26,
    "start_time": "2023-11-04T12:38:52.430Z"
   },
   {
    "duration": 12,
    "start_time": "2023-11-04T12:38:52.458Z"
   },
   {
    "duration": 30,
    "start_time": "2023-11-04T12:38:52.472Z"
   },
   {
    "duration": 15,
    "start_time": "2023-11-04T12:38:52.504Z"
   },
   {
    "duration": 1626,
    "start_time": "2023-11-04T12:38:52.520Z"
   },
   {
    "duration": 1197,
    "start_time": "2023-11-04T12:39:31.461Z"
   },
   {
    "duration": 1266,
    "start_time": "2023-11-04T12:39:36.511Z"
   },
   {
    "duration": 16,
    "start_time": "2023-11-04T12:39:44.129Z"
   },
   {
    "duration": 2527,
    "start_time": "2023-11-04T12:40:00.903Z"
   },
   {
    "duration": 10,
    "start_time": "2023-11-04T12:40:13.135Z"
   },
   {
    "duration": 17,
    "start_time": "2023-11-04T12:40:27.973Z"
   },
   {
    "duration": 16,
    "start_time": "2023-11-04T12:40:49.618Z"
   },
   {
    "duration": 1275,
    "start_time": "2023-11-04T12:40:51.879Z"
   },
   {
    "duration": 17,
    "start_time": "2023-11-04T12:41:19.603Z"
   },
   {
    "duration": 17,
    "start_time": "2023-11-04T12:41:33.921Z"
   },
   {
    "duration": 16,
    "start_time": "2023-11-04T12:42:27.330Z"
   },
   {
    "duration": 7,
    "start_time": "2023-11-04T12:42:48.926Z"
   },
   {
    "duration": 11,
    "start_time": "2023-11-04T12:43:51.414Z"
   },
   {
    "duration": 9,
    "start_time": "2023-11-04T12:43:52.015Z"
   },
   {
    "duration": 3,
    "start_time": "2023-11-04T12:43:57.152Z"
   },
   {
    "duration": 75,
    "start_time": "2023-11-04T12:43:57.511Z"
   },
   {
    "duration": 14,
    "start_time": "2023-11-04T12:43:58.139Z"
   },
   {
    "duration": 138,
    "start_time": "2023-11-04T12:43:58.667Z"
   },
   {
    "duration": 122,
    "start_time": "2023-11-04T12:43:59.075Z"
   },
   {
    "duration": 254,
    "start_time": "2023-11-04T12:43:59.500Z"
   },
   {
    "duration": 146,
    "start_time": "2023-11-04T12:43:59.885Z"
   },
   {
    "duration": 167,
    "start_time": "2023-11-04T12:44:00.249Z"
   },
   {
    "duration": 31,
    "start_time": "2023-11-04T12:44:00.944Z"
   },
   {
    "duration": 20,
    "start_time": "2023-11-04T12:44:01.135Z"
   },
   {
    "duration": 24,
    "start_time": "2023-11-04T12:44:05.207Z"
   },
   {
    "duration": 73,
    "start_time": "2023-11-04T12:44:32.005Z"
   },
   {
    "duration": 15,
    "start_time": "2023-11-04T12:44:50.606Z"
   },
   {
    "duration": 142,
    "start_time": "2023-11-04T12:44:52.992Z"
   },
   {
    "duration": 117,
    "start_time": "2023-11-04T12:44:53.319Z"
   },
   {
    "duration": 248,
    "start_time": "2023-11-04T12:44:53.674Z"
   },
   {
    "duration": 150,
    "start_time": "2023-11-04T12:44:54.273Z"
   },
   {
    "duration": 269,
    "start_time": "2023-11-04T12:44:55.053Z"
   },
   {
    "duration": 30,
    "start_time": "2023-11-04T12:44:57.086Z"
   },
   {
    "duration": 21,
    "start_time": "2023-11-04T12:44:57.985Z"
   },
   {
    "duration": 18,
    "start_time": "2023-11-04T12:44:58.159Z"
   },
   {
    "duration": 139,
    "start_time": "2023-11-04T12:44:58.330Z"
   },
   {
    "duration": 144,
    "start_time": "2023-11-04T12:44:58.509Z"
   },
   {
    "duration": 128,
    "start_time": "2023-11-04T12:44:58.685Z"
   },
   {
    "duration": 157,
    "start_time": "2023-11-04T12:44:58.853Z"
   },
   {
    "duration": 15,
    "start_time": "2023-11-04T12:44:59.380Z"
   },
   {
    "duration": 14,
    "start_time": "2023-11-04T12:44:59.689Z"
   },
   {
    "duration": 13,
    "start_time": "2023-11-04T12:44:59.868Z"
   },
   {
    "duration": 16,
    "start_time": "2023-11-04T12:45:00.044Z"
   },
   {
    "duration": 12,
    "start_time": "2023-11-04T12:45:00.221Z"
   },
   {
    "duration": 10,
    "start_time": "2023-11-04T12:45:00.393Z"
   },
   {
    "duration": 10,
    "start_time": "2023-11-04T12:45:20.936Z"
   },
   {
    "duration": 8,
    "start_time": "2023-11-04T12:45:30.240Z"
   },
   {
    "duration": 5,
    "start_time": "2023-11-04T12:49:16.411Z"
   },
   {
    "duration": 5,
    "start_time": "2023-11-04T12:49:59.407Z"
   },
   {
    "duration": 5,
    "start_time": "2023-11-04T12:50:03.487Z"
   },
   {
    "duration": 5,
    "start_time": "2023-11-04T12:50:13.948Z"
   },
   {
    "duration": 6,
    "start_time": "2023-11-04T12:50:24.968Z"
   },
   {
    "duration": 6,
    "start_time": "2023-11-04T12:50:37.485Z"
   },
   {
    "duration": 23,
    "start_time": "2023-11-04T12:52:15.437Z"
   },
   {
    "duration": 14,
    "start_time": "2023-11-04T12:53:10.136Z"
   },
   {
    "duration": 17,
    "start_time": "2023-11-04T12:53:38.666Z"
   },
   {
    "duration": 18,
    "start_time": "2023-11-04T12:54:19.813Z"
   },
   {
    "duration": 24,
    "start_time": "2023-11-04T12:55:47.046Z"
   },
   {
    "duration": 11,
    "start_time": "2023-11-04T12:56:14.807Z"
   },
   {
    "duration": 13,
    "start_time": "2023-11-04T12:56:33.191Z"
   },
   {
    "duration": 11,
    "start_time": "2023-11-04T12:58:43.551Z"
   },
   {
    "duration": 12,
    "start_time": "2023-11-04T12:59:44.984Z"
   },
   {
    "duration": 11,
    "start_time": "2023-11-04T12:59:59.732Z"
   },
   {
    "duration": 10,
    "start_time": "2023-11-04T13:00:14.250Z"
   },
   {
    "duration": 21,
    "start_time": "2023-11-04T13:01:43.581Z"
   },
   {
    "duration": 3,
    "start_time": "2023-11-04T13:01:48.245Z"
   },
   {
    "duration": 75,
    "start_time": "2023-11-04T13:01:48.559Z"
   },
   {
    "duration": 17,
    "start_time": "2023-11-04T13:01:49.064Z"
   },
   {
    "duration": 140,
    "start_time": "2023-11-04T13:01:49.566Z"
   },
   {
    "duration": 119,
    "start_time": "2023-11-04T13:01:49.916Z"
   },
   {
    "duration": 267,
    "start_time": "2023-11-04T13:01:50.261Z"
   },
   {
    "duration": 149,
    "start_time": "2023-11-04T13:01:50.601Z"
   },
   {
    "duration": 160,
    "start_time": "2023-11-04T13:01:50.944Z"
   },
   {
    "duration": 30,
    "start_time": "2023-11-04T13:01:51.646Z"
   },
   {
    "duration": 21,
    "start_time": "2023-11-04T13:01:51.822Z"
   },
   {
    "duration": 17,
    "start_time": "2023-11-04T13:01:51.969Z"
   },
   {
    "duration": 150,
    "start_time": "2023-11-04T13:01:52.146Z"
   },
   {
    "duration": 246,
    "start_time": "2023-11-04T13:01:52.529Z"
   },
   {
    "duration": 147,
    "start_time": "2023-11-04T13:01:52.778Z"
   },
   {
    "duration": 157,
    "start_time": "2023-11-04T13:01:53.217Z"
   },
   {
    "duration": 15,
    "start_time": "2023-11-04T13:01:54.169Z"
   },
   {
    "duration": 14,
    "start_time": "2023-11-04T13:01:55.006Z"
   },
   {
    "duration": 13,
    "start_time": "2023-11-04T13:01:56.322Z"
   },
   {
    "duration": 13,
    "start_time": "2023-11-04T13:01:56.824Z"
   },
   {
    "duration": 11,
    "start_time": "2023-11-04T13:01:57.246Z"
   },
   {
    "duration": 11,
    "start_time": "2023-11-04T13:02:01.161Z"
   },
   {
    "duration": 11,
    "start_time": "2023-11-04T13:02:25.483Z"
   },
   {
    "duration": 10,
    "start_time": "2023-11-04T13:02:36.607Z"
   },
   {
    "duration": 11,
    "start_time": "2023-11-04T13:05:58.579Z"
   },
   {
    "duration": 10,
    "start_time": "2023-11-04T13:06:53.661Z"
   },
   {
    "duration": 10,
    "start_time": "2023-11-04T13:07:39.044Z"
   },
   {
    "duration": 12,
    "start_time": "2023-11-04T13:08:07.108Z"
   },
   {
    "duration": 13,
    "start_time": "2023-11-04T13:08:30.091Z"
   },
   {
    "duration": 7,
    "start_time": "2023-11-04T13:08:32.956Z"
   },
   {
    "duration": 4,
    "start_time": "2023-11-04T13:10:23.631Z"
   },
   {
    "duration": 21,
    "start_time": "2023-11-04T13:10:25.842Z"
   },
   {
    "duration": 12,
    "start_time": "2023-11-04T13:11:46.437Z"
   },
   {
    "duration": 20,
    "start_time": "2023-11-04T13:12:03.646Z"
   },
   {
    "duration": 6,
    "start_time": "2023-11-04T13:17:06.260Z"
   },
   {
    "duration": 9,
    "start_time": "2023-11-04T13:17:07.364Z"
   },
   {
    "duration": 7,
    "start_time": "2023-11-04T13:17:17.328Z"
   },
   {
    "duration": 9,
    "start_time": "2023-11-04T13:17:19.954Z"
   },
   {
    "duration": 9,
    "start_time": "2023-11-04T13:17:43.562Z"
   },
   {
    "duration": 5,
    "start_time": "2023-11-04T13:18:09.890Z"
   },
   {
    "duration": 9,
    "start_time": "2023-11-04T13:18:10.494Z"
   },
   {
    "duration": 2933,
    "start_time": "2023-11-04T13:18:46.767Z"
   },
   {
    "duration": 2986,
    "start_time": "2023-11-04T13:18:52.736Z"
   },
   {
    "duration": 35897,
    "start_time": "2023-11-04T13:21:30.173Z"
   },
   {
    "duration": 5,
    "start_time": "2023-11-04T14:28:23.587Z"
   },
   {
    "duration": 7,
    "start_time": "2023-11-04T14:29:07.596Z"
   },
   {
    "duration": 5,
    "start_time": "2023-11-04T14:29:37.151Z"
   },
   {
    "duration": 6,
    "start_time": "2023-11-04T14:31:14.136Z"
   },
   {
    "duration": 6,
    "start_time": "2023-11-04T14:32:39.980Z"
   },
   {
    "duration": 6,
    "start_time": "2023-11-04T14:42:06.205Z"
   },
   {
    "duration": 5,
    "start_time": "2023-11-04T14:43:03.684Z"
   },
   {
    "duration": 5,
    "start_time": "2023-11-04T14:43:09.913Z"
   },
   {
    "duration": 5,
    "start_time": "2023-11-04T14:43:12.316Z"
   },
   {
    "duration": 5,
    "start_time": "2023-11-04T14:43:13.688Z"
   },
   {
    "duration": 5,
    "start_time": "2023-11-04T14:43:14.963Z"
   },
   {
    "duration": 7,
    "start_time": "2023-11-04T14:43:16.242Z"
   },
   {
    "duration": 6,
    "start_time": "2023-11-04T14:43:18.699Z"
   },
   {
    "duration": 7,
    "start_time": "2023-11-04T14:43:43.574Z"
   },
   {
    "duration": 17,
    "start_time": "2023-11-04T14:44:00.482Z"
   },
   {
    "duration": 7,
    "start_time": "2023-11-04T14:44:57.606Z"
   },
   {
    "duration": 9,
    "start_time": "2023-11-04T14:45:13.143Z"
   },
   {
    "duration": 125,
    "start_time": "2023-11-04T14:47:56.791Z"
   },
   {
    "duration": 9,
    "start_time": "2023-11-04T14:48:54.268Z"
   },
   {
    "duration": 94,
    "start_time": "2023-11-04T14:48:57.321Z"
   },
   {
    "duration": 6,
    "start_time": "2023-11-04T14:49:46.027Z"
   },
   {
    "duration": 5,
    "start_time": "2023-11-04T14:49:48.331Z"
   },
   {
    "duration": 9,
    "start_time": "2023-11-04T14:49:53.366Z"
   },
   {
    "duration": 5,
    "start_time": "2023-11-04T14:49:56.382Z"
   },
   {
    "duration": 9,
    "start_time": "2023-11-04T14:49:59.534Z"
   },
   {
    "duration": 5,
    "start_time": "2023-11-04T14:50:01.938Z"
   },
   {
    "duration": 4,
    "start_time": "2023-11-04T14:55:36.438Z"
   },
   {
    "duration": 5,
    "start_time": "2023-11-04T15:03:26.752Z"
   },
   {
    "duration": 7,
    "start_time": "2023-11-04T15:03:27.533Z"
   },
   {
    "duration": 5,
    "start_time": "2023-11-04T15:03:30.124Z"
   },
   {
    "duration": 7,
    "start_time": "2023-11-04T15:03:31.382Z"
   },
   {
    "duration": 5,
    "start_time": "2023-11-04T15:03:33.720Z"
   },
   {
    "duration": 6,
    "start_time": "2023-11-04T15:03:34.227Z"
   },
   {
    "duration": 5,
    "start_time": "2023-11-04T15:03:36.272Z"
   },
   {
    "duration": 6,
    "start_time": "2023-11-04T15:03:36.742Z"
   },
   {
    "duration": 5,
    "start_time": "2023-11-04T15:03:41.117Z"
   },
   {
    "duration": 6,
    "start_time": "2023-11-04T15:03:41.643Z"
   },
   {
    "duration": 5,
    "start_time": "2023-11-04T15:03:55.986Z"
   },
   {
    "duration": 36588,
    "start_time": "2023-11-04T15:14:47.732Z"
   },
   {
    "duration": 37446,
    "start_time": "2023-11-04T15:18:48.371Z"
   },
   {
    "duration": 38159,
    "start_time": "2023-11-04T15:19:34.189Z"
   },
   {
    "duration": 19,
    "start_time": "2023-11-04T15:25:05.366Z"
   },
   {
    "duration": 38540,
    "start_time": "2023-11-04T15:27:30.102Z"
   },
   {
    "duration": 42545,
    "start_time": "2023-11-04T15:28:21.795Z"
   },
   {
    "duration": 27,
    "start_time": "2023-11-04T15:29:52.639Z"
   },
   {
    "duration": 7,
    "start_time": "2023-11-04T15:30:18.614Z"
   },
   {
    "duration": 16,
    "start_time": "2023-11-04T15:31:27.834Z"
   },
   {
    "duration": 5,
    "start_time": "2023-11-04T15:31:57.005Z"
   },
   {
    "duration": 1397,
    "start_time": "2023-11-04T21:11:32.447Z"
   },
   {
    "duration": 218,
    "start_time": "2023-11-04T21:11:33.847Z"
   },
   {
    "duration": 15,
    "start_time": "2023-11-04T21:11:34.067Z"
   },
   {
    "duration": 149,
    "start_time": "2023-11-04T21:11:34.084Z"
   },
   {
    "duration": 133,
    "start_time": "2023-11-04T21:11:34.244Z"
   },
   {
    "duration": 362,
    "start_time": "2023-11-04T21:11:34.379Z"
   },
   {
    "duration": 150,
    "start_time": "2023-11-04T21:11:34.744Z"
   },
   {
    "duration": 156,
    "start_time": "2023-11-04T21:11:34.896Z"
   },
   {
    "duration": 33,
    "start_time": "2023-11-04T21:11:35.054Z"
   },
   {
    "duration": 25,
    "start_time": "2023-11-04T21:11:35.091Z"
   },
   {
    "duration": 22,
    "start_time": "2023-11-04T21:11:35.144Z"
   },
   {
    "duration": 158,
    "start_time": "2023-11-04T21:11:35.168Z"
   },
   {
    "duration": 174,
    "start_time": "2023-11-04T21:11:35.328Z"
   },
   {
    "duration": 141,
    "start_time": "2023-11-04T21:11:35.503Z"
   },
   {
    "duration": 210,
    "start_time": "2023-11-04T21:11:35.645Z"
   },
   {
    "duration": 16,
    "start_time": "2023-11-04T21:11:35.857Z"
   },
   {
    "duration": 50,
    "start_time": "2023-11-04T21:11:35.875Z"
   },
   {
    "duration": 12,
    "start_time": "2023-11-04T21:11:35.927Z"
   },
   {
    "duration": 13,
    "start_time": "2023-11-04T21:11:35.940Z"
   },
   {
    "duration": 5,
    "start_time": "2023-11-04T21:11:35.954Z"
   },
   {
    "duration": 34268,
    "start_time": "2023-11-04T21:11:35.961Z"
   },
   {
    "duration": 12,
    "start_time": "2023-11-04T21:12:10.231Z"
   },
   {
    "duration": 108,
    "start_time": "2023-11-04T21:12:10.245Z"
   },
   {
    "duration": 0,
    "start_time": "2023-11-04T21:12:10.355Z"
   },
   {
    "duration": 0,
    "start_time": "2023-11-04T21:12:10.357Z"
   },
   {
    "duration": 0,
    "start_time": "2023-11-04T21:12:10.358Z"
   },
   {
    "duration": 0,
    "start_time": "2023-11-04T21:12:10.360Z"
   },
   {
    "duration": 8,
    "start_time": "2023-11-04T21:36:21.581Z"
   },
   {
    "duration": 1195,
    "start_time": "2023-11-04T21:36:53.859Z"
   },
   {
    "duration": 97,
    "start_time": "2023-11-04T21:36:55.056Z"
   },
   {
    "duration": 20,
    "start_time": "2023-11-04T21:36:55.156Z"
   },
   {
    "duration": 177,
    "start_time": "2023-11-04T21:36:55.180Z"
   },
   {
    "duration": 134,
    "start_time": "2023-11-04T21:36:55.359Z"
   },
   {
    "duration": 259,
    "start_time": "2023-11-04T21:36:55.495Z"
   },
   {
    "duration": 154,
    "start_time": "2023-11-04T21:36:55.755Z"
   },
   {
    "duration": 155,
    "start_time": "2023-11-04T21:36:55.911Z"
   },
   {
    "duration": 30,
    "start_time": "2023-11-04T21:36:56.068Z"
   },
   {
    "duration": 20,
    "start_time": "2023-11-04T21:36:56.100Z"
   },
   {
    "duration": 16,
    "start_time": "2023-11-04T21:36:56.144Z"
   },
   {
    "duration": 14,
    "start_time": "2023-11-04T21:36:56.162Z"
   },
   {
    "duration": 171,
    "start_time": "2023-11-04T21:36:56.178Z"
   },
   {
    "duration": 168,
    "start_time": "2023-11-04T21:36:56.351Z"
   },
   {
    "duration": 151,
    "start_time": "2023-11-04T21:36:56.522Z"
   },
   {
    "duration": 233,
    "start_time": "2023-11-04T21:36:56.675Z"
   },
   {
    "duration": 15,
    "start_time": "2023-11-04T21:36:56.910Z"
   },
   {
    "duration": 22,
    "start_time": "2023-11-04T21:36:56.926Z"
   },
   {
    "duration": 13,
    "start_time": "2023-11-04T21:36:56.949Z"
   },
   {
    "duration": 18,
    "start_time": "2023-11-04T21:36:56.963Z"
   },
   {
    "duration": 49,
    "start_time": "2023-11-04T21:36:56.983Z"
   },
   {
    "duration": 34140,
    "start_time": "2023-11-04T21:36:57.035Z"
   },
   {
    "duration": 5,
    "start_time": "2023-11-04T21:37:31.177Z"
   },
   {
    "duration": 110,
    "start_time": "2023-11-04T21:37:31.183Z"
   },
   {
    "duration": 0,
    "start_time": "2023-11-04T21:37:31.295Z"
   },
   {
    "duration": 0,
    "start_time": "2023-11-04T21:37:31.297Z"
   },
   {
    "duration": 0,
    "start_time": "2023-11-04T21:37:31.298Z"
   },
   {
    "duration": 0,
    "start_time": "2023-11-04T21:37:31.300Z"
   },
   {
    "duration": 12,
    "start_time": "2023-11-04T21:43:31.302Z"
   },
   {
    "duration": 6,
    "start_time": "2023-11-04T21:43:47.439Z"
   },
   {
    "duration": 10,
    "start_time": "2023-11-04T21:47:23.210Z"
   },
   {
    "duration": 19,
    "start_time": "2023-11-04T21:49:00.825Z"
   },
   {
    "duration": 90,
    "start_time": "2023-11-04T21:49:22.769Z"
   },
   {
    "duration": 86,
    "start_time": "2023-11-04T21:49:26.832Z"
   },
   {
    "duration": 86,
    "start_time": "2023-11-04T21:50:05.401Z"
   },
   {
    "duration": 12,
    "start_time": "2023-11-04T22:02:56.689Z"
   },
   {
    "duration": 11,
    "start_time": "2023-11-04T22:02:56.702Z"
   },
   {
    "duration": 28,
    "start_time": "2023-11-04T22:02:56.716Z"
   },
   {
    "duration": 23,
    "start_time": "2023-11-04T22:02:56.746Z"
   },
   {
    "duration": 1109,
    "start_time": "2023-11-04T22:13:11.100Z"
   },
   {
    "duration": 81,
    "start_time": "2023-11-04T22:13:12.211Z"
   },
   {
    "duration": 17,
    "start_time": "2023-11-04T22:13:12.297Z"
   },
   {
    "duration": 160,
    "start_time": "2023-11-04T22:13:12.315Z"
   },
   {
    "duration": 126,
    "start_time": "2023-11-04T22:13:12.477Z"
   },
   {
    "duration": 242,
    "start_time": "2023-11-04T22:13:12.605Z"
   },
   {
    "duration": 142,
    "start_time": "2023-11-04T22:13:12.849Z"
   },
   {
    "duration": 151,
    "start_time": "2023-11-04T22:13:12.993Z"
   },
   {
    "duration": 32,
    "start_time": "2023-11-04T22:13:13.146Z"
   },
   {
    "duration": 19,
    "start_time": "2023-11-04T22:13:13.179Z"
   },
   {
    "duration": 43,
    "start_time": "2023-11-04T22:13:13.200Z"
   },
   {
    "duration": 146,
    "start_time": "2023-11-04T22:13:13.245Z"
   },
   {
    "duration": 155,
    "start_time": "2023-11-04T22:13:13.393Z"
   },
   {
    "duration": 137,
    "start_time": "2023-11-04T22:13:13.550Z"
   },
   {
    "duration": 243,
    "start_time": "2023-11-04T22:13:13.689Z"
   },
   {
    "duration": 22,
    "start_time": "2023-11-04T22:13:13.933Z"
   },
   {
    "duration": 13,
    "start_time": "2023-11-04T22:13:13.957Z"
   },
   {
    "duration": 12,
    "start_time": "2023-11-04T22:13:13.971Z"
   },
   {
    "duration": 13,
    "start_time": "2023-11-04T22:13:13.985Z"
   },
   {
    "duration": 5,
    "start_time": "2023-11-04T22:13:14.000Z"
   },
   {
    "duration": 32830,
    "start_time": "2023-11-04T22:13:14.007Z"
   },
   {
    "duration": 6,
    "start_time": "2023-11-04T22:13:46.839Z"
   },
   {
    "duration": 107,
    "start_time": "2023-11-04T22:13:46.847Z"
   },
   {
    "duration": 0,
    "start_time": "2023-11-04T22:13:46.956Z"
   },
   {
    "duration": 0,
    "start_time": "2023-11-04T22:13:46.957Z"
   },
   {
    "duration": 0,
    "start_time": "2023-11-04T22:13:46.958Z"
   },
   {
    "duration": 0,
    "start_time": "2023-11-04T22:13:46.958Z"
   },
   {
    "duration": 62,
    "start_time": "2023-11-04T22:49:44.987Z"
   },
   {
    "duration": 16,
    "start_time": "2023-11-04T22:49:51.711Z"
   },
   {
    "duration": 1457,
    "start_time": "2023-11-04T22:49:58.668Z"
   },
   {
    "duration": 291,
    "start_time": "2023-11-04T22:50:03.466Z"
   },
   {
    "duration": 106,
    "start_time": "2023-11-04T22:50:24.646Z"
   },
   {
    "duration": 109,
    "start_time": "2023-11-04T22:50:35.893Z"
   },
   {
    "duration": 20,
    "start_time": "2023-11-04T23:39:40.556Z"
   },
   {
    "duration": 6,
    "start_time": "2023-11-04T23:41:18.359Z"
   },
   {
    "duration": 14,
    "start_time": "2023-11-04T23:42:35.640Z"
   },
   {
    "duration": 104,
    "start_time": "2023-11-04T23:49:49.615Z"
   },
   {
    "duration": 73,
    "start_time": "2023-11-04T23:50:47.096Z"
   },
   {
    "duration": 81,
    "start_time": "2023-11-04T23:51:39.857Z"
   },
   {
    "duration": 81,
    "start_time": "2023-11-04T23:53:16.998Z"
   },
   {
    "duration": 253,
    "start_time": "2023-11-04T23:55:41.222Z"
   },
   {
    "duration": 79,
    "start_time": "2023-11-04T23:57:24.414Z"
   },
   {
    "duration": 85,
    "start_time": "2023-11-04T23:57:28.809Z"
   },
   {
    "duration": 257,
    "start_time": "2023-11-04T23:58:29.454Z"
   },
   {
    "duration": 268,
    "start_time": "2023-11-04T23:59:43.931Z"
   },
   {
    "duration": 344,
    "start_time": "2023-11-05T00:00:18.619Z"
   },
   {
    "duration": 89,
    "start_time": "2023-11-05T00:00:45.616Z"
   },
   {
    "duration": 146,
    "start_time": "2023-11-05T00:02:14.603Z"
   },
   {
    "duration": 201,
    "start_time": "2023-11-05T00:02:19.900Z"
   },
   {
    "duration": 193,
    "start_time": "2023-11-05T00:03:06.520Z"
   },
   {
    "duration": 200,
    "start_time": "2023-11-05T00:03:44.945Z"
   },
   {
    "duration": 281,
    "start_time": "2023-11-05T00:04:37.743Z"
   },
   {
    "duration": 268,
    "start_time": "2023-11-05T00:04:51.635Z"
   },
   {
    "duration": 249,
    "start_time": "2023-11-05T00:05:25.981Z"
   },
   {
    "duration": 143,
    "start_time": "2023-11-05T00:08:00.174Z"
   },
   {
    "duration": 235,
    "start_time": "2023-11-05T00:08:32.772Z"
   },
   {
    "duration": 6,
    "start_time": "2023-11-05T00:09:04.209Z"
   },
   {
    "duration": 7,
    "start_time": "2023-11-05T00:10:44.659Z"
   },
   {
    "duration": 8,
    "start_time": "2023-11-05T00:10:46.966Z"
   },
   {
    "duration": 8,
    "start_time": "2023-11-05T00:10:54.596Z"
   },
   {
    "duration": 6,
    "start_time": "2023-11-05T00:10:55.290Z"
   },
   {
    "duration": 8,
    "start_time": "2023-11-05T00:10:55.582Z"
   },
   {
    "duration": 6,
    "start_time": "2023-11-05T00:11:04.252Z"
   },
   {
    "duration": 20,
    "start_time": "2023-11-05T00:12:04.694Z"
   },
   {
    "duration": 7,
    "start_time": "2023-11-05T00:12:06.081Z"
   },
   {
    "duration": 9,
    "start_time": "2023-11-05T00:13:39.382Z"
   },
   {
    "duration": 7,
    "start_time": "2023-11-05T00:15:38.962Z"
   },
   {
    "duration": 11,
    "start_time": "2023-11-05T00:15:52.777Z"
   },
   {
    "duration": 9,
    "start_time": "2023-11-05T00:16:18.215Z"
   },
   {
    "duration": 6,
    "start_time": "2023-11-05T00:16:24.403Z"
   },
   {
    "duration": 89,
    "start_time": "2023-11-05T00:17:31.713Z"
   },
   {
    "duration": 89,
    "start_time": "2023-11-05T00:17:49.122Z"
   },
   {
    "duration": 28,
    "start_time": "2023-11-05T00:19:47.577Z"
   },
   {
    "duration": 16,
    "start_time": "2023-11-05T00:25:01.636Z"
   },
   {
    "duration": 22,
    "start_time": "2023-11-05T00:25:37.596Z"
   },
   {
    "duration": 35,
    "start_time": "2023-11-05T00:25:49.847Z"
   },
   {
    "duration": 32,
    "start_time": "2023-11-05T00:25:54.318Z"
   },
   {
    "duration": 81,
    "start_time": "2023-11-05T00:31:09.765Z"
   },
   {
    "duration": 17,
    "start_time": "2023-11-05T00:31:23.445Z"
   },
   {
    "duration": 15,
    "start_time": "2023-11-05T00:31:23.982Z"
   },
   {
    "duration": 132,
    "start_time": "2023-11-05T00:31:25.942Z"
   },
   {
    "duration": 252,
    "start_time": "2023-11-05T00:31:26.576Z"
   },
   {
    "duration": 236,
    "start_time": "2023-11-05T00:31:43.897Z"
   },
   {
    "duration": 253,
    "start_time": "2023-11-05T00:32:27.741Z"
   },
   {
    "duration": 236,
    "start_time": "2023-11-05T00:32:33.200Z"
   },
   {
    "duration": 503,
    "start_time": "2023-11-05T00:32:42.806Z"
   },
   {
    "duration": 282,
    "start_time": "2023-11-05T00:33:31.908Z"
   },
   {
    "duration": 363,
    "start_time": "2023-11-05T00:35:17.348Z"
   },
   {
    "duration": 386,
    "start_time": "2023-11-05T00:36:13.823Z"
   },
   {
    "duration": 420,
    "start_time": "2023-11-05T00:36:38.448Z"
   },
   {
    "duration": 63,
    "start_time": "2023-11-05T09:52:25.266Z"
   },
   {
    "duration": 1397,
    "start_time": "2023-11-05T09:52:32.840Z"
   },
   {
    "duration": 216,
    "start_time": "2023-11-05T09:52:34.239Z"
   },
   {
    "duration": 16,
    "start_time": "2023-11-05T09:52:34.457Z"
   },
   {
    "duration": 7,
    "start_time": "2023-11-05T09:52:34.475Z"
   },
   {
    "duration": 11,
    "start_time": "2023-11-05T09:52:34.483Z"
   },
   {
    "duration": 8,
    "start_time": "2023-11-05T09:52:34.495Z"
   },
   {
    "duration": 200,
    "start_time": "2023-11-05T09:52:34.505Z"
   },
   {
    "duration": 103,
    "start_time": "2023-11-05T09:52:34.707Z"
   },
   {
    "duration": 284,
    "start_time": "2023-11-05T09:52:34.812Z"
   },
   {
    "duration": 262,
    "start_time": "2023-11-05T09:52:35.099Z"
   },
   {
    "duration": 237,
    "start_time": "2023-11-05T09:52:35.364Z"
   },
   {
    "duration": 32,
    "start_time": "2023-11-05T09:52:35.602Z"
   },
   {
    "duration": 23,
    "start_time": "2023-11-05T09:52:35.646Z"
   },
   {
    "duration": 19,
    "start_time": "2023-11-05T09:52:35.671Z"
   },
   {
    "duration": 16,
    "start_time": "2023-11-05T09:52:35.692Z"
   },
   {
    "duration": 471,
    "start_time": "2023-11-05T09:52:35.710Z"
   },
   {
    "duration": 512,
    "start_time": "2023-11-05T09:52:36.183Z"
   },
   {
    "duration": 14,
    "start_time": "2023-11-05T09:52:36.697Z"
   },
   {
    "duration": 14,
    "start_time": "2023-11-05T09:52:36.712Z"
   },
   {
    "duration": 31,
    "start_time": "2023-11-05T09:52:36.727Z"
   },
   {
    "duration": 13,
    "start_time": "2023-11-05T09:52:36.760Z"
   },
   {
    "duration": 6,
    "start_time": "2023-11-05T09:52:36.774Z"
   },
   {
    "duration": 37349,
    "start_time": "2023-11-05T09:52:36.781Z"
   },
   {
    "duration": 5,
    "start_time": "2023-11-05T09:53:14.132Z"
   },
   {
    "duration": 125,
    "start_time": "2023-11-05T09:53:14.147Z"
   },
   {
    "duration": 0,
    "start_time": "2023-11-05T09:53:14.274Z"
   },
   {
    "duration": 0,
    "start_time": "2023-11-05T09:53:14.275Z"
   },
   {
    "duration": 0,
    "start_time": "2023-11-05T09:53:14.276Z"
   },
   {
    "duration": 0,
    "start_time": "2023-11-05T09:53:14.277Z"
   },
   {
    "duration": 0,
    "start_time": "2023-11-05T09:53:14.278Z"
   },
   {
    "duration": 333,
    "start_time": "2023-11-05T09:55:08.578Z"
   },
   {
    "duration": 284,
    "start_time": "2023-11-05T09:55:12.912Z"
   },
   {
    "duration": 227,
    "start_time": "2023-11-05T09:55:24.897Z"
   },
   {
    "duration": 386,
    "start_time": "2023-11-05T09:55:40.943Z"
   },
   {
    "duration": 329,
    "start_time": "2023-11-05T09:57:40.721Z"
   },
   {
    "duration": 357,
    "start_time": "2023-11-05T09:59:47.889Z"
   },
   {
    "duration": 334,
    "start_time": "2023-11-05T10:00:39.328Z"
   },
   {
    "duration": 505,
    "start_time": "2023-11-05T10:00:49.706Z"
   },
   {
    "duration": 16,
    "start_time": "2023-11-05T10:09:28.601Z"
   },
   {
    "duration": 20,
    "start_time": "2023-11-05T10:11:01.813Z"
   },
   {
    "duration": 20,
    "start_time": "2023-11-05T10:11:30.774Z"
   },
   {
    "duration": 19,
    "start_time": "2023-11-05T10:12:15.067Z"
   },
   {
    "duration": 20,
    "start_time": "2023-11-05T10:12:20.879Z"
   },
   {
    "duration": 19,
    "start_time": "2023-11-05T10:14:12.538Z"
   },
   {
    "duration": 6796,
    "start_time": "2023-11-05T10:15:29.198Z"
   },
   {
    "duration": 6838,
    "start_time": "2023-11-05T10:16:29.987Z"
   },
   {
    "duration": 18,
    "start_time": "2023-11-05T10:24:24.259Z"
   },
   {
    "duration": 21,
    "start_time": "2023-11-05T10:28:20.596Z"
   },
   {
    "duration": 22,
    "start_time": "2023-11-05T10:29:20.456Z"
   },
   {
    "duration": 22,
    "start_time": "2023-11-05T10:30:31.556Z"
   },
   {
    "duration": 22,
    "start_time": "2023-11-05T10:31:58.142Z"
   },
   {
    "duration": 20,
    "start_time": "2023-11-05T10:32:04.977Z"
   },
   {
    "duration": 27,
    "start_time": "2023-11-05T10:34:49.734Z"
   },
   {
    "duration": 328,
    "start_time": "2023-11-05T10:35:36.217Z"
   },
   {
    "duration": 39,
    "start_time": "2023-11-05T10:35:48.647Z"
   },
   {
    "duration": 40,
    "start_time": "2023-11-05T10:38:20.385Z"
   },
   {
    "duration": 29,
    "start_time": "2023-11-05T10:40:21.454Z"
   },
   {
    "duration": 36,
    "start_time": "2023-11-05T10:40:38.418Z"
   },
   {
    "duration": 37,
    "start_time": "2023-11-05T10:41:21.773Z"
   },
   {
    "duration": 30,
    "start_time": "2023-11-05T10:41:31.379Z"
   },
   {
    "duration": 40,
    "start_time": "2023-11-05T10:41:49.895Z"
   },
   {
    "duration": 46,
    "start_time": "2023-11-05T10:42:18.653Z"
   },
   {
    "duration": 16,
    "start_time": "2023-11-05T10:42:45.070Z"
   },
   {
    "duration": 17,
    "start_time": "2023-11-05T10:42:55.301Z"
   },
   {
    "duration": 31,
    "start_time": "2023-11-05T11:08:55.171Z"
   },
   {
    "duration": 93,
    "start_time": "2023-11-05T11:16:22.703Z"
   },
   {
    "duration": 4547,
    "start_time": "2023-11-05T11:16:40.990Z"
   },
   {
    "duration": 4605,
    "start_time": "2023-11-05T11:17:01.788Z"
   },
   {
    "duration": 7,
    "start_time": "2023-11-05T11:27:44.111Z"
   },
   {
    "duration": 5,
    "start_time": "2023-11-05T11:29:56.434Z"
   },
   {
    "duration": 6,
    "start_time": "2023-11-05T11:48:14.449Z"
   },
   {
    "duration": 5,
    "start_time": "2023-11-05T11:48:17.878Z"
   },
   {
    "duration": 1259,
    "start_time": "2023-11-05T11:49:51.140Z"
   },
   {
    "duration": 10,
    "start_time": "2023-11-05T11:50:36.451Z"
   },
   {
    "duration": 216,
    "start_time": "2023-11-05T11:53:59.333Z"
   },
   {
    "duration": 232,
    "start_time": "2023-11-05T11:54:04.697Z"
   },
   {
    "duration": 206,
    "start_time": "2023-11-05T11:56:36.766Z"
   },
   {
    "duration": 1209,
    "start_time": "2023-11-05T19:49:30.465Z"
   },
   {
    "duration": 86,
    "start_time": "2023-11-05T19:49:31.676Z"
   },
   {
    "duration": 17,
    "start_time": "2023-11-05T19:49:31.766Z"
   },
   {
    "duration": 28,
    "start_time": "2023-11-05T19:49:31.785Z"
   },
   {
    "duration": 52,
    "start_time": "2023-11-05T19:49:31.816Z"
   },
   {
    "duration": 17,
    "start_time": "2023-11-05T19:49:31.870Z"
   },
   {
    "duration": 182,
    "start_time": "2023-11-05T19:49:31.889Z"
   },
   {
    "duration": 101,
    "start_time": "2023-11-05T19:49:32.073Z"
   },
   {
    "duration": 428,
    "start_time": "2023-11-05T19:49:32.177Z"
   },
   {
    "duration": 272,
    "start_time": "2023-11-05T19:49:32.607Z"
   },
   {
    "duration": 212,
    "start_time": "2023-11-05T19:49:32.881Z"
   },
   {
    "duration": 49,
    "start_time": "2023-11-05T19:49:33.095Z"
   },
   {
    "duration": 31,
    "start_time": "2023-11-05T19:49:33.146Z"
   },
   {
    "duration": 25,
    "start_time": "2023-11-05T19:49:33.179Z"
   },
   {
    "duration": 52,
    "start_time": "2023-11-05T19:49:33.206Z"
   },
   {
    "duration": 647,
    "start_time": "2023-11-05T19:49:33.260Z"
   },
   {
    "duration": 425,
    "start_time": "2023-11-05T19:49:33.909Z"
   },
   {
    "duration": 50,
    "start_time": "2023-11-05T19:49:34.336Z"
   },
   {
    "duration": 62,
    "start_time": "2023-11-05T19:49:34.388Z"
   },
   {
    "duration": 1117,
    "start_time": "2023-11-05T19:50:19.062Z"
   },
   {
    "duration": 89,
    "start_time": "2023-11-05T19:50:20.182Z"
   },
   {
    "duration": 16,
    "start_time": "2023-11-05T19:50:20.272Z"
   },
   {
    "duration": 7,
    "start_time": "2023-11-05T19:50:20.291Z"
   },
   {
    "duration": 24,
    "start_time": "2023-11-05T19:50:20.299Z"
   },
   {
    "duration": 36,
    "start_time": "2023-11-05T19:50:20.325Z"
   },
   {
    "duration": 167,
    "start_time": "2023-11-05T19:50:20.363Z"
   },
   {
    "duration": 93,
    "start_time": "2023-11-05T19:50:20.531Z"
   },
   {
    "duration": 261,
    "start_time": "2023-11-05T19:50:20.644Z"
   },
   {
    "duration": 292,
    "start_time": "2023-11-05T19:50:20.909Z"
   },
   {
    "duration": 197,
    "start_time": "2023-11-05T19:50:21.203Z"
   },
   {
    "duration": 42,
    "start_time": "2023-11-05T19:50:21.402Z"
   },
   {
    "duration": 22,
    "start_time": "2023-11-05T19:50:21.446Z"
   },
   {
    "duration": 20,
    "start_time": "2023-11-05T19:50:21.470Z"
   },
   {
    "duration": 17,
    "start_time": "2023-11-05T19:50:21.492Z"
   },
   {
    "duration": 560,
    "start_time": "2023-11-05T19:50:21.511Z"
   },
   {
    "duration": 338,
    "start_time": "2023-11-05T19:50:22.073Z"
   },
   {
    "duration": 57,
    "start_time": "2023-11-05T19:50:22.412Z"
   },
   {
    "duration": 27,
    "start_time": "2023-11-05T19:50:22.471Z"
   },
   {
    "duration": 4272,
    "start_time": "2023-11-05T19:50:22.500Z"
   },
   {
    "duration": 7,
    "start_time": "2023-11-05T19:50:26.774Z"
   },
   {
    "duration": 40,
    "start_time": "2023-11-05T19:50:26.783Z"
   },
   {
    "duration": 36,
    "start_time": "2023-11-05T19:50:26.826Z"
   },
   {
    "duration": 9,
    "start_time": "2023-11-05T19:57:56.394Z"
   },
   {
    "duration": 5,
    "start_time": "2023-11-05T19:58:56.317Z"
   },
   {
    "duration": 6,
    "start_time": "2023-11-05T19:59:02.160Z"
   },
   {
    "duration": 6,
    "start_time": "2023-11-05T19:59:14.851Z"
   },
   {
    "duration": 26,
    "start_time": "2023-11-05T19:59:41.992Z"
   },
   {
    "duration": 115,
    "start_time": "2023-11-05T19:59:46.273Z"
   },
   {
    "duration": 1170,
    "start_time": "2023-11-05T19:59:54.652Z"
   },
   {
    "duration": 89,
    "start_time": "2023-11-05T19:59:55.824Z"
   },
   {
    "duration": 18,
    "start_time": "2023-11-05T19:59:55.915Z"
   },
   {
    "duration": 20,
    "start_time": "2023-11-05T19:59:55.935Z"
   },
   {
    "duration": 31,
    "start_time": "2023-11-05T19:59:55.956Z"
   },
   {
    "duration": 19,
    "start_time": "2023-11-05T19:59:55.988Z"
   },
   {
    "duration": 192,
    "start_time": "2023-11-05T19:59:56.009Z"
   },
   {
    "duration": 110,
    "start_time": "2023-11-05T19:59:56.203Z"
   },
   {
    "duration": 302,
    "start_time": "2023-11-05T19:59:56.315Z"
   },
   {
    "duration": 257,
    "start_time": "2023-11-05T19:59:56.620Z"
   },
   {
    "duration": 215,
    "start_time": "2023-11-05T19:59:56.879Z"
   },
   {
    "duration": 60,
    "start_time": "2023-11-05T19:59:57.097Z"
   },
   {
    "duration": 25,
    "start_time": "2023-11-05T19:59:57.159Z"
   },
   {
    "duration": 26,
    "start_time": "2023-11-05T19:59:57.186Z"
   },
   {
    "duration": 44,
    "start_time": "2023-11-05T19:59:57.214Z"
   },
   {
    "duration": 586,
    "start_time": "2023-11-05T19:59:57.260Z"
   },
   {
    "duration": 357,
    "start_time": "2023-11-05T19:59:57.848Z"
   },
   {
    "duration": 59,
    "start_time": "2023-11-05T19:59:58.207Z"
   },
   {
    "duration": 126,
    "start_time": "2023-11-05T19:59:58.268Z"
   },
   {
    "duration": 0,
    "start_time": "2023-11-05T19:59:58.396Z"
   },
   {
    "duration": 0,
    "start_time": "2023-11-05T19:59:58.398Z"
   },
   {
    "duration": 0,
    "start_time": "2023-11-05T19:59:58.399Z"
   },
   {
    "duration": 0,
    "start_time": "2023-11-05T19:59:58.400Z"
   },
   {
    "duration": 0,
    "start_time": "2023-11-05T19:59:58.401Z"
   },
   {
    "duration": 78,
    "start_time": "2023-11-05T20:00:41.153Z"
   },
   {
    "duration": 14,
    "start_time": "2023-11-05T20:00:48.664Z"
   },
   {
    "duration": 1307,
    "start_time": "2023-11-05T20:01:00.682Z"
   },
   {
    "duration": 15753,
    "start_time": "2023-11-05T20:01:22.802Z"
   },
   {
    "duration": 45,
    "start_time": "2023-11-05T20:01:52.473Z"
   },
   {
    "duration": 1196,
    "start_time": "2023-11-05T20:02:02.935Z"
   },
   {
    "duration": 134,
    "start_time": "2023-11-05T20:02:41.095Z"
   },
   {
    "duration": 128,
    "start_time": "2023-11-05T20:03:01.488Z"
   },
   {
    "duration": 7,
    "start_time": "2023-11-05T20:03:04.162Z"
   },
   {
    "duration": 1366,
    "start_time": "2023-11-05T20:04:45.695Z"
   },
   {
    "duration": 33,
    "start_time": "2023-11-05T20:06:01.209Z"
   },
   {
    "duration": 43,
    "start_time": "2023-11-05T20:06:08.375Z"
   },
   {
    "duration": 19,
    "start_time": "2023-11-05T20:07:46.271Z"
   },
   {
    "duration": 56,
    "start_time": "2023-11-05T20:08:18.029Z"
   },
   {
    "duration": 205,
    "start_time": "2023-11-05T20:08:36.564Z"
   },
   {
    "duration": 7,
    "start_time": "2023-11-05T20:08:57.435Z"
   },
   {
    "duration": 1187,
    "start_time": "2023-11-05T20:09:22.019Z"
   },
   {
    "duration": 92,
    "start_time": "2023-11-05T20:09:23.208Z"
   },
   {
    "duration": 15,
    "start_time": "2023-11-05T20:09:23.302Z"
   },
   {
    "duration": 8,
    "start_time": "2023-11-05T20:09:23.319Z"
   },
   {
    "duration": 18,
    "start_time": "2023-11-05T20:09:23.328Z"
   },
   {
    "duration": 10,
    "start_time": "2023-11-05T20:09:23.348Z"
   },
   {
    "duration": 180,
    "start_time": "2023-11-05T20:09:23.360Z"
   },
   {
    "duration": 85,
    "start_time": "2023-11-05T20:09:23.544Z"
   },
   {
    "duration": 289,
    "start_time": "2023-11-05T20:09:23.645Z"
   },
   {
    "duration": 224,
    "start_time": "2023-11-05T20:09:23.937Z"
   },
   {
    "duration": 212,
    "start_time": "2023-11-05T20:09:24.163Z"
   },
   {
    "duration": 35,
    "start_time": "2023-11-05T20:09:24.377Z"
   },
   {
    "duration": 45,
    "start_time": "2023-11-05T20:09:24.415Z"
   },
   {
    "duration": 22,
    "start_time": "2023-11-05T20:09:24.463Z"
   },
   {
    "duration": 21,
    "start_time": "2023-11-05T20:09:24.488Z"
   },
   {
    "duration": 615,
    "start_time": "2023-11-05T20:09:24.511Z"
   },
   {
    "duration": 330,
    "start_time": "2023-11-05T20:09:25.127Z"
   },
   {
    "duration": 47,
    "start_time": "2023-11-05T20:09:25.459Z"
   },
   {
    "duration": 52,
    "start_time": "2023-11-05T20:09:25.507Z"
   },
   {
    "duration": 7,
    "start_time": "2023-11-05T20:09:25.561Z"
   },
   {
    "duration": 26,
    "start_time": "2023-11-05T20:09:25.570Z"
   },
   {
    "duration": 4046,
    "start_time": "2023-11-05T20:09:25.598Z"
   },
   {
    "duration": 6,
    "start_time": "2023-11-05T20:09:29.646Z"
   },
   {
    "duration": 5,
    "start_time": "2023-11-05T20:09:29.654Z"
   },
   {
    "duration": 5,
    "start_time": "2023-11-05T20:09:29.661Z"
   },
   {
    "duration": 15,
    "start_time": "2023-11-05T20:09:29.667Z"
   },
   {
    "duration": 1129,
    "start_time": "2023-11-05T20:10:22.875Z"
   },
   {
    "duration": 84,
    "start_time": "2023-11-05T20:10:24.006Z"
   },
   {
    "duration": 17,
    "start_time": "2023-11-05T20:10:24.092Z"
   },
   {
    "duration": 8,
    "start_time": "2023-11-05T20:10:24.112Z"
   },
   {
    "duration": 23,
    "start_time": "2023-11-05T20:10:24.122Z"
   },
   {
    "duration": 11,
    "start_time": "2023-11-05T20:10:24.147Z"
   },
   {
    "duration": 195,
    "start_time": "2023-11-05T20:10:24.160Z"
   },
   {
    "duration": 123,
    "start_time": "2023-11-05T20:10:24.357Z"
   },
   {
    "duration": 318,
    "start_time": "2023-11-05T20:10:24.483Z"
   },
   {
    "duration": 252,
    "start_time": "2023-11-05T20:10:24.805Z"
   },
   {
    "duration": 191,
    "start_time": "2023-11-05T20:10:25.058Z"
   },
   {
    "duration": 29,
    "start_time": "2023-11-05T20:10:25.251Z"
   },
   {
    "duration": 27,
    "start_time": "2023-11-05T20:10:25.282Z"
   },
   {
    "duration": 44,
    "start_time": "2023-11-05T20:10:25.311Z"
   },
   {
    "duration": 14,
    "start_time": "2023-11-05T20:10:25.357Z"
   },
   {
    "duration": 577,
    "start_time": "2023-11-05T20:10:25.373Z"
   },
   {
    "duration": 318,
    "start_time": "2023-11-05T20:10:25.952Z"
   },
   {
    "duration": 47,
    "start_time": "2023-11-05T20:10:26.272Z"
   },
   {
    "duration": 53,
    "start_time": "2023-11-05T20:10:26.320Z"
   },
   {
    "duration": 7,
    "start_time": "2023-11-05T20:10:26.375Z"
   },
   {
    "duration": 29,
    "start_time": "2023-11-05T20:10:26.384Z"
   },
   {
    "duration": 4184,
    "start_time": "2023-11-05T20:10:26.415Z"
   },
   {
    "duration": 7,
    "start_time": "2023-11-05T20:10:30.601Z"
   },
   {
    "duration": 92,
    "start_time": "2023-11-05T20:10:30.610Z"
   },
   {
    "duration": 49,
    "start_time": "2023-11-05T20:10:30.704Z"
   },
   {
    "duration": 87,
    "start_time": "2023-11-05T20:10:30.755Z"
   },
   {
    "duration": 1149,
    "start_time": "2023-11-05T20:11:11.146Z"
   },
   {
    "duration": 87,
    "start_time": "2023-11-05T20:11:12.297Z"
   },
   {
    "duration": 14,
    "start_time": "2023-11-05T20:11:12.385Z"
   },
   {
    "duration": 6,
    "start_time": "2023-11-05T20:11:12.401Z"
   },
   {
    "duration": 10,
    "start_time": "2023-11-05T20:11:12.408Z"
   },
   {
    "duration": 29,
    "start_time": "2023-11-05T20:11:12.420Z"
   },
   {
    "duration": 167,
    "start_time": "2023-11-05T20:11:12.450Z"
   },
   {
    "duration": 95,
    "start_time": "2023-11-05T20:11:12.618Z"
   },
   {
    "duration": 279,
    "start_time": "2023-11-05T20:11:12.715Z"
   },
   {
    "duration": 230,
    "start_time": "2023-11-05T20:11:12.997Z"
   },
   {
    "duration": 214,
    "start_time": "2023-11-05T20:11:13.229Z"
   },
   {
    "duration": 31,
    "start_time": "2023-11-05T20:11:13.445Z"
   },
   {
    "duration": 22,
    "start_time": "2023-11-05T20:11:13.478Z"
   },
   {
    "duration": 47,
    "start_time": "2023-11-05T20:11:13.502Z"
   },
   {
    "duration": 16,
    "start_time": "2023-11-05T20:11:13.551Z"
   },
   {
    "duration": 609,
    "start_time": "2023-11-05T20:11:13.569Z"
   },
   {
    "duration": 387,
    "start_time": "2023-11-05T20:11:14.180Z"
   },
   {
    "duration": 75,
    "start_time": "2023-11-05T20:11:14.569Z"
   },
   {
    "duration": 45,
    "start_time": "2023-11-05T20:11:14.646Z"
   },
   {
    "duration": 6,
    "start_time": "2023-11-05T20:11:14.694Z"
   },
   {
    "duration": 58,
    "start_time": "2023-11-05T20:11:14.702Z"
   },
   {
    "duration": 4377,
    "start_time": "2023-11-05T20:11:14.762Z"
   },
   {
    "duration": 8,
    "start_time": "2023-11-05T20:11:19.141Z"
   },
   {
    "duration": 8,
    "start_time": "2023-11-05T20:11:19.151Z"
   },
   {
    "duration": 11,
    "start_time": "2023-11-05T20:11:19.161Z"
   },
   {
    "duration": 87,
    "start_time": "2023-11-05T20:11:19.174Z"
   },
   {
    "duration": 1102,
    "start_time": "2023-11-05T20:11:36.542Z"
   },
   {
    "duration": 92,
    "start_time": "2023-11-05T20:11:37.646Z"
   },
   {
    "duration": 15,
    "start_time": "2023-11-05T20:11:37.740Z"
   },
   {
    "duration": 8,
    "start_time": "2023-11-05T20:11:37.757Z"
   },
   {
    "duration": 15,
    "start_time": "2023-11-05T20:11:37.767Z"
   },
   {
    "duration": 10,
    "start_time": "2023-11-05T20:11:37.785Z"
   },
   {
    "duration": 204,
    "start_time": "2023-11-05T20:11:37.797Z"
   },
   {
    "duration": 99,
    "start_time": "2023-11-05T20:11:38.003Z"
   },
   {
    "duration": 262,
    "start_time": "2023-11-05T20:11:38.103Z"
   },
   {
    "duration": 249,
    "start_time": "2023-11-05T20:11:38.368Z"
   },
   {
    "duration": 199,
    "start_time": "2023-11-05T20:11:38.619Z"
   },
   {
    "duration": 38,
    "start_time": "2023-11-05T20:11:38.820Z"
   },
   {
    "duration": 20,
    "start_time": "2023-11-05T20:11:38.860Z"
   },
   {
    "duration": 19,
    "start_time": "2023-11-05T20:11:38.882Z"
   },
   {
    "duration": 42,
    "start_time": "2023-11-05T20:11:38.903Z"
   },
   {
    "duration": 563,
    "start_time": "2023-11-05T20:11:38.946Z"
   },
   {
    "duration": 323,
    "start_time": "2023-11-05T20:11:39.511Z"
   },
   {
    "duration": 50,
    "start_time": "2023-11-05T20:11:39.836Z"
   },
   {
    "duration": 33,
    "start_time": "2023-11-05T20:11:39.887Z"
   },
   {
    "duration": 26,
    "start_time": "2023-11-05T20:11:39.921Z"
   },
   {
    "duration": 26,
    "start_time": "2023-11-05T20:11:39.948Z"
   },
   {
    "duration": 4438,
    "start_time": "2023-11-05T20:11:39.976Z"
   },
   {
    "duration": 9,
    "start_time": "2023-11-05T20:11:44.418Z"
   },
   {
    "duration": 16,
    "start_time": "2023-11-05T20:11:44.432Z"
   },
   {
    "duration": 6,
    "start_time": "2023-11-05T20:11:44.450Z"
   },
   {
    "duration": 16,
    "start_time": "2023-11-05T20:11:44.459Z"
   },
   {
    "duration": 1145,
    "start_time": "2023-11-05T20:13:07.960Z"
   },
   {
    "duration": 88,
    "start_time": "2023-11-05T20:13:09.106Z"
   },
   {
    "duration": 13,
    "start_time": "2023-11-05T20:13:09.195Z"
   },
   {
    "duration": 5,
    "start_time": "2023-11-05T20:13:09.210Z"
   },
   {
    "duration": 10,
    "start_time": "2023-11-05T20:13:09.217Z"
   },
   {
    "duration": 22,
    "start_time": "2023-11-05T20:13:09.229Z"
   },
   {
    "duration": 178,
    "start_time": "2023-11-05T20:13:09.253Z"
   },
   {
    "duration": 96,
    "start_time": "2023-11-05T20:13:09.433Z"
   },
   {
    "duration": 259,
    "start_time": "2023-11-05T20:13:09.544Z"
   },
   {
    "duration": 223,
    "start_time": "2023-11-05T20:13:09.806Z"
   },
   {
    "duration": 202,
    "start_time": "2023-11-05T20:13:10.030Z"
   },
   {
    "duration": 36,
    "start_time": "2023-11-05T20:13:10.234Z"
   },
   {
    "duration": 27,
    "start_time": "2023-11-05T20:13:10.271Z"
   },
   {
    "duration": 21,
    "start_time": "2023-11-05T20:13:10.299Z"
   },
   {
    "duration": 35,
    "start_time": "2023-11-05T20:13:10.321Z"
   },
   {
    "duration": 593,
    "start_time": "2023-11-05T20:13:10.357Z"
   },
   {
    "duration": 320,
    "start_time": "2023-11-05T20:13:10.951Z"
   },
   {
    "duration": 48,
    "start_time": "2023-11-05T20:13:11.273Z"
   },
   {
    "duration": 46,
    "start_time": "2023-11-05T20:13:11.322Z"
   },
   {
    "duration": 217,
    "start_time": "2023-11-05T20:13:11.370Z"
   },
   {
    "duration": 8,
    "start_time": "2023-11-05T20:13:11.588Z"
   },
   {
    "duration": 31,
    "start_time": "2023-11-05T20:13:11.598Z"
   },
   {
    "duration": 4444,
    "start_time": "2023-11-05T20:13:11.631Z"
   },
   {
    "duration": 7,
    "start_time": "2023-11-05T20:13:16.076Z"
   },
   {
    "duration": 7,
    "start_time": "2023-11-05T20:13:16.085Z"
   },
   {
    "duration": 16,
    "start_time": "2023-11-05T20:13:16.093Z"
   },
   {
    "duration": 12,
    "start_time": "2023-11-05T20:13:16.111Z"
   },
   {
    "duration": 1173,
    "start_time": "2023-11-05T20:14:17.831Z"
   },
   {
    "duration": 86,
    "start_time": "2023-11-05T20:14:19.006Z"
   },
   {
    "duration": 16,
    "start_time": "2023-11-05T20:14:19.093Z"
   },
   {
    "duration": 6,
    "start_time": "2023-11-05T20:14:19.111Z"
   },
   {
    "duration": 26,
    "start_time": "2023-11-05T20:14:19.119Z"
   },
   {
    "duration": 13,
    "start_time": "2023-11-05T20:14:19.147Z"
   },
   {
    "duration": 208,
    "start_time": "2023-11-05T20:14:19.162Z"
   },
   {
    "duration": 90,
    "start_time": "2023-11-05T20:14:19.371Z"
   },
   {
    "duration": 262,
    "start_time": "2023-11-05T20:14:19.463Z"
   },
   {
    "duration": 223,
    "start_time": "2023-11-05T20:14:19.728Z"
   },
   {
    "duration": 205,
    "start_time": "2023-11-05T20:14:19.953Z"
   },
   {
    "duration": 30,
    "start_time": "2023-11-05T20:14:20.159Z"
   },
   {
    "duration": 22,
    "start_time": "2023-11-05T20:14:20.191Z"
   },
   {
    "duration": 44,
    "start_time": "2023-11-05T20:14:20.215Z"
   },
   {
    "duration": 16,
    "start_time": "2023-11-05T20:14:20.260Z"
   },
   {
    "duration": 568,
    "start_time": "2023-11-05T20:14:20.277Z"
   },
   {
    "duration": 321,
    "start_time": "2023-11-05T20:14:20.846Z"
   },
   {
    "duration": 48,
    "start_time": "2023-11-05T20:14:21.169Z"
   },
   {
    "duration": 42,
    "start_time": "2023-11-05T20:14:21.219Z"
   },
   {
    "duration": 4145,
    "start_time": "2023-11-05T20:14:21.263Z"
   },
   {
    "duration": 5,
    "start_time": "2023-11-05T20:14:25.410Z"
   },
   {
    "duration": 35,
    "start_time": "2023-11-05T20:14:25.417Z"
   },
   {
    "duration": 23,
    "start_time": "2023-11-05T20:14:25.453Z"
   },
   {
    "duration": 7,
    "start_time": "2023-11-05T20:15:06.838Z"
   },
   {
    "duration": 1044,
    "start_time": "2023-11-05T20:16:28.481Z"
   },
   {
    "duration": 88,
    "start_time": "2023-11-05T20:16:29.527Z"
   },
   {
    "duration": 12,
    "start_time": "2023-11-05T20:16:29.617Z"
   },
   {
    "duration": 113,
    "start_time": "2023-11-05T20:16:29.631Z"
   },
   {
    "duration": 20,
    "start_time": "2023-11-05T20:16:29.747Z"
   },
   {
    "duration": 12,
    "start_time": "2023-11-05T20:16:29.769Z"
   },
   {
    "duration": 177,
    "start_time": "2023-11-05T20:16:29.783Z"
   },
   {
    "duration": 107,
    "start_time": "2023-11-05T20:16:29.962Z"
   },
   {
    "duration": 281,
    "start_time": "2023-11-05T20:16:30.071Z"
   },
   {
    "duration": 229,
    "start_time": "2023-11-05T20:16:30.354Z"
   },
   {
    "duration": 208,
    "start_time": "2023-11-05T20:16:30.584Z"
   },
   {
    "duration": 51,
    "start_time": "2023-11-05T20:16:30.794Z"
   },
   {
    "duration": 22,
    "start_time": "2023-11-05T20:16:30.846Z"
   },
   {
    "duration": 52,
    "start_time": "2023-11-05T20:16:30.871Z"
   },
   {
    "duration": 45,
    "start_time": "2023-11-05T20:16:30.925Z"
   },
   {
    "duration": 94,
    "start_time": "2023-11-05T20:16:30.972Z"
   },
   {
    "duration": 669,
    "start_time": "2023-11-05T20:16:31.068Z"
   },
   {
    "duration": 346,
    "start_time": "2023-11-05T20:16:31.740Z"
   },
   {
    "duration": 64,
    "start_time": "2023-11-05T20:16:32.089Z"
   },
   {
    "duration": 25,
    "start_time": "2023-11-05T20:16:32.155Z"
   },
   {
    "duration": 4433,
    "start_time": "2023-11-05T20:16:32.181Z"
   },
   {
    "duration": 6,
    "start_time": "2023-11-05T20:16:36.616Z"
   },
   {
    "duration": 9,
    "start_time": "2023-11-05T20:16:36.623Z"
   },
   {
    "duration": 12,
    "start_time": "2023-11-05T20:16:36.644Z"
   },
   {
    "duration": 15,
    "start_time": "2023-11-05T20:18:08.769Z"
   },
   {
    "duration": 13,
    "start_time": "2023-11-05T20:18:20.442Z"
   },
   {
    "duration": 14,
    "start_time": "2023-11-05T20:18:44.210Z"
   },
   {
    "duration": 16,
    "start_time": "2023-11-05T20:19:47.224Z"
   },
   {
    "duration": 9,
    "start_time": "2023-11-05T20:19:50.770Z"
   },
   {
    "duration": 1219,
    "start_time": "2023-11-05T20:20:01.304Z"
   },
   {
    "duration": 88,
    "start_time": "2023-11-05T20:20:02.525Z"
   },
   {
    "duration": 14,
    "start_time": "2023-11-05T20:20:02.615Z"
   },
   {
    "duration": 44,
    "start_time": "2023-11-05T20:20:02.631Z"
   },
   {
    "duration": 38,
    "start_time": "2023-11-05T20:20:02.677Z"
   },
   {
    "duration": 57,
    "start_time": "2023-11-05T20:20:02.718Z"
   },
   {
    "duration": 218,
    "start_time": "2023-11-05T20:20:02.777Z"
   },
   {
    "duration": 129,
    "start_time": "2023-11-05T20:20:02.998Z"
   },
   {
    "duration": 271,
    "start_time": "2023-11-05T20:20:03.129Z"
   },
   {
    "duration": 235,
    "start_time": "2023-11-05T20:20:03.403Z"
   },
   {
    "duration": 246,
    "start_time": "2023-11-05T20:20:03.643Z"
   },
   {
    "duration": 28,
    "start_time": "2023-11-05T20:20:03.891Z"
   },
   {
    "duration": 38,
    "start_time": "2023-11-05T20:20:03.921Z"
   },
   {
    "duration": 18,
    "start_time": "2023-11-05T20:20:03.961Z"
   },
   {
    "duration": 16,
    "start_time": "2023-11-05T20:20:03.981Z"
   },
   {
    "duration": 45,
    "start_time": "2023-11-05T20:20:03.999Z"
   },
   {
    "duration": 631,
    "start_time": "2023-11-05T20:20:04.045Z"
   },
   {
    "duration": 380,
    "start_time": "2023-11-05T20:20:04.678Z"
   },
   {
    "duration": 70,
    "start_time": "2023-11-05T20:20:05.059Z"
   },
   {
    "duration": 50,
    "start_time": "2023-11-05T20:20:05.131Z"
   },
   {
    "duration": 4026,
    "start_time": "2023-11-05T20:20:05.183Z"
   },
   {
    "duration": 7,
    "start_time": "2023-11-05T20:20:09.211Z"
   },
   {
    "duration": 24,
    "start_time": "2023-11-05T20:20:09.220Z"
   },
   {
    "duration": 12,
    "start_time": "2023-11-05T20:20:09.246Z"
   },
   {
    "duration": 7,
    "start_time": "2023-11-05T20:21:13.936Z"
   },
   {
    "duration": 9,
    "start_time": "2023-11-05T20:22:19.698Z"
   },
   {
    "duration": 1156,
    "start_time": "2023-11-05T20:22:49.159Z"
   },
   {
    "duration": 89,
    "start_time": "2023-11-05T20:22:50.317Z"
   },
   {
    "duration": 17,
    "start_time": "2023-11-05T20:22:50.408Z"
   },
   {
    "duration": 19,
    "start_time": "2023-11-05T20:22:50.429Z"
   },
   {
    "duration": 35,
    "start_time": "2023-11-05T20:22:50.449Z"
   },
   {
    "duration": 40,
    "start_time": "2023-11-05T20:22:50.485Z"
   },
   {
    "duration": 167,
    "start_time": "2023-11-05T20:22:50.527Z"
   },
   {
    "duration": 95,
    "start_time": "2023-11-05T20:22:50.696Z"
   },
   {
    "duration": 273,
    "start_time": "2023-11-05T20:22:50.793Z"
   },
   {
    "duration": 227,
    "start_time": "2023-11-05T20:22:51.068Z"
   },
   {
    "duration": 200,
    "start_time": "2023-11-05T20:22:51.297Z"
   },
   {
    "duration": 30,
    "start_time": "2023-11-05T20:22:51.499Z"
   },
   {
    "duration": 31,
    "start_time": "2023-11-05T20:22:51.531Z"
   },
   {
    "duration": 18,
    "start_time": "2023-11-05T20:22:51.564Z"
   },
   {
    "duration": 16,
    "start_time": "2023-11-05T20:22:51.584Z"
   },
   {
    "duration": 569,
    "start_time": "2023-11-05T20:22:51.601Z"
   },
   {
    "duration": 327,
    "start_time": "2023-11-05T20:22:52.171Z"
   },
   {
    "duration": 58,
    "start_time": "2023-11-05T20:22:52.500Z"
   },
   {
    "duration": 27,
    "start_time": "2023-11-05T20:22:52.560Z"
   },
   {
    "duration": 4113,
    "start_time": "2023-11-05T20:22:52.589Z"
   },
   {
    "duration": 7,
    "start_time": "2023-11-05T20:22:56.704Z"
   },
   {
    "duration": 44,
    "start_time": "2023-11-05T20:22:56.713Z"
   },
   {
    "duration": 55,
    "start_time": "2023-11-05T20:22:56.759Z"
   },
   {
    "duration": 30,
    "start_time": "2023-11-05T20:22:56.815Z"
   },
   {
    "duration": 1219,
    "start_time": "2023-11-05T20:28:49.859Z"
   },
   {
    "duration": 89,
    "start_time": "2023-11-05T20:28:51.080Z"
   },
   {
    "duration": 15,
    "start_time": "2023-11-05T20:28:51.172Z"
   },
   {
    "duration": 11,
    "start_time": "2023-11-05T20:28:51.190Z"
   },
   {
    "duration": 36,
    "start_time": "2023-11-05T20:28:51.203Z"
   },
   {
    "duration": 43,
    "start_time": "2023-11-05T20:28:51.241Z"
   },
   {
    "duration": 151,
    "start_time": "2023-11-05T20:28:51.286Z"
   },
   {
    "duration": 82,
    "start_time": "2023-11-05T20:28:51.444Z"
   },
   {
    "duration": 339,
    "start_time": "2023-11-05T20:28:51.527Z"
   },
   {
    "duration": 262,
    "start_time": "2023-11-05T20:28:51.868Z"
   },
   {
    "duration": 215,
    "start_time": "2023-11-05T20:28:52.132Z"
   },
   {
    "duration": 39,
    "start_time": "2023-11-05T20:28:52.350Z"
   },
   {
    "duration": 22,
    "start_time": "2023-11-05T20:28:52.391Z"
   },
   {
    "duration": 44,
    "start_time": "2023-11-05T20:28:52.415Z"
   },
   {
    "duration": 15,
    "start_time": "2023-11-05T20:28:52.461Z"
   },
   {
    "duration": 583,
    "start_time": "2023-11-05T20:28:52.478Z"
   },
   {
    "duration": 357,
    "start_time": "2023-11-05T20:28:53.064Z"
   },
   {
    "duration": 83,
    "start_time": "2023-11-05T20:28:53.423Z"
   },
   {
    "duration": 39,
    "start_time": "2023-11-05T20:28:53.508Z"
   },
   {
    "duration": 4189,
    "start_time": "2023-11-05T20:28:53.549Z"
   },
   {
    "duration": 7,
    "start_time": "2023-11-05T20:28:57.740Z"
   },
   {
    "duration": 12,
    "start_time": "2023-11-05T20:28:57.748Z"
   },
   {
    "duration": 12,
    "start_time": "2023-11-05T20:28:57.762Z"
   },
   {
    "duration": 1150,
    "start_time": "2023-11-05T20:31:58.898Z"
   },
   {
    "duration": 92,
    "start_time": "2023-11-05T20:32:00.050Z"
   },
   {
    "duration": 21,
    "start_time": "2023-11-05T20:32:00.144Z"
   },
   {
    "duration": 41,
    "start_time": "2023-11-05T20:32:00.168Z"
   },
   {
    "duration": 55,
    "start_time": "2023-11-05T20:32:00.211Z"
   },
   {
    "duration": 86,
    "start_time": "2023-11-05T20:32:00.269Z"
   },
   {
    "duration": 195,
    "start_time": "2023-11-05T20:32:00.357Z"
   },
   {
    "duration": 104,
    "start_time": "2023-11-05T20:32:00.555Z"
   },
   {
    "duration": 269,
    "start_time": "2023-11-05T20:32:00.661Z"
   },
   {
    "duration": 260,
    "start_time": "2023-11-05T20:32:00.933Z"
   },
   {
    "duration": 214,
    "start_time": "2023-11-05T20:32:01.195Z"
   },
   {
    "duration": 48,
    "start_time": "2023-11-05T20:32:01.412Z"
   },
   {
    "duration": 31,
    "start_time": "2023-11-05T20:32:01.462Z"
   },
   {
    "duration": 42,
    "start_time": "2023-11-05T20:32:01.495Z"
   },
   {
    "duration": 33,
    "start_time": "2023-11-05T20:32:01.539Z"
   },
   {
    "duration": 625,
    "start_time": "2023-11-05T20:32:01.573Z"
   },
   {
    "duration": 367,
    "start_time": "2023-11-05T20:32:02.200Z"
   },
   {
    "duration": 59,
    "start_time": "2023-11-05T20:32:02.568Z"
   },
   {
    "duration": 27,
    "start_time": "2023-11-05T20:32:02.643Z"
   },
   {
    "duration": 4249,
    "start_time": "2023-11-05T20:32:02.672Z"
   },
   {
    "duration": 6,
    "start_time": "2023-11-05T20:32:06.923Z"
   },
   {
    "duration": 122,
    "start_time": "2023-11-05T20:32:06.931Z"
   },
   {
    "duration": 219,
    "start_time": "2023-11-05T20:32:07.056Z"
   },
   {
    "duration": 1197,
    "start_time": "2023-11-05T20:34:23.463Z"
   },
   {
    "duration": 127,
    "start_time": "2023-11-05T20:34:24.663Z"
   },
   {
    "duration": 19,
    "start_time": "2023-11-05T20:34:24.793Z"
   },
   {
    "duration": 11,
    "start_time": "2023-11-05T20:34:24.815Z"
   },
   {
    "duration": 29,
    "start_time": "2023-11-05T20:34:24.828Z"
   },
   {
    "duration": 9,
    "start_time": "2023-11-05T20:34:24.859Z"
   },
   {
    "duration": 190,
    "start_time": "2023-11-05T20:34:24.869Z"
   },
   {
    "duration": 119,
    "start_time": "2023-11-05T20:34:25.062Z"
   },
   {
    "duration": 271,
    "start_time": "2023-11-05T20:34:25.183Z"
   },
   {
    "duration": 236,
    "start_time": "2023-11-05T20:34:25.458Z"
   },
   {
    "duration": 208,
    "start_time": "2023-11-05T20:34:25.696Z"
   },
   {
    "duration": 52,
    "start_time": "2023-11-05T20:34:25.906Z"
   },
   {
    "duration": 33,
    "start_time": "2023-11-05T20:34:25.960Z"
   },
   {
    "duration": 20,
    "start_time": "2023-11-05T20:34:25.995Z"
   },
   {
    "duration": 39,
    "start_time": "2023-11-05T20:34:26.018Z"
   },
   {
    "duration": 585,
    "start_time": "2023-11-05T20:34:26.058Z"
   },
   {
    "duration": 349,
    "start_time": "2023-11-05T20:34:26.645Z"
   },
   {
    "duration": 57,
    "start_time": "2023-11-05T20:34:26.996Z"
   },
   {
    "duration": 37,
    "start_time": "2023-11-05T20:34:27.055Z"
   },
   {
    "duration": 4029,
    "start_time": "2023-11-05T20:34:27.094Z"
   },
   {
    "duration": 19,
    "start_time": "2023-11-05T20:34:31.125Z"
   },
   {
    "duration": 34,
    "start_time": "2023-11-05T20:34:31.146Z"
   },
   {
    "duration": 44,
    "start_time": "2023-11-05T20:34:31.182Z"
   },
   {
    "duration": 54,
    "start_time": "2023-11-05T20:55:17.368Z"
   },
   {
    "duration": 1333,
    "start_time": "2023-11-05T20:55:22.196Z"
   },
   {
    "duration": 211,
    "start_time": "2023-11-05T20:55:23.531Z"
   },
   {
    "duration": 16,
    "start_time": "2023-11-05T20:55:24.584Z"
   },
   {
    "duration": 7,
    "start_time": "2023-11-05T20:55:26.533Z"
   },
   {
    "duration": 11,
    "start_time": "2023-11-05T20:55:37.485Z"
   },
   {
    "duration": 8,
    "start_time": "2023-11-05T20:55:39.091Z"
   },
   {
    "duration": 12,
    "start_time": "2023-11-05T20:56:44.067Z"
   },
   {
    "duration": 11,
    "start_time": "2023-11-05T20:56:45.901Z"
   },
   {
    "duration": 11,
    "start_time": "2023-11-05T20:57:04.099Z"
   },
   {
    "duration": 1177,
    "start_time": "2023-11-05T20:57:12.352Z"
   },
   {
    "duration": 90,
    "start_time": "2023-11-05T20:57:13.532Z"
   },
   {
    "duration": 16,
    "start_time": "2023-11-05T20:57:13.623Z"
   },
   {
    "duration": 20,
    "start_time": "2023-11-05T20:57:13.641Z"
   },
   {
    "duration": 11,
    "start_time": "2023-11-05T20:57:13.663Z"
   },
   {
    "duration": 10,
    "start_time": "2023-11-05T20:57:13.675Z"
   },
   {
    "duration": 9,
    "start_time": "2023-11-05T20:57:13.686Z"
   },
   {
    "duration": 212,
    "start_time": "2023-11-05T20:57:13.697Z"
   },
   {
    "duration": 101,
    "start_time": "2023-11-05T20:57:13.911Z"
   },
   {
    "duration": 298,
    "start_time": "2023-11-05T20:57:14.015Z"
   },
   {
    "duration": 251,
    "start_time": "2023-11-05T20:57:14.315Z"
   },
   {
    "duration": 218,
    "start_time": "2023-11-05T20:57:14.568Z"
   },
   {
    "duration": 32,
    "start_time": "2023-11-05T20:57:14.787Z"
   },
   {
    "duration": 39,
    "start_time": "2023-11-05T20:57:14.821Z"
   },
   {
    "duration": 19,
    "start_time": "2023-11-05T20:57:14.862Z"
   },
   {
    "duration": 34,
    "start_time": "2023-11-05T20:57:14.882Z"
   },
   {
    "duration": 618,
    "start_time": "2023-11-05T20:57:14.918Z"
   },
   {
    "duration": 380,
    "start_time": "2023-11-05T20:57:15.538Z"
   },
   {
    "duration": 62,
    "start_time": "2023-11-05T20:57:15.920Z"
   },
   {
    "duration": 26,
    "start_time": "2023-11-05T20:57:15.984Z"
   },
   {
    "duration": 4534,
    "start_time": "2023-11-05T20:57:16.012Z"
   },
   {
    "duration": 8,
    "start_time": "2023-11-05T20:57:20.547Z"
   },
   {
    "duration": 16,
    "start_time": "2023-11-05T20:57:20.556Z"
   },
   {
    "duration": 16,
    "start_time": "2023-11-05T20:57:20.573Z"
   },
   {
    "duration": 1155,
    "start_time": "2023-11-05T22:37:26.075Z"
   },
   {
    "duration": 88,
    "start_time": "2023-11-05T22:37:27.232Z"
   },
   {
    "duration": 14,
    "start_time": "2023-11-05T22:37:27.322Z"
   },
   {
    "duration": 6,
    "start_time": "2023-11-05T22:37:27.337Z"
   },
   {
    "duration": 21,
    "start_time": "2023-11-05T22:37:27.345Z"
   },
   {
    "duration": 30,
    "start_time": "2023-11-05T22:37:27.367Z"
   },
   {
    "duration": 28,
    "start_time": "2023-11-05T22:37:27.398Z"
   },
   {
    "duration": 160,
    "start_time": "2023-11-05T22:37:27.428Z"
   },
   {
    "duration": 109,
    "start_time": "2023-11-05T22:37:27.590Z"
   },
   {
    "duration": 298,
    "start_time": "2023-11-05T22:37:27.703Z"
   },
   {
    "duration": 226,
    "start_time": "2023-11-05T22:37:28.002Z"
   },
   {
    "duration": 227,
    "start_time": "2023-11-05T22:37:28.230Z"
   },
   {
    "duration": 29,
    "start_time": "2023-11-05T22:37:28.458Z"
   },
   {
    "duration": 21,
    "start_time": "2023-11-05T22:37:28.489Z"
   },
   {
    "duration": 39,
    "start_time": "2023-11-05T22:37:28.512Z"
   },
   {
    "duration": 15,
    "start_time": "2023-11-05T22:37:28.553Z"
   },
   {
    "duration": 628,
    "start_time": "2023-11-05T22:37:28.570Z"
   },
   {
    "duration": 320,
    "start_time": "2023-11-05T22:37:29.200Z"
   },
   {
    "duration": 51,
    "start_time": "2023-11-05T22:37:29.522Z"
   },
   {
    "duration": 25,
    "start_time": "2023-11-05T22:37:29.575Z"
   },
   {
    "duration": 4174,
    "start_time": "2023-11-05T22:37:29.602Z"
   },
   {
    "duration": 9,
    "start_time": "2023-11-05T22:37:33.779Z"
   },
   {
    "duration": 26,
    "start_time": "2023-11-05T22:37:33.789Z"
   },
   {
    "duration": 18,
    "start_time": "2023-11-05T22:37:33.817Z"
   },
   {
    "duration": 8,
    "start_time": "2023-11-05T22:39:55.855Z"
   },
   {
    "duration": 7,
    "start_time": "2023-11-05T22:40:17.569Z"
   },
   {
    "duration": 1206,
    "start_time": "2023-11-05T22:40:23.563Z"
   },
   {
    "duration": 85,
    "start_time": "2023-11-05T22:40:24.771Z"
   },
   {
    "duration": 13,
    "start_time": "2023-11-05T22:40:24.858Z"
   },
   {
    "duration": 12,
    "start_time": "2023-11-05T22:40:24.873Z"
   },
   {
    "duration": 12,
    "start_time": "2023-11-05T22:40:24.886Z"
   },
   {
    "duration": 7,
    "start_time": "2023-11-05T22:40:24.900Z"
   },
   {
    "duration": 18,
    "start_time": "2023-11-05T22:40:24.909Z"
   },
   {
    "duration": 172,
    "start_time": "2023-11-05T22:40:24.945Z"
   },
   {
    "duration": 103,
    "start_time": "2023-11-05T22:40:25.119Z"
   },
   {
    "duration": 283,
    "start_time": "2023-11-05T22:40:25.223Z"
   },
   {
    "duration": 232,
    "start_time": "2023-11-05T22:40:25.507Z"
   },
   {
    "duration": 211,
    "start_time": "2023-11-05T22:40:25.741Z"
   },
   {
    "duration": 34,
    "start_time": "2023-11-05T22:40:25.954Z"
   },
   {
    "duration": 23,
    "start_time": "2023-11-05T22:40:25.990Z"
   },
   {
    "duration": 56,
    "start_time": "2023-11-05T22:40:26.016Z"
   },
   {
    "duration": 17,
    "start_time": "2023-11-05T22:40:26.074Z"
   },
   {
    "duration": 604,
    "start_time": "2023-11-05T22:40:26.093Z"
   },
   {
    "duration": 369,
    "start_time": "2023-11-05T22:40:26.699Z"
   },
   {
    "duration": 57,
    "start_time": "2023-11-05T22:40:27.070Z"
   },
   {
    "duration": 40,
    "start_time": "2023-11-05T22:40:27.129Z"
   },
   {
    "duration": 4270,
    "start_time": "2023-11-05T22:40:27.172Z"
   },
   {
    "duration": 7,
    "start_time": "2023-11-05T22:40:31.444Z"
   },
   {
    "duration": 63,
    "start_time": "2023-11-05T22:40:31.456Z"
   },
   {
    "duration": 44,
    "start_time": "2023-11-05T22:40:31.521Z"
   }
  ],
  "kernelspec": {
   "display_name": "Python 3 (ipykernel)",
   "language": "python",
   "name": "python3"
  },
  "language_info": {
   "codemirror_mode": {
    "name": "ipython",
    "version": 3
   },
   "file_extension": ".py",
   "mimetype": "text/x-python",
   "name": "python",
   "nbconvert_exporter": "python",
   "pygments_lexer": "ipython3",
   "version": "3.9.5"
  },
  "toc": {
   "base_numbering": 1,
   "nav_menu": {},
   "number_sections": true,
   "sideBar": true,
   "skip_h1_title": true,
   "title_cell": "Table of Contents",
   "title_sidebar": "Contents",
   "toc_cell": false,
   "toc_position": {},
   "toc_section_display": true,
   "toc_window_display": false
  }
 },
 "nbformat": 4,
 "nbformat_minor": 5
}
